{
  "cells": [
    {
      "cell_type": "code",
      "execution_count": null,
      "metadata": {
        "colab": {
          "base_uri": "https://localhost:8080/"
        },
        "id": "-5MLtHHFsjnS",
        "outputId": "b7f773ac-0080-4036-8b30-0ac4849d4b4a"
      },
      "outputs": [
        {
          "output_type": "stream",
          "name": "stdout",
          "text": [
            "Mounted at drive\n"
          ]
        }
      ],
      "source": [
        "from google.colab import drive\n",
        "drive.mount('drive')"
      ]
    },
    {
      "cell_type": "code",
      "execution_count": null,
      "metadata": {
        "colab": {
          "base_uri": "https://localhost:8080/"
        },
        "id": "AyJt9qgxgY5L",
        "outputId": "96badcc1-10e5-4d98-cd04-0052543204b9"
      },
      "outputs": [
        {
          "output_type": "stream",
          "name": "stdout",
          "text": [
            "Cloning into 'tts_web'...\n",
            "remote: Enumerating objects: 126, done.\u001b[K\n",
            "remote: Counting objects: 100% (126/126), done.\u001b[K\n",
            "remote: Compressing objects: 100% (120/120), done.\u001b[K\n",
            "remote: Total 126 (delta 69), reused 0 (delta 0), pack-reused 0\u001b[K\n",
            "Receiving objects: 100% (126/126), 82.95 KiB | 5.92 MiB/s, done.\n",
            "Resolving deltas: 100% (69/69), done.\n"
          ]
        }
      ],
      "source": [
        "!git clone https://github.com/ShaifEmon/tts_web.git"
      ]
    },
    {
      "cell_type": "code",
      "execution_count": null,
      "metadata": {
        "colab": {
          "base_uri": "https://localhost:8080/"
        },
        "id": "W_5R4jgih0Zw",
        "outputId": "5be79c5d-9906-447f-c357-f75c32917d76"
      },
      "outputs": [
        {
          "output_type": "stream",
          "name": "stdout",
          "text": [
            "Looking in indexes: https://pypi.org/simple, https://us-python.pkg.dev/colab-wheels/public/simple/\n",
            "Requirement already satisfied: gdown in /usr/local/lib/python3.7/dist-packages (4.4.0)\n",
            "Requirement already satisfied: beautifulsoup4 in /usr/local/lib/python3.7/dist-packages (from gdown) (4.6.3)\n",
            "Requirement already satisfied: six in /usr/local/lib/python3.7/dist-packages (from gdown) (1.15.0)\n",
            "Requirement already satisfied: tqdm in /usr/local/lib/python3.7/dist-packages (from gdown) (4.64.0)\n",
            "Requirement already satisfied: filelock in /usr/local/lib/python3.7/dist-packages (from gdown) (3.7.0)\n",
            "Requirement already satisfied: requests[socks] in /usr/local/lib/python3.7/dist-packages (from gdown) (2.23.0)\n",
            "Requirement already satisfied: idna<3,>=2.5 in /usr/local/lib/python3.7/dist-packages (from requests[socks]->gdown) (2.10)\n",
            "Requirement already satisfied: chardet<4,>=3.0.2 in /usr/local/lib/python3.7/dist-packages (from requests[socks]->gdown) (3.0.4)\n",
            "Requirement already satisfied: certifi>=2017.4.17 in /usr/local/lib/python3.7/dist-packages (from requests[socks]->gdown) (2022.5.18.1)\n",
            "Requirement already satisfied: urllib3!=1.25.0,!=1.25.1,<1.26,>=1.21.1 in /usr/local/lib/python3.7/dist-packages (from requests[socks]->gdown) (1.24.3)\n",
            "Requirement already satisfied: PySocks!=1.5.7,>=1.5.6 in /usr/local/lib/python3.7/dist-packages (from requests[socks]->gdown) (1.7.1)\n"
          ]
        }
      ],
      "source": [
        "!pip install --upgrade --no-cache-dir gdown"
      ]
    },
    {
      "cell_type": "code",
      "execution_count": null,
      "metadata": {
        "colab": {
          "base_uri": "https://localhost:8080/"
        },
        "id": "T1ehIiTEgc8S",
        "outputId": "6d208d80-e6fc-4a89-9e93-7ff0e97c549c"
      },
      "outputs": [
        {
          "output_type": "stream",
          "name": "stdout",
          "text": [
            "Looking in indexes: https://pypi.org/simple, https://us-python.pkg.dev/colab-wheels/public/simple/\n",
            "Collecting flask_ngrok\n",
            "  Downloading flask_ngrok-0.0.25-py3-none-any.whl (3.1 kB)\n",
            "Requirement already satisfied: requests in /usr/local/lib/python3.7/dist-packages (from flask_ngrok) (2.23.0)\n",
            "Requirement already satisfied: Flask>=0.8 in /usr/local/lib/python3.7/dist-packages (from flask_ngrok) (1.1.4)\n",
            "Requirement already satisfied: Jinja2<3.0,>=2.10.1 in /usr/local/lib/python3.7/dist-packages (from Flask>=0.8->flask_ngrok) (2.11.3)\n",
            "Requirement already satisfied: itsdangerous<2.0,>=0.24 in /usr/local/lib/python3.7/dist-packages (from Flask>=0.8->flask_ngrok) (1.1.0)\n",
            "Requirement already satisfied: Werkzeug<2.0,>=0.15 in /usr/local/lib/python3.7/dist-packages (from Flask>=0.8->flask_ngrok) (1.0.1)\n",
            "Requirement already satisfied: click<8.0,>=5.1 in /usr/local/lib/python3.7/dist-packages (from Flask>=0.8->flask_ngrok) (7.1.2)\n",
            "Requirement already satisfied: MarkupSafe>=0.23 in /usr/local/lib/python3.7/dist-packages (from Jinja2<3.0,>=2.10.1->Flask>=0.8->flask_ngrok) (2.0.1)\n",
            "Requirement already satisfied: urllib3!=1.25.0,!=1.25.1,<1.26,>=1.21.1 in /usr/local/lib/python3.7/dist-packages (from requests->flask_ngrok) (1.24.3)\n",
            "Requirement already satisfied: idna<3,>=2.5 in /usr/local/lib/python3.7/dist-packages (from requests->flask_ngrok) (2.10)\n",
            "Requirement already satisfied: certifi>=2017.4.17 in /usr/local/lib/python3.7/dist-packages (from requests->flask_ngrok) (2022.5.18.1)\n",
            "Requirement already satisfied: chardet<4,>=3.0.2 in /usr/local/lib/python3.7/dist-packages (from requests->flask_ngrok) (3.0.4)\n",
            "Installing collected packages: flask-ngrok\n",
            "Successfully installed flask-ngrok-0.0.25\n",
            "Looking in indexes: https://pypi.org/simple, https://us-python.pkg.dev/colab-wheels/public/simple/\n",
            "Collecting pyngrok\n",
            "  Downloading pyngrok-5.1.0.tar.gz (745 kB)\n",
            "\u001b[K     |████████████████████████████████| 745 kB 6.7 MB/s \n",
            "\u001b[?25hRequirement already satisfied: PyYAML in /usr/local/lib/python3.7/dist-packages (from pyngrok) (3.13)\n",
            "Building wheels for collected packages: pyngrok\n",
            "  Building wheel for pyngrok (setup.py) ... \u001b[?25l\u001b[?25hdone\n",
            "  Created wheel for pyngrok: filename=pyngrok-5.1.0-py3-none-any.whl size=19007 sha256=cb5f5b6b70b1512c2e4cc72e0ff5a11333d25116370bc33c46604dc17099c8a5\n",
            "  Stored in directory: /root/.cache/pip/wheels/bf/e6/af/ccf6598ecefecd44104069371795cb9b3afbcd16987f6ccfb3\n",
            "Successfully built pyngrok\n",
            "Installing collected packages: pyngrok\n",
            "Successfully installed pyngrok-5.1.0\n",
            "Looking in indexes: https://pypi.org/simple, https://us-python.pkg.dev/colab-wheels/public/simple/\n",
            "Requirement already satisfied: nest-asyncio in /usr/local/lib/python3.7/dist-packages (1.5.5)\n",
            "Looking in indexes: https://pypi.org/simple, https://us-python.pkg.dev/colab-wheels/public/simple/\n",
            "Collecting uvicorn==0.15.0\n",
            "  Downloading uvicorn-0.15.0-py3-none-any.whl (54 kB)\n",
            "\u001b[K     |████████████████████████████████| 54 kB 2.7 MB/s \n",
            "\u001b[?25hRequirement already satisfied: typing-extensions in /usr/local/lib/python3.7/dist-packages (from uvicorn==0.15.0) (4.2.0)\n",
            "Requirement already satisfied: click>=7.0 in /usr/local/lib/python3.7/dist-packages (from uvicorn==0.15.0) (7.1.2)\n",
            "Collecting h11>=0.8\n",
            "  Downloading h11-0.13.0-py3-none-any.whl (58 kB)\n",
            "\u001b[K     |████████████████████████████████| 58 kB 6.9 MB/s \n",
            "\u001b[?25hCollecting asgiref>=3.4.0\n",
            "  Downloading asgiref-3.5.2-py3-none-any.whl (22 kB)\n",
            "Installing collected packages: h11, asgiref, uvicorn\n",
            "Successfully installed asgiref-3.5.2 h11-0.13.0 uvicorn-0.15.0\n",
            "Looking in indexes: https://pypi.org/simple, https://us-python.pkg.dev/colab-wheels/public/simple/\n",
            "Collecting googletrans==4.0.0rc1\n",
            "  Downloading googletrans-4.0.0rc1.tar.gz (20 kB)\n",
            "Collecting httpx==0.13.3\n",
            "  Downloading httpx-0.13.3-py3-none-any.whl (55 kB)\n",
            "\u001b[K     |████████████████████████████████| 55 kB 2.8 MB/s \n",
            "\u001b[?25hRequirement already satisfied: idna==2.* in /usr/local/lib/python3.7/dist-packages (from httpx==0.13.3->googletrans==4.0.0rc1) (2.10)\n",
            "Collecting sniffio\n",
            "  Downloading sniffio-1.2.0-py3-none-any.whl (10 kB)\n",
            "Collecting rfc3986<2,>=1.3\n",
            "  Downloading rfc3986-1.5.0-py2.py3-none-any.whl (31 kB)\n",
            "Collecting hstspreload\n",
            "  Downloading hstspreload-2021.12.1-py3-none-any.whl (1.3 MB)\n",
            "\u001b[K     |████████████████████████████████| 1.3 MB 14.6 MB/s \n",
            "\u001b[?25hRequirement already satisfied: certifi in /usr/local/lib/python3.7/dist-packages (from httpx==0.13.3->googletrans==4.0.0rc1) (2022.5.18.1)\n",
            "Requirement already satisfied: chardet==3.* in /usr/local/lib/python3.7/dist-packages (from httpx==0.13.3->googletrans==4.0.0rc1) (3.0.4)\n",
            "Collecting httpcore==0.9.*\n",
            "  Downloading httpcore-0.9.1-py3-none-any.whl (42 kB)\n",
            "\u001b[K     |████████████████████████████████| 42 kB 1.4 MB/s \n",
            "\u001b[?25hCollecting h11<0.10,>=0.8\n",
            "  Downloading h11-0.9.0-py2.py3-none-any.whl (53 kB)\n",
            "\u001b[K     |████████████████████████████████| 53 kB 2.5 MB/s \n",
            "\u001b[?25hCollecting h2==3.*\n",
            "  Downloading h2-3.2.0-py2.py3-none-any.whl (65 kB)\n",
            "\u001b[K     |████████████████████████████████| 65 kB 4.1 MB/s \n",
            "\u001b[?25hCollecting hpack<4,>=3.0\n",
            "  Downloading hpack-3.0.0-py2.py3-none-any.whl (38 kB)\n",
            "Collecting hyperframe<6,>=5.2.0\n",
            "  Downloading hyperframe-5.2.0-py2.py3-none-any.whl (12 kB)\n",
            "Building wheels for collected packages: googletrans\n",
            "  Building wheel for googletrans (setup.py) ... \u001b[?25l\u001b[?25hdone\n",
            "  Created wheel for googletrans: filename=googletrans-4.0.0rc1-py3-none-any.whl size=17416 sha256=4852b87ce4fe16fef4b8b63f80fa702244837db2b9b614c5f162d7299143bc6c\n",
            "  Stored in directory: /root/.cache/pip/wheels/43/34/00/4fe71786ea6d12314b29037620c36d857e5d104ac2748bf82a\n",
            "Successfully built googletrans\n",
            "Installing collected packages: hyperframe, hpack, sniffio, h2, h11, rfc3986, httpcore, hstspreload, httpx, googletrans\n",
            "  Attempting uninstall: h11\n",
            "    Found existing installation: h11 0.13.0\n",
            "    Uninstalling h11-0.13.0:\n",
            "      Successfully uninstalled h11-0.13.0\n",
            "Successfully installed googletrans-4.0.0rc1 h11-0.9.0 h2-3.2.0 hpack-3.0.0 hstspreload-2021.12.1 httpcore-0.9.1 httpx-0.13.3 hyperframe-5.2.0 rfc3986-1.5.0 sniffio-1.2.0\n"
          ]
        }
      ],
      "source": [
        "!pip install flask_ngrok\n",
        "!pip install pyngrok\n",
        "!pip install nest-asyncio\n",
        "!pip install uvicorn==0.15.0\n",
        "!pip install googletrans==4.0.0rc1"
      ]
    },
    {
      "cell_type": "code",
      "execution_count": null,
      "metadata": {
        "colab": {
          "base_uri": "https://localhost:8080/"
        },
        "id": "AcJND81ttMBP",
        "outputId": "213c3acc-d9bd-4325-8ab4-e46bcbd3a5e8"
      },
      "outputs": [
        {
          "output_type": "stream",
          "name": "stdout",
          "text": [
            "Authtoken saved to configuration file: /root/.ngrok2/ngrok.yml\n"
          ]
        }
      ],
      "source": [
        "! ngrok authtoken 26keUwNK9Zgcnh6mWG7NvtFvDtM_6cKxXVfYCJCsBD1LWdam6"
      ]
    },
    {
      "cell_type": "code",
      "execution_count": null,
      "metadata": {
        "colab": {
          "base_uri": "https://localhost:8080/"
        },
        "id": "8srk3T9nh9Wd",
        "outputId": "54bb6dfd-993d-460c-d4ba-d4b4b45eb8b0"
      },
      "outputs": [
        {
          "output_type": "stream",
          "name": "stdout",
          "text": [
            "TensorFlow 1.x selected.\n",
            "Looking in indexes: https://pypi.org/simple, https://us-python.pkg.dev/colab-wheels/public/simple/\n",
            "Requirement already satisfied: gdown in /usr/local/lib/python3.7/dist-packages (4.4.0)\n",
            "Requirement already satisfied: requests[socks] in /usr/local/lib/python3.7/dist-packages (from gdown) (2.23.0)\n",
            "Requirement already satisfied: tqdm in /usr/local/lib/python3.7/dist-packages (from gdown) (4.64.0)\n",
            "Requirement already satisfied: filelock in /usr/local/lib/python3.7/dist-packages (from gdown) (3.7.0)\n",
            "Requirement already satisfied: six in /usr/local/lib/python3.7/dist-packages (from gdown) (1.15.0)\n",
            "Requirement already satisfied: beautifulsoup4 in /usr/local/lib/python3.7/dist-packages (from gdown) (4.6.3)\n",
            "Requirement already satisfied: certifi>=2017.4.17 in /usr/local/lib/python3.7/dist-packages (from requests[socks]->gdown) (2022.5.18.1)\n",
            "Requirement already satisfied: chardet<4,>=3.0.2 in /usr/local/lib/python3.7/dist-packages (from requests[socks]->gdown) (3.0.4)\n",
            "Requirement already satisfied: urllib3!=1.25.0,!=1.25.1,<1.26,>=1.21.1 in /usr/local/lib/python3.7/dist-packages (from requests[socks]->gdown) (1.24.3)\n",
            "Requirement already satisfied: idna<3,>=2.5 in /usr/local/lib/python3.7/dist-packages (from requests[socks]->gdown) (2.10)\n",
            "Requirement already satisfied: PySocks!=1.5.7,>=1.5.6 in /usr/local/lib/python3.7/dist-packages (from requests[socks]->gdown) (1.7.1)\n",
            "Previous HEAD position was 5bc2a53 README.md: reporting correct number after finding bug in inference time code\n",
            "HEAD is now at 2fd4e63 README.md: update waveglow speed and published models url\n",
            "\u001b[K     |████████████████████████████████| 235 kB 8.2 MB/s \n",
            "\u001b[?25h"
          ]
        }
      ],
      "source": [
        "%tensorflow_version 1.x\n",
        "import os\n",
        "from os.path import exists, join, basename, splitext\n",
        "!pip install gdown\n",
        "git_repo_url = 'https://github.com/NVIDIA/tacotron2.git'\n",
        "project_name = splitext(basename(git_repo_url))[0]\n",
        "if not exists(project_name):\n",
        "  # clone and install\n",
        "  !git clone -q --recursive {git_repo_url}\n",
        "  !cd {project_name}/waveglow && git checkout 2fd4e63\n",
        "  !pip install -q librosa unidecode\n",
        "  \n",
        "import sys\n",
        "sys.path.append(join(project_name, 'waveglow/'))\n",
        "sys.path.append(project_name)\n",
        "import time\n",
        "import matplotlib\n",
        "import matplotlib.pylab as plt\n",
        "import gdown\n",
        "d = 'https://drive.google.com/uc?id='"
      ]
    },
    {
      "cell_type": "code",
      "execution_count": null,
      "metadata": {
        "colab": {
          "base_uri": "https://localhost:8080/"
        },
        "id": "Wb0LP-tRiCek",
        "outputId": "86e20b5e-0ee7-410d-fbe5-bc2f63bdf2f5"
      },
      "outputs": [
        {
          "output_type": "stream",
          "name": "stderr",
          "text": [
            "Downloading...\n",
            "From: https://drive.google.com/uc?id=1XCHgWH855CAHcNk6sztxr95sAbWNHuRL\n",
            "To: /content/sad\n",
            "100%|██████████| 338M/338M [00:02<00:00, 145MB/s]"
          ]
        },
        {
          "output_type": "stream",
          "name": "stdout",
          "text": [
            "Tacotron2 Model Downloaded\n"
          ]
        },
        {
          "output_type": "stream",
          "name": "stderr",
          "text": [
            "\n"
          ]
        }
      ],
      "source": [
        "force_download_TT2 = True\n",
        "tacotron2_pretrained_model_sad = 'sad'\n",
        "if not exists(tacotron2_pretrained_model_sad) or force_download_TT2:\n",
        "               \n",
        "  gdown.download(d+r'1XCHgWH855CAHcNk6sztxr95sAbWNHuRL', tacotron2_pretrained_model_sad, quiet=False); print(\"Tacotron2 Model Downloaded\")"
      ]
    },
    {
      "cell_type": "code",
      "execution_count": null,
      "metadata": {
        "colab": {
          "base_uri": "https://localhost:8080/"
        },
        "id": "fKWcdS3Tkgxw",
        "outputId": "12b5bfd0-76d0-48cd-be3f-8d8b828753ef"
      },
      "outputs": [
        {
          "output_type": "stream",
          "name": "stderr",
          "text": [
            "Downloading...\n",
            "From: https://drive.google.com/uc?id=1ka4_Pb8QmyjX8EZiRn01jzlXgF_yE1tu\n",
            "To: /content/neutral\n",
            "100%|██████████| 338M/338M [00:03<00:00, 91.6MB/s]"
          ]
        },
        {
          "output_type": "stream",
          "name": "stdout",
          "text": [
            "Tacotron2 Model Downloaded\n"
          ]
        },
        {
          "output_type": "stream",
          "name": "stderr",
          "text": [
            "\n"
          ]
        }
      ],
      "source": [
        "force_download_TT2 = True\n",
        "tacotron2_pretrained_model_neutral = 'neutral'\n",
        "if not exists(tacotron2_pretrained_model_neutral) or force_download_TT2:\n",
        "               \n",
        "  gdown.download(d+r'1ka4_Pb8QmyjX8EZiRn01jzlXgF_yE1tu', tacotron2_pretrained_model_neutral, quiet=False); print(\"Tacotron2 Model Downloaded\")"
      ]
    },
    {
      "cell_type": "code",
      "execution_count": null,
      "metadata": {
        "colab": {
          "base_uri": "https://localhost:8080/"
        },
        "id": "8YMoltQ5A_W-",
        "outputId": "a49e61c6-f85d-46fc-870e-d6ea3d9de55d"
      },
      "outputs": [
        {
          "output_type": "stream",
          "name": "stderr",
          "text": [
            "Downloading...\n",
            "From: https://drive.google.com/uc?id=1LpFb_uQbCDfT3g-lb4vE9dhy61ePzcCD\n",
            "To: /content/Happy\n",
            "100%|██████████| 338M/338M [00:31<00:00, 10.7MB/s]"
          ]
        },
        {
          "output_type": "stream",
          "name": "stdout",
          "text": [
            "Tacotron2 Model Downloaded\n"
          ]
        },
        {
          "output_type": "stream",
          "name": "stderr",
          "text": [
            "\n"
          ]
        }
      ],
      "source": [
        "force_download_TT2 = True\n",
        "tacotron2_pretrained_model_happy = 'Happy'\n",
        "if not exists(tacotron2_pretrained_model_happy) or force_download_TT2:\n",
        "               \n",
        "  gdown.download(d+r'1LpFb_uQbCDfT3g-lb4vE9dhy61ePzcCD', tacotron2_pretrained_model_happy, quiet=False); print(\"Tacotron2 Model Downloaded\")"
      ]
    },
    {
      "cell_type": "code",
      "execution_count": null,
      "metadata": {
        "colab": {
          "base_uri": "https://localhost:8080/"
        },
        "id": "tma8aGsLiGGN",
        "outputId": "52a8e176-ee7d-4274-df7f-68bd58bb5ae2"
      },
      "outputs": [
        {
          "output_type": "stream",
          "name": "stderr",
          "text": [
            "Downloading...\n",
            "From: https://drive.google.com/uc?id=1U8eeUMB1hFIy6-nI49Jwaa1v8Qc5YfdR\n",
            "To: /content/waveglow.pt\n",
            "100%|██████████| 676M/676M [00:03<00:00, 189MB/s]"
          ]
        },
        {
          "output_type": "stream",
          "name": "stdout",
          "text": [
            "WaveGlow Model Downloaded\n"
          ]
        },
        {
          "output_type": "stream",
          "name": "stderr",
          "text": [
            "\n"
          ]
        }
      ],
      "source": [
        "force_download_TT2 = True\n",
        "waveglow_pretrained_model = 'waveglow.pt'\n",
        "if not exists(waveglow_pretrained_model):\n",
        "  gdown.download(d+r'1U8eeUMB1hFIy6-nI49Jwaa1v8Qc5YfdR', waveglow_pretrained_model, quiet=False); print(\"WaveGlow Model Downloaded\")"
      ]
    },
    {
      "cell_type": "code",
      "execution_count": null,
      "metadata": {
        "colab": {
          "base_uri": "https://localhost:8080/"
        },
        "id": "W5cB1fgtiPXF",
        "outputId": "b9a2b9b8-580c-4439-c377-aeef0c373773"
      },
      "outputs": [
        {
          "output_type": "stream",
          "name": "stdout",
          "text": [
            "WARNING:tensorflow:\n",
            "The TensorFlow contrib module will not be included in TensorFlow 2.0.\n",
            "For more information, please see:\n",
            "  * https://github.com/tensorflow/community/blob/master/rfcs/20180907-contrib-sunset.md\n",
            "  * https://github.com/tensorflow/addons\n",
            "  * https://github.com/tensorflow/io (for I/O related ops)\n",
            "If you depend on functionality not listed there, please file an issue.\n",
            "\n"
          ]
        }
      ],
      "source": [
        "%matplotlib inline\n",
        "import IPython.display as ipd\n",
        "import numpy as np\n",
        "import torch\n",
        "\n",
        "from hparams import create_hparams\n",
        "from model import Tacotron2\n",
        "from layers import TacotronSTFT\n",
        "from audio_processing import griffin_lim\n",
        "from text import text_to_sequence\n",
        "\n",
        "\n",
        "graph_width = 900\n",
        "graph_height = 360\n",
        "def plot_data(data, figsize=(int(graph_width/100), int(graph_height/100))):\n",
        "    %matplotlib inline\n",
        "    fig, axes = plt.subplots(1, len(data), figsize=figsize)\n",
        "    for i in range(len(data)):\n",
        "        axes[i].imshow(data[i], aspect='auto', origin='bottom', \n",
        "                       interpolation='none', cmap='inferno')\n",
        "    fig.canvas.draw()\n",
        "    plt.show()\n",
        "\n",
        "\n",
        "    thisdict[(line.split(\" \",1))[0]] = (line.split(\" \",1))[1].strip()\n",
        "def ARPA(text):\n",
        "    out = ''\n",
        "    for word_ in text.split(\" \"):\n",
        "        word=word_; end_chars = ''\n",
        "        while any(elem in word for elem in r\"!?,.;\") and len(word) > 1:\n",
        "            if word[-1] == '!': end_chars = '!' + end_chars; word = word[:-1]\n",
        "            if word[-1] == '?': end_chars = '?' + end_chars; word = word[:-1]\n",
        "            if word[-1] == ',': end_chars = ',' + end_chars; word = word[:-1]\n",
        "            if word[-1] == '.': end_chars = '.' + end_chars; word = word[:-1]\n",
        "            if word[-1] == ';': end_chars = ';' + end_chars; word = word[:-1]\n",
        "            else: break\n",
        "        \n",
        "    if out[-1] != \";\": out = out + \";\"\n",
        "    return out\n",
        "\n",
        "#torch.set_grad_enabled(False)\n",
        "\n",
        "# initialize Tacotron2 with the pretrained model\n",
        "hparams = create_hparams()"
      ]
    },
    {
      "cell_type": "code",
      "execution_count": null,
      "metadata": {
        "colab": {
          "base_uri": "https://localhost:8080/"
        },
        "id": "_8k47qooiXJM",
        "outputId": "e0039562-db82-41eb-b226-cd1626fcd730"
      },
      "outputs": [
        {
          "output_type": "stream",
          "name": "stdout",
          "text": [
            "Looking in indexes: https://pypi.org/simple, https://us-python.pkg.dev/colab-wheels/public/simple/\n",
            "Requirement already satisfied: Unidecode in /usr/local/lib/python3.7/dist-packages (1.3.4)\n"
          ]
        }
      ],
      "source": [
        "!pip install Unidecode"
      ]
    },
    {
      "cell_type": "code",
      "execution_count": null,
      "metadata": {
        "colab": {
          "base_uri": "https://localhost:8080/"
        },
        "id": "-UTCj9Cembb0",
        "outputId": "4c81895c-5c83-4bed-f5f0-95797ef2a96d"
      },
      "outputs": [
        {
          "output_type": "stream",
          "name": "stdout",
          "text": [
            "/content/tacotron2\n"
          ]
        }
      ],
      "source": [
        "%cd /content/tacotron2"
      ]
    },
    {
      "cell_type": "code",
      "execution_count": null,
      "metadata": {
        "colab": {
          "base_uri": "https://localhost:8080/"
        },
        "id": "Da0dXMStn2Jb",
        "outputId": "58367083-a786-4164-b5e4-78ce5d550351"
      },
      "outputs": [
        {
          "output_type": "stream",
          "name": "stdout",
          "text": [
            "/content\n"
          ]
        }
      ],
      "source": [
        "%cd /content"
      ]
    },
    {
      "cell_type": "code",
      "execution_count": null,
      "metadata": {
        "colab": {
          "base_uri": "https://localhost:8080/"
        },
        "id": "vk5SXxgMEGmm",
        "outputId": "6cdf0dad-67b4-4ab3-e6b7-0990bf435801"
      },
      "outputs": [
        {
          "output_type": "stream",
          "name": "stderr",
          "text": [
            "/usr/local/lib/python3.7/dist-packages/torch/serialization.py:786: SourceChangeWarning: source code of class 'torch.nn.modules.conv.ConvTranspose1d' has changed. you can retrieve the original source code by accessing the object's source attribute or set `torch.nn.Module.dump_patches = True` and use the patch tool to revert the changes.\n",
            "  warnings.warn(msg, SourceChangeWarning)\n",
            "/usr/local/lib/python3.7/dist-packages/torch/serialization.py:786: SourceChangeWarning: source code of class 'torch.nn.modules.container.ModuleList' has changed. you can retrieve the original source code by accessing the object's source attribute or set `torch.nn.Module.dump_patches = True` and use the patch tool to revert the changes.\n",
            "  warnings.warn(msg, SourceChangeWarning)\n",
            "/usr/local/lib/python3.7/dist-packages/torch/serialization.py:786: SourceChangeWarning: source code of class 'torch.nn.modules.conv.Conv1d' has changed. you can retrieve the original source code by accessing the object's source attribute or set `torch.nn.Module.dump_patches = True` and use the patch tool to revert the changes.\n",
            "  warnings.warn(msg, SourceChangeWarning)\n"
          ]
        }
      ],
      "source": [
        "# Load WaveGlow\n",
        "waveglow = torch.load(waveglow_pretrained_model)['model']\n",
        "waveglow.cuda().eval().half()\n",
        "for k in waveglow.convinv:\n",
        "    k.float()"
      ]
    },
    {
      "cell_type": "code",
      "execution_count": null,
      "metadata": {
        "id": "j3LQkdH0imM9"
      },
      "outputs": [],
      "source": [
        "hparams.sampling_rate = 22050 # Don't change this\n",
        "hparams.max_decoder_steps = 1000 # How long the audio will be before it cuts off (1000 is about 11 seconds)\n",
        "hparams.gate_threshold = 0.1 # Model must be 90% sure the clip is over before ending generation (the higher this number is, the more likely that the AI will keep generating until it reaches the Max Decoder Steps)\n",
        "model1 = Tacotron2(hparams)\n",
        "model1.load_state_dict(torch.load(tacotron2_pretrained_model_sad)['state_dict'])\n",
        "_ = model1.cuda().eval().half()\n",
        "\n"
      ]
    },
    {
      "cell_type": "code",
      "execution_count": null,
      "metadata": {
        "id": "fgfO5Fb-DfGJ"
      },
      "outputs": [],
      "source": [
        "hparams.sampling_rate = 22050 # Don't change this\n",
        "hparams.max_decoder_steps = 1000 # How long the audio will be before it cuts off (1000 is about 11 seconds)\n",
        "hparams.gate_threshold = 0.1 # Model must be 90% sure the clip is over before ending generation (the higher this number is, the more likely that the AI will keep generating until it reaches the Max Decoder Steps)\n",
        "model2 = Tacotron2(hparams)\n",
        "model2.load_state_dict(torch.load(tacotron2_pretrained_model_neutral)['state_dict'])\n",
        "_ = model2.cuda().eval().half()\n",
        "\n"
      ]
    },
    {
      "cell_type": "code",
      "execution_count": null,
      "metadata": {
        "id": "fy1Mx9unDfjV"
      },
      "outputs": [],
      "source": [
        "hparams.sampling_rate = 22050 # Don't change this\n",
        "hparams.max_decoder_steps = 1000 # How long the audio will be before it cuts off (1000 is about 11 seconds)\n",
        "hparams.gate_threshold = 0.1 # Model must be 90% sure the clip is over before ending generation (the higher this number is, the more likely that the AI will keep generating until it reaches the Max Decoder Steps)\n",
        "model3 = Tacotron2(hparams)\n",
        "model3.load_state_dict(torch.load(tacotron2_pretrained_model_happy)['state_dict'])\n",
        "_ = model3.cuda().eval().half()\n",
        "\n"
      ]
    },
    {
      "cell_type": "code",
      "execution_count": null,
      "metadata": {
        "colab": {
          "base_uri": "https://localhost:8080/"
        },
        "id": "LfCl-v8TmqE8",
        "outputId": "aebb38cd-ec36-4967-c1ed-5026f1cd2c1b"
      },
      "outputs": [
        {
          "output_type": "stream",
          "name": "stdout",
          "text": [
            "/content/tts_web\n"
          ]
        }
      ],
      "source": [
        "%cd /content/tts_web"
      ]
    },
    {
      "cell_type": "code",
      "execution_count": null,
      "metadata": {
        "colab": {
          "base_uri": "https://localhost:8080/"
        },
        "id": "F7P7tk1BgrFj",
        "outputId": "16de26ab-65fd-4042-f7e4-95a8042b2cd8"
      },
      "outputs": [
        {
          "output_type": "stream",
          "name": "stdout",
          "text": [
            "Feeling very bad to think\n"
          ]
        }
      ],
      "source": [
        "from googletrans import Translator\n",
        "translator = Translator()\n",
        "ar = translator.translate('ভেবে খুব খারাপ লাগছে').text\n",
        "print(ar)"
      ]
    },
    {
      "cell_type": "code",
      "execution_count": null,
      "metadata": {
        "colab": {
          "base_uri": "https://localhost:8080/",
          "height": 110
        },
        "id": "gO1Im4mdrIeW",
        "outputId": "d54b73e9-d447-4dc6-bc6a-7ee6c0191ec0"
      },
      "outputs": [
        {
          "output_type": "stream",
          "name": "stdout",
          "text": [
            "আমি তোমাকে ালোবাসি \n",
            "\n"
          ]
        },
        {
          "output_type": "display_data",
          "data": {
            "text/plain": [
              "<IPython.lib.display.Audio object>"
            ],
            "text/html": [
              "\n",
              "                <audio controls=\"controls\" >\n",
              "                    <source src=\"data:audio/wav;base64,UklGRiQsAgBXQVZFZm10IBAAAAABAAEAIlYAAESsAAACABAAZGF0YQAsAgD+//v//P/+/wAAAwD8////AQD//wIAAwACAAQAAgADAAcA//8FAP7/AwACAAAAAQD6/wAAAAD9/wAA/v/8//3//P/9//v//v/7////AAACAAEA/v/+/wAABQD//wMAAQD+/////v/+/wAAAQAAAAAA//////////8BAAIAAAABAP7//f8AAAAAAQABAAEAAwAAAAAAAAD//wAAAgABAAAA/v///wAAAAAAAAEA//8AAP7//P8BAAAA/v8BAAEAAgAAAP3/AQABAAAAAAABAAEAAAD9/wEAAAAAAAIA/f8BAP//AAABAP3///8BAAEAAAABAAIA///7/wAA///9//7//////wAA/v8AAAAA//8AAP//AQAAAAUAAwACAAAAAQAFAAAABAABAAUABAAFAAYAAgACAAIAAAACAAQAAwADAAMAAAADAAAAAAAHAAAAAAAAAAEABQACAAQACQABAAMAAgACAAYABAAGAAUABgACAAUAAwAEAAMAAQAGAAUABgACAAEAAwACAAQAAQAFAAYABAABAAAAAQABAAEAAAAAAAAA/f////7/AAABAP7/AAAAAAAAAQABAAAAAAD////////8//7//v/+/////f/9/wAA//8AAP//AgABAAAA//////7/AAAAAP//AAABAAEA/f/9/wAAAAD//wAA/v8BAAEA/f8BAAAAAAAAAAAAAAAAAAAAAQAAAP//AQAAAAAAAAAAAAEA/////wEAAAD///v//P8AAAAAAAD//wIA//8AAAEAAgADAAEAAwD+/wEAAAD+/////f8AAAQAAQACAAAAAAACAAAAAAADAAIAAQADAAIAAwAAAAIAAgABAAEAAAAAAAEAAQADAAMABAABAAEAAgABAAAAAAAAAAEABAADAAAAAQABAAQABQAAAAQAAgADAAUAAAAEAAMAAwAEAAMABQACAAAAAwACAAIAAwAEAAUAAwACAAYACAADAAQABQAHAAYABQAFAAUABgAGAAQABQAFAAUABQAFAAcABQAGAAIABQAEAAIABgACAAQAAgAAAAAAAgAFAAUABAADAAIAAgAFAAEABAADAAIAAQAAAAAAAAABAAQAAAADAAIAAQAAAAEAAQADAAQAAAABAAEAAAABAAEAAwADAAAA//8BAAIAAAABAAMAAAACAAAAAwABAAIA//8BAAIAAAABAP7//P////7///8CAP7/AAD+////AAD//wEAAAAAAP7/AAD//wEAAAAAAAEAAAD///3/AAD+//////////3/AAD+//3//v8AAPz//f////7//v/8/////f/+/wAA/P/+/////f8AAAAA//8AAAAAAAAAAAEAAwABAAEAAAAEAP7//f/+////AAD+/wEA/P8AAAAAAQD///7/AQAAAP//AAAAAAAA/f/9/wEAAAD//wEAAAAAAAAA/f8AAAAAAQAAAAEAAgD+/wAAAgACAAIAAgACAP7/AQABAAEABgAAAAMAAAAAAAEAAAAIAP7/AwABAAEAAQD//wMAAwAEAAIAAgABAAAAAAAAAAIAAwADAAMAAwAAAAMAAQABAAUABAACAAMAAgADAAEA//8EAAAAAAAAAP//BAAAAAQAAQAAAAEA//8AAAEAAAAAAAMAAQAAAAAA//8CAP//AQACAAAAAQAAAAMAAQAAAAAABAABAAEA///8/wAA//8AAAIAAAABAAAA//8EAAEAAgACAAQAAAAAAAAAAAABAAAAAQAAAAUAAAABAAAAAAADAAIAAAADAAIAAAADAAEAAwAEAAIAAQAAAAAA/////wIAAAD//wAAAAAAAP7/AgABAAAAAAD//wAAAAAAAAAAAQABAAAAAAAAAAAAAwAAAAMAAwACAAMA//8BAAEAAgAEAAUAAwAEAAEAAAAHAAQABwAHAAQACQAHAAIABgAEAAgACQAJAAMABAAFAAQABwACAAMABAAHAAgABQABAAMACAAGAAMAAgACAAEAAgACAAIABgADAAAAAgABAAIAAwAEAAgABQAFAAUABQAEAAEAAgACAAAAAwAEAP//AQABAAQAAgADAAQABQABAAMAAAABAAUAAQABAAAAAAABAAAAAAABAP//BAACAAEAAgAAAAIABAACAAAA///+/wAAAQABAAEAAwAAAP///f/+/wAAAAACAAAAAAD//wAAAAABAP7/AAAAAP//AAD+/wAA/P///wAA//8AAP7//f///wAAAAD///7//P8AAPv////+/wEAAAD+////+/8AAP7//f/7//z//v/+//n//v8AAP//AAD///7//v/+//3/AAD+/wAAAQD+//z////+//7//v/+/wIAAAD+//7//P8AAAAAAQAAAP//AQD+//3///8AAAEAAgAAAP7/AAAAAAEAAAAAAAMAAAADAAAA//8AAAIAAQADAAMABAACAAAABQAFAAUABgADAAQAAgAFAAYAAgAGAAcABQADAAIABgACAAYABAADAAYABAACAAMABQAEAAIAAwACAAMAAQACAAQAAgAGAAQABQAGAAQAAwACAAIAAgACAAIAAgABAAIAAwADAAQABgD//wAAAAAAAAAAAAAAAAAAAQAAAAEAAAADAAEAAQAEAAIAAgD//wAAAwAFAAIABAABAP//AgAAAAMAAgACAAYAAQACAAAA//8AAAAAAgABAAMAAAAAAP////8AAP7//////wAAAAAAAAIAAAD//wMAAAD+/wAA/f8AAPz//v8CAP7/AQD+//3/AAAAAAAAAAABAAAA/v/+/wAA/v8AAAQAAAADAAIAAAABAAEAAgAFAAIAAQAAAAEAAQABAAQAAgAAAAAA//8AAAQAAAABAAMAAgACAP//AQACAAEAAwAFAAMAAQADAAMAAwAAAAUAAwAAAAMAAQAEAAMAAwAEAAQABAACAAIAAgADAAMAAQABAAAAAwABAAAABwAEAAQABAADAAIAAQAHAAAABAAFAAUAAwAAAAIAAAADAAQAAQAHAAMAAwADAAYABQAAAAYABAAFAAAAAQACAAAAAwAGAAEAAgADAAIABQADAAQABAAGAAMAAgAEAAMAAwAAAAIAAwABAAEAAAABAAEAAAADAAQAAwADAAEAAAABAAMAAwAFAAQAAgABAAEABAABAAMABwABAAIA/f///wAA//8BAAAAAAAAAAAAAAAAAAAAAAABAAAAAgD+///////8//7//v8AAP7//P8AAAAA/v/8//3///8AAP3/+v8AAP7/+/////7////+/wAAAAAAAP//AAAAAP//AAD//wAAAAACAAQAAQAAAAAAAwACAAEAAAAAAAMAAAAAAP//AgD//wEABQABAAEA//8BAAEAAAAEAAMAAgAEAAIAAgAGAAQAAwAGAAQABAADAAQACAADAAQABQADAAcAAQADAAUABAAKAAQABQAEAAMAAgAEAAQAAgAGAAMAAwADAAIABAACAAQABAADAAMABgAFAAIABwADAAIABAACAAIAAAAEAAMABAAHAAUAAgACAAAABAACAAAABAADAAEAAAAAAAIAAAACAAEABAABAAAAAAADAAQAAAAEAAIAAgABAAAAAgAAAAIABQABAAQAAwABAAUAAQACAAEABAAEAAEAAwAAAAAAAgABAAAAAQACAP7/AAAAAAIAAQAAAAIA/v8AAAIAAgAAAAAAAAAAAP3///8AAP//AAACAP//AQACAP//AAD9//7////+/wAA/v/8//z//P8BAAAAAAAAAPv//P8AAAAAAAABAAEAAQAAAAAAAQAAAAQAAwACAAAAAAABAAAAAAADAAYAAwACAAAAAAADAAQAAgADAAIAAwACAAMAAwACAAMAAwAEAAAAAAABAAMAAQACAAYABQAAAP//AQADAAQAAAADAAEAAQACAAMABAACAAUABQAEAAEAAwACAAAABAADAAQABgAEAAMAAAAHAAMAAQAEAAMABgABAAMABgAEAAUABQADAAQAAwAAAAQABwAFAAgAAwAFAAIAAwAGAAEACAAEAAMAAwADAAAAAwAAAAEAAwABAAUAAAAAAAMAAgACAAIAAwADAAMAAwAFAAAAAAACAAQAAAABAAIABAABAAQAAwACAAMAAwAFAAMABgAEAAQABQADAAUAAgADAAMAAwAFAAIABAACAAAABAABAAAAAgAAAAAAAAD//wAAAAAAAAAAAQACAP////8CAAAAAQADAP////8AAAAA///+/wAAAAAAAAAA/v8AAAIA/v///wQA//8AAAAA/v8BAAAAAgABAAAAAQAAAP7///8AAAAAAwAAAAAA/v8AAAEAAQACAAAAAgACAAIAAQD//wIAAwAEAAEAAgABAP7/AgADAAAAAwADAAIAAwACAAUABQAEAAYABwAFAAQAAgADAAUAAgAEAAUACAAFAAQAAAADAAQABAAEAAQABAAAAAMAAQAAAAUAAgABAAEAAgADAAAABQACAAEABAABAAEAAgACAAMABgAFAAEAAAABAAEA//8DAAMAAQAAAAIAAAAAAAEAAgABAP//AAAAAAAAAAAAAAEAAAAAAAEAAAD//wEAAgAAAAIAAQACAAEAAAAAAAQAAQACAAAA///9//7/AQAAAAIAAgABAAEAAAD+//3/AQAAAAAAAQAAAP7//v8DAP//AAABAAAAAwD//wAAAgACAAIAAAAAAP3////6//7/AAD//wAAAAAAAAAA//8AAAEAAAAAAAAA/f8AAP//AQABAAMAAQABAAAA/f/+/wAAAAADAAAA//8DAAAA/////wIAAwACAAEAAgD//wAAAwABAAAAAwADAAIAAAAAAAIAAQAEAAQAAAADAAMA//8DAAIAAQAEAAMABAAAAP//BAABAAUABQAAAAAAAAD//wQAAgAEAAUAAwABAP//AwAEAAIAAgADAAMAAgAFAAUABAAHAAYABwAGAAYABwAGAAcABgAGAAgACAALAAcAAQAHAAgABwAFAAIACAAEAAcABQAIAAgABAAHAAMAAwAEAAUAAgAFAAYABQAFAAIABAAEAAMAAAADAAMAAAACAAEAAgAAAAMABQABAAUAAgAAAAMAAAADAAQAAAAAAAAAAgABAAAAAgADAAEAAwABAP//AQAAAAAAAQAAAAAAAAD+///////+/wEAAwABAP///v8BAAEA//8CAAEAAQAAAP//AgAAAAAAAAAAAAAAAQD+////AAAAAAAA/v8AAPz//v8CAAAAAgABAAIAAAD8/wAAAAAAAAAAAQAAAP7////+//3/////////AgAAAP7/AAABAAIAAAABAAEAAAAAAAAAAQABAAEAAAABAAQAAQABAAEAAgACAAUABAAAAAMAAQACAAMAAgAFAAMAAQAAAAAAAQAGAAMABAAEAAQAAgACAAAABAADAAcAAQD//wIAAQAEAAMABgADAAcAAwABAAIAAQADAAMABAAAAAAAAQD//wAA//8BAAMAAgAEAAEAAAACAAIAAAAAAAIAAwACAAAAAAADAAUABQABAAAABQACAAAA/v8BAAQAAAD+/wAA///+/wEA/f/+/////f/8//z//f/+//v//v/+//7//v/6//7//f8AAAEA//8AAPz//f///wAA//8AAP//AQABAP//AAD//wAAAQAAAAAAAAD9//7//v///wEAAAAAAPz//P/+/wAA//8AAAAA//////////8AAP//AAAAAPz//f/8//////8AAP//AAAAAP///f/8/////v8AAAAAAAAAAP//AAD+/wEAAgAAAAEAAAD///7//////wAAAAAAAAAA/f8AAAAAAgADAP7//v8AAP3/AAD//wIAAAAAAAEAAgAAAAEA//8BAAUAAAABAP7//f8AAAMAAQACAAEAAAABAAEAAQABAAMABAABAAAAAQAAAAEAAwACAAMAAgACAAQAAQAAAAIABAADAAMABAABAAAABgADAAYABwAFAAYAAgABAAQAAwAGAAcAAwAHAAYAAgAEAAIABQAHAAMAAwADAAIABQAAAAYABgAFAAQABQADAAMAAgAGAAcAAwAFAAIAAwAEAAgABwAHAAcABwAGAAQABQACAAcABAADAAQAAwAAAAAAAgAAAAEABAAEAAIABQAEAAMAAgAFAAEAAQAAAAEABgAAAAQAAQAGAAIA//8BAAAAAAACAAEAAQACAAAAAAAAAAEAAQABAAEAAAAAAAAAAwAAAAAAAQABAP7///8CAAAAAAABAAEAAAAAAAAAAAAAAAAAAAABAAAAAAACAP//AQACAAAAAQABAAEAAAD+/wAAAAAAAAAAAwADAAAA/f8AAAEAAAAFAAIAAgAAAAAAAQACAAYABQADAAEAAgABAAEAAAD//wIABAACAAAAAAABAAMAAQAFAAIAAgADAAEAAgABAAgABQAEAAIAAAABAAMABAAFAAcAAwACAAEAAgAEAAQABgAIAAYABQAEAAMAAwAFAAUACAAGAAIAAwADAAMAAQADAAUAAwABAAIAAAADAAAAAQAHAAEAAQAAAAEAAgAAAAMABAAEAAAAAgAAAAIAAAACAAEAAAD//wAA/////wAAAAACAP//AQD8//3/AAD//wIA///+/wAAAAD8//3//v8AAP7////9//z///8AAP////8CAAAAAAAAAP//AgABAAAAAAD/////AQAAAP7///8AAAIAAgABAP7//P///wAAAQAAAAAA/v////v/+//9////AAD9/////v/9//7//f/9/wEA/f/7//3//v8AAP7//f///wAA+//9//7//v8AAPr/AgAAAP7////+/wIA/v8AAP///v8AAAAAAQD8//3/AwAAAP3//f8AAP7///8AAP//AAD+//7/AAAAAAAAAgAAAAAA//8AAAMA/v8DAAIAAgAEAAAAAwADAAAAAgD//wUABQADAAQAAwADAAEAAwADAAYABwAEAAIABQAGAAYABQAGAAQABQABAAMAAwAFAAcABgADAAIABAADAAMABAADAAQABAADAAAAAQAEAAEAAAACAAMABAAAAAMABQABAAQAAwAEAAEAAwAAAAAAAQACAAQAAQAGAAIAAwADAAAAAgACAAIAAgACAAIABAAAAAUABAADAAEA/v8AAP7///8AAAAA//8AAAEAAAAAAP////8AAAAAAAAAAAAA/v8AAAAAAAAAAAAAAAAAAAAA//8AAAIA//8CAAEAAAAEAAQAAQAGAAMAAgABAAAAAAAAAAEAAQABAAMAAQAAAAMABAABAAIAAwACAAEAAgAFAAMAAQAFAAEAAQAAAAAABgABAAQABQADAAMAAwAAAAEAAAAFAAIAAwAFAAAAAAAEAAQAAwAHAAMAAgD+/wEAAgADAAUABgACAAQABAACAAYAAAAEAAUAAgAHAAEAAQADAAQABAAEAAQABAACAAMABQAEAAgAAwAFAAQABAABAAEAAgABAAUAAQACAP7/AAACAAQAAgADAAIAAAADAAAAAAABAAAABAAAAP//AAD+/wAA//8AAAIAAAABAAAA/v/+//3/AQACAAAAAAD9//7/AAAAAAAAAwABAAAAAAD///3/AAACAAEA///+/////f/9//7//v8EAPv//f/+//3/AAD7/////P/+/wAA+//8//7///////7////9//7/+f/+//7//f8CAP///v////7//v8AAAAAAQD8/////f/7/////f/+/wAA//8AAAAAAAAAAAAA/////wAA/f8AAPr//v////7/AAAAAP//+v/8//3/AAD/////AAD//////v/9/wAA//8DAAAAAAAAAP3/AQAAAAEAAAABAAAA///+/////v8AAAEAAAAAAAMAAgAAAAQAAAACAAEA//8BAAAAAAABAAMAAwABAAEAAQD+/wIAAAAAAAQAAAAAAAEAAAAAAAAA//8AAAAAAgAAAP//AAABAAAAAAACAAAA/v///wIA//8AAAAAAAD//wAA/////wEAAAAAAAAA//8BAAAAAAD9////AQAAAAAA/v8BAAAAAAABAAQAAgABAAEABAADAAAAAwABAAIAAwADAAEAAAABAAUAAwADAAEAAwACAAYABQABAAcAAgAEAAMAAQADAAUAAQAGAAQABwAFAAMABwABAAYABgAGAAgAAgADAAIAAwADAAUABAAEAAUAAQADAAAABQAGAAAAAgAEAAMAAQABAAQAAgADAAMA//8BAAAAAAAAAAIAAAABAAAAAQADAAAAAwADAAQAAQABAP//AAD//wAAAgAAAAQAAQAAAAAAAAAAAAMAAAAAAAEABQAFAAAABQADAAIABAADAAAAAgACAAAAAgADAAUAAAADAAMAAAAAAAUABAACAAAAAAABAAAAAQADAAIAAAAAAAAA/v//////AgD//wAAAQD+/wQAAQACAAQAAgABAAAA/v8AAAIAAQADAAMAAwABAAIAAgAAAAAAAgABAAIAAAABAAEAAAAAAAEAAAAAAAEAAAD///////8AAAAA//8AAP//AAAAAAEAAQAAAAAAAAAAAAMAAAAAAAIA/P///wAA/f///wAAAAAAAAEAAAAAAP//AAD+/wAAAQACAAIAAAAAAP//AQACAAIAAgABAAAA//8AAAAAAAACAAAAAQD+//z/AQACAAIA//8BAAAA/f8AAAAAAQAAAAEAAQAAAP3//f/9/wAAAAD//////f////7/AAD8//z/AAD///7//v/+//7//P///wIA/////////v/+//////////7//f/9//v/AAD9//3/AAAAAAIA///+//3///8AAPz//f/+/////f/8//3//v8AAP7//v/8//3//P/7//z////9//v//f/8//7//P/////////+/wAA/f8AAAAAAAAAAAAA///9//3//v8AAP3//////wAA/v/9/wAA//8AAAEA/f/+//7//v////7//v8BAP//AAAAAAAAAwAAAAEAAwAAAAEABAADAAEAAAADAAQABQAFAAYAAwACAAIABQAKAAUAAAAEAAYABAAEAAMABgAEAAQAAwAFAAYABgAHAAgABQAHAAQAAwAFAAgACQAHAAkACAAEAAUABwABAAQABQAFAAUAAQAFAAMABwAFAAQABgAHAAMABAADAAAAAwABAAYAAAAAAAIAAAACAAAABAABAAEA//8AAAIAAAABAAMAAQAAAP//AAAAAP7/AAAEAAAAAwACAAAAAQD+/wAAAAD//wEA//8AAAEAAAACAAIAAAAAAP7//v8AAP3/AAADAP//AQAAAAAAAQAAAAEAAwABAAMAAQABAAEAAAAEAAMAAgABAAIAAAAAAAEAAAAEAAAAAgADAAAABAABAAIABAACAAQAAgABAAEA/v8BAAMAAQAAAAIAAwAAAAMAAgABAAQAAwADAAIA/v8AAAAAAwAAAAQAAAD+/wEA/v8BAAQAAwAAAAAAAAABAAMAAQADAAMABQABAAMAAAAFAAQAAwAFAAQABAAAAAYABAACAAYAAgAFAAUABAABAAAAAwAGAAEAAQAAAAEAAwAAAAMABQABAAMAAAABAAIAAQADAAEA/f////7//f8AAAAAAAACAP///v/+//z//f///wAAAQAAAAAA///+//3/+f/9/wIA/f/8//7//P/9/////f8AAP3//f/8//3//v/7/wAAAAAAAPz//f/9//3////8/wAA///9//3/+v/9//r/+/8AAPz//v/4//7//v/6//7//v/9//j////8//z/+//8/////P8AAP///f/6//7//P/+//z/AAD9//////8AAAAAAAADAAAAAQD//wAAAAABAAAAAAABAP7/AAAAAAAA//8CAAAAAAAAAAAAAAD+////AgAAAAEA/v///////f8CAAIAAwAEAP3/AAABAAIAAQABAAEAAgACAAEAAAACAAIABAAFAAQAAwAAAAQABQAEAAQAAgAEAAIABQABAAQABAACAAQAAwADAAEABAADAAMABAACAAEAAQABAAAAAQADAAQAAgAEAAIAAAAFAAQAAgAHAAUABQAEAAQABAAAAAMABQAGAAYAAgAEAAAAAAABAAcABAACAAQABAACAAAAAgACAAEABQAAAAEABQABAAQABAADAAQAAQABAAQABAAEAAIAAwAEAAMAAgABAAAAAgACAAAAAgD/////AQD9/wAAAwACAAAAAQAAAAEAAAACAAMAAAACAP7/AAD+////AQACAAIAAwABAP3/AAD+/wAAAQD+//7//v/9/wAA/////wEAAAAAAP7//v8BAP7/AAABAP//AgD+/wAAAQAAAAUABQABAAEA///+/wAAAAABAAIAAAD//wAA//8AAAAAAQADAAEAAwABAAAABgACAAMABAADAAUAAAAAAAMAAwADAAYABgAFAAQAAQAGAAcABAAGAAYAAwAGAAMABAAEAAAABwAEAAIAAQABAAIAAQACAAIABgAEAAIAAQAEAAIAAAACAAEAAQABAAEAAAAAAAIAAgAAAAQAAgAAAAEABAABAAEAAwAAAAEAAAABAP3/AAABAAAAAAD//wEAAAAAAP//AAD///3/AAD//wAA/f///////f////7//P/+//3///8BAPz//f/6//v//f//////AAD+//z//P/8//3//P///wAA/v/9//v//P/8/wAA+f////7///////n//v/8//n///////3//f/9//3//////wAA/P/8//7/+//9//7//f8AAP7//f8AAPv///8BAAAAAQAAAP//+v8AAAEA/v8BAAIAAgAAAAEAAAABAP7/AAAAAP//AAD9/wAAAAD//wEAAAAAAAEA///+/wAA//8AAAEAAAD9//7/AAD+/wAAAQACAP///f/+/wAAAAABAAAAAgABAAEAAQABAAMAAAADAAQAAAAEAAQAAAADAAEAAwADAAEAAgAEAAMAAwAFAAQAAwACAAIAAQADAAIABAADAAUABAAGAAMAAwAEAAEAAwAEAAAAAAABAAAAAgD+/wIABAD//wAAAAAAAAAA//8CAAMAAgABAP7///////7/AQAEAAAAAAACAAAAAAAAAAIAAAAAAAAAAAAAAP7/AAD//wAAAAAAAAEAAQAAAAAAAAADAAAA/f8AAAAAAgD9/wAAAQABAAAAAAABAAAAAAACAAQA/v8DAAAAAAACAAAAAAACAAAAAAAAAP//AwAAAAAAAwABAAIAAQD//wIAAAADAAUAAQAEAAMABAADAAQAAwAEAAIAAwACAAUABAABAAQABwAEAAMAAwACAAUABQACAAYAAwADAAUAAQADAAQABgAEAAIABgADAAEAAAABAAQAAgAEAAIAAwAGAAQAAgAFAAkAAwAFAAUABAAFAAYABgAGAAUABwAFAAMABgACAAMABAADAAQAAgAAAAQABwAFAAcAAAACAAQAAgADAAMAAAACAAQAAwAAAAAAAQAAAAQAAwABAAAAAAABAAEAAAD+/wAAAAABAP3//v8AAP7//f/+/wAAAAD+//3//v/6//r////5//z////7//r/+f/9//7/+v/7//r/+f/6//j/+//+//3//f8AAP3//f/+//r////8//v///////z/+f/+//7//P/8//7//P/6//v/+//+//r/+//9//z//v/9//7////9/wAA///8//7//f/9/wEA/f///////v8AAP7/AAACAAAAAAAAAP7/AAD+/wAAAAAAAAEAAAAAAAAAAQAAAAEAAAAAAAAAAAAAAAAAAAADAAAAAQAAAP//AgAAAAAAAAACAAAA/v/9//7//////wAA///+/wAAAAAAAAAABAAAAAAAAAABAAAAAgADAAIAAgABAAAAAAABAAAAAQD+/wQABAAGAAIAAAAJAAEAAAABAAIAAAD+/wAAAAABAAIAAAAAAAEAAgABAAMAAwAEAAIAAAAAAAAAAwAEAAAABAAGAAMAAgADAAMABQABAAEAAQAAAAQABAAEAAQAAQABAAUAAAABAP////8AAAEABAADAAEAAAABAAAAAAAAAAAAAwAAAAAAAQAAAAAA//8AAAEAAAAAAP7//v////7///8AAAAA///+//z//f/+////AAD9//3///8AAAAAAAAAAAEA//8AAAEAAAACAAAAAAACAP//AAAAAAAAAAD//wEAAwABAAEAAAAAAAAAAAADAAMAAAAFAAIAAgACAAMAAwACAAQAAwACAAIAAwABAAQAAwABAAEAAgAEAAQAAgADAAcABQACAAIAAgACAAMAAwADAAIAAwADAAAAAAACAAEAAAACAAMAAwACAAMAAQAEAAMABQAEAAEAAwADAAMABAAGAAMAAwAAAAYABAAEAAMABQAGAAQAAwADAAUAAAAGAAYAAwADAAQAAwAGAAMABAAEAAIAAwAAAAUAAQAAAAIAAgADAAMAAgACAAQAAwAEAAYAAQADAAQAAgACAAIAAQAHAAIAAAAAAAIABQAAAAUAAgABAAEAAAAAAAAAAAAAAAIAAQAAAP////8CAAAAAAADAAAAAAAAAAEAAAD///7/AQAAAP7/AAD+/wEA/v8AAP///f/9///////+/wAA/P////7/+//9//3/AAAAAP//AAD6//r//P/7//7///8AAP3///8AAAIA/v////7//f////7//P/8//3//f/9/////v////7//v/9//7//P/8/wEA/f/9/////f////3///8AAP7///8AAP7/AAD///7/AgD9/wAAAAD8////AAACAAAAAAACAAIAAAAAAAIAAgAAAAAA/P/+/wEAAQABAAAAAwD///7/AwD//wEAAAAGAAIA//8BAAAAAAAAAAIAAQADAAAAAQACAAAAAgABAAIAAwAAAAIAAAD//wQAAgAEAAQAAQAAAAAAAQACAAAAAAADAAEAAQACAAIABQABAAQAAgAFAAYAAgADAAEAAwADAAUAAgABAAIAAAACAAAAAAACAAAAAQAAAAEAAAAAAAIAAgACAAAAAAAAAAAAAQD+/wIABAAAAAAAAAACAAQAAgAEAAIAAgACAAAAAQACAAQABAAEAAQAAwAAAAMAAAAAAAQAAwACAAAAAAAFAAIAAgACAAIAAQAAAAEAAwACAAEABQAAAAEAAAAAAAAAAAABAAMAAAAAAAIA///+////AAABAP//AAD+////////////AQAAAAAAAAD8/wIAAQACAAEAAAAAAAAAAQAAAAAA//8BAAAAAAD9//3/AAD//wAAAAAAAP7//P8AAAAAAAAAAP7//f////7//v8CAAAAAAAGAAEAAgADAAEAAQABAAEAAAADAAIAAgAAAAEAAQABAAMAAAADAAEAAwAEAAQAAwAFAAYAAgAEAAIABgACAAQABQAAAAMAAQAAAAIAAgACAAQABAACAP//AwACAAAABAADAAAAAgADAAAAAwADAAIAAwACAAEABAABAAQAAAACAAMABQAAAAIAAAAAAAMAAAADAAIAAgAAAAEAAwACAAUABAABAAEAAgADAAAAAgACAAEAAgAEAAAA/v8GAAMABAAEAAMAAwACAAEAAgAAAP7/AwAAAAAAAwAAAAAAAAAAAAAAAAD8//7/AAD8////AAD+//3//f/+//z//f///wAA/v////7/+v/7//3//v/+////+P/9//3//P/8//3/+//+//7/+f/+//z//f/9//7/AAD//wAAAAD6/wAA/P/8/wAA/v/+//3//f/+//////8BAAAA/v/9/wAA/////wAAAAAAAAEAAAD//wAA//8CAAEA/v/+////AQAAAAEAAQACAAEAAwAAAP7/AAAFAAQAAAACAAUAAgAAAAAAAQAAAAUAAwAAAAAAAAABAAIAAwAEAAIAAwAEAAIAAwABAAUAAQAAAAUAAgABAAAAAgADAAcAAwAAAAQABAAFAAEAAAADAAMAAgAAAP3/BQACAAEABAAAAAMAAAACAAAAAgADAAIAAgABAAEAAAAAAAAAAQABAAAAAwABAAAAAwAAAAMAAwAAAAAA/v8AAAAAAAABAAMAAAAAAAEAAQABAAEAAQABAAQAAQADAAAAAQAAAAAABAD+/wEA/////wAAAAD//wIAAAAAAAIAAAAEAAAA/f8AAP3///8BAP3/AgAAAP//AAD+/wAA/P8BAAEA/////wAAAAD+//3/AgAAAP////8BAAEA/v8AAAAAAgD9/wAA/v/9/wMAAAAAAAIAAQAAAAQAAAD//wAAAQAFAAAAAwAGAAIAAAAEAAQABAADAAMABwACAAMAAwABAAQAAwAEAAIABAAFAAMAAgAEAAMABAAGAAMABQACAAMABgAGAAYABgAGAAUABAACAAMAAwAGAAIAAgADAAAAAwACAAUABgABAAIAAwABAAIABAAEAAUABwAFAAMAAgACAAUACAAFAAUABAABAAIAAgACAAAAAgAFAAEAAAABAAAAAwAAAAIAAAD9/wAAAAD+/wAA//8CAAEA//8CAAEAAAABAAEAAAABAAAAAAAAAAAAAgAAAAIABgAAAAEAAgABAAUAAwAAAAAABAAAAAIAAAAEAAIAAAABAP//AAAAAP//AAD//wAAAAD///7/AQABAAAA/f///wAAAAD//wAAAAD8//////8AAP/////+//v/AAD9//3/AAD+//7/+v/9/wAA/P/+//z//P/7//3//P/9//7//P8AAP3/+//7//3/+v/8//v/+//+//v//P/9//v/+v////n//P////v/+//8//z//f/7//r//P8AAP7//P/7//v/AAD6//v//////wAA/f///wAA/v////7//f8DAAEAAQABAP///f////7/AAAAAAAAAgAAAAAAAAAAAAIAAgADAAEAAAAEAAMAAAACAAIAAwAAAAAAAAAAAAIAAAAAAAIABgAAAAQAAAAAAAQAAQAJAAAAAAAGAAIAAgAEAAIAAgAFAAAAAQADAAQAAQACAAMABAABAAMABQAFAAMAAwAEAAIAAQAAAAUA/v8FAAYABQAFAAMABQACAAQAAAABAAQABQADAAIAAAABAAQAAQABAAAAAAACAAEAAAACAAAABQACAAEAAQABAAAAAAABAAIAAgAAAAEAAAAAAAAA///+/wEAAAACAP7///8DAP//AgAAAP///P/+////AAAAAAAAAgD//wEAAAACAAIAAAABAAMAAQD//wAAAAABAAAAAAACAAAAAAAAAAAABAAAAAAAAAAAAAAA//8AAAAAAAAAAP//AAAEAAAAAAACAAAAAAADAAIAAQACAAIAAQAAAAMAAQADAAEAAAABAAEAAQABAAUAAQABAAEAAgAFAAAAAAADAAEAAAAAAAIABQACAAMAAgABAAIAAAABAAMAAgAEAAQABAACAAIAAwACAAQAAwACAAMAAgACAAAABAACAAEABAADAAIAAQACAAQAAgACAAMAAgAAAAQAAQACAAIABAAEAAIABgADAAUABgAFAAUABwAEAAMACQAEAAMACAAFAAcABwADAAIAAgADAAIABAAGAAYABQAAAAUAAgAEAAYABAAFAAIAAwACAAIAAQACAAEABAACAAAAAAABAAAA//8AAAAA///+/wAA//8AAAAAAAAAAPv//f8AAAAA/v/9/////f/9//z//v8AAP//AAAAAPz///8AAP///v8AAP///v/8//3//f/7//v//////////v/8/wAA/f/+//7///////z//P/8//3//v/9//z/AAD///7//f/8////AAAAAP7//v8AAAAA//8BAAAAAQAAAP/////+/wAAAAABAAMA/v8AAAAA+/8AAPz/AQAAAAAAAgAAAP3/AAD/////AAAAAAIAAQACAP//AQAAAAEAAQAAAAAAAAAAAP//AAAAAAEAAAAAAAAA/v///wMAAAADAAQAAAACAAEAAwABAAEAAgACAAAAAAD+/wEAAwAAAAIAAAAAAAAAAQACAAEAAwACAAMAAQADAAAAAAABAAMAAwAFAAAAAAACAAIABwADAAMABQABAAIAAAACAAEABAAEAAEABAABAAEABAABAAMABAABAAAAAgAAAAAAAQABAAAA/v8AAAIA/v8AAP////8BAAAA/v8CAAAAAgAAAP//AAAAAP3/AAAAAAAA///+/wAA/v/+////AAABAAAAAAACAP//AAAAAAAAAgAAAAIAAAACAAAAAAAAAP//AgACAAMAAAACAAMAAAAEAAAAAAAEAAEAAAABAAEAAgD//wIAAAAAAAAAAAABAAEAAwAAAAIAAAAAAAMAAAADAAMAAAACAAIABQABAAIABAABAAIAAgAFAAMAAgADAAEAAQAGAAUAAwACAAQABQAEAAQABQADAAMAAQAAAAMAAwADAAEAAwAEAAMAAwACAAQAAgADAAQAAAACAAIAAAAEAAMAAwAFAAMAAwACAAIABwAEAAIABQAHAAQABgADAAYABwADAAgABwAGAAYABgAFAAcABQAGAAUAAgAGAAUAAwAAAAQABQAFAAMAAgADAAIAAAADAAQAAwADAAMAAQADAAEAAQACAAIAAAAAAAMAAQABAAEAAAAAAAEAAQAAAAEAAAAAAAAAAAAAAP7//////wAAAgAAAAAAAAAAAAAAAQAAAAIAAQAAAP3//v/+/////////wAA/v////3/AAABAP////8AAP//AAAAAP7/AAD///z/AAAAAP7////+//////8AAAAA/f/8//7//P/8//z////+//3/AAD///v//f///wAAAAAAAP7/+v////v//v8AAAAAAAAAAP7//v8AAAAA//8AAP///v////7/AAAAAAEAAAD+/wAAAAAAAAAAAgABAAIAAgD+////AAAAAP//AAADAAAAAgAAAAAABAABAAMAAQABAP//AwADAAIAAwAAAAIAAAAAAAIAAAACAAQAAgAEAAQAAgADAAMAAgABAAUAAAABAAAAAgADAAIAAAAAAAQAAQABAAAAAQADAAEAAQABAAEAAQABAAAAAgABAAIAAgAAAP///////wEAAQAAAAEAAAD//////f/8//3///8AAAAA///9//3/AAD+/wAA/////wAA/f/8//7//f8AAAAA//8AAP7//v8CAAAA//8AAAAA/v8AAAMAAAD7//7/AAD//////v///wAA/f8BAP7//v////3//f8AAAAAAAADAP//AAAAAAAAAgABAAIABQADAAEAAAAAAAMAAAACAAQAAQABAAEAAgABAAEAAAAEAAEAAQAFAAAABgADAAQAAQAEAAMAAwABAAQABgADAAYABAAEAAMABwAEAAQAAAAFAAYAAAADAAIABwAAAAUAAgAFAAYAAQABAAAABAADAAMAAgAEAAEABQAEAAEABQAFAAQAAwAFAAAABgABAAcAAwABAAUABwAEAAMABgAHAAcAAwAJAAQABQAGAAMABAAFAAMAAgACAAIAAgAGAAQAAwADAAMAAgAFAAcAAwAFAAYABAADAAAAAwAEAAEABAACAAEAAgACAAAAAgABAAMAAgAAAP//AgABAAAAAQAAAAEAAAAAAAEAAAABAAAA//8DAAEA//8BAP7/AAAAAAAAAgAAAAEA/P/9//3//P////////8AAAAA//8AAP3///8AAP///v/+////AAD7////AAD+//7//P////3/+////wAAAAD//////f/9/wAAAAAAAAAAAQAAAAAAAAAAAAEAAQAAAAAAAAD//wEAAAABAAEAAAAAAP//AAD//////P8CAAAAAAADAP3/AgD//wAAAAABAP7/AAAAAAAAAgABAAMAAAACAAUAAgACAAIAAgABAAEABAAFAAEAAwACAAYAAwADAAMAAgAFAAMAAwACAAQABAAFAAQAAQAHAAYABAADAAIAAwABAAMAAQACAAEAAgADAAAAAAABAAAAAgAEAAEAAgABAAMAAAADAAEAAAABAP//AAABAP3///8AAAMABAD//wAA/P8AAAIA/f8AAAAAAAD9/////f/+/wAA/v/8//v//f/+//7//f/7//v/+//+//7///8AAP7////5/////f///////f8AAP/////+/wAAAAABAPv//v/9//////8BAAAA/P////////8AAAAA//8BAAAAAAAAAAAAAAABAP7/AAD//wAAAAD+/wMAAQAAAP7///8AAAAAAQABAAEAAAAAAAAAAAACAAIAAwAFAAMAAgADAAEAAgABAAIABAABAAIAAQAAAAEAAgAFAAYAAwADAAUABQAFAAIAAwADAAEAAgAEAAAABAADAAQABAAEAAIABAAFAAQABQAEAAcAAwADAAMAAwACAAEABAAEAAQAAwAEAAQAAQABAAQABgADAAEABAACAAQAAQACAAUABQAEAAMAAwAEAAEAAgADAAMABQAEAAMAAwABAAUAAwACAAUABQACAAMAAAADAAcABAACAAEAAwAEAAUAAwAFAAQAAwAGAAUABAAEAAQABAAAAAMAAQAAAAQAAQACAAEABAABAAEAAQACAAMAAQABAAEAAAAAAP//AQAAAAAAAQD//wAA/v//////AAAAAAAAAQD+/wAA/v////////8AAP//BAACAAAA//8AAAAAAAAAAAEAAgACAAIA//8AAAEAAgAAAP///P8AAAEAAAABAP3//v8AAAAAAgAAAP//AQAAAAAAAAD//wEAAgACAAMAAwAEAAYAAgABAAEAAgACAAIAAgABAP//AAACAAEAAwACAAQAAQABAAIABgAEAAUAAgABAAMAAAAGAAIAAQACAAIABAADAAMAAQACAAIAAgABAAAAAAAAAAMAAAADAAMAAAACAAEAAAACAAAAAQAAAAEA//8AAAAAAAAAAP7/AgD+//////8AAAEA//8AAAAA//8AAAAA//8CAP7///8CAAEA/v/+//3/AQABAAAAAgABAAAAAAD+/wAAAQAAAAEAAAABAAIA///9/wEA//8AAAEAAAAAAP7/AQAAAAEAAAD8/////v/9//7/AAAAAAEAAQAAAAAA/P////7///8BAAAAAQAAAAAA//8AAAEAAQAAAPz//f8BAAAAAQABAAIAAQACAAIAAAACAAEAAAAAAAEAAAAAAAAAAAAAAAAA//8AAAEAAQACAP///v8DAAEAAAABAP//AAD//wMAAgACAAEAAAACAAAABAAEAAQABAADAAQAAgADAAUABQAEAAUAAwAEAAYAAQADAAUABAAGAAUABQAFAAcABQAGAAUABgAGAAQABAACAAUABQADAAQABgACAAUABwAFAAEABAAGAAUABAAGAAAAAgAEAAUABQAFAAUAAgAEAAQAAQAFAAYAAwAGAAUAAQADAAQAAwAEAAMAAQADAAEAAQADAAEAAwAEAAEAAQABAAEAAAAEAAQAAwADAAEAAgABAAAAAQAEAAMAAwADAP//BAACAP//AgAAAP7/AAAAAAIAAAAAAAMAAQAAAP3/AQAAAP//AAABAAAA//8AAAQAAQABAAIA/v8AAAAAAgABAP////8BAAEAAAAAAAEA/f////7//v/+//7///8AAP/////+//7/AAD+//3//////wEAAQD//wAAAQD//wAAAAAAAAIABAACAAAAAgADAAAAAgABAAUAAwAFAAAAAgACAAIABgAEAAcAAwAEAAUABQAFAAIABwACAAIABAAEAAMABQACAAMABAABAAMAAQAEAAQAAQAEAAQAAgAAAAMAAgAAAAMAAgAAAAAAAQAAAAAAAAAAAAAAAQD//wEAAAD//wAAAAACAAEAAAAAAAEAAAAAAAEAAAABAAEA/v8AAP//AAABAP//AgACAAIABAABAAMAAAD//wEA/////////P///wAAAAAAAP////8AAAAAAAAAAP//AAAAAP7//f/9/wAAAAD//wAAAAD///7///8AAP7//P8AAP//AAABAPz/AAABAAEAAAAAAAIAAAD+/wAAAAD//wAAAAD///7/AAAAAP///v///wAA//8AAP7///8BAAAAAAAAAAAAAgAAAAAA//8BAAEAAQABAAAAAgABAAAAAAAAAAAA//8BAAAAAQABAAQAAgAAAAAAAwAFAAAAAwADAAUAAwACAAIAAAAEAAQABwADAAAAAwAAAAQAAgAFAAUAAgAHAAMAAwADAAYABQAFAAUAAwAEAAMACAAGAAUABgAGAAYABAAGAAMABgACAAMABQACAAEABAAFAAMAAwAGAAQAAQADAAUABgAHAAMAAwAFAAYAAgAAAAEAAwACAAQAAwADAAUABAADAAQAAwAEAAQAAQAEAAUAAwAEAAEABAABAAIAAgABAAEAAgACAAEABQACAAIAAAADAAUAAgACAP//AgD+/wAAAQACAAIA/v8CAAEAAAAAAAAAAgAAAAIAAAAAAAAAAAAAAAAAAAAAAAEAAAADAAIAAQADAAIAAQAAAAAA//8BAAMAAQAAAAAAAgABAP//AQAAAAAAAAAAAAAAAAAAAP//AQACAAEAAAACAAAA/v8AAP//AQD//wIAAAAAAAAAAQD///7/AQAAAAIA///+//7/AQADAAAAAAADAAEAAAAAAAAAAwABAAAABAACAAEABAAAAAMAAwADAAUABAADAAIAAwAHAAQAAwACAAIAAwAGAAMABAADAAMAAQACAAMAAQAGAAUABQAFAAMAAgADAAQAAAADAAMABAAFAAMAAgAFAAQABAACAAYAAwADAAUAAgACAAIAAAAEAAMAAQABAAAAAgAAAAEAAgD//////f////3//f/+/wEA/////wAA//8AAAAAAAD7/wAAAgD/////AAAAAAAA/v8AAAAA/v////7////9/wAAAAD8/wEAAAD9/wEAAAAAAAAA/v/9////AAABAAAAAAD///7///8AAPz/AAAAAAEAAAAAAP//AAAAAP///v8BAAAAAAABAAAAAAAAAAAA//8BAAAAAAABAAAAAQAAAAEAAAD//wAAAQD+//3/AwADAAAA///+/wAA/f8CAAAAAQADAAAAAQADAAEAAwADAAIABAAEAAMAAQAEAAQABAAEAAQABgACAAIAAwAEAAQAAwABAAIAAwAFAAEAAwAEAAIABgABAAQABQAAAAUAAwAHAAQAAwAEAAAAAgAEAAAAAwAHAAIAAAABAAIAAgABAAQABAACAAMABAADAAYABQAEAAcABAACAAQAAwABAAIAAQAEAAQAAgAFAAAAAAAEAAIABAACAAMAAQACAAEAAAACAAEAAQAAAP//AAAAAAAAAAACAAEAAAAAAAAAAAACAAEAAAAAAAAAAAACAAMAAgAAAAQAAwADAAAA/v8GAAAABQADAAEA/v8AAAEAAAABAAAAAgADAAEA//8BAAEAAAAAAAAAAAD//wEAAAADAAEAAAABAAEA/v8AAAAAAwACAAIAAAAAAAIAAAAAAAEAAAABAAQAAwAFAAEAAAAGAAIABAAEAAQABAADAAEAAAAFAAUAAwABAAAAAgAGAAQAAgAEAAMABQACAAMAAgADAAUABgACAAIAAAAEAAEAAgACAAAABwACAAMAAQABAAQAAgACAAEAAAAAAAAAAAAFAAAAAwAFAAIAAwADAAMABAAEAAUABQABAAAABQADAAMABAAGAAQAAAABAAEAAQAEAAUABQAFAAMAAwAGAAMAAgAEAAUAAwABAAAAAwAAAAIAAQACAAMAAQAAAAAAAQAAAAEAAAAAAAAA///+/wAA///+//7/AAAAAP3////+/wAA/f////z//P////3/+v/8//3//f8AAPv/+v////z////7//z/+//5//r/+v/9//7////8//v//f/8//7//f/9/wAA//8AAAAA/P////3/AAD//wAAAAAAAAAA+//9////AAAAAAAAAAD//////f/+////AAADAAEAAAADAAAAAAACAAAAAQAAAAEAAgABAAEAAwADAAMABAADAAEAAAACAAQABgACAAIAAwABAAIAAgAEAAUABAACAAIAAgABAAMABAAEAAMAAQADAAQAAQAGAAQABgAEAAMABAACAAMABAAEAAUABwADAAQAAgADAAcAAgADAAMAAgACAAMABQAEAAUABAACAAQAAQABAAMAAgACAAUABAACAAIABQAAAAMAAgAEAAMAAwACAAAABgAEAAMAAwABAAIAAQADAAMAAgACAAQAAwACAP7/AAABAAAA//8AAAMAAAACAAMAAQABAP//AAACAAAAAQAAAAAAAgAAAAMAAQABAAAAAAABAP//AAAAAAAAAAAAAAEAAAAAAAIAAQABAAEA//8AAAAAAQAAAP7/AgAAAAEA/v8AAP//AAAEAAAAAgAAAAEAAQAAAAAAAQACAAIA//8AAAEAAAACAAEABAAAAAEAAgAAAAIAAAABAAQAAwACAAMAAQACAAMAAAABAAAAAAAFAAUAAgACAAIABAAFAP//AwABAAIABQACAAUAAwABAAMABAADAAMAAQADAAMAAAAEAAIAAwAAAAYABQAEAAIAAQAAAAAAAQADAAEAAAACAAAAAQADAAAAAAABAAAAAAABAP//AgABAAIAAgAAAAQABwAEAAMABgAEAAcAAwADAAUAAwAJAAIAAwAHAAIAAAADAAMAAwAEAAQAAwADAAQABAADAAUAAQACAAIAAgAAAAMAAQABAAAAAQADAAAAAQAAAAEAAAD//wIA///+/wAAAAD+////AAAAAP7/AAD+//r//v8AAAAAAQAAAP3///8AAP//AAAAAAAA//////7/AAD+/wAAAAD9/wAA/f////7//P8AAP////8AAP7//v8AAP7//v///wAAAAD7//z//v8AAP///v8AAAEAAAAAAAAA/f8AAAIAAAAAAAAAAAD//wEAAAABAAAAAgACAAAABAAAAAIAAAACAAIAAQD//wIAAQACAAMAAAADAAEAAAABAAIABQACAAIAAwABAAUABAACAAIAAgAEAAMAAwADAAUABAAEAAIABQAJAAcAAgAEAAYABQACAAUABAACAAEABAADAAYABQACAAQAAwABAAMAAgACAAIAAwAEAAQABQADAAEAAgACAAMABQACAAAABAAAAAAAAAADAAMAAAAAAAIAAAAAAAIABAAFAAEAAAABAAEAAwACAAAAAwABAAEA/v8AAAMAAQD//wAAAQD//wMAAAACAAEAAgACAAAA/v///wAAAQACAAAAAgABAAAAAQABAAMAAgABAAAAAAAAAAAAAQACAAEAAAABAAEA/v8DAAAAAgAAAAMAAwABAP////8AAAAA/////wAA////////AAABAAEAAQABAP7//v8AAAAAAAD//wAAAgAAAAAA//8AAAEAAQABAAEAAAD//wAAAQABAAAAAAAAAAAAAQAEAAAAAgABAAAAAgAAAAAAAAABAAIAAQACAAIAAQAAAAEABQAHAAIABwAEAAQAAgABAAUABwAEAAgACAAGAAIABAAFAAYABAAFAAQABAADAAEAAgADAAMABQAFAAUABAAEAAQABAADAAIAAgACAAIABQABAAQAAgAAAAIA//8AAAEAAQABAAEABAAEAAEAAQABAAAAAwAAAAEAAAAAAAAA//8AAAIAAwACAAMAAQAAAAEAAQAEAAMAAQAEAAIAAAACAP7/AAADAAAAAAAAAP3/AAD9//7/AAAAAAAA/v////z//P/9/wAA/f////z/+v/+//3////9////AAD+//3//P/+//3//////wAA/P/9//7//P8AAP///v/+//7//v//////AAAAAP////8AAPv/AAD9//z/////////+v/9/////P8AAP///f////v//v/+//////8AAAMAAAD/////AAD+/wAAAwABAAEAAAAAAAAA//8CAP//AAAEAP7/AQABAAAAAQACAAEAAAABAAAAAwAAAAMAAwAGAAIAAQACAAgAAgADAAQABAAHAAAAAwACAAAABAACAAMAAwAEAAQAAgACAAEABAAFAAIAAAABAAQAAAAHAAMAAgACAAEAAwABAAAAAQACAAMABAACAAIAAAAAAAEAAAACAAQAAgACAAAAAAACAAAACQABAAAAAAAAAAAA//8AAAMAAwAAAAQAAAACAAQAAAADAAIAAAAAAAAA//8CAAAABQAEAAAAAgABAAAAAwACAAIABAD//wAAAQD//wIAAgAAAAMAAAAAAAEAAAACAAAAAQADAAEAAAAEAP7/AgAAAAEAAgABAAIAAgABAAAAAAAAAAAAAQD//wAAAwACAAAA//8AAP7/AAAAAAIAAgAAAAMAAAABAAAAAAACAAMAAAACAAMA/v//////AQABAP//AgABAAEAAgADAAIABAADAAMABwADAAMABgADAAMABAABAAMABAADAAQABAACAAMAAwACAAQAAwAGAAQABAADAAYABgAGAAUABAABAAQABAAGAAQABQAEAAMABAACAAgABQAHAAYABQAFAAIABQADAAIAAwACAAMA//8CAAYAAgAAAAMABAACAAEA//8DAAMABQABAAMAAwAEAAMAAwAAAAIAAgAAAAMAAQABAAAAAAAAAAIAAAD+/wIA//8AAP3/AAAAAP///v/8//z//v/+////AAD/////AAD//wAAAAD8/////v8AAP///P8AAP7//f///wAAAAAAAP///v/+/wAAAAD///7//v//////AAD/////AAD9/wIAAAD+/wAA/v8BAP//AAD8//3/////////AQAAAP3/AQD+/wEAAAD//wEAAgADAAAA//8AAP//AAAAAAAAAQACAAIAAgABAAAAAgABAAIAAQABAAIAAQAFAAMAAQADAAMAAQACAAMAAwADAAUAAQAEAAEABAAFAAEABAACAAMAAQAAAAMAAgADAAIAAgAFAAQAAwACAAMAAAAAAAQAAAABAAEAAwACAAEAAwABAAAA/////wIAAQACAAIAAAD//wIAAgABAAEAAgACAAAAAAAAAAQAAgAEAAEAAQAEAAAAAAABAAQABAACAAIAAwACAAEAAAACAAAAAwAAAAMAAAD//wAAAgACAAEAAwAAAAAAAwABAAEAAQABAAAAAAAAAP7/AAACAP//AAABAP///f/+//3////8/////v/7//z////+//7//v/9///////9//7///8AAP3//v8BAP7/AAAAAP//AwAAAP/////+//7/AAAAAAIAAwAAAAIAAAD+//7/AAAAAP7//v8CAP///v8AAAAAAQD//wIABAABAAEAAgABAAMAAAADAAUAAAACAAEAAAAEAAEAAwADAAEABAAEAAIABQAFAAQABQAAAAIAAQAEAAQAAwAFAAAAAAAAAAQAAwAGAAYAAwAGAAIABAADAAEAAwABAAUABQADAAMAAAADAAUAAAADAAQAAwAEAAIAAgADAAAAAgACAAIAAwABAAAAAwACAAEABAADAAIAAwACAAIABQADAAQAAQAEAAIAAwADAP//AgACAAAAAAABAAIAAAD//wAAAgADAAIA/v8AAAAAAAACAAAAAQAAAAMAAQAAAAAAAQAAAAEAAAD//wEAAgABAAEAAwD+/wAAAAD//wEA//8CAAAA//8BAAAA//8DAP//AAACAAAAAAABAP//AAAAAP//AQACAP//AAAAAAAAAAAAAAMA/v///wIAAAABAAAAAgAFAAAAAAABAP//AAD+/wAAAgAAAAAAAAAAAAAA//8AAAEAAAABAAMAAwABAAIAAQABAAIA//8EAAQAAwAAAAEAAgAAAAEAAwD//wIAAwADAAMA//8DAAIAAQACAAEAAwAEAAEABQABAAIABAACAAMAAwACAAMAAwADAAUAAAAEAAAABQAEAAMABAAAAAMAAwAFAAEAAQADAAMAAgABAAMABAAAAAAAAgACAAUABAADAAIAAAAAAAIAAAABAAAAAAAEAAAAAQAAAAEAAQABAAAAAQAAAAAAAAAAAAAA//8CAAIAAAABAAAA/v/+/wAAAAAAAAAA//////7/+//7//z/AAAAAP7//P/8//z/AAAAAP7/+f/8//3//P8AAPz//f/+//7//////wAAAAD+//7//v8AAP3///8AAP7//f8CAAEA/v////7///8AAAAAAAAEAAAAAQABAAAAAAAAAAEAAgABAAAAAQAAAAUAAgABAAQAAgAEAAQAAgADAAAAAQAEAAEAAAAAAAEAAQAAAAEAAAADAAEAAQABAAEAAAADAAEAAAABAP//AQADAAEAAQAEAAAAAQD//wIAAwABAAUAAgADAAEAAgABAAIABQAFAAUAAQABAAUAAwAEAAMABAAHAAQABAAEAAQABAAEAAYABgAEAAEABAAEAAQABwADAAMAAwABAAUAAwAEAAQAAwAEAAEAAQABAAIABAADAAIAAwADAAMAAwACAAEAAQAGAAEAAQACAAAAAQACAAAAAQAEAAIABQADAAQABgAEAAUAAQABAAEAAwABAAQAAQABAAcAAgAAAAMAAgACAAMAAQADAAIAAgADAAQAAgD+/wAAAgABAAAAAAABAAAAAQAAAAMAAAAAAAIAAgACAAAAAQACAAAAAAAAAAAA/f8AAAAAAgABAP//AAD9/wAA//8AAAMA/f8AAP///f8AAP//AgAAAAAAAAAAAP7//v8AAAAAAAAAAAAAAAAAAAAAAAAAAAEAAAD+/////v8AAAAA/v8CAPz//f//////AAAAAAAAAgABAAAAAgD+////AAABAAIAAAABAAAA//8BAAAAAgAEAAMAAwABAAEAAAAAAAMAAwAAAAEAAwABAAIABAABAAMAAgD//wMAAQAAAAIAAwADAP//AwADAAIABgABAAEAAgABAAMAAgAAAAMAAgAAAAMAAwAAAAAAAQADAAAABAAFAAAAAAACAAEAAQAAAAAABAABAAEABAAAAAIAAwADAAIAAQABAAIAAAABAAEAAAABAAAAAAAAAAAAAAD9/wAAAQAAAAAA//////7/AAAAAAAAAQD//wAA//8CAAEAAAAAAPz/AQABAP//AAD//wAAAAD9//7/AAAAAP//AAAAAAAAAAD7/////f/9////AAACAPz/AAAAAPz/AQD///3//v/9//z///8AAP7/AAD//wAAAQAAAAEAAAAAAAIAAAAAAAAAAAD+//3/AAD//wAAAgAAAAAA//8AAAAA//8AAP//AAABAAIAAAAAAAIAAgACAAAAAAACAAIABQABAAAABAABAAIAAgAEAAMAAQABAAEAAAD//wIAAQACAAEABAABAAAAAAABAAEAAQABAAAAAgABAAIAAgABAAUAAgADAAQABAAFAAQABQAHAAUABgAFAAYABAAHAAYABQAEAAkABwAEAAUAAgAFAAUABQAGAAcABQAEAAUABAACAAQABgAGAAYABAAEAAQABAABAAIABQADAAIAAQACAAIAAQACAAIAAwABAAEAAAADAAIAAwAFAAAAAwAAAAAAAwACAAMAAQABAAAAAQADAAAAAAABAAMAAgAAAAAAAQAAAP//AAAAAP//AAAAAP//AAAAAAAAAQAAAP///////wEAAAABAAEAAAAAAAEAAAAAAAAAAAAAAAAA//8AAAAAAQACAAIAAAACAAAAAgAAAAAA///+/wEAAQACAAEAAQAAAAIAAgADAAIAAgAAAAIAAAD//wAA//8AAP3/AAAAAAIA//8BAAEA//8AAP7/AQD//wAAAgABAAIAAQD//wEAAwAAAAEAAAAAAAAAAgACAAAAAgABAAEAAAAAAAQAAQABAAQAAgADAAEAAAABAAAAAQACAAMAAAAAAAIAAAAAAAIABAAEAAIAAAD//wIAAQACAAIAAAABAAUAAQAAAAAAAwACAAIAAgAAAAEA/v8AAAMAAAABAAEAAAD+/wAAAAAAAAEAAAACAAEA/v8AAAAA/v8AAAAAAAAAAAAAAgAAAAAAAAAAAAAAAgAAAAAA/v8BAAAA/v8AAP///v/8//7///8AAAAAAQD8/wAAAQD8/wAA+/////z//f/8//n/+v/9////AAD9//v//f/+////AAAAAAAA///9/////f8AAAAA/v///wAA/v///////v8AAAAAAAAAAAAA///+////AgABAAIAAwABAAEAAgABAAEAAAAAAAAAAgABAAMAAwAEAAYABgAFAAIAAwADAAEAAwADAAQACQADAAQAAgAEAAQAAAAEAAIABAAEAAAAAgADAAAAAwAEAAIAAgAEAAUAAgADAAMAAwABAAEABQABAAYABAAEAAcABAAFAAUAAwADAAUABwAIAAMABAABAAMABQAEAAUABAAFAAMABQACAAAAAQAAAAEAAAAAAAAAAwABAAIAAwACAAIAAwADAAIABQACAAQABQAAAAQAAgABAAIAAQACAAIAAQABAAQA//8CAAEABgAFAAIABAAFAAMAAQADAAMABwAAAAAAAAAAAAUAAwABAAEABAABAAEAAgACAAAAAwAAAAAAAAD//wAAAAD9//7/AQAAAAAA/v8AAAAA/v////7//f/+//3//P////z/AAADAAAA/v/+//z/AQABAAAAAQAAAP//AAD9/wAAAAD8/wEAAAABAAAA/v8BAAEAAQAEAAAAAQABAAAA/v8AAAEAAQAAAP7/AAD//wAAAQACAAAAAQD/////AAABAPz///8DAAAAAQAAAAAAAQABAAAAAAABAAAAAgAEAAMAAQAAAAMAAgAAAAEAAgADAAQAAgACAAQAAgABAAAAAwACAAIABQADAAEAAAAAAP//AQABAAAAAAD//wAAAAAAAAEAAQABAAEAAQACAAIABQACAAIAAwACAP//AAADAAEAAAD//////f8AAP///v8CAAEABQAAAAAAAwD//wAA/v8AAAEAAgACAAAA/f/9/wEAAAD+/wAAAAAAAAAA//////3//v/7//z//v/8//z//P/9//3/AAD9//v/+////////f///wAA///+/wAAAAD//wAAAAD8//z//f///wAAAAAAAAAAAAD9/wAAAAD+/wAA//8AAAEAAQAAAP//AAACAAAA//8AAP7//f/7//v/AAAAAP7//v/+////AAD//wAAAAABAAEAAAD9//7//P8AAAAAAQACAAEABAACAAIAAwAAAAAABAADAAAAAQACAAQABQAGAAUACAACAAQABwADAAYAAwAGAAUAAwADAAUABgAFAAcABAADAAIABgACAAcABwACAAYAAwAGAAUAAgABAAAAAQACAAAAAQAAAAEABAABAAIAAgABAAEAAQAAAAEAAAADAAMAAAAAAAAAAAABAAAAAAADAAAAAAABAAAAAAAAAAMAAAAAAAAAAAAAAAAA//8CAAEAAAACAAIAAAADAAMAAwAGAAQAAAABAAEAAwABAAAAAgADAAEAAQAAAAIA/v///wEAAAABAAEAAgAAAAAAAQAAAP7//f8BAAAAAgAAAAAABQAAAP//AQAAAAEAAgABAAUAAgADAAQAAAACAAAAAAABAAIAAAAAAP////8CAAIAAQAAAAAAAAAAAP7/AAABAAEA/f/9/wAAAgABAAAA//8CAAAAAAABAP//AQAAAAEAAQABAAIAAgABAAQABAACAAIAAwAAAP//AAAAAAIABAAFAAAAAAAAAAAAAgABAAQABAABAAAAAwAFAAMABAAGAAQAAAAEAAQAAQAFAAQAAwAFAAEAAwAEAAAAAwACAAMABAAEAAEAAwABAAMABAADAAMA//8BAAIAAAABAAAAAgACAAEAAgABAAAAAwADAAUABwABAP7/AgAAAAAAAAABAAQAAAABAAQABAADAAEAAQAAAAEAAAAAAP//AAAAAAAAAgAAAP7////9/wAA/v///////v////3//P8AAP3//v/8//3//f/8/wAAAAAAAAAAAgAAAAIAAQD//wMA///+/wAA/v/9/wIAAAAAAAAA//8AAP//AAD///7/AQAAAP3//f/7//j/+v/8//7//f/8/wAA///+//3//v8AAPz/AAD+//z/+////wAAAQABAAIAAQAAAAAA//////z//v///wEAAAABAAAA//8DAP//AAAAAP//AAABAAAAAAAFAAIABAACAAIA/////wAAAAACAAAAAAAAAAAAAQAAAAAAAAACAP////8BAP//AwADAAMABAABAAIAAwAEAAYAAgABAAQAAgABAAAAAQAEAAQAAQAHAAYAAQADAAIABwAEAAYACAAIAAgABwAFAAQAAgADAAkABgAEAAUAAwAEAAcACAAIAAUAAgAEAAYABwAHAAQABQAGAAQAAgAFAAMAAwADAAUAAgAAAAEAAAAAAP//AQABAAAA/f8AAP3///////7/AAD7//v/+//6//v//f8AAAEAAAAAAAEA/f8AAP//AAACAP////8AAAAAAQABAAEABAACAAAAAQAAAAMAAgABAAIAAQAAAAEAAAAFAAMAAQAAAAAA//8BAAAAAQADAAEAAgD/////////////AAD//wAAAQD///7//v8AAAAAAQABAP//AAD//wQABQAAAAEAAwAAAPv////+/wIABAAFAAoABwAIAAcABAAFAP//AgABAAIABQABAAUAAgAHAAIABgAGAAEAAgAAAAAABQAFAAIAAAAAAAIAAAAFAAYABgAFAAQAAQAFAAMAAAAEAAUABQABAAUAAAACAAUAAwACAAYAAwD//wEAAgACAP//AAABAAAAAAAAAAAAAAD/////AgD+////AgAAAAQABQADAAMAAgD7//7///8CAAAAAwAGAAEAAAABAAAAAAABAAAAAgADAAAAAgAAAAIAAAAAAAAA///8//////8AAAEAAQACAAAAAQAAAAMAAwAAAAAAAAAAAPz//f/+/wIAAAD9/wAA+//9//3//f////3////7//f/+f/5//v/+//7//v/AAD/////AAD9//z/+v/8//v//v/5//7/+/8BAAcAAAAEAAAA/v/+//7/AQD//wAAAwACAAEAAgACAAAAAQADAAEA//8AAP///f/+////AAAAAAAA///+//z//P/4//3//f/9//7/AAD//wAAAgABAAUAAAAAAAQAAwAGAAMABQAFAAMAAgABAAEABgADAAYABQAGAAcAAQAFAAYABgAGAAQABAADAAQABwAGAAYACwAHAAcAAgAEAAYAAgAFAAIABgAIAAsACAABAAQAAQAAAP//AAABAAAA//8DAAMAAQAEAAAA/v/+/wAA///9//z//P/5//f//v8AAAYAAQAEAAIA//8AAPz////+//7/AAAEAP///f////3/AAD9/wAAAAAAAAIAAAACAAIABAABAAQAAAD7/wAA/v8AAAEABQAEAAcABQAFAAUAAwACAAAAAwD//wAAAAADAAkABgAJAAcABgAEAAQAAgADAAEA//8AAP///f/8/wAA/v/+/wAA//8BAP7/AAAAAAIA+///////+//4//j//P/8//7/+v8DAAQABAADAAAAAQD9/wAA/v8CAAAAAAAAAAQABgAKAAgABwANAAYACAAJAAYABwAKAAQAAgAHAAQACAAMAAsACAAKAAgABQADAAgABAAAAAAAAwAEAAYABwAHAAcACgAFAAEA/P/8//z//f8BAAQABQACAAIAAAADAAYAAgADAAAABAAAAAAA/v8BAAMAAQAGAAUABQAHAAcABAADAAMABQAAAP7/AQAEAAkABAAJAAUAAgAAAAAAAgAAAAIAAgAEAAEAAAABAP7/BAAEAAUABAAAAAAAAAD//wEABAABAAUACQAJAAUABAADAP///P/6//v/+f/6//z/AAD//wIAAgD////////8//z/+f/6//n//f/9////AAABAAIAAQAAAP///v/8/wAA/P/+/wEAAwACAAQAAAAAAAUAAQAEAAAAAAD9//3//f8AAAIAAQABAP7/+//+/wEAAgAAAAAAAgD6//n/9v/0//r/9v/5//3/AgAAAAEABAAEAAIAAwAAAPv/+v/5//n//////wIAAwAGAAUABwAIAAoABQABAAIA//8BAAIACAAMAAwADQAMAAYAAQACAPz//f8AAAUABwAFAAcACAAGAAwABwAGAAYABAADAAAAAAAAAAIAAgADAAEAAgAAAPv/+//6//j/+f/9//v//f/8/wMAAQAEAAMABAABAPv//v/7//j//f///wAABQADAAcABAADAAMAAwAAAP///P8AAAEAAAD+/wAAAAAAAAQAAQADAP7/+//3//v/+f/8//v//P///wAAAwAAAAUABAAFAAgAAgAFAAIA/f/4//T/+P/8/wIAEgAOAA8ACAAEAAgAAgD///z/+//8/wAABAAFAAgACgAJAA0AEQANAAkABgAIAAUAAgAEAAcABQAJAAwADAAGAAQAAAAAAAAAAAD+///////8/wAA/P/1//T/8//4//P//P/9//z/+//5//z/+//2//z/AAAAAAEAAAADAAIAAAABAAMAAgAAAAQAAgAJAAsACAAPAA4ADAAJAAQABQAAAP//AwADAAcADQAOABIADwAQAAcABQD8//f/+//+/wIABgAJAAoACQAJAAcABQD7//r/AAD9//v/+v/9//7//P/9/wEA+P/3//X/8f/6//H/+f/5//j/+v/4//P/+P/4//z/AgD7/wQABwACAAAA/f/7//n/+v/4//n/AAAIAAoAFQAbAB4AFwALAAkACgAHAAgAEgATABgAGwAfACIAFwAcABYAEAAJAAMAAAD+/wAABgAMABIAFwAZABMAEAAHAAEAAQD+//n/+P///wQAAAACAAIAAAD5//T/8f/x//D/8//4//v/AAAEAAYAAgABAAAAAAD9//b/9v/6////AgADAAwAEAARABIADgAMAAUAAwABAAQAAAAJABEAFQAVABEAEAAJAAQAAwABAAAAAQADAAsACQAIAAUAAAD9//n/+//7//3/9f/4//f/9v/6//n//P/8//n/+f/y//X/8v/x//b/9v/6//3///8CAAIABQAEAPz////8//v/+v///wAAAgADAAUACgAGAA4ACwAIAA0ACgADAAAA9//2//P/8//3//j/+v8DAAkAEAAKAAoACgABAPn/8//v/+n/7P/x//X/+P/6////AQAKAAkAAAAEAAAA+v////X//v/8//3/AQAAAAIAAgD8//n//f/6//r/9v/z//n/+P/7//7/AAAHAAIABgABAAAABAAAAAAAAgAAAP//BAAGAA8ACQANAAoACQAGAAgACwAKAAYACQAGAAEA///6//7/AwAKAA0ADAAHAAYABwAHAAMAAgD//wAA///+/wAAAQAFAAcACgALAAoAAgD///f/+f/6//z/AAAIAA0AEQASAA0ACAAGAPr/9f/z//L/9//4//r//P8AAP//AQABAP/////5//b//P/8////BAALABMAEQARAA4ACgAHAAMAAAD///z/AgAEAAMAAQADAAcADQANAA8AEwAQAAcABAAAAPv/9//2//X/+P/6//7/AQACAAQAAAACAPz/9f/z//H/9f/y//3/AgAEAAsADwAOABIABwABAPz/9//v//L/8//+/wIACAAQABQADQAKAAcA/v/6//X///8AAAcAFQAYACAAHgAYABMABwADAP//+//+//3/BQAIABAAEQATABIAFQAMAAUAAQD9//T/8//0//r//P8CAAQAAQAAAPr/+f/0//P/9f/w/+z/8f/0//b/+P/0//j/+f/9////AAD//wQABAACAAAA+//3//v//P8AAAgACgARABIAEgAUABYAFQAUABIADwALAAkACgAOABoAHAAeABoAFQAQAAsA///9//z/+////wAAAwAIAA8AEgANAAoACwAAAPj/7P/m/+r/5v/x//n/AwALAA8ACwAEAPr/7P/l/+H/4v/x//r/CAASABoAIAAcABcACgABAPb/6P/k/+v/8P/8/wgAFgAlACoALQAeABEAAAD4/+7/4//k/+r/8/8AAAsAEQASAA4ACgAFAPr/8v/y//T/9P/9/wAABQAJAAsACQAIAAoABwACAP7/+//5//f//v8AAAsADQASAA0ACAACAP3/+v/2//j/+v/4//j/9//5//n/+////wAAAAD6//v/9v/w//D/8f/2//n/+v/5//3//v8EAAAA/v/8//X/8f/u/+//8//2//z///8AAAAAAAAAAAIA///////////+//7/AQACAAEAAwAFAAMABAALAAoADAAQABIAEAAPABIAFAAXABcADwAPAA4ADwAOABAAEAASABQADgANAAMA//8AAP//BgALAAkABwACAPz/9//z//D/7//y//P/8v/0//v//P8AAAAABQADAAQAAAD///3/+f/6//3/AAACAAUACAAGAAQAAQD9//z/+//+/wAABQAIAAcADQAPABQAEAAMAAUABAD9//n/+P/5//7/AwAGAAsADQAMAAwABAD8//z/+f/5//3/BgALAAsACgABAPr/9P/u/+v/5//u//f///8DAAsABQAFAAEA+f/x/+7/5//s//T/AAAPABUAHwAeAB0AFAAFAPv/9f/w//P//P8LACAAKQAzAC0AIQARAAAA7v/i/9j/3P/o//L/AAAMABgAIAAdABcADAD///L/6P/l/+n/7P/1/wIADAASABYAEQAMAAEA+v/w/+X/5v/u//f/AwAPAB8AJwAnACMAHQAPAAYA+P/u/+f/4v/m/+b/9f8AAAsAGAAcABgAGAATAAsACQD+/wAA+//7/wAABgALABQAHgAiACMAHQARAAUA/v/8//b/8P/1//b//v8HAA0AFwAbACMAJQAhABoAEgAJAAQA+v/1//D/8//6/wAABgAGAAwACQAFAP7/+//1//P//P/6/wkAEgAZAB0AGwASAAUA9//p/+P/3v/a/9//6//5/wEADgATABAAEwAPAAgA/f/y//D/6v/r//D/+/8BAAkACwAJAAcAAgD6//j/8v/t/+z/8P/6/wIACgAUABkAGgAXABYADAAIAAAA/v/+//n/+f/7//7//f8AAAcABgAMAAwABwACAPv/+v/2//T/9v/0//z//P////r/9v/x//T/+P/7/wAAAQAAAAEA/v/1//L/8f/1//j/+/8GAAsAEQANAA8ADQALAAoACAAJAAUAAgD///3/AAADABAAFwAeACIAGgAOAAEA/v/7//v/AAAHAA8AEAAUABMAFAATABYADgAOAAcABAD+//r/9f/v//H/9//6/wQADQAVABAACwD///D/3v/T/8//1f/i//D/AAAOABQAFAAUABAABAD3/+j/4f/e/+D/7v8CABwAMgA8AD0AMwAcAP//5//U/83/0//i//r/EAAlADMANAAwACQAFwAAAOj/0//K/8v/1P/p/wUAGwAqACwAIwAUAAAA6v/a/9L/2P/m/wEAFQAoACwAMAAkABIA/v/m/9X/yP/N/9r/7f8HACEAOQBDAEQAMwAYAP3/5v/R/8j/yP/Y/+X/+f8PACAALwAzADEAJQAUAAQA8//n/+f/8////xMAIgArACQAHQAMAP7/8P/m/+X/7P/y//T/9v/7//7/BAAFAAgACAD///r/8P/r/+n/6P/x//n/AgAJABEADwASAAsACwAHAAcADQAMAA0ACQAIAAoACgAQABYAIAAoAC4ALQAkACAAFwAQAA0ABwAGAP3//v/+//z//v8BAP//AgACAAIACQAFAAUADgANAA4ADAARABAAEQAMAA4ABgD8//H/7P/n/+L/4f/r//D/9f8AAAcAEgAcACEAIwAYAA8AAQD2/+7/6v/l/+z/7f/2//j//P8AAPv/+P/u/+X/4f/h/+v/+/8LACMANgA+AD4AMQAhABAAAQDm/9X/zv/L/9X/4v/6/xIAJgA2ADIAJAAKAPP/3P/L/8n/1f/q/wIAGAAkACYAHQATAAYA+f/p/+L/3v/f/+3//v8RACEAMQAyADUAKAASAPr/5P/V/8//0P/j//P/BAAWACgAMgAxACgAHAASAPz/6//l/+b/7f/5/wIACAAQAA4AEgAQAAsAAwAAAAAA///6//3/AAAHABMAFwAdAB0AFAAPAPz/8P/t/+7/+/8CAAkADgAGAP3/8//w//H/+v8CAA4AEwAVAAoAAAD3//T/8//3//3/AwALAAkACgAOABYAJgAsADQALwAcAAYA7v/U/8v/yP/Q/+L/+v8MABYAFwAbABUAFQATAAsABwAAAP3////6//v//f/9//v/8//m/93/1//X/9T/3//v/wAADgAWABsAFwAOAAkAAgD+//X/+//4//r/AAADAAYAAwAEAAEA+f/4//n//P///wYAFAAnADAAMwAtACUAFwAKAAQAAQADAAcADAAPAAcA/f/w/+7/4//Z/9f/2f/k//P//f8KABMAHQAhACIAFwAIAPL/3v/P/8v/0P/k//j/DwAiACcAGwAMAPr/6f/h/9f/3f/s//z/DAAZACoANwA/ADoAKgATAPb/2f/O/8b/0//p/wIAGgAsAC4AIwAMAPn/5P/W/9T/1//p/wIAHgA9AFoAaQBqAFgAOAALANn/tP+e/57/sf/X////KABCAE8ASgA3ABoA/P/j/9T/x//G/87/4v/6/xQALwBKAEwARwAxAA4A7//L/7X/sv++/9f//v8nAEQAVgBPADwAHwAEAO3/2f/V/9j/4f/z/wIAFQAiADUAQABHAD4AKQABAN3/wv+x/6//vP/Y//z/EgAlACsAKwAnAB4AFgAEAP//8v/l/+D/2v/k//H/BAAZACgALAAgAAsA/P/j/9X/zv/c//T/CQAcACQAJgAjABUACAD6//T/6f/g/9r/2P/d/+r///8WACYANQA+ADUAHwAFAOn/2//T/9n/5P/2/wIADwAXABYAGAAaABgAGwAZABAA///x/+b/5v/q//b/AAAJAAkABQD7//j/7//r/+//8//5//f//f8AAAsAGgAmACwALAAjABIABQDz/+X/3v/b/93/5P/q//7/BwAXACgAMAArACYAEwACAPX/8P/y//f/CgAVABsAHwAaABQAAwD3//D/7P/d/9z/1//i/+7/AAATACcANgA6AC0AEgD9/+n/3P/e//L/EAAqADEANgAzAC8AIgAGAPv/6f/t/+P/5v/u//7/DgAeAC8ANQAwABkA/f/o/9P/xf+//8T/3//t//r/BAAIABcAFgAZABEADAANAAcAAgAAAAQAGwAuADUALQASAPv/1//C/8T/zf/j//L/DgAbACIADwD//wEADAATABoADQAEAPz/4//N/87/4v8BABgAHgAaAAkA+//p/93/0f/Q/9//8/8JABUAJwAvADYANwAvAB8AGwAIAPb/5f/Q/7z/uP/K/+z/AAAQACQAKwAiAA4A8v/j/+X/7f/y//z/AwAMAAsADwAMABQAGgAZAA8AAgDx/+L/3v/X/+f/7v/7/wkADAALAAIA///+/wIAAwAHAAUACwASAA4ABQAGAAUADQAJAAAA+P/x//j/AAAAAAIAAAAGAAIA//8AAP7/CgAaAB4AHgAfABsAFAASAAwADQADAPj/6v/a/9j/2//h//D///8bACgAMgArABgADAAAAPT/9//3//r/9f/5//j//P/7//n/AwAGABIACQD4/+7/4P/d/9//8P8IACAALwA5AC4AIAAOAAAA7P/o/+D/4//v//P/+v/6/wIAEAAXAB4AGAATAAYA8v/l/9z/4//7/xAANABDAD8ALQAbAAkA+v/t/+T/5P/g/9X/1P/V/+z/CAAbAC4ALQAiAA4A+v/v/+X/7f/9/xQAIgAbAAgA+f/t/+7/8v/5//j/AAAAAPj/8//6/w8AIAA1ADkAKwAYAAEA9f/l/+H/6P/4/wMADwAPAAoAAAABAAkAEQASABMADgAAAPD/5P/p//P//v8JABAACwD7/+3/6P/p//X/AgAMABsAGQAUAAoA/P/5//3/BgANAA8ADwAEAPz/8//0//P//f8EAA0AEgALAPz/8//u//b/AAAPAB0AJAAdABAA/f/0//n/+v8EAA0ADAAUAAkACAAJAAEABAAKABMAGAAMAAEA+//5//z/AAADAA8AFQAbAA0ACQADAPv/8//1//z///8KABAADAAKAAcABAD+////+//3//v///8CAAYABAAHAAsACwAJAAYAAQADAP3/+P/x/+//+f8CAAMABAAFAAcACAAMAAUAAAD9//7/+//5/wYACQALAA4ABwAFAP3//P/4//X/+v/7//j/9v/5//n/AAAJABgAFwASAA8ABwABAPH/7f/m/+v/8//9/wAABAACAPz/9P/2//3/AQAAAAYAAgD3//n/+/8AAAsAEgATABAADgACAPb/6f/j/+3/+v///wQAAAABAP7//f8AAAEABwAIAAQA///4//D/7P/6/wUADwAWABUADQAHAPr/8v/u/+///f8JAAgAAAD8//v///8EAAwAFAAZABgACwAAAPT/9//2//v/AwAHAAQA///7//f/9//7/wAADAARABkAEQALAAEA/P///wQABgAHAAQABAAJAAQAAAAAAAAADQAOAA4ABgAAAPv/+//9/wMACwANAAsACwADAPz/+f/5//3/AAABAAAAAAAHAAUABgAFAAkACwAMAAcAAAAAAAIACgAEAP7////+/wIAAAD+//z/AAD+//7/AAAAAAEAAQACAAgABAD8//r/AAAAAAQACAAKAA0ACgAEAAEA//8DAAMAAwAJAAMA+//8//f//f/+/wIAAQAEAAkAAQD5//P/8//7/wUACAAGAAoABAAAAP7//f/1//P/9f/+/wUAAgAAAPv/+v/+/wAAAwAEAAoADAAHAAMAAQD9/wAAAgALAA0ACwAIAAIA+v/9//v/AAAFAAkABQAFAAIAAwAAAAQABQADAAwABwAIAAYAAgAEAAAAAAAAAAUACAAKAAYABQAAAAQABAABAAMABAAFAAwABgAEAAAA+v8BAAYABgANAAQABwAEAAIA+f/3/wAABwAOAAcAAAAFAAIABQACAAEABgAEAA8ABwADAAAA/f8FAAMABwAJAAsABwAIAAIA/f////7/BgAHAAUAAAD//wIAAgAHAAEABAABAAIAAAABAAAAAQAAAP//BQAEAAYAAQAAAAEA//8AAAIAAgAAAAQAAgD//wMA/P/+/wEAAwAFAAQAAgD9////+v8AAP7/AgACAAEAAAAAAAEAAQD9/wAAAAD//wAAAAD+//z//v8AAAAA/f///wAAAAABAAAA/f8AAAEAAAAAAPz/+//9/wMAAQAAAPz//P/6/wAAAAAAAP//AAAAAAEAAAAAAAAAAAAAAAIAAQABAAAAAAAAAAAAAgAAAAMAAwABAAEA/f8AAAEAAQABAP///P8AAAQABwADAAIAAAACAAIABwAAAAIAAwD+/wEABQAGAAEAAQAEAAMABQACAAIAAAACAAEAAAAAAP//AQAAAAIABQADAAMABQAEAAEABAACAAcABgAFAAQAAAAAAAQABQAEAAUABAAFAAMAAQAAAAIABAABAAMABAAEAAIABAAEAAMA//8FAAgABgAHAAEAAwAFAAUACAACAAQABgAIAAQAAgABAAAABQAEAAMAAwABAAIAAAACAAQAAQAFAAMAAwADAAIAAQAAAAEAAAADAAAAAwAAAAAAAAD+/wUABQAAAPz/AwADAAMABgAAAAUAAAADAP//AwAHAP7/AgD7//3/BAAAAAMA//8DAAQAAwACAAAAAAACAAQAAAD+/wAA//8CAP7///8BAP//AAAAAP7/AAAAAAAAAQABAAEAAAAAAAAAAAD+/wIABAABAAQAAAAAAAIAAgAEAAAAAAD/////AQAAAAAA///9//z/AgADAAMAAQACAAUAAgAAAAEAAgADAAQABQAEAAIABAAAAAEABAAAAAEABAADAAUAAQADAAUAAQAFAAAAAQADAAQAAgABAP//AgACAAMAAwAHAAQAAgADAAIAAwAAAAQABQAFAAYAAwAEAAQABAAGAAQAAwAGAAYABAADAAQAAAACAAAAAQADAAQABAABAAAABAABAAQAAgACAAEAAAADAAAA/////wAABgADAAIA//8EAAMAAQABAAAAAgACAAAABAD//wIAAAABAAQAAAAAAAAAAQAEAAAAAAABAP////8BAAIAAQABAAAAAAACAP7/AAABAAAAAAABAAAA//8AAAMAAAD//wAAAwACAP//AAAAAAAAAAAAAP/////+////AAD+/wEAAAAAAAIAAAD+//7//v///wAAAAAAAP///v8AAPz////+/wAAAAD9/wAAAAAAAAAA/v8AAAIAAAABAAEAAAD///7/AAABAAAAAAD/////AQAAAP//AAD8//3/AQAAAAAAAQAAAAEAAgAAAAMAAAAAAAAAAgABAP///v8CAAAAAAAAAAAAAQACAAEAAAAAAAAAAQACAAMAAgAAAAEAAgABAAAA//8AAAMAAwACAP//AgABAAUABAD//wAAAwABAAIAAAACAAMAAQABAAEAAgAEAP//AwACAAIAAgAAAAMAAwABAAAAAwACAAEAAgADAAMAAgACAAEAAgABAAQAAQAEAAIABQAGAAEAAgAAAAIABQADAAQABAADAAAAAgABAAQAAQAAAAUAAQAAAAAA//8DAAUAAwACAAIAAAACAAIAAgD//wEAAgABAAIAAQD+/wEAAQABAAIAAQADAAMAAQABAAAAAQAAAAAA//8CAP7/AgD+/wAAAgAAAAEAAwABAAEAAwADAAIAAAADAAEAAQACAAAABAAAAAQA//8AAAAAAQACAAEAAgACAAEABAADAAIAAAADAAIAAAAAAAEAAgACAP7/AQABAAAABAABAAAAAgAAAAQAAwADAAAAAQABAAMABQADAAcABAAAAAMAAgACAAQAAwAHAAIAAgADAAAABQACAAMABAADAAIABAABAAEAAwAFAAMABQADAAQAAAACAAUABQAFAAQABgACAAIABAAFAAcABQADAAQABAAAAAMAAgADAAIAAwACAAMAAQAAAAIAAwACAAIAAQACAAIAAwACAP//AQAAAAMACAAAAAIAAAACAAUAAAAAAAAAAQAAAAAAAwADAAIAAAADAAIAAgAEAAMA//8DAP7/AgAAAAAAAQACAAYAAAAAAAAA//8AAAEAAAABAAEA//8BAP//AAAAAAEABQACAAAAAAD//wIAAAAAAAAA//8AAAEAAAABAP3//v8AAP///////wAA/v8CAAAA/f8BAP//AQAAAP3/AAAAAAQAAQD//wAA/v8BAAIAAQADAP7///8AAP//AAD//wAAAAAAAP7//v/9//7//v8AAP7////+////+v8AAP///v8AAPz//f8BAP7/AQAAAAAAAwAAAAAAAAAAAAEAAAABAAEAAAACAAAAAAAAAAEAAwAAAAEA//8CAAAAAQADAAIAAwAAAAEAAwD+/wMABQABAAMAAQABAAQAAQADAAIAAgAGAAAAAgADAAMABQACAAUABAACAAMABAACAAUABAAJAAMAAgADAAMAAwABAAMABQAGAAMAAwADAAQAAgADAAEABAACAAEAAwACAAMAAQABAAIAAwAAAAQABAACAAAAAgAAAAQAAAABAAEAAQAEAAUABAACAAMABAABAAIABAACAAQAAwABAAYAAgADAAEAAwAEAAAAAgADAAAAAgABAAMAAAABAAAAAQABAP7/AAAAAAAAAAD+/wAA/v8AAP//AAADAAAAAAAAAP3/AAD//wEAAAD9/wAA///+//7/+//+/wAA//8AAAEAAAAEAP//AgABAP//AAD///7/AAD9//7/AAD/////AAD//wEAAAAAAAMAAAAAAAMA//8BAAAAAgADAAIAAAACAAAAAgAFAAMAAwABAAAABAADAAMA//8CAAYAAAABAAQAAQADAAMAAQACAAIABAAEAAEABAACAAQAAwAAAAAABQACAAIABAABAAQAAQAAAAMAAwABAAMABAAEAAMAAAADAAAAAwABAAMABQACAAMAAQABAAMAAQABAAIAAgD//wAA/v8EAAUAAgAEAP//AAABAP//AgAAAAIABQAAAP7/AAAAAAEAAgACAAIAAQABAAIAAAACAAEAAAACAAAAAQAAAAEAAgABAAIAAAAAAAIAAQD+/wAA/v8AAAAA/v///wAA///9//7/AAAAAP7//P/+//z/AAD9//7//v/8//7/AAAAAP////8AAAAA/v8AAAAA/f/+/wAAAAABAAAA/f8CAP//AAAAAAAAAgAAAAAAAAAAAAEAAgAAAAQAAAD//wEAAQAEAP//AAADAAAAAgAAAP//AAAAAAQABQD//wAAAAAAAAEA//8GAAIAAAAAAAAAAAABAAAAAQACAAEA//8BAAAAAAABAAAABAAAAP//AAABAAEAAAAAAAIAAwAAAAMAAAACAAIAAAABAAAAAQADAAAAAwAEAAQABQACAAEAAQACAAAAAAADAAYAAQADAAUAAAAGAAIABQAFAAMABAACAAAABAAFAAUAAwADAAMABQACAAMAAAAEAAUAAQAFAAEAAAADAAEAAwAEAAAAAwADAAIABAABAAQAAwAEAAQAAgABAAIAAAAAAAQAAQABAAQAAAABAAEAAwACAAIAAAABAAAAAwABAP//AgD///z/AAAAAAAAAAACAAQA/////wAA//8DAAAA//8AAAAAAAD//wAAAQAAAAAAAAAAAAEAAAD//wAAAAAAAAAA/f/+/wAA+/8BAP////8BAP3/AAAAAP3///8AAAAAAAAAAP///v8BAAEAAAABAAEAAAAAAAEAAAACAPz/AAABAAAAAQD+////AQD9/wAAAgAAAAEAAQADAAIAAgACAAMAAwD//wAAAQABAAQAAAACAAIAAAABAAEAAwADAAgABAAAAAEAAQD//wMAAAAAAAQAAgAAAAEAAQADAAAAAwADAP//AQADAAMAAgAAAAMABQAFAAEAAgAEAAIAAQAFAAQAAwACAAEAAgACAAYABQAEAAMAAgADAAMAAQAAAAUAAgAAAP//AQAGAAEA//8AAAgAAQD+/wMA//8BAAAAAAAAAAEA//8AAAAAAgABAAIACAAAAAMAAAAAAAUAAAABAAQAAQAAAAAAAAD//wEAAwAAAAAA//8BAAAA/v///wEAAQD9//n/AAD+////AAD//wEA///9/wMA/f8AAAAAAAABAP///v8AAP3///8AAP7/AAD+/wEA//////////8BAAEA//8AAAEAAAAAAP//AAAAAAAA/v/+////AAD+/wAAAAD+////AAD9//7//v8AAAAA/v8AAP3//f8AAP//AAABAP/////+////AgAAAAEAAwAAAAAAAgAAAAEAAQAAAAAA//////7///8CAAAAAgABAAAAAAABAAAAAQADAAYABQABAP//AgAAAAEAAAACAAQAAAACAAIA//8DAAEABQAIAAIAAgAEAAMAAgACAAIAAAAFAAEAAgAAAP///v8AAAEAAAACAAIABAACAAMAAwACAAEAAAACAAAAAwABAAQABAABAAIAAwAFAAMABQAGAAcABAAEAAUA//8EAAMAAQAGAAUABQAHAAMABgABAAEACQADAP7/BAAGAAYABgADAAUAAQAEAAAAAAAGAAQACAAJAAYAAwAFAAIAAwACAAQAAwAAAAMABgAHAAMAAwAGAAcAAwAGAAgABQACAAAAAgABAAEAAAD//wAAAgD//wEAAgAAAP7/AAD+//7//P/8/wAA/v8AAAEA//8AAP///v///wAAAQABAP//AQADAAQAAQABAAMAAAAAAAAAAQACAAIAAQAAAAIAAAD//wIABgACAAEAAQAAAP7/AAD+/wAABAAIAAcABQAEAAAA/v8AAAEAAgAAAAQA/v8AAAAA/v8DAAAAAAAEAAMACAAGAAkACAAEAAgABwAGAAYABQAFAAUABQABAAAAAAAEAAEAAQAAAAIAAAAAAP//AAACAAEABAADAAMAAwD+/wMABQADAAcABgABAAAAAQAEAAAA//8CAAMAAAACAAAABAACAAYABgAEAAYAAgAFAAUAAQAGAAcAAwADAAAAAwAFAAAAAgACAP7/AQAAAPz//v/9/wAAAAAAAP//AAAAAAIAAwAGAAQABgAIAAoACAAMAA0ABwANAA4ADwAQAA8AFAAPABEAEgAHAAoABgABAAUABAAFAPj//f/8//r/+P/7////AwAFAPb//v8CAPn//f/8//n/AAD1//f/9P/9/wYA9P8AAAEAAQAHAAMAAgACAP7/CwAIAPv///8AAP//AgD+/wAAAwD+/////P/3//b/9//4//P/8v/2/wAA/v/x//b/BwAHAPz/AAAHAAYA/P/r//f/9P/u/+3/7f/s/+v/7P/5//X/4f/r//n/9//1/+z/9f/0/+P/4f/b/+D/4P/b/+//4//g/+n/9v/z//L/+f///wMA///4//n/AAD5//D/8v/5//b/7//1//z/AQD6/wAAAwD5//v/7P/h/+z/7P/8////AQAgACEAEAA1ADMAMwBFABoADAAQAAAA+v/k//z/IAAGABsASwA+AD0AMQA+ACsA8v+s/6P/zv+X/4H/u//Y/9//1P+u////fQBaAMAALQG4APMAUQF/ANsAGQFBAMkAyAAHACEAe/9H/zAAfP/r/tH//f9wAIMAjP9rACICZgGGALMAFQGRARIABf8dANAAYgAH/0f/DAE7ATsA5ADuAT8B/wDLAFgASAAy/+r+O/9e/on9AP7f/jr/U/9H/9IABwLkAM8AZgFQASwBggBV/zT/NP88/nH+wv6k/uf/RQDB/3kA5ABhAKUAygA6AMf/7v4M/6X+DP2c/Vz/av9c/yIAtwDbAR4BYQBeAXkBNAB3/1T/rf+L/l788P0d/2T9iP0L/17/Cv+e/3//kgDNAQIA/P9JAu4AZ/6N/+n/4v4o/sn9Tf8n/8v8Df6Z/7n+XQCbAQMCawP8At0C6ARKBPgB/wLYA8MC2gGjADABaAINANX95v1W/eD7x/m2+Pr3c/d79+/3i/gF+nr8av4pAEIBoAJNBOQF/ga+BaUH4AlYBlMGUwcdBRIHQQg/CLMK3AkKCqkJLQa5BYwCSf4B/Wr4QvXj8xPwafGg98z7e/9dBYsLixAQEbsPuw8ED54MdQeRAgr/0/pf9q3xb/Fe8tTwe/My9rH2aflX+zP9owGGA7oEbgfZBWQE/AOZAQMBTABH/+X/3/4c/SH9Yfwl+6v6bfkx+p37v/od+sL4ZPd1+AT61fol/OT96v5i/qz9lP0c/fv+Zf/N/BT+xv1z+/37SfnX+OD8ov2H/X39k/tN/EH9p/sj/DT8zfpM+yf7Kvup/Mf9vv/KATEBVAFAAoQCgwOHAer/twEAAOH9mfwD+q/7If6d/Un/9wBmARoCyAIcBJYEqQQQBuYFuQPCArcA+/6vAKgCXQSTBaoFsQQoAw4DAgQtBL4EjwVRA3YBFQCF/gkCYQQNBqEKlAwzD0UREBHnE70WJhc6Fr4TQhEGDuMKsAl1Ba8CFAVLB8EJYQlyBksGYAUOA8L/P/8BAIT7yffm9AH1LfuO/L3+2gT5B9ENHRF8DnEN5Qm+BcgEcQGr/av4cvP08xjzXO/g8Nv0AffX+A/5oPru/q/+Rft6+hj7m/r99mf11/UV9JHz7PNN9IP1mvSc9YH57vpK/NP8//u8/f3+1v3T/bH/MQC6/yj+c/tJ+xz7Rvqf+kn57viZ+q76jvmO+YH77Psi+9f7J/1gAGcBJgAZAoMEwAaUBxcILAkXB/YEeALnACH/U/sW++j5J/h9+GX29/bG+bz5ZPl9+hD7UPkN93r1ifV79s/18fVp96r4u/pE/Jj8Zf1z/3kBwwF+AwYFcQHx/qD9NvpN+Sr4gPU89PTzz/Ne9X35Jv7zAbMFGAogDVINGAyDCZYHUwcDBxIHngZABVMDLQIwA+QDBgTfBoYKKQyNDQkOBw8YELMONwt6BpkK9hn8Kbk4VkBOQRtGVkhAPqoydSw3JGQVeP8r6Svdu9RSzDnMetKd3yftkfFQ+hMGNgvDEB0Z/hy9GlgVnhDDEGoPxggKBScGzwm9CjMGFAKE//z6gfMT7J/mzuAj2izUDNGRz1DRAdj/4Gnp6fDv+igHWQ7/DU0M3A50DwELBgXH/YD3TvJC7K3pCOty7WLvzO9c8UrzffIn9D/34/dw9470MvTU9eLx3u/E8tf2q/rX+VT8GQN1BCQFaQcjCj8N2Qk5BnQIngd6BhID8fxG/dr86vuP/mD9gvwE/yQE5wkaC7sK4ArLCd8IkwWsAIL9D/rH9sb0NfKP8N7vpe5i7TTtSPDE9HL4tfpU+7D7Rfx3/Rj/mf+JAK8DOgXFBCADzACw//P9HPtm+q75Avfb897vCu757pfv+vGO9AX3pflu+vf9XwMzBnEICQoNDJ8PqBFFEZkNoQhZBxcIHgivBooDXwBq/8YBcANbBGwIMQuNC+IMqgwKDeAPYQ8PDs8Ohg+GEQwSKwuEBGYJnxkeNDtNKlTpTfpGbUXbQr80HSXmG2QPL/wn5zfZftc51GzPPNYk5Y/1AQJ0Cy4SmhR/ElIT3RlhF/gLWQIN/Pj8TfvB8h705/lb/OL+nf1Y/qv+nfZI7sfoyeNk4NXbtdhT13fUy9aQ3HXhx+hN71/4JgMSCHgKTQpKCEUJqghVBNj9RfRZ663l5uAd4tLlSunR7uvx9PV/+3//OgO0AI/+9AC9/4T+4vug9kD2L/YB+ML9PAAZBNQHYwfZCmYMcgk3CKYFLgNS/9f2hPOz9FH0yvXd9xP7LAGIAhQE2QoMEFgThRLiDq0L7AS4/oT5SvRA763pTuj56m3uxPA48iH3UPvb+sf69vwH/1L+Vfya+0P6lvc09ev0e/Zk+ZX6Sfhy9hXz+e7B8I70Bfeu+AH7If8OAdsA/wB6AmsG7gncDGwOTw09CmMGuASRBCcFgAZqCDAMswznCvkJuwRa/x0BJQbiCsMKogOc/TL8wP3nCX8YMidvQG9YF3D/f493WW5LY8lONzz8JSsSjP+y4gfEZrO4shi9Pc2r3vnyvgJFDzEgcirSKPEgRRukHmQfbBY0CeD8gPQK7gLrD/EN/QkGGggPCHQI5wZcABL1julf3x3WP9BSzHjHxMKlxvzS5uDa8M3/xgrDEngSNA5pDMgJTwTS+WruZOhC4rXcKNuF27zfAuer7HDw8/CP8LbxlvDm7EXo7eTf5UjmzOWf5hXrTfR2+vX8ov+3AyYKeAt1CeAHAQWOApf9evag9F70GPNI9XL4+vuN/xEB4wM/Bl4JKA7+EjMX0RUvESkLsgMB//r60vq3/Yf+9/9LAQQC0QAD/X76//oRAHQGIgpKCwwIHAN6/xL7/fnu/o0F3ApyDDoKUwnnCGQFnQEK/iT7pflJ90v1j/J67kbtnO5D8Q/1PPil/A4D1ghKDg8SxhKlEQIOKAxHC58JRQqUCcgGKQMP//7/hgORBvsLQQ6iDacQlhF/EGkONQXoARQIZApuCVcBTP4BCbINohfHJzc0BUQYSD9LzVeoV9VOQkHDMjEoPBWT/HXpcdiXy+DIUsx92JfjTuzZ/KEJ6xIjGfAVFRpFG8ETiA5uAtr6Ifcx7aTtFvLg9m7+Lv5N/wAAdvge87/rJuRY4JTZ+9Oa0UfPwcw9zSvR9Ncs4HTmde0v8oT1qvcT8qftW+5h7pTxW/Qm9aj2hPSP8ELuU+2B7XDw1/TQ88PvgOru56DppOeB6Y7tv/F9+Mn2NPVh9eL3+v5EAN0DgwiDC4UOHguyC60KRwaKB7wERQYmCeUB5AH/AWYA/AbWBvwHBgvxB5kKaQwrC2EKBwekBzwKjQjiB/kE7f56+uD0PvodBn8IzA42FckaqCPiIm8oFTJDLLMoOiIpFYUQNgLe82r3X/TN8CfvhubH6FHo2OU48kj5H//LBKIFLhAxFsAUdxWWESUSfxRxD1YOkwqqBj8LqghmCOUHpf0c+2/3xPQo+gf4n/tO/W/2vPqi/GMCNg3PDFkUMRa4DR0LhgKX/9kAv/nJ/AEDTwVdC0sMPA8aFRUSyRYsG2kW3xIUB/T9gfrl8wL2Evlm+4v9xvaP9+r/WAIwB2sEof0z/536J/kW+DHvsu5U6h7lP+gm6L7q3+0Z7CHxcvfU9/z4P/d49ZH14/Du72ntQOd75a3lQ+l67J/sGfAb86TxE/KI8zT4l/zc+dv6Xvfi75ft0egr6avoP+St5yHpP+rm7NHsRfKO+Cz9EwOaAxMEvANuAAz+o/kH+Fj6G/0YAR0CQAOTCS8P5xWMHfMfXCCtHCwVmQ1OBdAAVf/N/DT7pfu7/PH9/v29/+4HjQ9qF3QdRyLjJSwfGhfnEUsPThMoGmclID/jWdhkymkcabNs1W6rXThPokMmM6UZFfGn0R7Bi7NvrS6vAcAr2b7m1fMNAOsG6wzEDUsVBx9EHHgQuQHr+LvzE+647Mryx/oxAWMHfwz+DmkMsgVQ/6j3we5v5arb+dCUxZS9LLzRwobOztic5NHwXPzIBwoPThMmE9wOPw0MCuEEHf8Y907yEvGL7+Dyc/eU+Vn9xP3C/kQBx/0m+ob0/u0K7vDwzfJ68t3uZOzj7v/0yfut/zoBZAHZ/kj9yvmZ9mL0Eu9q7pbuTvCw9iz5+P3kAOoAAwMaAiwE2QRZAUX8ZfSB8Sbuyenl5bzjIOi/697vYfRO9kb5bftZ/i4CmgMwA78Brv/f/l/+Kv6J/pX/5QAnAoMFWQd6B40I/Ad/CMEK2QyFEEITNhGRDssNag2bDgERRRMSFKQS/hCiERARDw48DIYNLBFBElMQBw9kDxUQUAzwCoYRfRtmIgkilh82HeYfjiAbGjkVrA2+C68KZAVmDqEcaSy8PttK3VVqV51KKTk6KlYcsAvQ+UjoxtVNw/y2urXFuhLBw89O5qn8Swr1DnsUvRZZFGwOegdZBgcDWPsN8v7r8OaA4pTl8+5K+50D/AcoCkoG+/x98Gro9+EE2uDUEtHEzi/K88R8xVbNx9zR7Iv7vQiDE/YZgBlkFY0PAQviBlwBLPtZ9SbyJO8H7hDwW/R2+QH+gQLGBGUE4f529/Tx/OpL5AHgNN+L3zHhX+Mb51zthvVq/bECDQc6Cs4LgwlnBP4Aef2+/DT9Gfx7/Hz7ZvoL/MP97f90AnsDngWKBckAaPyP9pzyK/H/7oPwGPPa9KL3VPk6/FIBVgcXDQIQ+BANE40TNxK2EKIN7gwpDXcN3w72D5MRaRLaE2kWThk2GcMWYRVIETkJx/1I9m309/d7/ccClwoNEeoZmSFpKHIuvjG7M9Iw/iwQKcwkSCE0In0jgiT5K7w2RkruVnhS00sFRBs+xDXrKDIf2hWBAX7n3NMayPPED8PGxQbRXN3D50vwOvYX+sD6A/rb+wz7evY47rbjztzt2E7aueE17Jzz1PlzAJQGUAm1BbwCc/7Q9qTtN+G+1rDLN8FZu+W5Jb1yw5PKFdMN3Fnj0eqZ8pT4Mv0d/7P/cP+R/pX7Ffhw9mT2QPj2+Jf5I/w//gcA4QLiBQQI2QhLBiYDiv4Y+P7xnOwy6M/jCd8T3AHc1du222bfsuYI8S74WfxeAeMFywqLDhISUhXBFfESrw1CCSAF1AECAOD+EQBzAQwB1/+a/Tr9Af8hAJMB8AEbAUMAG/y4+Lb3VvfR+2cAAwbqDd0RDRXtF6gXNBpeGy4apBp/FqIReg2sBgkGKwjuCBQMAwxmDpYR5w08DNoLJgwrDosLjgtxCXIB7f13/icFng6AE34eQywNM8c7Xj9GQoxJl0YjRY9HeEJOQb889DKoLzYlBRxSG9kWEBeOFtkOagp9Adf19u5D5ZffN90o147VTtLXzmnR19Ib1/PczuCP6Cnu1e+z8e7vpO1i7d3qRuu+7Ertju/J7y7vAfC47nDuEu977U3tpeyX6wLtG+v05zHlluC43sDdwN2U4Svl4uer6kDrPOyc7mLvovKq9en3fvoI+mf4z/e29TH26fjI+t/9sv/S/+7/M/1Q+9f5cPcN9+j1vPRZ853x+fCD8unzAfbd96X4j/tq/fX+XQDa/23+ZP1O/Ob8QP7A/08BPgEsAZECowMyBb4HRwnjCsEK7gk8CswJGAm1CDoIKwk0CtYKRAw9DuoPHRGOEMAQshF0EbURWBGOEKoQRA6FDIsMBwvDCzwMngwYDuMNTw2WDaoMfQ0UD3QPbhHtEW8SThObEksTbxTMFF4XxBk8Hb0eKR3mGz8b4hpvHIUePSAPIq0gKyBYH2QfeyAPItchrSDEHXgaNBgYFPEO6AmwBisCiP06+AL0qPBD7c3qBeua7Q/vOu9l7w3wke+W7inspOul6lPn4uP54KXeCd8K3uneoeF+4zHlwOUp5vzmmucB6Lzp9+ff5ZfjFuLE4pfjlOWl6Hrqs+uM7Lbrd+zd7LPtu+5Z7wHwVPDa7sruAu9T77Px2vOA9gr5P/rB+0H9D/0B/bj8P/xl/GL64vgH+X74mvht+Dr5NPtQ/P/8Nf+ZAe0CEQQfAzoDaQI5AaYAjP8h/9z+lv/KAKUBIgLZA/oEugVxBv4GogitCD8IswfkBvgFjgVTBScGIgdjBtQGtwb2BksHrQYuB+AHDAivCDwJGwnxCfUJiwkECqUKcgv4DHIOsBDOEdER0hI0FHcVuhb2Fx0ZnxlHGnIavRrOG9Icyx2kHrUftR99HzIfBSABH4YdsxwEHbIdNh3fHFIbchpCGbAY4xekGPMXBhbMEpQOtgvIB0IF8QKXAFP/QP5d/L75ZPcF9RLzMfGO767uGO0g6lvmFeNq4Izejt0F3cbdI96h3X3cDdzJ26rbkNwK3mzfR98W3nDcndsP21nbmt3o30PhLuMN5NXjg+QF5RXnk+jD6cfqPOyc7GztnO5K7w3y0PNp9c33HPlB+kb7t/vX/A796/yk/qn+f/6Z/rT+KACTAAYB2wIDBKkErQTSBNIFswYEBxcHUweRB/kHPAdxB3oINAh1CYYJFAqGCoYJVQm7B7UHxgjGCPMIXgnOCd8Iogj1CBIK2QvoDKkNCQ5gDt0NsAwGDBsMiwzGDCwN4A2UDusOeA4SDjMNVQ2fDVMOWRCTEUcSRxJ6ESIQLw9WDqUPJhEsEeMR+xAPEKEOggwdDK0MkA0sD9kQZBGfEToQWw/LD8wQaRJsFGoV6xStEr0QGg9KDiwPhg8VEC4Qcg6bDEULGgpLCZwI7ggVCUoHzwSfAn4Aiv6U/Lj7YPzy+mH5i/Yv9A3yYu8S7fTrbOuy6BDm7uNb4nXh+9+L3w3gS+CP4Czgvt7K3vbedN423qHdUN3A3THdidxe3BjdbN+c4FDh3eJF5FDl7eTA5Z3nAukp6szrFuxf7fPu2+/w8E7yzPNz9Rb39PgE+4n79Pt+/Ej9tv29/i4BMQLSAuYDtwMXAywDBgSmBT4G6AcjCTQK1gpbCmQKnAqbC28MrQuRCzEM/wrLCn0KagouDOsL9QvnDeANGA6ODu0NUg8vD/UO3Q90D5APsg+hDksPgw9SD28QPA+7D2AQchA6EpcSXhOtFBsUMRS6FPwTaRRjFN8UCRZKFngWvRYvFwcXkRa2Fn8Y0RkuGhUa1xkuGvEYIRguGAYYSxfSFrsVdRSUEjoQFA9BDpsMKQtTCZwHuQWDAl8Ap/5w/Kv6u/hG9rzzffDb7a3rJ+k86LLmj+S242finOCd39feht6M3tHe0d5b3hDeCt753JbciN2Z3lnf+99q4KjgfeAk4cDh8OKi5Nfm6Oe76CzqEutC7IXtG+/H8B3yjvMh9Hr0afWu9cr1sfau95z4V/k9+jX7tvt++wP8Xvxr/VX/FwCYAc8CKQPCAzADZwM5BKoELAVZBWQFwQWzBWcFAQaZBpcHPQh4CFUJSwlpCb4J9Ql9CiALMwtQC0gL2guIDNkMog0MDngO2Q6zDrMO7g7uDjkPTw/xDjwPLA9yDlwOdQ4mD0EQ7RGoE7oU2hWZFYkVvhVZFjwXlhdWGCMZEBnlGIwZAhoNG1UdOh5LHzEgEiAFIDoeNxxYG00awBifFzoW4hSJE0sRPA8YDo4OKQ2XC/UJagfVBNoAwfzM+Vf3TvRy8dvt2OvX6kXoVOan5RjlIOQ041bhtt8j3n3cjNqQ2GzXD9c21rnVJdV71czV3dYY2Tzai9u73D3dgN4h3+7fe+EV42Tk5eX85ozoTem76j3tte6Z8Gfyd/Qp95L4J/oE/Oj8+v20/pr+CQDh/97/KwHaAUwCWALrAkEEDwWYBEYFzwUiBgEGmQT2BPIEYQRcAzgDGwTNA5YDQgTjBPwE/wTgBBsFIAW2BJ8EUgQpBTQF3AROBfoFDAdNBzYIZwlPCkgL1guUDMYMGg08DWcN/A3VDjoQhhGnEn8U0RWnFj0YCRpkGzccNh0bHjoeix6WH4ggLyGkIs4jSiQWJfYlqibPJtwmqiZ0Ja0kiyKtIBMf+RvXGV4XsBTZEjoQiQ1QC28I/wQ9ApT+afsK+BP0sfCf7Pbo0uXr4arfb90h28bZLNj81hjVWNSe09/RF9L40W/RHtF70bnRn9JT05bUk9bV1zzaz9sF3fze1ODu41zlJ+cI6aXqhuwp7gvvHvGc8zT1QPd4+Cb64/tU/Dr+Wf/z/+wA2AB+AWYBEQFrAXcBegHVACUBnAByAP7/AwBOAAAA8f/5/8sAMQGDAX8BtgH8AcYByQHLAUQCnQLwAlkDqgNZBEgFiQWqBikI8QgBClMLXgypDSIOQQ77DsYOdw8jEUQSDRUKF2EZRRsdHaQefR8oIrYi7SNvJLMk9yTSJOskhiXiJmQnLynXKQcr4CvaK3crHiyPK5cqJCj8JeskhiEuHhsaQhdKFC4QMwxsCIoFxAI6/8n7I/m89SPyXu6O6fbm4+Jm37vc2tjd1jLU0tFk0KTPCc/Dz77O/M4uzwTOes4Qzm/Nes6TzjnQk9Kq04zW1Nh02jHdTt4e4RrkKebr5x3qcutt7EbtP+5I8AjxBPJf8xj1Yvaa94D5rPs7/Sz+IP9j/wkA0P/4//r/8v+E/43/Z/9H/0b/ff+iAGMBBwLYAo4DeAOMA28DHwP1Au4CwwMCBKcE6wUzB+QHyQnWCgwMYQ0iDmoP4A/nD5QQ6BB9ETYTthKqFqUXLhodHWweFSLoIjYlTiX5J/QmSCmGKTQqzCwSLLwuEy+WL44wIzEEMWwypzDzL+IuSiziKtonNiXoIpAfdxueGM4TUxANDaoI3QWuAfv9qvoS9jjyNe4p6lTmD+N43yvdCdt92JPWf9Nb0n3Qvc+lzqHNEM6IzdLNrc3GzUrNes5Tz5zQQtI51HrWqNg22ubcCd834dXjSuWO5xLpcOoB7F/tEO617mrwPfEH8vDykfQ39m/3j/jj+fD6tvtb/Jj9QP4B/8D+wv7L/g3+CP7U/Wz+g//Q/4oAZQEHAuACSQOFA6YDkwMJBC0ERQRSBU8FMAfuB7cIPQuUCzoOWRAYEjYTRxSzFPMVKRWZFXEXtha+GZEaTh0HHxggASPAJA8meyjXKY8r2i8sL+MxEDFKMPwxgy+kLh4wzy6PL1EvtSsMLOYnuCXJIkUfEB3jGToWnhJNDpkJjgWF/7j8Ovd+85Tvz+vg6AXl5eE639TcPdmD2PnUWNQp0lbRDNG2z6/QINBk0MPPEtHJz1DReM8v0lXSsNNv1SnWfdj82s7c691t4hXjSOYn57PnpegV6cnp2uoN7LLseu5Q7xLxnPIS9P/1X/iy+or8Af64/78AHQIWA90DygR6BWcGAQc9COIJwwt4DGAOAQ+iD2kQaRAHEfwPuw8gD+cNiAzRC/4K6ApCCkIJDAoVCtQLVQ1sDgkQkRDSEDESbxLoEOsSUBISFDkVhRZZGt8cYyDcIrgl5ic0KrUrEC2yLXAvMi85L0svqy0nLlYsJCwNK1Mq2CgHJ4IkaSChHIYXahO4DQ8KiARv/4/6e/XU8IPsk+i75Efjmd6v3BrYDNWa0bLOnMy4yszJyMg3yc/Hp8mzyTTLGM3qzt/R6tL/1ALXUNnl2e7be93J32HiGuSG5m3ozerX7KLuQvDV8SHzafTl9Pb14vbJ9zL4+fcN+JT4U/nr+Vv7m/yb/kH/OwDuAJkBRwJvAoMDoAS6BQ0HYQinCUcLpAyfDZsOBw89EHoRyBHZEgwSuxEmERUQghC4D/gQzhEoEhcTehPOE3QVYReqGEgdVR2QH5ogXh++IY4gviGcI68j5SRqJxgoISq7KyArrSxHKt0p9ygdJVkmwCTHI4whZh7/G1UZhhWeEpkP8QwJC5YGUAO+/gL78fZL8jjucusV5ynmeOOc4Cnevtqz2aXWxtWJ1HvVS9T+1T/US9Tc03/TY9Xl1UXYVtmq29rcxN4h3z3hq+KF4xLlueXV55/onOq56w3sXuzU7G/tSO7+74jxePO79G/1X/WA9T31qvXJ9tL3LPmE+t77jPx9/bH8zfxs/G/83fzF/Yz/5wF2AyEElAWzBdwGyQesB0oJGAoVC1ALswoXCqUJKwpVCmENiA6eEE0SxxPuFOUUgBUdFyMZExt7HL4dxiCTIc4jdCV9J0gpByskLLkseC6XLqgvWC9HLoYtDCwCKuAndyd7JL0iiCBVHX0bwRcBFZMRUg3dCJEF9wDL/4/8dfg69uDwZe3+54/kk+Ik4XLfW9753OLbhdv+2XXZwdgC123WwNWU1d3WB9hE2ZnaB9x13dHenOC44iDkjuW45sznbei+6AzrNeyF7XPuX+/b74TxHvNW8xP2i/f297D2ovWd9cH1S/YE9/H4vvjy+uv5fvjd+OD39/iO+HX6MfwC/Rn+Ev4j/rv9wv3m/oYA3AByAzYFGAZVBt8FFQXwBWQFlAfRC30PGBYpFxsanxmRGj8boRyDHz8jXCjoKkUvhS5iMIkvUy45LwIuGi8jMZ0yJjPwMWwuWCsrKKEkgiSRIr4hxiAQHR4YbxI6DMgG2gMaAfX/if3i+S71XvAK6rPlp+EV39XfAt+Z3hjdyds22hPYb9Wo1FzVCdd12dzbN93g3GTcqtsu21bdX9814kjm4+aw5yzoLOjG6eDqHezp7rHwlPF69Bj1ZfZ+9kL2+fZw9yH4xvgE+iP72frT+cH5rvni+kr8T/1p/RX+y/1F/OL78vqY/L39If6H/tj+kQCVAfgBAAIvApQCWQKmAjAEwwWQByIJLAgeCU8N3w74EmYUdRbwGU0agB2JH0AiECVtKYYplCzKLY4sEC21K5Qs3S3bLhovyjHiLgQtJitsJmcl1SKOIAcfqBuGGe4WXBS4D/sK5AWG/4D8KviW9RX0bPGX7RDqP+R34Gndhdvo2zba7dj71+rWR9cV1/DWx9ji1/PY/tn32b3bNNt423rexN6d38bhEOLr5Znmsubm6KTp2upw7FntD/Gx8ubyZfU/9WH2gfaA9/75dPol+vb4D/lv+oH8Gf18/7T/CgAjANT97P0M/xgBMwNGBIYEcQb/BdUEaAQfBPMEwAUBCBIKaQtVC7cIEQYzBScFYQqZD9IUlxqIGGYWQhWlE6EWZBvxIMEnZCsgKzEsGyoSKJMpnCekKu4uqi7NL6stUypQKLwmfSPGJHgieyArIOUY5Rb7EhUONwsjCK0DgAF7/dj31fR47+vrc+jg5N3ig+Di247ZQtYp0gbRLNDozwrSpNOi1F7UHdKa0evR3dKG1qvamt373zLgpd4p3nTe2uBF5PrnSuui7rXwHfIT8s3yYvTM9hX6+/oZ/eb+Wv+Y/6n/LwBzAjwDcALsAtgBNwKbA2sExQUeBvwFfAX8BFUEqAVsBsEIwAoBC40KbggiCI0IegikCY0LUwpgDL4IFQpeDS4QWBMmE38UBxWQG1sZuBkHG+IekSI3JFYoNSlyLt0tNC4KKY4o1ylqKx4sUCylLbMoKSkbJrghohuGGYsYzhe7F7oU8BGDChEE2f0C92n1E/YC9bXyL+7E5vTfYdqC1ZbU1dPq1vzWR9MCz5fLPMrRyrrNsM+L09/V/tWF01zRudE6033YLNyD4E3jXuTY5TnkU+N95GHoke2f8lH1FviO+hL5Yfir9xb69v0hAuQEAwYpB88GIwX8BP4EQQUdB+cIagvdC7IKXQldCN0FKwjnCykNpQ/cDnQNCQk/CQEIjgteD6oOKQ8bC/MN8w3LEXgOqA8YEDQQ3RdNFogcnx0SIJ4e4x22Gt0dTSJLIyQoNyTzJ2Qnwya5JOgiRCA5I+YjqyHqITccUxphF/4UuhCkEKEO2g3jCrAEcgA1+4H3iPPV8bDvqu0Y623mauBL3AzZRNkh2w/bHdql1pHTPdEhzzTPf9Nf1+XZW9pp2VHYNNdm19LZXN2D4IziweSU5W3mN+c16I/sC/FR8v/yHfSR9Yn3S/oN/Dr/GAFRAmADAALQAvoDlAasCNoKHgu7C+UMEAwmC3gI4gluDZsOrA8YDnoN4w1yDAoNFw3VDgkLzwgVBxANQhGhELYQHgzUEawPNxCCDh0PnhS4F60cYxzHHzIbSxuzGOgWARvlHPEkkyVyJjIjbyDwHeYb0hzjGdEdth5vIPEcVRdHFHoP/A11Cr0IVgaWBmIFyP61+cPzC/HN7qvsieqw56HlTuJ94NXbL9p12dXXJtht1vjVP9RH04bSOdRv1Z/Ww9ei2Gfa5tiz2b7aSN724jnke+Ub54/oxule7GfuVPL58+n1qvml+jj7lvyB/i4CKAXBBREH7ga9BrgGHgY6Cn0NEg7xDkoOnA08DFYKiAkxC1UM1Q4QEZ8PEA+qC3cJTwd6BtYKqgzUDx4Q1w3EDXUMgA3rDJMN6hGlFXIYtRvOG1kY8xU8E4gWtRuoH68jAiJOIXcf+xqMGckaKB6zIJciPyOTISkdyRgQFQwSrBFcEEIRgBE/DSsIdQPw/r78N/og+DT4b/TP8art4OjX5r7i1OBq4Grg8+CL3xrcStkK1ojVvtYo14nY89h32NLZodnO2GfalNmZ2q3d/N7l4XDkNeY16MHoxOjU6tjtPfEF8w/zLvZb+0r+1P4Z/1j/TwB2Ag8F+wddCvUKdwsXC9QKIAsVCUcKhQsdDTwNOQzBC8wJwAh4CUQM2QxQDBcJMwXZA24EGwl0DfEQNxJ7EJMNBwzPCmAJ/gwzEcMW5htYG9cZIxcmEzQS8xPnFc8aWx3qHTYhViDEHYwdARtNGuIaQBqaHKsdrxtbGXcVNhFgEIkNrAp3CdcGAwVuAlf/9ftD+Z/2Z/Xx8Wrumuuo6MPnJ+f25trkNOMx4TTfltxN22rcsNtk3CvdN92W3BPcQNtH217cL9594G/hheNi5R3mpOf66VPryevP7VHwSvNl9dr3Tfks+hz7bvsO/cH+igGlAggCTwOLBKMFWQZZBroFpAaGB4YHhgcDBswFPgUKBY4GhgdICAoIwQjZB4MGlgZrBncI9QrRDRgQlg+bDkQOFA8UD98Q/BNyFi4a+xojGXsYzxh0GTkbkx1jID8jmSGzIBIgRx5AHgIeAR9xH3IeJRx6GaEWoRQvE/8RwxDXDQwKFAbrAkMAq/0S+j34D/bb80bxs+1I7MrqJuiz5aTjBOJD4V/fwdzu2zTbIdvc2+Lb9Nu224baZ9pH26TbDN3w3q/gpeJR5NjlbOcI6bXqCO1f7xXxuPKU8/T0ePcu+Pn5B/30/d7+4f6j/3wBcwFTAuACHgQ2BZ4GIwf4BvEGUgSWBO0EZga3CC4JFQsoCvsI4gfyBSAGBAYzB9kMiBDDEvATBhCqDiAN4Av7EPwTVRdKHFwc8RzEHTQa8Bn7GscbEiCwImojsyShJEsjASMjIRofPB2RGqQa+xouGi8ZzhdpFGwQRQ2iCWkGzQReAuMA+v+f/aj7OPiX9Mbxeu496zrpyed65v/k0eI54ATe5twB3KvaBdnz2BLZPdlW2cbZL9o82vzacNyU3fzeoeEh41jk3+XV517qHewZ7gHwYvEs8h7z3fOX9X34H/qW+z39/v3V/rz/OwA0AasBeQI6BN4FmwXWBL8EwQSeBRMGawY8BlYGrwaAB5wHAQgjCUIIcgkJCx4LTw3ADlkQvhF0EWwSthQeFhoXuRisGUocGh+iH5MheiFOIYUiDSOiI/QiMiNfIg0jGiMCIkIh6h21G+oZ8RhnFxUWCRQ8ETwP9QsrCAMECgFo/3r9K/vx+NX18fH67Zbqe+ce5YPkTeOO4bbfdd3q2vHZI9od2t/Zjtnr2evZ5dmG2mbbu9yZ3ubgNeIC46rje+VF6GrqRey87WXv+fBU8ujzjPUW9xv5BPu7/Av+sP7g/4cBmAInA5EDUQM3A78DngRbBYAGxgaQBuUGlAbVBRkFVgXlBj8HMQdLCGEJGAorCqEJSwmFCckJpwoxDI0Ngw8PECYRnhIxEtkSrBM/FQ8WlxaRGJkZchr7GjIbsBomG2YaZhqqGpMZchovGf8XwRfjFTQUYxLSEHQP1w3XC3UKNggCBlcEewHT/hn9Bfuz+KL2+vSZ83jxN+867cbrgOqU6bXoUOeM5szlHuXU5NrkteTH5PnkPeVi5Wnl0uW+5oHnWOjG6ebqvOvX7Mbteu6O7wjxzfIZ9D/1JPYj9yn4Q/me+gz8AP0N/ir/6P/uAO0B6wKRA88DmASUBZ0F0QUYBmkGLAcsCHcIZghICD0IhgiQCHoIzAj2CEEJwQlKCeUICQlCCW8JLglYCWQJZAlVCcgJ+wnxCSIK6glQCnUKlApYChQKegqXCroKZwpuCmwK8An4CQcKnwkgCcYIRQjrB6IH6waWBv4FZgXVBNIDKgN5ArwBEQHa/z3/Pf6d/Qv9OPyW+1/65Ply+Zr41/eO9xP3fvY89rX1TvU09eX0uPTM9KP0g/Si9Jn0nfTm9Bv1UfWw9d31KvaZ9gX3fffS91H41PiP+QP6iPqA+8j7KvzO/AD9av29/S3+wf4x/6v/EABIAMIA3wD6ADYBtgG5Af0BYgJcAtkCrgLkAgkD4wJjAyUDWANhAyUDYgN8A1wDgwOKA2ADhQNNA1IDbgOlA2YDqQNzA40DgANNA4YDbANzA4oDmwNbA0sD8wL+AhMD8gLzAugCgwKtAkgCIAIOAuUB+QHpAeQBgAFkASwB+QC/AIQAogBtAE4AGwDw/xQAxv+x/37/dv9+/xz/I//Z/tX+yv6c/qv+fv53/lf+Sv47/i3+Jv4c/iT+NP4v/ir+Cv4d/gb+7P0i/hX+F/4X/jb+L/5l/lL+Wf6K/mL+ff6K/o7+zP7V/g///f4D/wH/A/9O/0n/iP+T/3T/p/+8/87/xf/Z//D/JABGADIAWABbAGAAcwCIAH0AqgCjAL0A0ACxAMMAuwDoAPAA+gAEAQUB/wAAAQ0BAAHqAOcA3ADrAOgA7wDPAMoA6gDeANcAvwCiAKQArQCrAJ4AtAC5AJcAmQCZAJQAjwCRAIMAhACWAG4AdgB5AG8AdABsAGkAUwBKADkAPwBOADsARgAuABkAFQAVAAcACgAEAPX/AwD///T/9//O/9v/2v/H/+f/3//K/9b/1//W/9z/2f/q/9j/8f8CAPH/+//5/wAA6v///+r/+P/9/wAAAQD3/xEAEgAjABsADgAdABAACwAVABsAEwAIABUAEQD3//n/9//u/+H/1//S/8j/zP+8/7f/sf+d/5j/n/+R/5b/kv9s/4P/c/+D/4j/h/+Z/4//kv+W/43/mP+a/63/uP++/8X/wP/Z/8z/1f/b/9X/4P/X/+L/1//U/9X/4P/l/+H/+P/n/+r/7//9/wkA9v8RAPr/FgAiABwAKQAcAC4AHgAoADUAMgA6ACkANgAwADEANAA2ADUANgBEADQAMwA0ACwAMwA2AEkAOgA6ADsAMwArAC8AMgAxAC8ALwAxACIAKgAjACAAFQAUABgADQARAAIAAgAFAAUACQAQAA0ADAAPAAMABAADAP7/BAD9/wkACAALAAQABgAMAAgACgALAA8ABQAHABMA/v8BAAoAAgAHAPn/+//0//f/+//r//D/7f/t/+T/4P/j/+L/3//X/93/4v/W/9f/1v/d/9P/1v/a/9f/5//f/9j/4P/f/+L/3P/e/+L/6P/c/+D/4f/k/9//6P/v/+P/8f/q//b/6//u//3/+//+//T/+////wcACwAIAA0AEwAFABQAEwAMAB0ADgASAB0AGAAcABQAHAAQABcAHwAYABoAGAAVABwAFQATABcAFAASABIAFwASAAYAEQAYAAQADAATAAIABAAFAAYACgAHAAsAAAD+//7//P8BAP//AQD5//f/9v/3//H/8//7/wAA9f/9//r/8/////L/AgD9/+//AADx//P/+f/z//z/7//w//n/8v/y/+3/9//2//L/+P/1//P/8P/w//T/8P/5//z/8//1//X/+v///wMAAQD5/wAA/P8DAAYAAAAKABAABwAEAA8ADgAJABYAFQAeAAwAIQAaABUAJAAZACsAHgAlACEAHgAiABgAHwAfACEAGgAnABYAGgAYABkAGAAOACAAHAAUABgAFwAVAAsADQATABIAEAAQAAcACAAJAAAABgAAAPz//f/7//7////3//X/9P/q//b/6f/3/+//6f/5/+3/6f/u/+z/6P/s/+n/7P/l/+f/7P/i//D/5P/o/+n/4//s/+v/6P/p/+b/4f/r/+n/4f/n/+n/8//w/+j/7//z/+r/9v/u/+7/+P/z/+///P/x//L/+P8BAAUA+v/9//n/AAD8////+P////z/9v8EAPf////7//7/AQD9/wAA/P/8//f/AgAAAAIAAwAKAAsAAAAMAAEAEQAEAAcAAQANAAsABwATAAEABgAGAA0ACgADAAQACwAEAAAABAAEAAkAAQAHAAUABQABAP//CQAHAAMAAgAEAAYABgACAAoACQAHAAkACgAEAPz/CgD//wQACwAEAAEA/f8AAAEAAwAEAP7/AAAAAAUABwAJAAsADgACAAIAAwAOAAYAAAADAAIABAD+/wQA/f8CAP7//P/+//f/AADv//z/9//8//n/+P/2///////9/wEA+/////b/8//v//f/9//2/+7/6//x/+X/9f/q//P/7f/3//L/6//p/+f/9v/f/+//6f/h/+n/4//x/+f/9P/v/+T/8v/1//D/6//u//X/9v/+//P/9//4//P/8//7//j/+//3//z/AgDz//j/9v////z/AQD8/+///f/+/wUA//8AAAcA/f8DAAcA+/8AAAIAAAABAAIAAAD6//P/AAAEAP3/BQALAAwADwAJABQAEwAPAAsAGAAeABoAFgAbACoAGwAdABYADwAUABAAHAAMABYAFQANABQAFAASAAsAFwAXABEAFAASAA8ADAAUABcAEgAZAB8AHwAWAA0AGQAXABEADAANAAkAAwABAAIABAD9//r/+v/6//7/+v8DAAIA/v/9//z//P/6///////5/wMA+f/3//z/9P/4//r/AQD8//j////3//z/+v8AAAMA/v/5//3/9v/8//H/8v/4/+3/+//v/+z/7P/o//L/9P/6//P/+P/x//H/8//7/wAA+P8DAAQA/f/7/wQA/v///wMAAAAAAPv//P/1//r//P/5//v/AADz//f//P/8/wAAAAD+//r/BgAFAAAAAgAMAA8ACQATABEADwAKAAwAEwASAAgABwAIAAkABAALAAkACAAEAPv/AgD9/wUADAAHAAUADAAOAA0AEAAKABQAEAAVABAAFAAQABEAFAAMAAwAEAAPAAgACwAHAAYABwAIAAUAAgAFAAoACgAMAA0ABgAIAP3/AwABAAAABAAAAAUA/v8BAAUA/f8EAAUA+//4//b/8//2//T/+//1//H/8//2/+3/7v/1/+//6//u//b/8v/x//r/8P/x//f/+P/5//H/+v/2//D/9P/y//H/7//v/+r/5v/b/+T/5v/p/+b/5P/y/+X/5//o/+v/6P/s//z/9f////r//P/5//X////+/wIACwAGAAEAAAD6//r/AAD8//v//v8CAP7/AAD///3/+//7//f/9v/4//f/9v/n/+D/6v/s/+7/9/8DAAAA+P/0/+v/8P/o/93/4f/1//3/9f8AAP3/AADz//j/CgAFAAYABQD//wIABQAJAAwACgAQAAcAAwAIAPz/BAAEAAAAAQAFAAUABwAFAAQABwD3//f/AAACAA8ABwAMABEACgAOAA4AFgAcABQAHgArAB8AIgAuACsAKwAlAC8AKQAUABAADQAJABMACQAPAA8A///7//3//f/4//b/AQARABsADQAIAA8AEQAXABYAIgAaACkAMAAiAB4AIwAyAB8AHgAUAB4AJAAsACYAFwAfAA8AFgAJAAEAAgDt/wEA+P/7//3/AgAAAP7/BwACAAwAAQAIAAoA/f/8//D/9v/r/9f/2f+9/9L/1f/I/9//1P/L/8b/zf/R/8v/wf+8/8X/w/+5/83/2//K/9H/5f/i/83/0v+8/8P////b/+L/wP+s/8v/wP/a/+7/7P/w//7/8v/o//j/9f8FABQAMQAvACIADwAAABsAFwBJADoANgBGAB4AJwD7/wwA6P8BAAAA6v86AA4AIAAzADcAFAAAABMA3//1/97/6//9/9H/yv8LAAEABgDt/5z/3P+6/9j/5P/+/0IA6/8mADkATQCGAI4A6wC6AHYArABUAC8AOACPALYAdABCAOL/m/8B/0b/if/8/5kASQCCAA0Aff9N/+H+jf9AAaADsQSBA7MA7P9H/54AdwPxBDAFaQGr/iv8tvxk/Sz/GP5XATgC7ADY/A311/z4CJYbwRt7Ax70S+zx898G9g3lC3wEyfq/+LP14/i9AMn6yffrABUM2gQT94vzHvQE+CsIpwwYBBv41PKH/O0ALAUnAU76oPOl+UAE6QPeBZ34BfGk+3cCfAimAz77pfZdA7v/ivuZAcD/6wUVA9z9aABz99L+LgNO/vAT4QKl/eb4yfFQ/QEDcgVmBjkDwP40/9v5gf9T+hz78f3z+q36ggIP9h71J/zc+ZD+7P17/Fj9kvtc+NP+1/Sf/Hj9Tfa2AMD93/tN/oIA7wStBrIFgwDm/9L+zgbcC18ExALFATYH8gVvCa0MggRnA8EEKgXOApMEuQU0/37+pf16/Vv+CPqW/ioBeP5k/nL5Zfkk/r394/tU/hj5JPph/Dr6m/xc/jv97gBsBmIB0gAXABYFgQKFASkDlP0H/lgDowO0BKkH5ANjBb0FIwQWBO4D6wGIADj78wHNAJD9vAD5/IP+oQBgAUMAUf6Z/Lr+1PuZ+nr+2v7G/In9Sf0q/9gABQJMBK4BsAJXA9D+tP8dAQsBJwPlAPsE7QZgArQDXAIKA8AEPwO5BEwC0/6q/qAACgHgAA8ERAbDAJf9R/uW+uH8V/y0+s7+N//2+2f+0PgO/UIAeP+mAND9UP3f/XX92AAEA4oAvgIHAcMAmgFvAT4BwgEYA6wDYABL/60ArPwW/0kBgv4dAqUCpwDg/638uv5r/7//lv+W/kb+t//o/87+FwH+AmoD4ALLAk4AFwH6AGUBPAODA/oCkwEvAY0CYwP3A+gFCgZjBaYCyv+W/bb+mwASAJ0BXgEeAOH/YgBVAL7/IgBbAd0Awfyl/xX+nPtU/nX9zv7y+6/7rPvP+rn9DP2I+x37Kfoc+r74ZPne+uT6aPtN/Y3/Vf6//7n+Kv2S//b+ewB1APT+s//3/4f/WQBSAI4BHQSRAnIDMgNwA6ACRQDkAA4BlQB5AWcBwwBdAiQCxQIaAvgDdgT2A6YDagJ4AlUDcwJlAUcDCQKUBHgH4Al4DLMOAg5kDe0Nxg6OEB0PghClESgSnhC4DaIL/ArlC/ELpwwpC7IJ8QY6BfUEIwO3AQf/aPyx+OL2GfS+8lnxMfEZ8lbx7vH/8BPwb+9C8HvvJO/b7eLrk+py553nBeks6l/rb+0S78rwlvLm8gX0rfVQ9vb3U/jv+Cf6zvl7+lT8Y/6ZAFECewF7AZ4BbgGbAikC5wBVAI3/k/1G/KT8dvqz+Tr7lfpc+gX6hPkL+kP6q/no+ej4XPig+Aj4ufgg+ZD6cPzX/P/8fP6mAhQFMgb8BZ8GlgeyBY4FXQTaAx8EOQRyBAsELgUBCcgLZA1FDyAPIw3uC8AJ0gb8BEoCjv+1+zn6LvkQ+Fv3q/gc+Vf7M/1h/qcCsAUiCIsJbwo5CssKQgxvDkgP3A75De4OQhF/FMQZeyCvI+4mcCt6LfwxkjUxOF439jUjNYEweyw/KwopuCVCIe0b3RkMGBsUjRPVENQN/AqiA4T8VvZA7+vn5eGG2mTYd9QH0H/Pe83dzhLRjNJ/0x7VudXd1lLU0dJK1arT4NST1snXYdpv3Tzipeg17obyUPgR/Ib/9AFuBTEHWwi6Bw0GxAUqBLcCogD2/5D9+v3G+4v6Wfk495f2+fRI9P7xcu/S7UPtlOvz6h3qierl6R3oCuhc50vo1+rS7XLxSPTl9lD6Sv6yAncIswyZD7AQ8xFLE/gSgxN3FbUX/hgjGTQaiRsFHFsdXx6tHP8bXhtmGD8VNhFZDgoNhgt8B6QG/ARPBwkLnguDDbUP6hHHFacUNBTjF9cXlxgbGDMXuhYgF5MVbxYrFjoWKBblEucRYBJVE1sVUBSAEUUPwAjBA0EAbf2I+634PfVq8GzpDeTU4JPeQt6r3gfgMeHY4bzjs+Vn5qLo+ukE7Jbu3fCg8zf2NPaE9rX2iPiU+t38mwLLBc4GfQgMCbMJ4wm3CYsM8wsMCikIfgOv/3L8tfi59hL14/Pm8+vzlPNq9if5hPs4/VD8A/0n+qP5ufiM9iz1uPJW73ruiOvw6uLrDOvu7XDwQ/M696r5Uvtz/xUBiAQRBagECwZuBDwDugAe/l79Tv3j+pD72Pph+rH71vpi/L79bf9LAFT/x/7z/kP9w/uL+HP3S/cB9o71/fQP9NTzz/UP93L6W/zT/hv/Cv9W/Yn9VvyE+xj8p/ku+Hj3Pffx9WX2B/YH+ar8jP6PAUUF5wa3CLsIMQlpCkgNtQ3/D7gNuw2wDgwOhg+DE+YXkBuFIuklqy3wMWc5KjxzQZlBQ0SnRD9DlUOtQAo9XjcBM88qzieOIHEfrRg2E/MPlAuCBhsCwv1b+Yz2eu576Qfkyd+o3BrYB9RZz6jM58w0y8nLy84X0pnSD9Pt1NrYeNsN4GrkMui76lbr9O9e9A346Pqr/aj+CAE+AxgGcgk0C8gN+A46DgYLuAgzB7QDSP+l+ib2ePGu7JzobeYQ5uDk/+Tg5KLkP+QC55Hntudf6a7oNOsp6kXqkuzr7+PwgPRC9gr5agCdAQwK0g6iE70anh5HIgwoLCtYL+AzaTTmN944ezhWOGQzly4bKtQjMSBjHP8XlxKvDbgIQgM6/zj8IPlU953zru4368rmMeHB3LnVg9Qg1K/QBtGi0ATSctM51MfULNhC2lveeuKt5cTsGfJR9oz5MPx0ACwERQiXClINWBEgE6cSDRPnEzQSCRR9E4sSWBNmEiMR8A9WDlUMVQp/CCIHCQQ1ASwAov6E+xn4w/Xg9FzzJ/Ga8UjyXO8e70jw3vHd9Q/7Wv+mAh8C7gLXBY0FIgg9Cr0M9Q4gD0cSRxZLF+Ab+R9QJJ0qnCvPLo4w1y1YL90tHigNJ60gKxxjHEgV7hKyEYgKdQiwAjX9XPw1+E73V/kg+fb52vdy85LwhuxW6+jr9uoP68rm0eJy34Daytoh25rdx+Ah41vmAeo366TtZPIv9Dz5OvqI+ur85ftK/K77cvmi99f3lvfo9nX3Xvhr+kj7S/yS/Bz9w/3G/KH8Gvz7++r7uft8+hn6j/p0+hn6N/rg+Vn5FP0e/goA3QGBAzkH6Ap/DsMSrBeCHMQhwCSzKBorsi2iL7gtWCshKlAosiVyIpEeRRuFGGQTbA4rC+4H6gSWAKX7oveg9Jbu0un+5afhet562obWrdVj1afVgtVx1CvV3db019LZr9zV38PjnOSh5aTnL+qa7YPw2/MW+Kf7n/7rASkEdQYxCJsJGwl/CKIIqghYB3gFOAWzBB4ETQKRAZECdQJsA4oEHAQqBGQCwQF4ADoAof8Y/zj92/pv+fb3xPgh+IH3vva59gX13fZ9+Kj6Sf0P/8P/nADm/zYDCgbJBh0KUwz8Db4PShCIEB4UbRX2F8MaXhsuHswg+R+CIBof1R62Hp8dexzaGwwcvhkgF6wT1xOzEGQPDAysCMwH8gInARn+p/oZ9zH1l/F37rLupOvb65bqsuhv6Urp3eb35WnndedR6kjqPOzR7qvuZPD68WL0fvYf+hX+6gCAAhYDZgU+BsEHAQmGChQMNAoQCiYIpwczBR4EGwI+/2f/5Pyq/fD82fwn/MP71PsY+vT7Uftn/NH7f/pG+yf4vvY382r0GPND9Zr3Q/nP/gMArwZSCh4QMRTEGeodZiLmJ7AqbS0MLDwp+SewJsEjxiAPHuAbExuRFqoSzBAgDRULPAkaB6sFMgLd+6P36fJb7mLrhecs5CPiL95K3S7bzNkN2KvWZNSy0u7TztQ014nYOtuc3E7eU9/+4czlZOpc7xLz2Paa+Nr6WP0d/8gCkgUdB/MIcQqWCdcJ9QmIB0QG3gRzA7AC3gL9ATsBcgCe/Tf9nP34/Iv9Qf25/AL92fu1+a76pfrm+Tb7v/m7+cn5WfmZ+tL6PPvP+1T9w/wO/uQACQOnBXoGSghxCfkK4gosDJkN2g9VEwIWNhmXGj0cfRviGpwb4BtKHNEdoh/aHxIgmR09HBMbpxhOGcMachrEGYUYshU2E98QyA8HD4MNqgy6DNcLcgntBhQEdQKwAEn+5Ptr+6b6gfmJ+GH3sffm9jf1fvV+9kL2//cH+Ar3p/aa9Cf0OvND8bjw8PBY7vDs0uvf6aLouObJ5ybqlOtN7wTyovOt9V/2JveR+KL56Pru/EX8lfvN+vP59vj8+Pr5iPrz/GX8yfsO/A/7kvrl+gH67Poc/Iv7NPwq/Aj8YfwB/Iv8w/2A/kUAagDR/7j+//2a/nH+uABoBCwHrwqsC4kLNw5ID4YRPxUNFwIYmhjjFecTmRFkDT0MQQpQBhUE9AAy/en5EvZ185fx+u/37cHs1OrB6Afosuau5BjlMeWP5DHlqOTM5TXoqOhf6f/qBes87Pnss+3370rxvvII9Ij0XvVk9wL5KfwE//UAiQT5BsEIDQq6CwQN3Q3MDkIP3Q+ZDx0PyQ6lDZcMhQwPDHwLrAtEC0cKwQg5B4MGZAXjBCwFAgWMBTkGnwahBtwG3AaOBygI4AieCa0KBAxPDNENAg4ED90P3BBCE2AUJRYvF28YuBnLGV8alxpVGcQZshmkGN8YxBmRGnIakxk0GHQXRBYdFXUUuxPSEt0Rog+IDOsJDAcGBa0D7wHr/zv/d/1i+mz3WfVU9B7zKfLb8UDxj/BW7yHt/+ps6XDoB+jM52nnfuer5vPkz+OZ4jzibeJC4nriq+Ld4rjiFuIK4nriIORQ5dfmD+kg6unqs+tv6ynsS+5c7zTxj/JG8/r0V/V49fH3Rfnv+ij9Hv4h/9//JAErA8sDagXlB1kIgwkwCmcKSwtBDMMMOg6IDkIP7Q+RDuMNwQ0iDkQOjQ8PEHsQVRH7EHUQQRBHEOAPUxC9EF4RdxG1D/4OFQ4pDNQLtguzC6wLKAv+CacHLAWwA3EB1//N/wH/wv6S/cn6JPm591f1RfR+9E70i/Tb82HyV/KO8WTwRfC78IPyLvT/9CH2RvdF+LP4G/ja+ND5Dfug/KT9kv4HAH4AwP8kANYARAMSBqwG1gg8ClUK3wk2CD8IUgkMCpMKMwuFCmcKIwlKB0EH8AdHCbgJvgnnCGYIrQdbBvsFqgYdB+sHNge+BfgEjwSTA38DtwSeBRsHCgf4BlYH7QZWBysIWAisCPwIBwm6CKQIpwjRCLoJ7gkuCrUJgAnOCSkJ+wdFB+0GHwYlBZcDYAK8AcQAsP+B/vn9ev0d/a77nfoi+jX4w/fl9eXzv/PY8bvwmu8/7k3tZOxZ6wHqs+my6NfoKejM5yPo1edi52Hm1+ZO5srmbOd+51bns+c359fmpeYV54bojunf6bXq1ev068HsDO047iHvavCI8Y/yWfTK9WL3u/il+Uf7U/2E/qf/3gBcAoMDYASjBGUFyQZuCL0JjgoaDKINjg6fD+0PNhEvE9QTORWoFRgWjRcmF40XqBd9F5oYYRlbGTYZWxmOGPgYqhjdFxAZ2RgjGUoYyRYJFnUUZxNyEtERWxGOEDMP6g32C+sJlwnxB5sGGwbCBKsDTAIuALD+WP2I/Pr7MPu6+lf6GfpF+Gn3b/fE9v/2gPbm9b71XvUI9Y/06/NL9J/0/fSo9cT1ffbd9jz3ovfm9mH3J/i491D47/hW+Ar5RvnW+br68Pqc+1f8p/yE/IT8P/zw/C792/xI/Rv9Cv3b/GH8dvxo/PD97v57/3z/b/+PANL/CAAtAfMCjwNiBCAFswQGBZoEaATPBcEF6gboB6QG8wa4Bt8GLgepB5AIwAmLCgcKrAoeC6IKYQtbC5wL0gtCC8EKrwn2CP4HLghxBpkFZAUUBGkDZQHvAHQA6f4U/lP8wPqX+fT3nfbQ9WL1DfVc8/Hx/PDX7kvuRu3E7Fjsq+o16iTpEOiL53jn2Odb6NToEumy6E7oMenz6BjpHer66XjrZ+yZ7CzuFvDM8RD0UfWj9i758PmD+6H9Vv7/AJACEQMpBeAFRAfnCHIKKQ29DigQNBJ9E6cUKxaqFmAYlBizGOMZ/BlTGhobwRvSHCkduB0/H3cfGCC5IEogUCA9IF4fzx4PHusc2BzBG4UakxmwGI4YshdTFqgVdBUSFBsSBhBTDnENjgs9Cj0JsAdHBg4EgQFM/zz9B/x0+g/51Pc19qr0kvIg8AXvlO2i7Jzsgesr62HqQ+lF6HXnFecP55fnJui46Dno9Oc/6PHnluik6d/pQ+u267nr5uxl7f7tS+5y7/PwmvEy8g/zmvP88/f0cPUE9lf2jvej+KX4jPns+d/5QvqD+SP6ufox+6v88vxo/UD+pP1u/bT9Nv0a/pL+aQDoAfMBVAK7AoECDAOfA8UEXQeyB0sJ0ghvCJQHDwguCb4J7guWDZkPWQ5sDtcN2QzLDQIOag86EMwQ+BAuENQNRQ1/DLoMdA3RDZMN8wtYCzMI5AUuBDIDeANmAtQAKgDc/Yb7TvoH+O/36/Zw9qv2lPR78yny4PBF8Mfug+6o7o7tvO3K7Njrmuui6rjqnetf6/rrU+0C7artFu4P73Dw6/HV8yz1GfcI+Dr40Pku++L8kf4NAUICMAQrBXgFbAcjB/EIegp3Ct0LXAxIDUQOJQ7RDwoRWRJTFDcU8RSWFSwVRxboFsAWShgEF+gWuRg9GJkZnxnRGQEbbBr8GZEakxn8GckauBk0GmMYgxfDFigUnxOUEhoRwBDtDZQMegs9CY0IkwdrBkUFagQLA+ABHgBh/sH9T/zo+sH4vPZF9Y/ylvC87wruPe357Gbr1+pv6SnoKeiZ5gjnJ+dU5hXnL+aB5WnlfeTx5b7myuYj6ELofei+6Dzon+hK6YDql+sB7Cnsd+w/7PDsPe0B7jLwxvG+8nL0KvVz9c/3BPgg+cH6P/s2/DP8ofva+7L7HPw+/vP+kgGjAlYDTwURBfsGRQgjCWMLIgzlDMYMPA2pDSUOBw/qD1UR0RHoEiAT1BHiEhoTdBN7FK8TwxTgE9cTShSkEt0TGxQCFGAUrRJ1EpkRFRAJEHUOzw6WDYULlgoxBxMGvwWXA9oCEAEy/2z+VPtX+Yn3D/VC9Lnx4u+o7n3s6OsN6oPo8Oh66KfnLOgI57LmNeY95U7mzOV05rnnx+g/6mbrbew87r/vsPGB87/1IfiU+dv6/ftH/er9OwARAjEDMwavB70JeAqqCh0N9QzSDg8QRxDGEqESgxNjFJkTQhUUFegUzBbtFZwXzBiUGCMZFxkEGaUZ3BrPGpAbPxsaG1Ma2RhpGDYXLBeqGAoZThmyGYAZmRlxFxcXEhbiFIsUiRP+EsMQSA8dDZ4KTwmnBnUFnwPnAIv/ufzG+dX3G/Xj8rHwqO7M7YXrQOvV6V/nQuai5DnkmeIv4i/i7eAs4Nzfqt/P3z/gUeDz4KfhdOLK4vbiheP740PlEOaa5yvpc+rl62Hsj+wY7Sbu8e8/8snzIPY89zT3OPcv97P4uPlX/Gj/CwB7AUACQQGaARoAggGRA+oCFwXkBBgEkASDAuADHgRDBMkGRAa6B6QIqQfuCMMIfQl6C/YLnw1jDiwPrw+tDt8O6w4XD7AOpQ2NDdwMcgxWDLULMwxhDWAONBDBEW4T+xToFBQVKBScE6QShhHZEJwPKw5IDEgLngkjCCMGdgMXAsn+4vsf+lb2vvQd8t3uke2o6mzpn+jK5i7nmeZQ5VDlR+Nh4hDi8+Cf4i7jluRs537nz+nY67ntUPGn89D2hfqg/DD/egGKApEE+QXzBn0ISwjRCZMKnwr2C5wLRAxsDDwMGg0CDhIONg+6DgcPvQ4zDX0NcgwBDUINgg4QDeANbg22Cz8NUgsbDtEPChGwFFgVuBnBG1Ef3CIpJRApxCkFLAErvCqMKQ8mFiWtIGcdfxpnFccTBhC6DAoMQgi9BcID2v+J/lD7cPcK9h3yZ/BK7XPqk+gS5VPjGuD33eDcytqA2krZ2tia2aXau9wj3lDhWOQv6Jzsde8k9G/2xve/+Bn3Xvch9i/0XPMv8FHueOvX6HroD+ew59roi+lk6rLqSus061HslO088MbzE/X393L4rfen+Nj2J/m1+g38iQCUAfoE/AZLB1UKagsGDn8QVhDgEbIPrA0KDGEJGgnIB+AH8AcxB0gHMwdnB84IzAmbC08N8Q4rEDYRRRFkEfgQxA/8DxQPFQ4gDxUO/w09DmAMEg6QDR0PmREaESgSARHJDrYO4gwaDcAOUg2kDmwMiglQCTcFtwStA1UAFAAl/H349vVY8K7uK+056lnrZOqA6iPsruri6xDs0eoy7L7qTeuu7D/sBe0b7YvrxuvK6ubq9O0b73PyFfa59q76uvvV/HMAkwA1BCIGIAetCJYHigbVBSQC6wLzAUYCyAPDA08ECQf4BvwKFQ4VDt8UYBJSF/wXpRfLGTEY9BazFrYUOhTZFj8XthrGHAkeSCE6IrsjRybKJc8myiU9JPsi7R8lHJ4Y2hPwD8ALTQjxBf8DygGc/vf8pvpG+lD5rvmu+jj7JPu++bj2VvTe8bzvW+6Z7Hjrmukd6GfmzOWO5ZrlZ+Yu54boi+lI6u7rhevi60Dr1evX7FztUO0g7sntfeyR65TnTub84mrguN7r3fHdhd854J3j3+Vz6jrvU/Ni+Fr8ZgBPAw0EfgOYA5H/lf9V+wr7Vvoc+3392/79/k0AaAFAAnYFuQR4CNQH7QjiBv8FvwH/AaT8Ev7C/v4Aswb4BV0KmQfJClIMKBKsGX4ioShtLZ8tgSw5KyMpUCjrJIAhyx0SFpEO+Aae/oj7NfZD9Wzz8fN49HL0bPTe9Gf0D/TV9cr26vqc/A/9Qvzb+RL4n/fv9yf8+v0bAJ4BOgIWA+UDUANnA+ABxv8g/oH5mffb9HDyTe977RPsvOsv7D3tlO+28c3z4/SU9LX0AfWw9Vz3avl7/AT/pQDrAVQCMQRSBakGKwgJCZEKCgxeDaQOTRA/ESMT3BLMEhARlg1ECo4GwwIUAqAACgGhAJn+G/+y/p4CGAZ0DaoSMhtWIAkmOSuGLSMx/jDMMKQuOSvXJaUh7hroFL0OWwo5ByUGBgUnBQYGtgVSBbQDMQLd/gv6//Px7cDnyeP034vfReCA4prl2+n+7VbzYvnl/UYCdQLrASv+sfhz9JfvNeoY5eLfwdzY2c7YrdmL2/7dzuDp4vnksuYm6H7poOk/6tjpEOrx6SDqp+mO64HtsPE39g37MQEZBBEHAQeDBUsDEQEl/9n98PzF+1H8bvvV/Bb+lgCZBJMHugnrCgcLvQmqCPwGXQa/BeoDqAKPAPP96vpb+Jf4hPpc/fUAvgQbCegM1Q4mEZsSFRTOFZAVRRU8FTEU/xPMEnQRQRKiE0cW1xnOG7AegiCOIM8eiRu5GIAVBxHOCykIdgOAADj87/jp9oz2D/Wn9cf2s/cR+yD8Z/1x/TH8i/o3+XL1s/Ta837zSPVF9b/39PmP+pf8nv7MAJMDXQRjBCMDcf7o+CzyMeu25xLl7eTx5THnhem264PuI/KB9pX6Ov2M/4oApwAD/w3+yfzc+iP5rvaj91z49vkO/ZgANAaLCSgMZg6QDUEMJgusCg8MoQy9C2YKCQd+BDoEJgX5CNYMtQ/JEFIRGxLrEnQTyxMvFboWlxiqGksb7hqsGZEWxBOfEcsPEA+qDiUOKQylChEISAYGBBgB2f7v/ev8Nfvg+Ob2VPeg9mX3Vvl8+iP9RP6A/nv+sf3R+674YvOL7wrsk+hU6CPm6+Uk5Zzg7t/p3h3iNOe16G3sDew/6oDofeSD5FToHusN7o7vOPAK9JL0yvXg+df88wHPA5YFwQiNCZEIMAWlAbL/hv1P++z8Lf42AYACHwErAqYBkQEkAqEBJwKPAlIAmf29+p/4sfhq+CT65v3JAKUGfwooDpcSMRIjE2ASrRAlEM4PdRCXEjcULBdQHKEgdCUYKMAoWSqkKiQo5iMQHagVog2pAiz56fIL7zTtc+pF6prtxvGG9lv7x/4dAV0Akfsy+T/36/VA9jf0n/Si9XP1RfiL+t793QBfArgCtwLHAAL+3fix8qrteOcm5BDil98H4AzhU+MW5rjo5euP7oXvVPAC8fbwYfK88ZTxu/DY70Xws/FG9Xn6G/4DAbsCDwPyBOMESAY6B0oHkwUbA9L/Qv5RADABZgWyCLMKng4rDh0PuxEeEBQRdQ5qCrIHeAE//7sAcwScDb4VPB1KJF4nRSthLfAteC5LKygmsyCiF44SMwwBCbgIrAi6C8MOWxH5E2MSHhBvDlYKrAdzA/b+Lfzl+Y/32vcQ+IL6z/1AABkEyQYBCZEICgeKBPkBC/9X/Aj6tvZG9PnwsO/G7+XvOvF+8xv2Rff095r3ifdF9dryg+5y66TpteiO6XPqS+zz7lPx6/NR91r7zAAGAxUDiwF0/9b7Tfin84n0UfRA9iT3XPfg+aL5tvlw+T78DP4kAEv9Gf2m+gT6avjo9eD2bPdh+cj63v3e/2cEMgQhBSgE2wJ+A5gAJAGeAMQA3v8PAuwB7AXDB4YJ1A0PDv8R7RHOEY4QRQ26CW8HjQQhBNkF8wYUCikKfwkpCYIGigQVAvT+3/w7+lH3GPeJ9UP1N/aU9Qf3PfbH9Sb2VvUE9Zrzn/Ca7Yvr4Oj86Fbpteyx8KvyPfWn9H71s/UN9nXzjvM48izyTvBh7mzv0u/28mfyoPOo9ar3DflQ+X37wv3f/u7+Nf2V+836i/ic+Pz50PuLAL4D+Qf+ClAMnw2vDW8OLg66DCwM1wpHCdkHvgSsBdcGsghYDQoRvRa+GS8ZtReCFFIRNBDcDsEPyxGkEsEVDxiDGysgfSO8JnopqymlKa8nEyN3HxAZXBQ0EN8LhgrdCvULRQ3JDP4KSAnqBBkBrfwr+q34J/ck9on1tvXG9bj1evXD9VD2Q/ea9k722vU19Ajzs/HH8Bnwp+9b8JLyKvXd+HP7Y/1+/gn92vqU+Vz4X/dw9lz1VPVq9SH1mfUb9q72GffU9Sb16PPs8jLyd/C47nDuie7J7WfuEO4Q8DfzcPQL9pf2Z/fG+ML43ff/95H3i/iS+Sv6jvwx/vv/4AFOAi8DCwQsA+EC6wAk/3D+8fyI/dP+0P99ARgCHQJlAiUC7wG6AScCFwNiAzADnwICA3IDlQXECKILYA7dD5APXA7ADHILvQo3ClIKFQpHCikLLgxuDQwOBg4aDQcLuAj4BYYDPAFN/279Af1E/Zv9QP52/1cBvAHdAdEArv/H/sX9VPwu/Eb8u/wJ/c38L/1T/c/9W/6C/lL+Nf+O/rv+xf5T/tb+yv6M/tP9rfzX+0D7PPp++m36UPq/+tv62ft9/FT9C/7l/b39Bv3E+1v7x/qh+jb8+/3eABEDhgQZBt8GaQflB3cHEgg8CBEISwgpCN8IPwrlCngMFw26DF4NrQzXC/kLUAthC7MKEAl6CA8HgwZYBgkGgAbkBboEBAQEA2YCjQKrAoADOQS7A5QCLwGC/z/+6Pzh+3b7wvqg+qP6+vnz+WP6gPpv+lf5jPhZ9/n1v/To803zEvNe8lbxPfGJ8LHw3u8L75rvSu/i78/vku6r7hDuKe7E7onuVu8F8Yjx1PIk81Dz1fSW9OD0oPUp9a32W/eU91z58/gE+/H7IvzJ/t7+FgExA5oCngMfAisBqgJPAYEC0wKNAe0DXgMoBN4FtgRrBdkEdgNSBO4CCwNsBJYD7wTVBFUEAwbMBRkGwQYNBsYGsAYOBlUG7AXcBaEGwgUWBr0GVgZIB6EH7ge1CE0ICgiUB9IG7gY/B70HfAj2CCMJ0Qj/B0QH1wYMBooFGwXdBEgFyAUGBssGKwfwBusGwAXKBAkEQANVA90CWQO6A8IDawSwBFIEdgR1BAsElAN1AtoBswCxAN8ArgAXAQUBQwEdAQ0BvQBYAMX/fv+g/vP9m/0k/Ub9Y/0Q/hv+lf4h/pz9mv3J/Mn8f/wX/Fv8K/wc/LP8t/xv/dT9J/6A/pz+df56/hX+nf2r/Qb9W/2U/XH9kv7j/bb+6P7y/W3+xv3B/fD9F/31/OH8q/yN/RD9Y/03/lX+DP/j/nT+s/49/kf+FP46/X/9Nf0g/Zb9Wf3h/S/+jf6m/qf+Xf4O/jP+Jv2S/S791vyp/Qr9jf2s/R/9sv18/Jz8ffx6+3n8qvsB/Kf8+vto/f38H/2G/TX8jvyn+0H7yfvE+kX7d/uh+zn9cP3w/Wv+Vv72/mf+9v0J/mP9+v12/sf+if/1/8gAfwHMASsCTQJuAo8CYwJXAigCggJGAr0CGgNOAw0EAwREBIYEYATTBPgE1wQrBRQFQQU+BUsFnQW7BfUFDQbcBboFygWrBcsFowW0BaQFkwV5BVIFMgUnBREF1QSsBGQEPgQOBOwD6gPvA/cDugO2A2YDMwPPApQCTQLuAcQBYAFpAVQBbAG0AZQBjgGRATQB5wBzABMABAABABMAEAAtADgAYwBiAHQAQwBNACcADQD3/7D/v/+o/4//iv+U/4r/tf+m/3r/Rf8s/07/Ff88/xf/9f78/sv+7f7V/sH+4/6T/mr+Sv4G/hX+9v3c/QH+F/44/lP+XP5E/hz+Bf7P/cb9rv2i/Zz9kf3D/bL94v3z/fz97/3n/cr9wf2q/Z39j/1t/Xj9Y/18/YL9jf22/ab9o/2Z/XX9bv1n/WT9av1b/U39Yf1j/X79gf2c/c79zv3j/fH9/P3n/f/9B/4a/i/+Lf5N/mf+df6O/sH+xf7Y/ub+8f4M/wj/Gf8f/13/aP9t/4L/ef+d/5j/hv+x/6H/0f/b/9j/AwDz/xkALAAYAEoAKgAqAEYAIwBMAFcAXwCUAHkAkwC6AKEAzADBAMoA2QDYAPMA5QDoAN8A9AABAQMB+wAbAQoBNAFBAUIBTQEwAUIBXwFbAWsBcQF3AZ8BmAGgAbkByQHxAQMC6wEKAgIC7AHiAakBsAGmAZsBwgHAAdgB/AHhAfIB4AHZAdwBrwGiAZABdwGCAWgBbAF3AYwBjAGaAZgBlgGLAVcBNwERARABDAECAe8A7QDvAOwA6gC9ALUAnwB7AGoARgA4ACMAFAAcAP3/AQDu/+H/1P+8/5H/n/+A/4L/iv9a/3v/Y/9b/2D/Rf9L/0P/Lv8h/xn/D/8Q/w3/Bv8E/wX/B//y/u7+3/7i/uD+1/7d/tX+3P7H/s/+xf7M/r3+wP65/sb+0P7P/uT+4P7f/gP/AP8F/wH/5v4E//j++P4K/wH/Iv8q/x3/L/8m/yv/QP82/0D/N/87/z//Pv9K/1P/YP91/3D/dv+C/4H/lP+f/57/nv+t/6f/t//C/8H/5f/d/+X/6v/m//z/AgD0/wEADQAWABYABwAWACEAHAAqAB4AIwAeAB0AJQAmACQAJgAqACMAIQAjACQAKAAuADUAOQAvADgAPgAyAD8AMQBKADoANwA3ACMAMAApAC4AMAAzADkAKwAqACIAKQAyACoAOAA0ADAAQAAzADgAUQA8AEsAQQBDAFIAQABaAEwASgBAAD4AQABHAD8AMQAvADoAPQA5AEEAQwBCAE0AUQBRAEoARgA3AEEAOgA1AEIAOwBSAE0AVQBgAFIAXABUAGAAVABQAEkAVQBWAFQAYwBSAF8AVwBOAEwARgBUAFcAVABTAFAAUQBjAFQAWABRAEcARQA5ADwASQA9ADcANAAxACsAKAAcABkAGAALAAgABAD8/wAA9//3//f/6v/m/9//1v/Q/8//1//N/87/zf/J/8T/vP+2/7z/vf+5/73/yf/B/8T/w//B/73/vf+9/7r/u/+1/73/wP+//8D/vP/D/73/vP+8/8D/yv/O/8r/xf/L/8z/zP/L/8v/2v/d/+3/7v/p/+r/7v/1//b/+/8GAAUA//8HABQAEQAZAB8AIwArACkAKAAtAB8AKAAqAC4APwA0ADwARQBEAFEARABLAFQARABBADoAQABIADsARwA6ADkAQAA8ADwAOQA/AD8AOwA+ADUANQA6ADEAKgAqACAAKAAhAB8AFwAMAA8ADQAEAPn/+P/1/+7/9P/w//L/9f/r/+v/6f/i/+n/5P/h/+D/4f/k/+T/4v/m/+H/4f/e/93/3//d/+X/7//s//n/9v/1//b/9P/z/9//4P/c/9X/1f/S/+L/5f/s/+j/8P/r/+b/4v/h/+n/4//h/97/3//a/9L/1P/R/9j/3f/d/9f/2v/T/8f/xf/A/8n/2v/N/8//1f/W/8z/wf/F/8z/1f/L/8f/1v/d/+z/4v/i/+z/7P/y/+7/4v/r/+X/9P/y//n//f8EABEADAAOABIAEQAOAA0A/v8JAAoAAQAQABgAHAAjACMAGAAjACQAHwAdACEAKwA3ADIALQA4ADIAKgAwACsAKQAsACQAIAAmABkAGwAVABwAGgAZAB0AGQAgACUAKgAsAC4ALwAoACEAHgAUAAMA/v8BAP3/+f8DAAMACwAHAAAAAAADAAgADQAHABQAFQAUABkAHAAgAB8AIgAfABUAEAADAAQAAwAAAPX/+P/5/wIABAAXABkACgASAP7//f/x/+f/4v/r//b/8P/1/+v/7P/m/+X/5f/l/+j/4f/l//P/+/8BAPr/AgAEAPz//P/3//v/AwADABIABwARABEAEgAmACYAMAA5ADYAQABHAEoASQBMAE8ATgBMAEoARABFAE4ATQBTAFMARQBLAEMARQBDADIAQgBDAEUASQA0ADgAIgAiAB8AFQAeABYACwAPAAYA/P/5/+7/8P/j/9v/1v/L/9T/wv+//7H/tf+s/6r/pf+h/6H/nP+k/53/l/+W/5D/of+m/6b/vf+//83/0f/R/+T/8f/7//n/8v/p/+7/4P/h/+b/AADy/+v/6f/T/9z/1//O/9P/1//Y/9f/xf+//8D/v//M/9f/3P/L/8f/vv/g/+7/6v/q/+j///8SACkAJgAaACYAKwAnABkAFAAjABkA5v/G/63/sP+d/5r/mP+j/8X/yf+t/8//1P/3/x8AGgBAAFwAogDQAOAA9gD6AN8A0QDTAJIAfQBhAC0AVwCRAJEAwgCWAEgAHQDY/xYAXwAkAP3/p/+N/7n/MP8Q/wH/Bv8t/6P+Rf7//H79EP7AAB8DIgNkA10C3QAMBFICFgJXAgf7Gf4X/pYBNwREAQ8BtP/P/6r/XP4Q/qX+M/9JAFb/HAFj/4YAmgBQAdwCmQL5Ad3+J/4/+/b8B/1L/0MBZwBEAKX9ef0X/QD+Z/23/xkAuP+xAFj/LwB6/3z9T/+K/97/nAJr/00AMQGZ/ikBigB4ASMEZwLeAWMBKgBPAgYBRQB5ACj/igC//yn/OQA4AGQApAFEAe4CfwIV/1D/dv3W/1EDDgH5/4f/Dv30/+IAL/90AWb/7wCtA7IAnwBS/8H+iAIIAOv/n/91/WQCpQKW/8//XP33/gMAbP5G/0n+w/7R/cT+Bv66/Tz/2/8x/Zv81/zE/ekCkgE1ADP/If2r/oz/xQCJAtv/dABzAdz/9QG+ACgAlAKsASX/Uf+t/2UA5AIcAYkAiAI/AXkBYAAM/pn/VgKoAWYCRP8z/o8AZ/6fAOf/AP+uAZr+pv60AH/9GQFO/w79jf9j+7z9sP9x/nYAnf9J/VH+qPza/hz/s/5DAVUAkgF7ACf/uv+T/nT/nwEGAaUCGQNcAbYAyABjAQ8BCwIAA5EDjwKpAOABhv+k/5gBcwEgApYB3AGX/8v+tv7J/pr+kQCZAV7//P6g/D79Wv+A/20Bif1K/U8A8f9EAp3+iPqs/5wAQQB9AKv7dP5CAegAFQFe/d3/kv9TAbMDEf20AHIBD/0fAg4BDQBXAsL+jwElA6v/wgCs/zABcgMbAbMAiv+z/0MBwQFUA1sC3gEIAU0BZANvAJ3/IP8o/9oBjAE3AjD//PyyALcBjAHb/5z8M/9S/zv/UgEE/z8ArgAx/xL/Jf9GAQUA7/71/zv+d/77Adj/fgFLASP++wDe/6sBhwFv/+P/Nv40ALcD7gE3AugBZf8YAo8ADP7Y/uX9Xf+gAOz9CgELAQ4BnADK/awAvf6O/YH88PsFADcB6f6t/kYA1wD1Abj+DvyW/Vz91P/+AKb/3QC6/rT+ev5z/SH/3f3U/90BWgB3/978Mf09/8r/EgDC/t3/DQEnAEb/e/7A/yAAjAA+AJb/8f8+APMBMwFdANkAdgBbAV0AEQFCAuz/+P9c/xkAzwI7AV4BhAH2/yEBZwHXAPkBlgCoAO4A9wDCAhgBpwCGAG7/dP8vABcA7AD+AJwAAQF8/xT/x/7x/xgBXAH1AKP/OP8A/5r/LQCv/7r/mwCQAH//g/7F/jYAwABBATcAtwBoAIn/1P5k/rIBNwKsAvMAH/50/+3+VQBFAWgAwgHl/wYA5QD9/qcBfQG+/yYC5gCqACH/h/27/oL/AgHdAHUBAP/l/3T/4/0M/+P9jf9j/wP/OQB3/tb9ef7V/S3/+P1d/Vb+If0s/sz8tft+/Ar9hv4V/rv8E/2i/C/9E/67/B/9uv1H/oz/if5s/fz+ov9v/9X/4v4B/xX/Bv/e/mcAvgCOAfQBiQDcAPP/lQDNAF0BgAHlARECQgESAugBTAJ0AZEBXQLNAswCIANdBPIE/QRSBAcEdwQeBNwDBAQ6BX0G2wVNBi4FyAWfBcIDDgWTBIoEqQUkBYcFYAbEBWYGswXFBRwGBAXSBMMErAVVBbAEqwRdBcsFvQV2BXwEkgQFA9sB+QE2AgQD4wLIAgwCDAL+AacBtAGHADgAfv9RARUBIQGnACoAcABPADsBmv9FAd//aQATAZD/0ABeAP3+Ov6B/SD9PP5e/bX8KPxM+s75oPiM9pH2qvSR83fyZfF48ZLwiO+z7bXs1eui6qrps+sd7JHr8+qo6KTps+m46qfrQuzM7Xruhe/S7zTx9vLw9Fz35fjm+kj6Lvx//iT/Av8GAR4DaAR4B1MGNwjlB24G1AbaBxQJvglxC9ELlAwzDFYLjgqvCtoJ/gjlCP8I5AiTCU0JRAmZCY0IwQdPB+AHkQiXCUEJzghbCEEIWAoPDAoNjQ0SDhANPA1cDmAOwA62DvMPhhHtEVkSJRI0EksRzg8mDzEOUw6fD68P/g7wDdwMwwtICpQIBAd6BkgGQQTDAp0COQJ3Ap0B1ACd/wv9zfpZ+CT4mved9333J/Ys9b7yW/Lb8avynPKq8eXxxPC+8KfvS/Dp8NvxmfJb8rvz+fO484PyNfLi86j1kvZe9zL4evlo+mX5BPlG+Tz6GPvU/Dr9pP7C/Zv9xv5o/pQAnwCYAb4AgP+u//b/UQBcAR8CYQKAA/EA5v8+ACUBPAJlAkwB1gQDB58Hywh9BjYH1QUkBbcEnQTxBKwFigXIBSgGcwTYApX/G/5q/nv9KP0D/T372/r091/1yvIn8Z/wB/A87oHtEu2y7GfsqOor62TqGeps6T/ohui56TTrX+0B7vDu1+5y74nwffI69S/2lPlU+zz9L/82AIICTwNoA2sD0ATJBgQKcQ0sD4ARFw8bDmcNXAxuDUsNPw93D2QPPA1BDOsJ+wnMCucJjQqqCOgIfwfSBsAF/wR1BJwEHgTrA/AEOgoEEfQWbRl6F30XOROlEesQnBNEHH0j6ygeLLYq4iaqIsQdyxkJGpEa4h7GIE4dFR6aGPMXJRSqEI4O6gk8BB7+Ffmk8yH1CvK48sPx9O306wzlNt5C2qrX2tjS2RDaXtxQ3QreYd5O3tLdQN/m3HTeReDR4p3ppO3H8jH2Evi4+Zv6Hfwg/4sAlwL1BdIIkQsQDE8MpQ2JDYUM2gsPCtIJjQd2BUUEyAF7AZ8AfwA3/577G/iJ9VnzX/HN8OvvXPGk8fPwPPJ+8dryUfKz8VnzkfNh9Zr12vbG+bL8dv/KAX8DSASzBMEDdQQwBmYHzwhWCP4HIwgiCf4JMwpuCecH+AZQBcEDjwENAIb+xvyh+h75EPor+oP5kvej9cH0q/Or8kXylPMV9Yj1w/Z99+n4gPml+QD8XP3Y/q3/cgGKAxgFZAY5B/gJxgqbDPUMhg2XDk8NKA6ADUcOvg35DTEOrw1PDBIJSgh1B74HiweeBhMGegWPBMkDnQL1AvgAeQC+/fz9AQEFBsgPARd9Hz0g3R19F24TDxjfHJQkbyjbKjQuQC7SLJ0qEycSJHUgYxwBG8sZCRiQFWcRvQy6B7gDWP+u+kv1z+/s6mHmcuNR4IvfNt4x3QLbeNea1QrSmc5WzXHQodX82hbeTuKI5VbldeUY5Zzobey77uXx6fSo+Bn8Hv+rA24Hfwd1BYAC9f9F/xH/wgE3BH4E1gSGAgwBRP5G+9f5j/bQ9JzyX/Gr8N3wQ/PX8yz16PMq9JLy5e/K8KfvW/IC9A33nfr/+7j//gGDBAkFVgXjBc4GrQgeCJwKiww3Dv8P0g4UEUcQVg42DT0Liwo2CDEGbgVLBRQEHwPnAiMC/QD7/Dj6x/j29rj3XPeI9/P4Mfjb+PP3Ifef+Ij4D/q7+t76Jv3c/hsB4gAAANsBtwRhB68I0QnnCZMIeAeeCDELUgwpDYUOkw8VEBcPRQ+2EJwROQ+9C9cKbAv/Cw8JPwpZDAkOPA+yDWERohEoEPEOBw32C+oISAnxCkURgBOwFKUXThUrFmMSjhAQE14RmxCvDfYKOgruCv8L3Q3qDRcKOQfzACP73vZW8zfzWfMF9Jb02vIL72brQuiy5gjntueq5yfnI+bf5ajkIOSn5ejneuoS7Z/wffLl8Z3vOu8y8r/11Pmz/cT/yQBe/2L+hP80/2f/8v/uAUQE+gSbApkAbv61/Uj9a/y1/F36OPks9ub1c/VW8+DzKfRW9lz14PKJ8tLzVPQP8Urvxu9l8zX1IPVc92n4Sfop+VP5xPmu+b/7nPwy/0v/8v4M/wMB7ARgBv4GqQX1BRgFGARaBHgEcwW+BDUEZwPOApABvgCBAbQBAgKmAKP/8f44/tf9hP4vAU8DBgTeA3kDDQOaAZ4BPQP8BRcKSA3dEVsVXBhnHb0i7SflKFYk+yIhIvck5SgTKzUxPDGdLnsssimhKKckmR3XGToWsxK9EJAPkw1bDKgElwGf/xL7iffb74HtVut75zXmsOcP66TrcukV6T/qgekE5qTj6eIj5lvop+vB7lPx6/Nl9YP3Tvhk9+n1jvb/9wb67vrw/Uz/SP9q/jD8L/xY+5L7zfs9+lv4GPV181PzX/RQ8yTxMvAe72nvqu1R7NTs5etQ7fPsIe0u7+bwQ/N181zz2vLs9Jr0QvaJ9zH4SfwB/acATgL7Aj0E6QMOBRsGZAheCIsHYAYPB+UJsgiZCSkJ+Aj1CNQEogTMA2oDpQN2AbYDMAMSAlIAvf7S/sL8J/xf/Ff9zfvU+eX73vzE/n/9wf7c/xv9jv+m/bgA2QFuAeAEjwLTBA0ItQisCvEGeAceDmkUxBk9HGweSiR6JbUf9iE2IYYlyiFjHEcivSKFJq0k/CVvKNIkUx7/F84TBg5pCBYB5//KAZIA/gC//Sf9Z/ku84jvIOxR6qjk3+Ho3wfk+eT0583svu4d8uzu3e7w7rntsuxf6+jve/Y5/asA3wTICLIIRAa8ASICAgEq/kD8XvwW/83+2v1e/Hr6J/ed8cPtouok6c/nsOcj6Pfnaef35crmqufV5/HnCuhZ6bPpkekn63PuxvHm9Bv4dvrU/Of9sf5fAG4A+QEpBF0G6gnLCesKggv2CqQLOguCCxcLVgnXCMAJSwnwCYUJZAgRCNADcQL4/nf8fvvm+Xj7GfyN/G/7S/sx+Sv74vpt/9EEsQMLBO//ZAEEBKYCigR8CPEQdRhWHHEbEhxIHZQgKCpZKlgvuytQKIsqoSSMJR4gth6RIncfyR5nGSMVVhJSCi0Drv72+Zz6g/lq91H3x/Bq7oXrTeeO5V7gMuAb403jteSq43rm7ukI7dTuMfH88kDzjvSO8xj3G/km/FAAdAK6BdcFXwV/Br4GPAYNAjr+XfxY/Kf8ofyz/cH9mv0q+7z5b/fe9JHxZO5O7rztWe1U7Nfssu6d7zzwLvFU8hbyvvAT8F7wfvHj8k31W/jz+s38o/5mANUBbQK/AhoDlQMmBGAFrwZTB4UIxgl0C08MkQywC58JTwfpBXEFWQT9A0EDiAOxAk8CkgFLAGL/dv6L/sP9JvwW+9f7VPzC/iUAWQQHC0gPwRUQGYgcuxtpFk4TixQoGrghBSicKyktuCnlJGMgNB6zHHoZ/hKwDroKXgiyBvUEJQPYAD39dPq59+PwLOxi5V7kWOTo41vmJujB6pTpR+cn51DpDOt96pTrDezE7mnvsPFz9sz5BvwX/Pj8s/9xAcwANgAAALoANQDX/k3+9P3e+/n5l/gu+Vz5bfiz9tj0J/N+8XDwX+9b7ifte+3S7XDugO5T71PxGPNO9Yz3cvmr+Rv5o/gF+aj64PyuAGsEugflCWALGwwKDKkL/goxC7YLiwzXDYsOSw+AD4kPPA8JDvsMOQu1CKEFSQIgACL+Ov3P/WoAOgWFCboMSw2FDPkL3wsSDoMPAhBZEFsRzBQNF74ZZBvwHTIfTR5fHg0bMRjAEtcNYQxKCq0KoQk6CaUIHwbnApT+OPvd9pHz+u+/7a3rbOmt6RbqoupN6y7r1Oyo7OXrK+u46ifrBOyo7C/uRfDi8cH0sfZA+dL63vt3/ND8rfwL/Fz7iPoV+sn5TPrj+oL7tPvC+5/7wPrB+Z34PPcF9hb1q/SZ9LX0X/Xp9i/4UPkj+tD6vfsO/Gz8yvz//KD9MP5I/x4BKQPwBO0FjQaXBzEIwAjlCPkIuAlLCs4KswrUCp4LeAwzDcQNiA7GDp4OxA0mDZ4M7QteC6IKNgqNCdQIdQgeCNcHOgfxBgwH0gY0BoQFYQUKBY0E2QOwA0AEMQSQBIMEFwWKBSkFTwUQBQ0FsAQUBNIDNwNrAqQB4ABkAMH/9P5g/mH9E/xa+vH4zPfE9uP15vQg9PnyyfHz8DLwPPDu78zvAfDS7yPw4u/071TwqPCU8XPyU/Nc9DH1W/Z992H4bfkj+ub6ffsH/Mr8mf2L/oX/dQApAdkBcgL1AoYD4wMeBBsEJgQqBBYEAAQUBD4EggTOBAoFMAUwBUAFWAV8BZQFmAXgBQMGRQZIBl4GzwYaB6wH5Qf+B/YH0QfXB9IHHghNCLIIvQjzCDMJbAm9CbAJDwomCgEKsAkmCS4J6gh4CN8HWQfiBgAGGgUqBGoDcwJ/AXQAaf91/lL9gvyq+976APo6+bX4G/hD95H2I/bH9WX19PSj9F/0HfQI9A/0+vMd9E30ovQQ9U71vvUe9pn2Afcp93r39Pd9+A35lfk8+uf6i/s1/NT8dP37/Xr+8f5h/6r/u/8GAEsAwwAmAXkBzgETAlECcAKOAt8CPgODA7MD3wMZBDMEaQSbBMYE8wQKBVAFeQWDBXwFeAWZBbwFzwXPBcsF4QXyBRwGTQZ8BoUGggaOBrAGjgaUBq0GzgbSBoYGXgYpBvQFwQVnBTIF1gRfBOoDTAPPAjgCrwEsAZgA8f8j/3H+4P15/f78cPz5+6X7Q/vX+l76DvrJ+aL5fflk+TH59PjS+OL4EvlA+Wn5qvn6+Sz6SfpN+nz6v/oI+037jfvc+zX8g/zb/Cj9av22/er9Pv5l/o7+q/7M/gH/K/9X/4z/xf8GAFIAiAC/ANQABgE3AVgBeAGUAdQBJQJPAmQCfwKaAr8CtgK5AscC2QLSAtACAQM8A24DlgOkA78DxQO9A7wDswOwA8YDyAPhA+UD2gPfA9sDwgOlA2MDGgPPAokCWwIKAqsBdwFCAS0B8wC1AIQATwAZALn/VP/9/p/+Pv7z/cf9pP2I/Xv9dP16/Vv9RP05/Rn9C/3o/Nn84fzm/Pv8BP0Y/U/9Vf1n/WT9bP16/W39dP1t/Wr9jv2v/dX9+/0t/mv+n/7Z/gX/Hf8r/zn/Wv9+/6L/q/+6/8n/5P8AABgAJgBMAHIAiACZAIoAkwCbALQA4wD7AB8BUgF3AZ8BxgHYAfMB/QERAigCJQIYAgMC4QHSAdAB2wHfAewBAwIYAg4C4wGuAYYBYgFCASkBMAFLAU8BSQE1ASAB/wDYAMIAngB1ADwAGADv/7X/kP97/3H/ff93/17/Nf8P/+/+0/68/qz+mv6b/p7+i/5z/l3+Wf5e/k7+Sf5F/kn+S/5I/kf+QP4+/kT+R/5P/lD+Uf5h/of+sP7i/gD/Iv9D/17/dv+P/5X/pP+0/8H/y//P/9v/+/8RACAAKAA8AGgAcwB2AHsAjAChAKAAqAC2AN0A9AAMARYBJQE6AUABOQFIAU4BUwFGATgBQgE3ATQBOAE4AU8BQwE2AS8BKwEzASIBDQELAfsA7wDlAN8AyQC3ALQAugC1AJ4AfwBoAFcATQA6AB8ACwD9//b/5//O/7j/o/+h/6X/nv+M/4j/i/+K/33/cv9x/2n/VP9D/0j/Sf88/z7/Pf9B/zj/OP8+/1H/Vf9X/1j/Xv9j/1j/V/9k/3P/hf+M/6f/rf+n/57/nf+t/67/qP+n/6//sf+3/8X/1v/h////HgAzAD4AJQArACYAKQAmACIAKQAzAD4ATABeAGAAYgBjAHIAcwBkAFoATABUAFUAXABbAFYAVgBdAGQAZQBVAEcAQABBAC8AFAD///X/9v/9/wQADAAQABkAFgAdAB8AEgAIAO7/6f/f/8//y//D/83/2P/o//H/7P/g/9v/2//c/9T/wP+j/4//gP96/37/e/+C/57/tf+4/6j/lf+F/4b/f/96/43/r//X/+j/+v8AAP3/AQACAAAA8v/b/9H/zf/D/8r/1f8AACYAPwBEAD0AKgAQAP7/7f/f/+H/7v8ZACwAMQBFAF0AdgB3AHIAaQBXAEQALwAlABoAGAAWACUAOABDAEkAVABUAFcASAA6ACsAFgAMAAIA/P/8/wUAJgAzADoAPwBRAFwAXABVAEMAQgBDAEIASwA3ADcAPQBDAFAASABAAEMAQAA5ACMAHgAcABsADQAKAAgABAABAPL/7//q/+z/AAAHABoAIgAfABoAAQD1/+b/0P/P/8b/xP++/7f/uP+8/73/uP/B/8j/z//J/7f/sv+u/7b/wP/S/+L/9v/6//j/4P/M/8H/uf+9/7r/uf+7/7r/u/+5/8L/zf/e//T/BwANAAMA8//r/+3//P8AAA4ABgAPABQACAABAPL/9//8/wEA/f/z/+7/6//3/wIAFAAZACEAMABGAEYANgAkACMALgA3ACgAHwAPAA8AGwAoAC8ANwBEAE0AWABUAE8APwAyADAANQA9ADcAMgAzAEkATwBaAE4ASgBDADQALwAgABwAHQAbACQAMAA4AEEAQwBBADgAKgAcAAQA+f/q//b//P8CAA0AGgAvADwAQAA/ADMANAAlAA4A+//v/+//9P/o/+n/7P/1//r/8v/u/+j/5//o/+j/4//Z/93/4f/u//L//f////7/+v/x/+L/1P/I/8T/zP/b/+H/6P/x//X/AgAAAPr/9//x//f/7v/t/+T/3//r//X/AAANABoALgAwAC0AKAAhABUA+//y/+b/3v/Y/9X/3//d/+P/8P8DABYALQA6AEMAOgAwAB4ADAD9/+//5//d/9b/0f/P/9D/1//j//T/AwAQAA0ABwAAAPD/5f/a/9r/1//U/9f/4v/w//7/AAAOABIAGQAUAAsA/f/p/97/zf/M/9H/0f/b/9z/6v/3//z/AgD9/wUAEgASABYAAQD//wIA/f8BAPz/+v/8//j//f/z//L/7v/u//P/9//9/wAAAAAIAAIADAANABEAGQAUAA4ACAACAAMA9f/2//n/+f/9//z//v8BAAIACgAJABAAEAAKAA0AEQAZABgAFgAbABYAFAAKAAUA+v/1//T/9f/2//b/9P/x//L/9//9//3//v////7/BwABAAAAAAABAAMAAAABAP//+/8AAPn/AAAAAAMACwAFAAYABAABAAMA/v8AAPr/+v/6//n//v/9//3//v8AAAkACwAGAAMABAD9//n/9f/y//P/9//y//n/+/8BAAoACwAKAA0ADwARAAoABgADAAAABwACAAcACQAHAAoACwAWABMAFgASABQAFAANAAwACwAHAAkABQAMABAADQALAAcAAwAGAAUABAACAP3/+//7//3//P8AAAEAAgAGAAUABQADAPr/9f/y/+//7f/u//X/7f/x//f/+v/9//3//P8EAAQABAAAAPz/AAD//wEABAAAAAAA/v8CAAMABAABAAIABQAIAAoACgAMAA8ADwAPABAADAANAA8ADQAUABMAHgAgACQAIwAlACMAHQAXABQAEQASAAwADQANAAoACwANABEAFAAXABkAGQAVABcAEgANAAoABQAGAPz//f/6//7//f/+/wQACAAMAA0ABgAFAAUAAwAAAPn/8v/x//T/+f/5//z///8CAAYAAwAHAAkACQAMAAgACgABAPv/7//o/+D/3//c/9//4f/i/+z/8P/0//f///8DAAIABQD7//T/6f/n/93/3f/a/9f/2f/g/+b/6v/x//r/AAAEAAcABAAAAP///P/9//b/7//v//b/9v/5//3/AQAHABIAFAAWABkAFgATAAsABQAAAPz/+v/8/////v8DAAcACwAOABYAGwAeABwAGAAWABAABwAGAAAA/////wAAAwAEAAgABwAMABIAFQAcABoAGAATABMABwAEAP7/+//1/+//8v/x//X/8v/0//z//v8BAAQAAwAAAAAA/v8AAP7/AQD//wAA/f/5//7//////////v8AAPz//v/+//3//P/9//z/BAABAAAAAAD//wEABQAEAAYABwAGAAMAAAD+//n/+//7//v//f/8//7/AQD9/wEAAAAAAAoAAAABAP///f/4//v/+P/4//j/+v/+//f//P/3//v////9/wIA/f/6//r//P/4//3/+f/2//z/+//6//7//f8CAAEAAQAEAAMAAgADAAIAAwAMAAwADAANAA4AFQAZABYAEQATABMADQALAAUAAwAFAAIAAgAGAAMAAAAHAAIACgAFAAMAAQABAAEA/v/7//f/9//5//r/9f/3//v/+v8AAAMABQAGAAQAAAD+//f/9f/u//D/7P/w//f/9v/5//r//v8GAA4AEgAWABUADAALAAUAAgD9//r/9//6//3/AQD//wUACgALABIADgAOABAACgADAAIA+v/2//r/8v/z//f/+//9//7/AQAHAAUACAAEAAUAAgD//wAAAQACAAUAAgAHAAsACAANAAgACwAOABAAFAAUABYAFAAaABoAGQAZABcAEwANAA4ADQALAA4ABwAJAAkACQACAAYABgAFAAcABgAKAAgACwALAAcADAAHAAYAAQD8//n/+v/6//z/AAAAAAIACQAKAA0ACAAJAAcACQAFAP//9P/x//H/8P/x//L/+v/+/wAABwANABIAEAAMAAcAAgD8//P/5f/k/9r/2f/X/9j/5P/t//f/AAAHABEAFAAVABIAEQAIAP3/8//t/+j/3v/c/+H/5P/y//r/CQAWAB8AKAAsACgAJAAfABMACwAAAPn/7f/s//D/8v8AAAgADgAVACAAJQAmACEAGQARAAQA+P/x/+X/3f/h/+L/6//y//z/DQANABcAGQAgABsAEQAOAAAA/P/3/+X/5v/e/+X/5v/s//n/+f/7/wQAAgAEAAUAAwAAAP3/+//z/+v/7P/p//D/8v/5/wEAAAAIAAgABgAJAAAA+v/5//j/8//x/+r/8f/x//b//f8EAAoADAAPABAAEAALAAQAAgD9//f/+P/1/+//+v/2//r/AQAGAAsACgAKAA4ADAARAAsABQAFAAEAAAABAAAAAQADAAAABAAMAAYACwAPAAwADgAJAAYACwAFAAQA/v8EAAcAAAAEAAQAAQAHAAIACAAOAAgABQAEAAAABAAAAP7/AgD9//j/+//5//7/+P/7//b/+f/7//j/9P/0//b/9P/3//j/9P/5//z/9//6//n/+f/7//b/9f/1//f/9P/8//n/+////wUABAACAAUAAQD//wMA/P/6//n/9v/4//7//v8AAAAA/P8KAAYAAAAGAAIABgADAAYACgAFAAAAAAABAP//AAAAAP7/BQAAAAQACAACAAkACwANABAACQAMAAcABAABAAAAAAD9//T/AAAAAP//BwADAAcADwAPABgAEgAPABEACgAGAAoAAAABAAAA/P8EAAQAAQAPAAkAFAAcABIAEQAGAAgACAD///z/+f/1//P/+v/6/wMAAwAMABMAGwAhABgAGQAWAAwADAAEAPn/9//x/+r/8f/u//f/AAAAAAwAEAAYAB8AHgAfABwAFwAPAAkABQD///3/+f/7//r///8BAAQAEQAMABoAFAARABMAEAAHAAQA///8//j/7v/2//T/9v/9/wAACgALABEADwASABUADAAIAAMAAQD+//j/8v/1//X/8//7//j/AQADAAEABwAMAAYABgAEAAEA///7//v/9//3//X/+v/8//v//v/8/wAA//8AAAAABQABAAAA/P////n//f/+//j/9v/6//z//f/2//7/AQD9/wEAAAAEAAYAAQAHAAIAAQAAAAMA/v/6/wAA/f/8/wAA+//+/wAAAwALAAgACgARAAwAEQAOAA0ADQAGAAkABAADAAUAAAACAAAABAAEAAMAAgAHAAQACgAHAAYABQADAAUAAgADAAMAAwAHAAIAAwADAAMABgAFAAgACAADAAAAAAAAAP3//f////3/+v8AAP3/+v/8/wAAAQADAAQAAAD//wIA/v////r//f/+//f/9v/3//f/+//8//3//f/7//n////8//v//f////3/9v/7//3/9P////7///8CAPv/AAD///7/AAD2//3/+//1//r////4////AgACAAMAAAAEAAgAAQADAAUABgD//wAA+v/9//v/+//3//v/AQD+/wEAAwABAAYABAAEAAwADAADAAEAAwACAAEAAAD///7//////wAABAAAAAUABAAEAAgADQAFAAcAAQABAAIA/f/9//n/+v/+//n//v8BAP3//v8DAAEAAwACAAEAAQD+//v/AAD7//z/AAAAAP3///8DAAMA//8FAAgABAAIAAYACAAEAAAABQABAAEABAAAAAAAAQAAAAIAAwADAAcABwAFAA0ABgALAAcACgAKAAgACQAGAAMACgAHAAEACAAHAAYABQADAAgAAQAIAAIABQAGAAMABAAEAAkABwAEAAQABwAEAAUACgABAAkABgAEAAgABQAKAAcAAgAFAAIAAAAEAAAAAQAIAAAAAgAEAAAAAwAFAAMABgAHAAYADAADAAQABwACAAgABQAEAAMA///9//7////+//z//f8AAAAA/v8AAAAABwAAAAUABgAAAP//AQAAAAMA/f8AAP3//P////n//v8BAP//AwACAAMAAgAAAAMAAwD//wgAAQD+//z/AAAAAPn/AAD6//3/AgAAAAMAAQAHAAIAAgAFAAAABAADAP3/AgAEAAAAAwABAAEAAAABAAYA//8EAAMAAgADAAAAAQD/////AQAAAAIA/f8CAAAAAwAGAAMABgAGAAMABgADAAUABgADAAYAAQAEAAAAAAAFAAIAAAACAAQAAAAGAAYAAQAGAAcABgAHAAAABQAEAAEAAwAEAAUA/f8BAAMA/v8EAAMABAAAAAYAAQAGAAQABQAIAAAABQAEAAAAAAAAAAIA//8AAAAABwACAP7/BQABAAMABQABAAQAAQD+/wAAAgD9/wMABAADAAIABAABAAMABwAAAAcABAAAAAUAAAD+/wIAAAAAAAAA/f8AAPv///8AAP7/AwAAAAIAAgD7/wIAAQAAAAAAAAD/////AQD///z/AAD+/wIA/f8AAAQAAAAEAP3/AAAAAP3//f/+/wUA/v/7/wEAAAABAP3//P8HAAAABQABAAAAAwD9/wAABgAAAAAAAAAFAAAAAAADAAUABAAFAAcAAwADAAYABwAFAAMAAQADAAMA//8GAP//AgAEAAQABwAAAAcABQAGAAUAAAAGAAMAAAAEAP////8HAP3/AAADAAUAAQAAAAYABgAGAAYABAAEAAEACAAAAAQAAwAEAAAAAQADAAIAAwADAAIAAwAGAAIABQACAP//BwADAAYABwAAAAMAAwAGAAMAAQAGAAUABAAFAAUAAAAHAAUAAAACAAoAAQABAAIABQABAAUACAABAAIABQAGAAUA+/8HAAcAAAAAAAUAAAABAAgAAQAEAAAA//8CAAAABgACAAMAAQAAAAIAAAD//wAAAgABAAAA/v8AAAEA///+/wAAAgACAPz//f8EAPz/AAD+/wAAAQD///7//f////7//P8DAP3//P8BAAAA/f8BAAEAAQD+//7/BAD9//3/AAAAAAEA/f///wAAAgD8//3/AAAEAP3///8CAAAA/v/+/wUA/f/9/wQA/v8AAP7//v8CAAMAAAAAAAEAAQAAAAMAAAACAAAA/f///wYA/v8FAAAA/f8EAP7/BwAJAP//BwAEAP7/CAAHAAMABwABAAYABwABAAcABAAEAAQAAgADAAYABQAFAAEABQADAAAACQACAAYAAwAAAAEABQABAAAAAAAFAAAAAwAAAAAAAAAEAAEAAAAFAAEA/P8DAAIA/f8CAAAAAQAAAAEAAwD7/wUAAwD//wIAAQABAAIA/v8AAAAA//8DAP//AAD//wEABwD9/wAAAAD+//7/AwAAAAAAAAAAAAEAAAD6/wEABAD/////BgAAAPz/AAAGAP7/BAABAP7/AQABAAAAAAD7/wUABQD4/wMAAwAAAP7/AgABAAEABgAAAAIAAQACAAAAAAAAAAUAAAD+/wMAAAD//wIAAQABAAIAAwD9/wQABAAEAAAA/v8GAAYA+/8CAAAABAACAPz/BQADAPn/BAAAAAAAAwAAAAoA///+/wcAAAAAAAoACQD1/wEABgACAAAAAAAHAAQAAQAJAP////8EAAMAAQAFAAEABQD+/wAABQAEAAAA/v8JAAAA//8LAAAAAAAEAAcAAQACAAMABQAFAAAABgAIAAAABAAMAPr/BAAPAPv/AAAGAAUA/v8CAAQAAgABAAAABQABAAEAAwD//wkA+v8FAAQAAwABAAEABAABAAEACQABAAEABgADAP//CQAHAAAACgD+//3/AwAEAAYA/v8KAP7///8BAAsA/f8BAAQA+v8QAAkA8v8BAAwAAAAAAAUACQADAAEAAgACAAUA//8DAAMAAAD7/wsAAAD9/wYA///9/wYA+/8BAAAA+/8AAP7/BQABAPn/+f8DAAIA+////wAAAgD6/wcAAgD3//3/BAAGAPf/+f8LAPr/+f8BAAMA///3/wEABQD4/wAAAQD7/wgA/f/3/wcA/P8AAPn/AgAAAPP/BAAFAPT/+f8JAPz/+v8EAP//AgD+/wAAAgD//wIAAAABAAUA+v8CAAYA//8AAAkABAAAAAIAAwD//wIABQD9//z/BgD///7/AwAAAAIA/v8BAAsA/v8AAAMACgABAPv/BQACAP7//f8AAAMABAD4/wAACQD1/wsACgDz////DQD+/wAABAAAAAAABgABAP//AgAMAPT/AAAGAPr/BgD8/wAAAgD7/wEAAAD+/wQA+//4/wUA/f8AAAAA//8AAP3///8EAP//AAACAP7/AwD///j/AAABAAAA9v8BAAUA9f/8/wYA+v8AAP//BAAAAPX/BAAHAPH//v8BAP7/AQD6//v/BgD///P//v8FAP3/AAAGAAAA/v8FAPv/AAAGAAAA/////////v/5/wMAAwD7//z/AAD8/wAA/P8CAAMA+P/9////AwD8//z/AAD+//v//P8AAPz/AgD9/wAAAAAAAP7/AAAAAAMAAAAAAAIA///9/wEA/v8AAAAAAAACAP7///8DAAAA/f8DAAAABAAAAAIABAD7/wkABQABAAMABAD8/wYAAAACAAYAAgAEAP//AgAHAPr/AwAIAAEABAABAAQAAgD//wYA/////wkABwD+/wAA/v8LAAEABAAFAPr/AwAKAP//AwAHAAAABAACAAMABgAEAP7/BgAFAAUABQD9/wYAAQAEAAEA/v8FAAAA//8DAAAACwD9/wcABgAAAPz/AwAHAP//AAACAAcA/P8AAAQAAwAEAAAABwADAAEAAAABAAUA/f/9/wQABwAGAPz/AAAAAAIAAAAAAAEAAAACAAIA//8AAAQAAQAAAAAA/////wIAAwD9//7/AwAEAPr/AAAAAAQA/v/9/wYAAAD+/////v8BAP3/AQAEAPv//f8DAPj/BAAEAP//AgD///3//f8CAAMAAAACAAEA///5/wUAAAD///7/CAACAPX/AwABAAAAAwABAAAABQADAPb/BwAFAAAAAAAGAAUA//8BAAUAAgADAAIAAwAFAP//AAADAP3/BQD9/wQABgADAAQA/P8GAAwABAACAAQABwD//wQACAD9////DQABAPH/AgADAAAA///7/wcA/v/8/wEAAQD+////AwABAAAA/v/+/wYA9f8FAAAA9/8KAPv//P/7/wMA///6/wYAAAAAAPr/AgAAAAAA/P8DAAIA+P8CAAMA9v/8/wQABAAAAPn/AQD///v/AAACAPv/AgD9//n//P/8/wcA+P8BAAQAAAD//wAAAwAFAP////8HAP//+P8FAAAA/P/7/wIA///w/wMAAAD5/wAA/f8BAP///P/+/wMA///+////AAD7/wEA///8//v/AQD+//X/CAD8/wEA///8/wYABQD7/wIAAAD7/wcA/P/7/wEABwD5//r/+P8BAPv//v/5//3/BgD5//f/AgADAPv//v8GAAMAAAAAAAIAAAAAAAAA/v8EAP///v8AAP3/AgD9/wAAAwD+//r/AAAAAPv///8EAAAA+/8AAAUA+////wIAAgAAAAEAAAD8/wIAAAD+/wYACAACAPj/BAAEAAIAAAAFAAAAAAABAPv//v8CAPz/+/8BAP7/+/8EAAAA9f8DAAcAAgD9/wMADQACAAIADAAIAAAABAAAAAsAAAABAAgA//8EAAEAAQAHAAcAAgD6/wQABwAAAAAAAgD//wQAAQD5/wQAAAD6/wYAAgD8////AAABAAIAAQAEAAAADQADAAUABgAFAAEAAAACAAcAAwAEAAMA+P8BAAAAAAABAPf/BAABAPn///8FAAQAAAD8/wcABwD//wIABwAEAAAABAAFAAkAAQAAAAgA+v8GAAMAAgABAAEAAAAFAPz/AwAHAAYAAQD8/w0A/v/5/wUABQACAP3/AAD///////8EAAYAAAACAAUAAAACAAMACAABAAQABQAHAAMAAAAAAAgAAwAGAAYAAwAAAAYABQAGAAMABgALAAAAAAAEAP//AAAAAAIAAAD7/wIA+v/5/wIABQABAP3//v/8//r///8KAP7/AwAFAAkABQD8/wYADQD//wUACgAAAAUABAD7/wAAAAD+/wQA/v///wAA/v8AAAIAAgD8/wIA+P/9/////P/5//f/AAD///P/+/8AAP3/+/8CAAYA/P8CAAkABQAFAAAACwAIAAIA9/8CAP3//v/+/wEABAADAAAA+v8DAAQAAgABAAAAAwADAPv/+P8CAAAA+P8AAP//9f8AAPn/+v/8////AgD5/wAAAgD6/wEA/v8AAAMAAwDz//7//f/1//r/+f/7//j/+v/5//f//P/5//v/BAD9//z/+v8BAAYA9//8/wUAAAAAAAcA/f8AAAAABgADAAEACAAJAP3/+/8AAAIAAADy//3/+f/z//v/7//2//v/+//9/wEAAAAFAAgADwAQAAkADQAUAAoACwAKABEACAD9//3/9f8BAAUA/v8DAAIAAwD+/w4AFwAUAB4AJAAnACMAGQAeABoAJwAiABcAGgATABUAAgAAABEABgADAAYA/f/q/+r/8f/+/+b/6v8HAO7/3P/2/wUA8v/g/wAAEgDu/+L/CwAAAPD/BQAAAAsADAAJABQADAAMABIAIAD9//v/EgATAPD/zv/X/+H/0f+p/6n/xf/H/8D/o//E/8X/qv/Y/wAA8v/W/xEAUQAxAP7/AwBJAIEATgD0/yUAlwB4APT/KQCmAHQANwBGAEoAJgD9/+j/tP9j/1j/Mv/E/of+gf6M/m3+sf4F/zf/dP8IALMAAwHZAbQCmwLYAjsD9wJ4Ar8BYwFRAT0A5/5L/v79mv0M/ar8Gv2r/QP+WP6P/pD/+gCQAZkB9QFwAtICjAJ+AWsBGgF6ACYAxf7R/b799v1S/s79ff1N/7YA9f98AIgBMwO6BOQDUgO+AycEmgNsAdP/qwDIAHT+hPx9++r7Rvyq+hb6B/xR/R39Sf1C/tX/xQDwACICCwPEAhQDKQPIApwCWgF/AQcCmADo//3/+/8tAJT/Of8qACkAuf8BAOH/MwC+/7n+Qf8c/xv+Nv6E/lL+Uv4W/lf+g/+j/8X/YAA2ASQC7QGkAaECHwPnAvMCXQLaAf8BYwFeAJz/Zf9S/3D+Qv3z/CH96fxq/C38iPxf/av93f2P/hr/cf81ANIAHAG0ARgCNAKYAlkC3QGGAtAC8QF9AYwBbwH/AFYA6P/y/7v/KP/T/rj+Yf4v/i/+/f3//Tr+l/4k/0n/+//lAOEAbQGHAmQCogKaA5sDLwOUAhACDwJLATwAGADL/4P/D/+T/eD9vv7O/b79yf7l/74A4f/W/4wBkAH0AHYBKAKqAnYBN//w/oz/+/2L/Hj96P1I/Rv9Q/0v/iv/bf+2ADMCfAISA+cCcALfAroBTwCsABoA5/7b/bv8QvwS/Hr7WPsH/Fv8EP3B/eD9I/+EALoAvgFPA0sDXQNnA9ICPAP8AnQB+wCsAAEAwP8y/3n/iwApABgA7gA3AbABAgL2ARICggHcAJQA6f8H/5r+P/4c/rv9EP1g/ar9tf0k/rv+Y/+3/zcApQD6AD0ByQHxAaIBvAGDAUsB9QBoABoABAAaAPP/RAAXAc8B3AGtAUsC5ALRAg0DHwO/AvIBbADt/jz+XP3o/Dj9gfzs++f7Yvub+0r8U/1Y/8MAXwFIAgUC8QBDAe0B9gF5AWcA/P+n/nr7kflc+mv7mfvQ+vr50/pT+436+Ppr/MD9FP68/cn9HP7c/X/9qf0Z/i3+y/1m/Wj9UP05/YP9qv0B/nz+Vv4v/ob+Ef9I/1z/w//D/xT/sv6a/mP+Ff4Y/Qv8dvtv+nr51PgB+d/5//nk+c/6afxE/gYA5wGUBAMHMQg9CTEKUwqfCVIJ3Ak6CqoIaQZxBbMEPgPtAVQBfgEAATcA3wCoAYMBywEbA3QEGQT7ApgEZwffB9kG1wYlCaIKwAmLCXUKmQueCxoK/wlYC74L7goHCj8LvQ54EBsQYBAzEQwSQhF8DgwO6g2wCk8GSAET/Mb3KfIb7WTqlOeI5TnkOuNe5Pzmq+pi7//zwvhI/i0D/wbLCUIMDw7gDfgM4AvxCZEGhQGq/av7yfgI9qP0SvOA8kPxuPB98vHz5fQq9374qPi1+E74BPnS+Y749/cs+Cz3RvaE9Un2dfiG+Gf49vpq/nUBAARyBbsGagcGB0UI3AlBCWoHwgT/AiYBn/0e+/75Ifjg9kP2x/TY88zz5vQg92r4GfpQ/Hz9c/7g/uv+GgDdAO4A1wAqAGb/qP5U/rf+tf5N/5gAQAGcAb4BFAIIAxkDTALXAZMBZgDQ/Zb6X/m1+Yz46fYF9mn2hveS+Db6YPw3/nb/UQLNBWYIPAo3C3gMuA1QDp4OBg71DDcMVQsVCiYJoQgxCR4K+wqFClUIeAaMBYUGRQfgBlgGXQWGBQoHWwkjDPUOkRKOGNcd4B9nIaoikCNKJO0jgiSQI54eFRgBEfAKWAYnAaT7qva88WLtPOqX523mmea853LpPet77Tfv9O+Z8EvytfQZ9zj4Z/dR9s32vPjZ+X36t/uz/GT9Qv6g/nr+wP2o/eD+pv7v+1T4QvWU81HyTvBO7lDt3+uP6s3qUeyP7t7vLvHY8/T0gPVs+Kf7Av0E/Ub9zf9EAv4CEARWBeoFCgU+A/AC4wMSBGcCswCe//n9tfxl+wr7p/zJ/cP9zfyZ/JD+KwD1/zP/4v4VAZQCAAGAAPcCDQX0A2AB8QGRBL4FPwZkBikGkgWsBIwEigR9A8QAKP6L/OP61PiX9jT1oPRZ89vxTvKU9CD3qPkA+6n8qv+/AMoA2gGUA90EZAQLA74BFQEJAUkABf4n/BL8VPwd/Yb+Tf4C/oT/9QEFBGoEfwRoBc8FWAbxBjcGzwTnAi0BRQGUAUsBKwHdAGABKQOSBO4FwQaTCSMPchLJEuoRtREMEh0R+Q/7EB0TzxIzE5EU/hQYFpcYdRyzIFwkdCkKLQcrAiZcJFEnmijgI7sb+RMrCZ38ufR38LzpuN4X1kDTU9Pm0M7M0s2t1evdEuWA7mT5rQCvAh4FRAzrEj8VSxU2E0gP3QgYAcf6PPX678PrLOgy5Dngdd3m3CPe3N+f4hbmj+hF6tfqBOzx7Q/v6O868QjzBfWZ9af0SvVJ+IT80AClA00G/AgSC6IN1w/MEHUQMQ6LDKoL2QcyAmH9Lvrv9yf1q/KD8Fnttep+6zTv1PLp9G/2sPbY9xj8iwLPCJsMXg8zE3sWnBe+F/MXIxmLGkcapRlIF4ATsBBKDoAKsARbALwArAEN/tv38fFR7q3tc+7l753vCu6/7Vvute6572HyvvY1/OEBAgaCCDkLNg88E14VSBXxFCAVahWsEykPYAr+BY8C0wCx/7b9X/oe9q7z8fRf9qP1Q/Mb8QLxp/HG8XDyevI18gH0KffI+uf/iAWXDLYUXxqGHfkfXyL7IrMg4h5NHrsbpRWGD8MMqgkwBiwF6wRpBywJGwobEJEWYBg2Fx0VPRbSGBUYThd1Fq0SCg98CjQFVQBf+U714vWt9OjxDe5Q62nryekI51TodesK7kvuYezX7Ojt0u3l7Xvtc+5Z8TX0w/XQ9rn39Pfw9bn1FPoA/g/+l/pR9ubz7PCI7ePqI+jf5crixN7P28HY49Yb1yvZJN2U4czlP+pt7obyJ/eD/B4DNwqbEJ4UmRUoFu4W1xfSGG8YzBYuEhoL7gXeAQT9zfil9czzYfL87prtjO6M7ozuU++28VD28fg1+0j99P3yABYGwwrIDQcRiBaQG2Yeux/qIWYmRSspLUcqEijwJXQhLhrLEVgMywjJAnT6TfMF7ZboReR64onkUOUv4uDgX+Of6lTyc/WD9zr7t/93BNIG6gc5C+IMgw1VDX8L6gmzB3wFcQZgCJAJfAoNDCkP0g5KC4YLog1qDysOrQeJAMv7dffm8mzvGe6F74/uG+vY6YPsx/L39xn60gFxC8ASdRTMElAW1xmGGYwZchoPGroWWw9hCXgEwAAVAmYExAPwAUYAAgCtACT/mwL+B7sJMQjIBDAFyQk0CzYJ/Af1B84JSAroC9UO3xCeEFsPVQ2zDPEKrwdLBhoELQDu+LnxZ+yF58/jvuLH4MPfzuBN45Tl9ubR5sHqye1i8/33Wfj09//zv+/u7dfq6+mu6onqVutL6MDlfudi6aTrj+7d8Nr3M/zu/QH//vyP+1f+PgQ2CUIN4gsVCjYGjQfUChAKKwkBCHgGZQSw/9T5Afbe8VTuGOvV5zTnYuXE4nvhMuDr5XruHviP/pYA3QS1DXEVIBvVHpAfISK1IxAlbCKUGOcPUA5kDZYLKQlYCbgNUxBVDbUN2hHRFZ8Zkxk8FzkR4AYO/j35ifIN7GLlJuCz3bPZrdnw2rjeeuY07SH0jP3IBhoPiBL2EVgTsBaZGZYbKRlWFBUQlAiHA9791/dA9CHxjO7D7Wfs2uwL73PwlPQS9yP6RvtB+rD5iftm/LP9Y/3X/jwBQP9+/g3/FgSICoIQrBNCF/gURBatGCAbnh4HH5kdOhqqFGcMvgVMAS8CHP3K+Pf23fN38nXxMvKB9Bn33vej/HgGsAxjDtwMRxLSGB0h1SZALsczeDKRLjoqCCrwJc8i4x3HGxIWNw5hAw/74vFv6criUN1Q2ZnSRcx0xrjCF8Ilxc/HVs100oPYI97r4RDii+PJ40Lo6ers7I/uyvAv8rzz6/WC+yoDCQhmDt0R9hVqFysWkxOAERQP6g0JCeYDof5X+K7zZ/AH7rvuWPDH8KLyRfRW+HT6jvsL/Ib8+/kH+dT1VPaa9rv0vvIE8t3y/fak/MkB6wjtDcwWPRyXHsAcJRzlHJce1x0JGqUVOQ/rCK8ClP5s/If9l/+KA+cDmAKWAT4BuwMaBU0GNQVaAkL9Yvjp8pnud+zR6p3rHeop6FbliOX85ujpnOzD72n0avgX/CP9SP6Z/o/+6v27/k/71PnH92z2LvdN95L3qveX+Kv3LfoA/awE2gikDPsOyA/RD+UOIw9gDtoNWwvXCmAHBQOw/an6bfrE+qT8uP+AA2QGyQgmC8AOARGtEnETfxIMEjoQEA3rCsYJrwjtBcUBrwA7BesKRxLSGIggkSbaK+YvZzmaRJJNolMZU+ZPwUf6PvkzICvVIuUcnBOkCaz9IfGg5xLhjN6h3fPcVtmD1KzOk8pPxizEsMOfwnXBU7/rvZm+t79hwhDGjsmszibUs9kM4U7oGO/o86v41f0vBIsJUxB6FZkZgxvzG/MbEhwFHH0bfxqnGEAWZxFIDWcJSgafAxcBsf1Z+uX1HfIs7nPquemr6mfqJOmy5lDljOIx4XTifeST5rXoZ+ph7AXvZPAq9CP5gAA6B7sLJg/XEY4U+BaXGDIbVR1YH0QgeyCDH1sdvRpmGLIVKxT2ESsOJgpjBVICaf1w+S/22vPd8ubwg/AV74DubO197E7u7O4/8ATyn/JN88TyFfOG9Ij07vWL+Cf6pftI/VH/awH8Al8FbwciCSYK8ApsC5ELKwsMC4ALsgp4CfMH2QZPBTwEoQJHASMANP9F/3IAYAGiAL4AMgH1Af0CjQRuBqQH/gcECM8ICQmfCdcHVQfxB/4HzglEDkEUSBn/G7IdKyA2IckiuCUKKacsei1cLLIpxCVNIncfuRxeG6wZExf5FTYRZA2RCucGiAWdA5UBhv+Z+r705e+z6YnkQt7t2LnVidChzRvLyMhHx3TG48ZLyA/Lrc0z0L7Sr9T21l7YdNrt3LLeUeBn4tjlk+ju6zHvIfNQ9nz6SP6ZAg8HzAqZDfUORBCkECgSvRLVEkIT1RLqEbMQrw82D38OGA4lDn8ORw5IDHQK3AjIB7cFHgP6AEv/rP2X+9T54PmZ+YD4qve59yn44Pj3+f36XP3H/jAA/QBzAmEDNASXBZsHzwgQCk0KKAnUCOAIqQoEDLgNiw62DogOKA4rDiYPxA+IEGwQ0Q/rDj0Ouw0/DZ4MEgw6C4gJqgfFBYMESAMRA4wCfAJHAej/9/3U+wn7gPpf+ob6b/r4+df5VPnz+LH4J/lC+sf6i/p6+oD5Cvmq+LX42PkP+l75q/hl+JH4Bfmc+C75xPjG+Lb5APqN++X8Vf/wAFICOgQwBngHdwdCB+AFagSJAlMAk//R/jv/Ev9h/sz+a//Y/1UAmQGTAksDkwIOAXD+dvsh+Uv2u/RQ8yDy7PBW77ntK+1i7TjuN+8n77nv8+7J7fns9+sj7BPss+sr64bqFurm6v7riO2w71Hy8/Sf9sz3lPmz+nD8nf6UAJYBFwLRAnADYwVjB70JpwvEDTQQBhKFFIkXhhm2GlIb2hsrHCYb4xkKGVsXiRXXExgSZhCDDYMKcgglBwkGSgXAA+wCtgAi/2r9vfvd+m354vj59iz1pfJ98O7tyuyA7HXtTe/m8MTyzfJt9O71GPh9+pj+EALUBIgHxAnXCmELvQwMDhgQVhLaFXIYZhpvHO4ePCGoIzQmIyk6KhYpxihqJ8MmCiW9Iv4gpB4YHNkYpRVCE1IRkA82DfkKKAhaBQQCiP7J/Ef6Qvjd9MPxze7+64Do8eWu5J3jheMj4o7hSuFR4BPgP+Bw4B3i/uFt4srik+JH49jlI+Yd6Azpd+qO6wrsRe4V73Lx5vL29Dr1E/ZU9RP2P/Yp9gv3wfbz9j33tvdc+AH5wfiV+j76F/vG+x/8hPzx/L/8Nf3N/Jf8ZPy5+/D7c/xz/Ub9jf2K/Fz9KP3H/rL/9f/GAJsAywCwAIwACwHbAS4CGAR9BAoFSAW7BYYG8QcaCcYKrAsPC10L7QrLCqQL1guODBAMPQtnC5MKoQoECykMzAwQDWwM+Av4ChcKTQowCv8JDwk5B/oF/ATDA4QDnwNnBPkD1gMFA40COwIqAhcDRQNQA+MCvAI+AqMB4AG+AngDrANPA4oD5AONA4gD1wNuBJEEcgXSBe0GqgeqBxAJzwklC+MLPQyXDGwM4gyQDcgNsg3iDCMMCQzGC/YLGAzfC0ULXQpNCV0IKQdrBsEFdgS7AjwBVP+A/ej7LPok+Zf39PVZ81DxJvCf7oDuHe5l7drsX+tY6uXpsujm6Kjoeuhe6ELoP+gs6BPoi+ew59XnPOhq6N3oB+on6+zs8O6G8IzyNPSu9Xv3bfhy+Wj62vrh+j/76vth/L788f0h//j/NAFgAj4DaQSEBQ0HOggzCPkH/gYpBlQF3wRwBVIG7gaZBj4GswWZBV4FUgUwBvoFQwUlBFoDPALhABIAwv4F/jr+/P2S/cz9Hv4h/47/BwCGAFAAWf+h/nT+KP6l/mD+Sf4M/iL+Zv9dAGACgQS+BtEI3wqtDHgOYQ8ED1IP/A+6EB4QDQ9xD+4OYBBIEXQRnxMuFHoXUhuLHnAjGid6KcMqbCq+KcopxijOJ2clDSMHH/sa/Bf7FCATzhFSEXIO6AyOCsgH5wWfAZv+svtc9+zyue3u52fiwN252WHWDdTq0p/SF9Lo0/PUVdav2KfZl9v726/cUN033WHevN/f4UXkbeaw6bvs9O8W9Hv3VPtf/hcBOAPgBOoFzAbZByYJyQkECX8IRweCBh4G4AZ4B30HiwfXBikHKwapBW0EmwK7AZb/V/0S+zr55fe29tX1c/WL9Q312vQn9bH1ava19tv2AfeZ9zj4LvmS+Yj59flQ+cz6S/ts/GH9o/wv/pv+9P4BANAACALyApcE0gYYB6kGUwZ9BjEGIga6BzAIMQgHB4QFYQRVA+oCPgM/A9ID/gOzAwYDkgFKAQ4B6QH3AtMDSwThA1QDdQKkASQChwJHA70E+AUGB7AG3waKBs8GHQjcCSAN3Q9kEaoSthL+EnsUwRdYG2wenyGcI00miScPKlQtZC9UMVYw7S80LrYqtSdQJOsg1x2QGz8XsxQQEYIMXQiRAmD/XvsH+GT0L/Dm6v/kyd+o2CzUGNHEzjrPlM3VyyjLZMjXxvXHZMgoywTO6M9h0rjSX9Ml1WzXQNsP3xXjYeYb6TTr3e7g8k33Df2gAT4GvglKDPUO+xDAEvMTfxQPFPMRNxB9DzQO5w1vDn0NtgwaDBQLmQrZCD8IhQeYBX4DaABH/fn5wfZv82fwEO6I69Xpl+km6lTqvuqk6zns2O2O7yHxkfP09SP4v/mV+339p/6HAG4EfAjfCxQPEhJcFAkWRxikGsEb1BsyGzwZkBfRFWQVoRSREpMRpxA2D8wLoQlYCEUGfAWzBeYFZwVIBM4CVQEAANj+xP1M/Cv6ifdk9AfyCPNt9oL9ZgVeDe0V1BtnIYMnWS7+NCE6PD2SPXU8EDmfNTIzoDA6Lgws1SoCKh0pDCiZJcEjoSDmG1MWVQ9LB5T9i/Of6vvfVtV7zWfGN8G+vjG9fL10vte+DcASwbPBbsI8wvHBRMGFvzq/Lr8mwO7DP8hhzgzV3dpI4kjqpPGw+bgAPwbMCjkNCg8CENIQ6xL5E44UkRQuFJcUexRNFBIWqhZpFkgVPxFeDWMJ5gTO/5X6G/fD8zXwqOyU6arndecj6P7ptuuZ7MztOO5L7pzure+78KjwiPFe8g/zpPNp9Cf2FfkM/UoBswXoCPMLMw8eEiAVZhg/G1UdQh0pHZocPB2ZHR0daRxeG4UaXBgdFzcUvhPXE7UTMRR9E8YSDxBLDdILIAsiCpMH/wP5AB//sf10/TH9IvyR+Tf2gPcY/HsE0gszDywTvRZsGvEcdx/rJCYrgC0WLbgt2CyTLcAs8yvPLsYwNzSGNXAz3zACLtsqqiZKIHIa7RMHC8ECKf2794vx+umP5Hvh0t2+2n7X9NN90F7My8bqwgHANr7GvVm7I7rAucy50bpFvFO/2sTxyVnPr9Qk2TbeD+Nq6MTuW/S++Mz74v2P/8IAnAJiBSYIGAphCzEMyQzgDZAN3Q3jDcQN+AxKCrsH1wVuAxAAPf1h+wj6kfdl9CbyTvCU77vuSu3m7FHsLus86lPp9Oly6zXsde2574byhvVh91P6RP2TAGYDtwXnCQkMfQ1IDx0RLxPjE5QUpxQlFLgTexRkFaUV1xVLFR4WkxWJFagVkxN0E0oS1BFOEYsO0gywCd0GMAazBWEGogdCB5MGGAavBJQE7QISAZ0AqfwC+/D6S/1hA8kJ4BEBG/YhzyaULFgz5TyBRClJiUshShhICkXSQFQ9CDq8Nqc0PDE6LuIq0SVKIFka7hRSEWQMWAVM/9T4vvDK5lDdzNUpzsbFT74Xuui3urW9s/KxuLJetDq3lrhQubC7T763v+i/p8EQxobK682a0bjW89xm49jpjvH/91z9ogHxBGMILAtqDY4OBA8MEKEQjhCcD+0P+Q/gD0IPZA1VDDoK6gjdB0gGPARUAbn+r/tR+F71KvQB8qTvEu/07cztoO177TXubO337UrvRvF+8z31o/aZ9+X4c/qg+/r7NP0J/wb/Z/+RAGwC5AOtBF4GJQjnCiIOEBFKElUT4xOZE9ERwQ+QD54Ovg1YC2MKdwmyBz8HbwZsCI0Jagu1DfEOThFFEUUR4w8gDxIODQwbCv4G8AQKAoz/Z/0E/i4AfQRBDC4U+ByDI9QnNS2+Md01vjkNO448NzxvOHo18DGWL6QuGCxOLR4wqjKuMxUy7i4VKpQkPx8BG+MV8A/PByf95fHV52bfw9fq0krNm8mtxQbBM8Auv6G9pLuOuf65k7owum664Lh0to22hbefume+FMREybrNttOy2jfhCOdy7Tj0oPlg/okD3AfoCc8LwQ26ECwT/xMmFXoVMxWtFEoU8BNLE3sSGhFFD8wM+AorCSYG5QMZAez92Prj9oD0+vGt74Htueul6iPqi+kp6jTrB+z27Mztde+S8FzxP/L28hvzqvOR9Gz2dvnw+5X/cALPBKIH1gmnDM8OHREPFPMVpxZjFrIVMRTPEjQSmxIKE1YSJhHLD+gOlw5jDgkObA5SDyMPyA22C9QJzgjWB+UGEgYsBSwEmwLBAAv+0fv9+WT6vf0WA74I+AxyEOcTUxjLHaEkGCxTMos2MTjaN6g38zfJNiM1BTRfMoYxTi1bKSYndSRwI9Qf4x1VHSYbDBi1E6gPKQrRARz4Yu8h53jftdgd0vPMOsc8wni/57wgvHK79rriuyC857yQvBS8LLwgvDa++cDuw3XJIc/m1CjbL+Jv6UXwWfYm/ZoDYAg2DZ8RchRAFpkXChmAGR0ZIxlmGE4XFxcTF98WrxVmFBsUsBKUEN8O7Qv2BzADYv52+fnzC+8M6x3mUOFt3lDdztyv3ILdnd+O4cnj1+YE6qLsSu+w8e7z0PVI98L4zPmc+uL7MP7NAE0EaQgaDW4R4hQ3GHEbUx6zIH4iXyJOIVEf6xysGaoW4BP/EdEPJg3ACx0L4Ar1CboIMAd6BXYDcwIMAd//Sf7V/PP7vvyf/5gEhgorEKcWqBthITInKS0ZM/M3JjuzPIE8GTt4OhU6NTkkOAc3BzerNcczATMjMX4uiyoJJmch1RpxE5kLWwK1+F/vmuU93WnV9s6OyUHDpb7Ruvy2VrVStOKzerJksJaw1LArsXqyg7Sqt9265L5Nw9zHd8yC0d3WltyF43Lr8/KZ+XwA2QdNDisUkxkPHm0h2iP2JXAn+yY2JTIjrSCGHZAbkRqGGXcXPRTZECkNUwnBBb8BR/7w+tX2evLu7TLqvua+4rDfrd1e3Anbrdkx2cbZYdrq2ubceN9C4j3l7ufJ65fvWfOx9wj8JADdA5cGmQnDDDMPxBG2FPkXwxorHHodvR4sH1Efah/HH+0fah/0Hi8dchr/Fy8VOhLDDvwKaQh7BS0CXwDP/n/9xvxV/P/8g/0T/uP/MQH4AR8DJAOQA3AD3gIhBJIF/wahCbMLYQ/0Ep8VfxpqH2cl+SsvMas19zjbOr889j2wPiA/dTzrOJI1iDAkLBIoryMmH2AYthISDvkI1QTyANL7uPZi8WLrmeYk4drcDNly07jOs8n/xLPBFb+Ivee8UrzBvEq9rb14v27CusV1yZTNmdLJ1yzc5uBi5QfqK+899KX5g/4dA08HbgqzDP4OlhE2E9cTexTJFD8VnhT/E40TKxL7EF4PEA3SCv4IGweZBJIBCP9m/FP5nfZz9IDy/u9y7YjrKeqy6PHngeeF5wrorujA6U3rG+1A703xOvOI9UP3rfgu+qH7b/1w/5cBBASzBjoJcQvuDFkOpQ+tEH0RWRJbE74TGhPnEa0QNg/5DR0NAwzzCj8KugnXCMkHSgcjBxIHeAcNCJkIjgjAB8YGzQVMBC8DagK4AWYBDAFOAd4BYAJkA7cEvgb2CHoLog0/D7YQDxJLEygUThWUFjwXQhd0F/AXbxieGNkYZxnjGX8aQBrRGQoZQBhFFx4WuhTlEogQpQ0YC8QIFQddBcYDGwLw/8n9pvuz+dT35vXx87zx+e4j7JfpMece5YXjKeIS4SzgsN8P37LexN4C33LfDeAY4SPi4+Li49rkueW+5jno2+mk6zftu+418H7x//J69Ov1fve++P/5Ivv8+/v84f2M/gH/jP8cAGsArwDsADIBJAEqAUUBZAGCAbcBwwGkAYIBVAEXAe0A7ADxAN4A3QDSAIoAGADH/6X/WP8i/w7/0/6q/m7+Rv5Q/o7+5f4U/yz/TP9v/5n/7/89AJEAvACmAJoAdQCtAMAAFAFyAQ8C4AKwA7YEugX1Bt8HzAi1CYYKWQu9CzMMWwxTDGwMXgxhDEIMNwxVDHwMugzuDCMNPw0/DUsNfQ2fDcgN6g35DbINQg2tDFIM6AuhC1ULyQo5CncJwQhuCDcILAhWCFMIPQgNCN0H8wcDCAQILAg6CC4I/AfLB8kHjgeUB3oHNwfUBlgGwQUbBW4EzwMjAy4CRwFIADb/OP40/WD8bvuF+pL5ffhD9zL2OPUp9Pzy6PHm8Njv3e7r7SHtc+zJ6w/rk+o16ujpsOmU6bPp8ek16o/qCOuF6ynszeyB7SPu0e6F71TwIfHl8a7ylPNc9D/1PfY49yb4BPm++ab6gftQ/Dr9//3L/nL/HADkAJYBUwLkAkUDhgPMA/0DQgRSBEMESgQcBA4ECgQGBBQELARZBHwEswQRBYEF1AVHBn8GpAaiBqUGtQaRBk8G5wVoBeEEVQTTA3UDVAM6A/4C4ALkAukCCQNTA7cD/ANPBJQE1ATuBAEFLAVHBSgFAgX1BMUEsQSoBLAE3QT9BC8FXQWsBQEGcgbgBj8HmQfxB0UIbAhSCFYITwhmCIMIrQjSCLAIZwgxCAEIEggaCCAIRwgiCBEIzwekB5MHZwdeByMHyAZVBusFMgV8BLYDywIDAgwBHwBT/2f+tv32/C/8iPvs+mj6D/qw+YT5Kvmr+E34w/dI9+D2dvYs9s/1c/VC9Rn1BfUW9Ub1o/UN9n32Bfer9zL4vPgY+ZH57vkx+nf6wfr6+iL7UPty+7v7Avw9/Hz8tPzo/B79Wf11/Zf9mP2d/ar9l/2Z/Y79hv2X/Yv9nv2Z/Yn9b/1g/T79Lf0d/RP9Cf3b/Of8tPze/Oj83/wa/RL9L/0o/V/9iv3g/Rv+Vf6w/vv+O/9q/5//6v8IABIAPgBeAKUA/AAzAWwBlQGgAdIBBAJoAssCIQODA6MDzgPiAx4ETAR8BLcE7gQWBSsFTQWJBcgFFgaCBuAGMwd0B6oH6gcECCgIJQglCEcISghYCG4IdwiiCKQIswjiCPsIRwmbCcwJ/wntCcYJiAleCSMJ4ginCG4I9gd0BwEHfwb1BW8F9wR/BAYEbwO7AhwCXwHbAFsA7/96/9j+Vf6t/Qv9f/zi+2L7sfoP+mf5vPgx+Ln3ZfdC9yD3GfdN91z3bfd493v3x/fv9yP4KvhC+DT4C/jp98z3wfe599L34vfm9//3B/g1+EL4YfiW+MH47Pgh+Vf5gPmL+YP5fflc+WX5fvmU+cf55Pkk+mT6u/oo+4H7yfsC/Fn8rvz2/FD9cv2n/d79Of7O/mr/7v+MAOYAVQHMAUIC2QIwA4MDsAPOA+AD7gMkBFAEewSRBLYE3AToBBwFVgV+BYUFngXLBeQFBgYDBjoGMQY/BgUG1gXqBeoFCQYpBmsGZwZPBmEGcgaGBpAGwAbRBuUGBgc5B24HrQcHCDQIdQihCLgI5QjoCB4JIgkUCegIuwiRCGAINgj+B60HUwfzBnIG+QV8BQ8FvQRABLsDAQNlApIBsgDT/+v+b/7P/TP9sPz6+137pPr0+V/50vhL+KD3Afdz9vz1oPVA9d30gfR79Fz0c/TB9Pr04PS/9JH0g/S19P30cPWx9c31AfYN9j32i/b29mz3vvce+Dz4i/jQ+Aj5i/kE+n762/o6+5P7+fs8/KT88/wl/Wv9jf2p/dL9zv2b/Wz9Vf1v/ar94P09/oz+v/7z/jz/kv8QAHgAuQDVAMcAowB5AI0A4wAIAV8BhwGuAc4B7gE3AoECzQIQAy8DaQONA78D+ANXBJkEyATZBNsE8QTZBPUE+wQfBRAFBgXCBJAElgTSBEQFvgUnBlYGoQaFBsYGsAbcBkEHqQcVCEcIRwiKCH8IqQjxCPgINgk8CYYJpQmQCakJ7gkPCiYKIgpSCpMKkAqfClgKzwklCXUIFQjxB/wHDQj1B8AHTwf/BsAGqgbMBg0HSAdmBzEHqQbPBQIFKwRlA3IC8wF+AbQA3P/q/h/+W/22/Dv8jPvF+t35u/hA99L10vQy9F/zFfPB8nryd/I18jjy2PGt8ZTxU/Ex8enwuPBn8Nvvcu/N7n3usu7E7r/vavBN8frxZ/JG8xL0+vQP9sr2Xver9833Mfgc+Eb4evh7+G/4V/jG+Gn51PlQ+vf6ivs3/LP8Iv2N/e39Sf6n/sX+G/9h/4j/ov+h//j/LABVAJEA7wAwARIBEAEWAU8BogFkAiUDGQQVBdoFXgZrBn8G6gaNB2QI6wgoCfwIJgh1BzYHigdHCO0IuAk9CsAJUgmeCRsKvQrDCqQLSgwPDMYLFAsmC30LhQznDUIPnw90D1IPoQ7uDo0PXhFvEg0TPxPfElwSDxIeEiATTRTrFFgV7hTJFE0UEhS+E3ETMxNyEkgRCRA3DmQLZghMBd0C9v9x/YH6Kvcq8xLvJOvJ50rlbONp4Wbfs93c2yPaqNga2CbYoth12Znaw9vU3PfdNN9v4TLkR+db6lPt/u8Z8u7zN/ar+CX7l/0RAD0CswPkBLAFCQdWCLAJ4gq9C3UMFAx/CxsK1AhFB3QFvgPPAdP/Pf1J+rv3c/W485/yTvLR8kbzXPOg8zH0nPTH9D311fWn9mL3lPjY+dH6V/to+1b8sf2x//IBnwStBrsHYAhCCZ8K3wtPDWMOTw8/Dy8PUg+yDyUQYxB/EFkQPRD/D0oQ3Q9xDykPtg6pDZcLUwpjCXgICghCCHEI3wcrB4oHjggzCA8HjQftCO0KQQx6D2MUfxgsG8Yc1B+DI/wl+SerKeIqUyrOJzYlQCKDHxcdARtjGCAVDBLADsAKiQW5AOX7ePcP9D3xbO+P7Izol+Mp3m3a+9fV14nYE9gE1vDSfdAB0HvRGNU82nLfCONF5NrkQuZn6Gfq7Oz077XyAvT/82H07PRQ9RX26PcS+33+ogDZAOX/Qf7J/Nv7afvW+y77vPjE9JbwsO3S6zfrBOyw7XLvd/Ab8Uvy+vNe9bP24veS+Ub7Lvxb/C38Wfwg/U/+bABbAzAGEQhLCTEKzArJCgkLDwsmCjwItgW3Amj/Jvwn+kj6AfwG/sj/2AGmA+4EngU2B2oJ0QqiC5EMUA4ED5EOCQ4rDlAOfw6fD1gR3xKZE5ATKRNmEnoRbxBSDyUOtgxxC0gKlAguBnwEFAMiAuYCqgYdDYUSXBZWGJ8ZCRrzGzkf9iGvIz8j6yAFHO4WUhU9FikZdB2AITckByOOIFUdQBpxF+gUmRGwDCgGN/4m9hjtSOYQ4q/gaeEj4sriG+Ot4bbffdyr2njbkNwk3Xfcqtt62gfYxtV71b3XP9wY4VDlgemO7ZfvbfD+8QX2zfrG/fH+Of/Q/v/7uPix9nr37viP+sT7Vfxf/ML65vhq96j3Fvgq9yn10fKu8AfuWOwH7PbsRe7D75zy7vTV9gr5avvI/ar/swE3A34E1gQkBf8EyQSOBIwEAwaeB/AIaQmhCtcKGAmGBl0FyQUKBtIGPAjSB5YEhAGo/4D/FQC2AswF1wbzBmAHRwieCYMKqQtIDc4P9hGXErIRvg/EDbIKbwlvCqUNohGDEwYUXhMoEmwSPBP8FXQZZxn4FugS+w6tCPEA8Ptx/q8GhRCiG5EmgTBUNUU3hDraP45EVEVbQeg6xjBAImQTGwiRAtT+KPvC+Vf7P/v0+Av2gfUv9K3xE/C275nsweSU2efMisAzuI22mLukw5/KZs/d0p/WstqJ4MTojPJ1+Fv6rfbN8HLrlOdn6OXr//Ds9dT4qfr8/Bz+vQERBfkG5wXiAoMAmPzj9ezuYunM5ZfjsuIH5KvmK+mD6jrrc+x47wXxsfCX7+Du/+7G7cbtUO/G8dLzG/aL+Qf+DwN6B9QKpwzLDbsNmwzWC9IL9Qs6DCAMXQvgCKIGLQasBgEIEAqXDNoNdA1YC9EIrwZLBRsF/wRtBfEFvgX4BOQDtgVmCD0KYAteDIANRQ2sC8MLLgsbCkQI7gWqBnwIOgsXDVgN8AtCC1kL2QtjCzoKPwgHB6kHHg40GpQkxjDgO6tFcEt4Sg1LU0rNR6JDGTtzMbkkQhebCjME6/8GAYoDFwa7CdcIowUwAen7G/li9rzx6ezd4krZVtFmy6fJWcvt0IPY0t3a4MnjReRF5IPkJOU15kPnn+Zi5YbinOCJ4K3hEuUp6onwBfbQ+Sb6qPkI99r08fQY9vn2HveM9uj0N/Fe7ivtW+yw7QXxV/R49JzyLvEC8YDuEu0V7U7uX+/g7gTuxO6x8M3zVPbv+QYA8wW4B24HSwfJB4gGrQIPARwAV//y/X/+fgCGAokDsQRJBaoF4gQaAzYBKP9v/iv8PPty+1T8hPwg/lIBrgQvBXgGbwrADHcNPA1FDy8RYRGZES4SshF/EI4O+QsaCgcIsAZSBusFRAYdBhkG5QfzCeIKbwqfBuwEGgXJB2kLHQ2DC0sJrQbBCTcURx7MKAcvGzbKObE5SjhGOjQ+3kCjPtU2LC9bJc4bzxQjE/gUIRiTGfQachrOFaIP2Qc7AY/7VvW77LXkxNrE0iXN7ci9y2rQ1df731jkzOf66ZTpn+gS5Sni5eF34NzfguHM4dXjoeWn5enuRvbl/V0DugP4BAIB0ft9+IHzFvJL8u7ve++w7THtZ+5s7bjuZ/KM9Pz1p/ML72HsDOkB6D3nb+ce6dvpCurm6k3r+u1y8ZfzVveP+sL95f7i/iP/MP/y/6kB4gPuBJkEaAOpA1QD3QMfBSYHBAc/BqQGkwb1BOcB7/4e/an8y/1JAPkBdARUBZgFQgYXB7sHDwlZCqQKNApTCfsHpwYIBqIHwQh8CsENBhA0EpARlBCeEFsR6hGhEu4SdRQlFKcS+RFKECIOdQycDX0P5Q4PCyIKfwqcC6IKswh6Bw8GjgXJBvsLARNbGV8eyiUFLKQuUy6FLmkwiDD+LJQo7iJQHCwXZxWoFbIThhEHEZ8RdRCeDNkHUARt/3v3E/Dl6cbld+Ay3M/bXN083mHeU9/S4UfjUOUP507m6OPX3kLaDdht1inW89hk3ILhQ+XA5+bs9PFL9lf4gPmK+9366/aO867w8e/P7/7vD/E38yH1c/dC+ND5u/wZ/gD+Dvwu+l/3NPP679jtL+y76kXqCuoS67Ls6e6O8R7zqvVs99X3DfiX98r2fvWO9Rb4E/sB/nIAUgJPA9MCwQEqAv8DnwMrApYAuwBIAHn+2v38/7oDdAbxB2EJrAk+BxkCEv6h/YIAvwQYCYgMTQ5NDh0N0gzxDL0O2g+QDw8OgwsPCLMFVgQzBrYKPA9gFIsWIxn0GiganxmIHEsf2h+5HJMZchZ/DjwIuAW3BXYFVQMwA2MGJAR2AF0AhgZeEX8WghwxJJEmQCZjJJMh7iLKIfAhgyOTIToi6CJnIZQgyx3BG7gdxhyOHHIaehX4EEQJMQOiAAP9Rfmu9cTwLO6X6THloeHm4DrjweQd4oXfe90Q2nLXHtWz1SzYNNso3wLjYuXu55fpJup767jsiO/s8NjvHu/57MrqlOsu7e7v1PIg9Wf2CvYE9kL3VPds9zX4afc19mf0n/Lu8UrxxvEC8f/u6e5e8Gnxi/FT8V/xv/GE8Y/w0u9176Dvz+/s8BvzAvVs9wH6o/wQ/8YAKwL7AlIDAQMJAmEBnQIEBFcFMwayBt8H1whNCVgKXQpWCq0KMApTCcEHOQfgBwwIOQiDCbsKnwoxCpkK+QsSDNIKpAqNC28MCgzlCkUKyAmfCUoJagl0C0sNtQ3PDEgMfAw6C9oJGAlqCDkIaQgECXgJTwl1CqEM0Q0/D5sQPxFsEIIOBA0/C7IIWQeZBjAGZwa9BY0ERgSGBUQHTQk0DNoPNhGsD3IOQQ6fDQYMzgkVCQwJDQglCEUJqgr/C38M7Q0/DywPJg/8DZYLhgm4B4oG6QSbAmwB5QADAP/+Af60/RL9zfqa9170IfE47lPrJ+lD6VDpB+g/6CHpYuk36Vnp7ukN6hPqfeoN6ozqZOwW7oHv8PAZ8iHzfvPz82r0OvRv9ND0dvWE9tX2uPfv+E35UfmA+C74+vck9z33ePji+Cn4Afi4+WT8xP1M/nz+yv7c/hX+afxZ+zz6KvlL+cL5r/qx+0n8i/03/wMARwA/AJoBfgO6BBAFsAPcAkEDGwOmASABXAJ9BJAESQPXAtoCtAI+ArkBNQI2AlMBHwBm/0H/Uv4m/l7/KwEOAkkCJAKVAtMDvgQPBRsElASLBTAFVQTZAxMFcQalBoUGUwfwCDoJ5wdIB+gIHgroCRsKXQvACiUJxAggCR4Jnwk3CysLzwlyCTQJaggxCOAIogk3CQoJwwj7B70HFQjnB/wH7gi1CaQJlwj1BwwIKAjqB2kIzgibCVkKPQo/CeoIywlbCmYJVQhFCboJOgh4BlMGMQeNByMH7QaQBkIGeAZbBcYD7AKnAdb/Z/7p/eH9g/xR+436Mfoi+lD5cPgs+Cn35vWr9NfzdfO78ojxpfBw8Inw5vCZ8BPwVPBY8BDwIPAh8ffxJvK48vDyP/Iy8n7zxPRs9Xv1cvUv9Zf0NPUH9oj2xPbK9tf2Pfdi9yP36PUE9XD2G/dl9t71ZfYT+CT4tfd2+IH5u/l++CD3oPfC+Cz5yfj6+Nf5FPsG/MX8Gf6N/6UAjwC6AGABnwEaAq4CigPPBB4G6AZEByYHagcJBzkGsAVIBikH3AbRBawFLAewB6cGrQUIBjwHgAfgBs4G8wcxCR4JNgiGCIsJIwpyCSAIzwd9B0IGXQWFBZEGRAcoBw0HIwjUCPkIaQhNCJwIfwfIBXUEjARYBcEF9wVNBsQGOgZhBXoGZgeQBo8FlQVNBVoDlQHRAZECcQKLA9MDmwMKBEwE4ARbBKwD4QO+A5gDTAIZAcIAnwB7AAsBnQHUAO8AMgInAmYB6AD0AYoCbwAi/rf9kv3m/MX8zf0+/oX9Av3S/Qv/Wf/K/ln+7/2I/fP84fto+2/77foW+0X8O/zI+1f9BP6B/bP9Mf4d/bz7APtU+6b89vuA+xP9A/4n/dv8K/5+/aD89/vJ+qn6Dvuf+gD6mPpT/PT7NPpN+m36pvrn+nv6JftF+6/6Ffu8++f7wPzu+zH7YfwT/cH87vp6+2f+jf5b/MH7Af0f//3/aP4L/jz/KwHVAGb+7vxZ/bf+Y/+F/oz+ef+7/5f////WAGX+rfyt/lr/6v65/4AAhv+a/gD/mADO/1L/lgAoAIT/9v8HAWf/2f0L/94AwAHzAMABpQJLAewAxAJKAuIAgwKCAzoBSgEHBAwCCP46ArwEdQFNAm0DLwPDAh4D6gIlAOcBwQOiANP//QL4BEEEdgBPAEwDdQI7AUoBtgLOAjEBGQPMAyYAdf/6AVQDIwOyAOT/kQH0ACz/c/9PATAD2QG1AU4CZwHCAK0CrAP0/6X/vAE1AWwAnwDyAJ0BkAEFARgAkv/IAfkBYgBvAJ0AxQBZAN//jABFAU0AVv2y/hQAuv6H/7kBigFbAFH/mAG3/u79SgP/AGf8lQEbA33+/v7MABUBv/0K/9gDmf+W/R8B/v1F/0ICdvt0/6UDcf7s/zv/1/1aAV0A3wDhAZL/uAAJ/58A+gHD/IsAxgKX/d/9pv8TAEH+Lv1KAb4CxwCaAMr9FgApA678IfwrAMD9zP2v/qL9VQEyAc3/LgD7AS8BIv8qAeX/KP4j/YYBsgGP/CkCWP98/agDcwINABP8pACJBFP+rgOuAcb84P4d//j/mf3KAPEFUPqT+oAH6AGK/QMAtP98A+T+jvtgAOr+fv9TAJj99QBUAOv7RgKbA4L++/uuAMgGKvyk/D8Gmf/a/I0AEv7f/lsBdv1VAlYDwP8mAkoBdf0fA8L/0/tCAXT+rQAu/1f8YgO0/ZH9yASD/rT/UgM0Afz+uQDq/8j9fAHD/yv/MAGkAZ8Bkv8VAxT+m/8M/pYDS/8P/MIAaf+NAKX9jAD3/zkCkf96/bH+7gWWAqr7lQLr/RT/VAFy/wADVPsJAC8GA/waAPEB5P2/AyT3fQGFCl/2Z/5BBcj/9/rbAwIFEv4b/UoCMgFD+8//SAAn/5z6UQKbAw/+eP2I/QUAjP/TBc794vasBm4EcvRy/JEHv/70+sT/3QJMAQ76pv/5AtT8TgJTAQ/4TgKeAEv+Qv9y/GD+HwIpANL6ZAc//7j8vQN1ACT/+AA3ARj8jv/C/JsAuAE5+/T89gbA/1z4yQS1Arv7Af4XA14AiP2Q/vAC+wB3+xsCDAPk/wz/eADJ/lgBLvsbAcECCPoMAmUASAV0A7H8H/7rBhkAH/y0/sb/OgSe/4j92/wtBL8DcADu/eADrv9G/uQAdQKdAND6hACYBNf91v7pBX7+IQA1/JcEygH6+18Ce/+k/0X+JwUH/+f9vQQrAHv+JgU7/BsATwQlAC7/YPzUBbsAmv+b/oUB3QMT/rADxP4z/NUD3v5wAMb/MgJZAaX5tgRi/13/owU69qX+MAxz+of8cwHY/ZEED/1S+7UD6v+OBDj+ZftsDB769vndBIP+AAY3/JQA8QRQ9zkEuwTK+n7/ZwEmAQj9YADqASX+NgEE/Ob/fwav+vn+2gQc+dUDLQR692//KgFoBI38ZPxYBKH+6gC/AVP8VQRX+WMElwcY9CwDxf5rBa76Zvw5CCb8YwSj/ZX+dwUi/E79dgJSA6/6w//DAcb9GQUKAKb6CgElCGf4Rf/3AdYEqPyM9uoPaftK+2IF2/xaAj37rAPPAeD4bgRAApT5CAKIAY7/zf2tBKD+sfZnCWsBvPeYAqf7sf5KB3L16wkDAI76hgHhAJ4Jsfmo/L4FjAAi+1z/TwNRAaL86/96CPH6sfx/CsT4LP39Be/9Pf7g/5H8SwS8/JL9Qgf1AOD2sAR2BMr5fwjL+qP47goi/tv9eP2x/WkCpQM+A7P1cwIsByf/WfftACgFSf5y/YMCAf8//JIEOfxFAjH/HvrLB9QANP2fApT91wF8Bov+wvh0BSYAOvtBBJ//hPzr/4YDjAKl/CoBrwNk/ucDMvyt/wUBjvxSAu7+CgARBI3/E/ZVB8wKjvWW/PgFNgAc++T/TQK/Ah74Tvy6Duj4F/x/Ct/6kPzLBAwBfwWP+Gz8zgiL+7X7awX5ANj55wPz/08AtP/e+rYL6/eX/4sDoP1WAgv9GwgK7lYL4Aje9bz/iP/ZBE79VfxXAOcE3fcXBVgA1/uIAtoAPvw5Bzz6m/99Azb9fQMB/TkKq/KXAw0Fvv/O+7X3sg/p9tgA6/4eAqUBY/pKA1MEDQFe9/4I4v3o+7QBOgLE+HAAAwas/W3/CftTBm3+JAJe/VUBQANz/E8FNftgAn3/2f5E/UkCJf6JAhkEG/j1BHj74wq59zr/kwlk9+r91AYa/Vv8jQeI9xsEzPq+C7X4xPeODt72kAji+NP7RAyB9N8B/QSPAHD+6fT7EKr0egPDAGL2UhFh7NcI8wlG8w0F9QJ1/Q4ByvySAnwCHvwgBb//dfX7DtoADezVDigDbPlU/6cIRfzl89wOEP3/85wImf8HApH5cfyfDbv2aQdF99n+oRAI608N6P4j9mwK9/RuCJgB0vd5BDf8QQc5/g/6jQP1A///n/hPBIAHz/e/+CwH5AVg+hb51AtK/OP+6QGF/3wAKfncCYv+OfpiA1IGePfp/Y4J+f1J+GoDvQRX/G/94AJ+/gQB6/9S/sgCGfspBqL7EQM1/Kj8zAyu9sv8pAiz+FYB/AkZ9WT+swXBAyf9BflaBZMHFvY1AUoIePVHBXIGmfbGANQH/fs7AJT50QTOCXXv8QGqCl/3TANvA1n2RAq49K8DDQsS9JYB7gec+nv2YQ8B/NT7DQCOAJsF8vtH+28JFP3j/dwEFf8h/ND9+AkY9iUEJPwqAiUGJfo3/yMCaP56ApcESvWzB8sAY/q1/6oE6PsC/iAHpfaZCCYC0vaQBbgApv7gAij8JAN5AtD8AP+Q/pcHx/dD/HUHMfvQ/5gD2f2SADv/kv/nACr9AQKeAL/+sv2vBZT6cQXPA8r29ga//0T8MAfo+vT6tQi2/Un6WQYJAeL4fQr4+Zn8Tw3M+qv0VQtIBNj0p/ycCin/C/EmDXgEYvM/B6v+ov02B2z00wW5/2/7QgcK/Gv6SwZ5AWcCJPcMAdkMhvXN+8sGSf3x/VgHUPazAoUCIgG1AwT35ADzCH3/nfH5CSYHDfWVAlQFsPnXA6wEVPnkAIYF+v46938IvP9B+//7yAle/hj1TQqC/t37pgNiALD+TwXl+/b9tf3lDCT3nPWZD4j4gPzBCkD4ugMN/mP+9gac9uUGMf6e/WICogBO+YoHEwAD+vMH7vg5AsYGg/0N97MIOAJ6908EuACSAH36fwBECBv8UfXrC9gBxvU7AZ0E7AUQ8h8DrAjl/Pr9fACq+pYKOPxW9s4Ksv9M+s39SAi7/QQBHwCB/Lv9hgsm+R74gwqN/cz+QgDv/wgDSP2c+7AJ9PccBSP8ev99CFf1fQcPAw/xbwfiCp3vRwzG9JQDDArG7bAJfAJz9nwGAQOD9/kHOvUYDGgDnPDtDVsAevZTDCz4nACLAT/42gvi898CCQag+dQB0wIY+rsIPf0a+roIYfqbA1/+G/tyBH7//PsIAL0ENQC/9ysKDfyx+0gI7P7YAGT5RgL7B9D3VfsHCpT7kv4w++IHsP8q9WQI3Aeu9qn/Ogoq+Z0A2Px0BaP4lgC1CQ/zRQP+CAv1GQWeA2j6KQvw8nwAUg1i86/+rQMTA/T5jALzBCv6TAPFA7IA+veiCmH7v/lKByr4/v1BCZ34e/6iCsTy8wjEBtrwHwbMBifzcghxAFb4LgiU9xcJuP2a+DQO9vhX+tkD9Qnl9nL4rQtzABb1ugd1B1nvtwk8BLv78gIC/M8D1/zl/GAMnfVS/rUJiPRLCej6VPpmCt/6PACuAVP51Aa6/pH1UAyw/XP+/AUk824N0P7B7toPaP4S+qUAmAG4Bav47gGDBdr2EQV4By7xZAplAFz5SAmO/Ov/wf44A6MAz/mu+pQM1/1n+cECCP+4B9z5zfsSCJL6Qv1sCp/31/5TAsz9Jgn39mX6oRIh9GX6Gwur+kL8VwXCAfH4OQLhAa4CBfeLA1sIB/cNASwHoPiy/9UFx/msA84AVfwgAtn/IALZAa354gJNAnD+vAG7/6L+mwBlAmf/qv3yANn+9gGiAs37uPwiCVX+wvhuCIv9avn2Ce37TPszBob4twfG+vD87wVy/qj+XP2aBR8AGvtgAwD+P/+DBWX3BgdqAWT5zgO7ApP8MARX+n8DYQP39KUIB/41/YQE+fgYABUJzfd6ABUE+fxk/roExvoaALAF0PaCBI4FVPswAEkEPPy9AdgBZPxPBBj+0/uqB3H8yftkBEsAxP7ZAVwAFQBbADL/yv+O+84BswMS+akCQgEAAE8DhvfWAzoEYvmP/5YFPP4V+gQIGQEP+c0CwwKi/VEA/f/Y/WMGfPq9+70KpfuV+aEJ3P21/AgEy/9p/7j9OALI/qT7SASPAif9+gJB/PIATwir+ggBDQHg+bAFPf0q/XX9Ev/EA9H+y/1+AjkCjwBY/8b/VAEEAKYArv1nASj8zwIg/cn+yQHx/pn/ngDhAcD+MAM+/+4B7P9z/jL+HwYr/Jn7EQf4/eL6xQE0BnH9t/yfBbv/hPqOAqkBzfnc//ABSQNt/BH7ZAn2+nP9uQXG+x7+lwUG/SwAvgH2/IwDovuHA9sC5ve6A90FMfjbApsBlv0jBqP8hP18Bcb7gAF4A0P3OQFWB1v4t/+1ByX6IgJi//r/YAdM+xb59QeN/sb7EQJ8/H8CYwBu/bkB0QM4/ewAKf/Q/14C5f1k/lQBZACG/pj8TANHAVz53AYQARX7kP5+A9IFHPki/MMH4P/T/CMB+QCB+6AByAFr/hUBwf4+Bl/+gf7wBAn/sfjcCe3+2PtZBDr++ADt/IQANQWP+2j+Vgv99z8BlAQq/kX/Df0r/q0CvvkYAfkGSPVFAyEFlfrNAigFNfebAeQC9v0S/an+dgH2A976Hf7ZBhr+DP/YAfEErP1bAdoCwvqM/6sBc/7P/y8BdwAbAjcBX/2vBG7/m//O/9H83QGt+43+AQOgABT9RgKYA9H+Xv1+Aa0Ak/vWAAX/e/7c/9/9jQMI/aH+1wKGA7j+E/pQBT3/q/06ABgAeQFo+04BQQAgAYf+vfz7Bhf8fP9gBSD/Mf4iAsIBMv60/0sBPP8oAiwA7P3FApT7mgTKAnb5/AIJAz3+2f/u/TkA6P33/ekAAQKw/Un99wTG/ub+zf/SAN3+AQJdAuz5cwQOAfX5wQGaAlr/bv8cAcsBkP9u/hAAGAFg/mv/vgLx/okBywFUADIC3fx4ARIEo/vN/lgDkv+G/z7/+AEAABYA1QHN/HAARgKO/av/MP+hAFIAK/yHA00CB/6E/wYEnP9W/TYAw/3zAHb+cf1oAAoAOQAOAHsAPgF9/xkBawAdAFEAYP5Z/ZoAqQHq/cL/aP+8/wID+f78/qcAnP98AvT+gv2U/0//9f8h//T+Rv+RAVMAowB3AWMAAAAfAJcANQAy/8L+JgBo/+YAEQD+/7cB9v0v/3EBwAByATT/p/+XA8P/Of4tAGX+9P+7/sX+7v9h/zMCcf9D/pICAgEBAm8BN/+DADAAwQBM/z/9Q//ZAnX+awG8AYf/uQAR/QgDhQDX/JEBuv6/ANT+sv/bAfv+pP3//0UCnf/hAIIAAgGW/n7+SQFL/6H/WP8jAKYAXP99AFP/YgDpAez+UgHDAB//ZwFY/r7/EwDo/okB7f9dAEcBJABVAe0ATv8AAUQCfv8m/98AyQAZAcn9Ov92AuX/Cv+PALUAVwF6AEX/+gBwAR0Avf8U/5D/nwBGAD7/BQG/ASf+WQDRAfT+Qf8L/wX/0P9K//D91P6u/v789v5K/839xf5wAYn+Sf+KALv+G//N+p79j/5K/Z39sP1V/7YAZf4x/4sAPv5J/1/99v9P/tP9tP4O//z/aP6JAZkBRADP//MBu/7i/3gAwP/4AEH/YgFyAkgBlAACAmQBrAKRATkBUgAVAg8DBv+FAg8DpgHRAXwBhQHdAxQCagAUAzgBlgHyAWUBTwMiApsD1QP3A4MDvAORBDcDkQRLBGAFuQVABbkErgSRBZYFvgVWBT4GIAY7Bd8FrgUwBU0GVwUmBR4F7wTdA5EDXwKNA7MEzQEbA9sCLAO2AUkAeQADAPL/y/35/cr8Fv0o/YH8VPx8/D/8mvty+y/5i/lv+Af46Pa+9o/3sPfx9vn2p/cK+EL41/Vn+FH3cPdt92/3eveM9+v3yvZW+T/5Mvmq+oT6evtV+/f5pvo4+xn7dvpX+1T8hPxn/PH7lf0w/fD9Rf4J/Yz++/40/m/+3P0K/pT+Sf2O/nf/B/87AIL/rv/x/6b+uv/Y/zkAXwB4AFgBvQJwAhcCiQI3A2wFNwT1BMMEugVOBf8EiwY5B5AH5wd6COoIDAk6CHcIbAhZCf8JrQoMCsgK6wheCYsJrAeUCF4IFAg3B7oGogV8BlME4AMcBKcCGwO1ARIAOABx/0n9VP1H/Bz8iP07/Bn9D/6b/X/9XfzI+uX7lfrC+BD5/fjz+dr6mfrF+l78bPwS/TP9iPxO/Xr8aPsK/K/76vsg/Ij9qv7V/joAzf/p/5H/5/5s/g3/Fv+4/3gBKAHiASIC6AG0AmsBsQEmA+sDAAR1BUsFwwbDBhsF5QZ0Bq8HFQmRCcYL+AwpDCUM4wv+CyMLyQndCf8JyAhmCbsJLAl/CSIIHQifBv0FcAMqAlUBiP9J/6r8P/5S/Fr7J/xX+m37W/nb+DT3dvaO9I7zLvP+8Yj0AfSR9cH11PVz9nD1OPTQ85/zXvKO8//zXPXH9vf3z/gb+VP5/Pj59qf2Dfdn97743fhr+uL6efqE+w/7NvuO/PT7nfzR/Cf8zvwZ/Mz76fyC/ST+hv8s/+n/4v8a/5D/2/5k/2r/BQAbAGEBxgEZAZEClAFfAjUCIwLtAVwBFAIRAuoB4gFuAn8DcwPSAzQEnATqA74D5gPpAh8EtAIXBHwDswR3BfwEugWCBBEHiQTBBDQDcgRWBeADBgUSA8sGVwS2BBUFmwMVBmQDewRBBLIE6AOCBH0DiQPMBF8DSwXgAjQEYAMlAnIC1AHtApMCFgKWAQMCcwIAAq0A7f/DAJH/Gf/q/t7+6/5u/Uj+yfzf/dP8evv6+6X86/zM/EH7YvrU+tT4U/mD+Pr5nfrC+9D5V/tx+lT6p/lw+M/7kvoc/qv76v7H/E79Wfz7+wj+A/6TAR8AtQNEApwCrQHr//kBqQEoA+EE4AXzBrUFHgZSBBsF6ARTA9YFIQVsB9cGWwbGCKIHfQayBkoGuAakBQUDZAPBA2cD0gQvBEoHwQiyB9IHYAaLBU0DkABeAHsCtgKxA/cD4ATuBjQGEgQCA1UCCALfAKr+8f6e/lr/g//J/8oAzAG1AfL/3v5J/Ub8gPlz99r34viP+aP5E/oe+7L6GfhG9qv0iPP88lfyqvNL9R32Qvfj9jL3B/eS94P3KveG94P3gfiX9yP4fvke+z/8Rv3X/sX+wP+x/Rr+QP9K/qH/kv/tACoCPwJJAp0CfALsATcC+gDrAfkBjwFGAsEBnwJRAXYABABzAFkBJABTAAMBjQGHAFj/nv4h/77/g/6e/xkASQFrAs8AAwLqAaoCVALlAW0CrgM6BGsDOgQKBfIFFAQ3BGsEHwX+BNgDogS3BSUFOQT4A2sDgwQXAwcBSwGQAFoAUACM/pP/yf9//nT9gfxo/Bf8qfpu+vL6PPu4+j76sfl7+iT6vPlJ+ir6Xvsh+vb6EPsS+6P7qPv++078G/7Q/YL+a/5T/mr/Bv7B/Qz/gP/cAEwBMwKzA58DWALXAU0CQAL7As0DLgSnBkgGtQbuBRoENgWsAxQETwUbB4UIdwg2CNQJdwndBz4GEAVyBpAHKQeCB8gJKQl6CEsFZwSbBUUFTAVpBgcIHglSB94DdwN3AwwD1wLsAqIFgAfnBKUCZwFnAfABQADBAD0DkQNYA+8Avv9iALb/4/4Q/sD+DQCb/1b9KP2x/G392fva+hz8wPsR/Iz6x/m2+Vf5kfc890P3z/eg+F/3FfiB9xD34/Zi9lT2mvax9sT2kvgV+AL4oPcB91/4xPdX+eD6y/sq/ZX88PxG/PH8v/w0/Hf94/63AWICOgKnAusCjAIkAeAAsgHZAk0CygGgAqYCagO6AqgCigNIA3UCeQAr/xD/aP5P/dT9kf9XAAkBnP9L/07/KP75/FD7Zfve+xX9jf0E/8f/1v9aADv/V//p/nb+jv4W/40AmAGjAo8DvgQ6Bd0F2QW7BUgFYQTIBIME9ARYBvMGIwj2CCIIZginBt4ENQToAh8DGgQDBSIGpAaHBW0EOwPiASEB6P9xAPkATQB9APkA5gCsAMT/Av8g/wD/vv6H/sf9LP5O/iP+U/8s/qP+VP+d/qz92fyZ/Xj9Hv3x/LP+xf5O/pz+gf5u/t78Hv0j/on+Zf65/UH+nP7Z/eD9Zv68/4oA7v8eAcoAHQBF/xf/kP/D/3sAPAHdAmwCxQJZAiACwwGUAIkBdgEdAj4CvQL7AqMCpwKjAmQDNAMPAwwCkwEOAtQBZwIfAk0CyALFAoQCywGOAU8BHQHSAPMAdwHSAAoAZ//R/qH+b/6z/rb++f4p/wP/6f5f/hf+J/2a/GL8Gf09/Wj8LvwZ/Pf7VPsB+zj7c/w5/Pb78PsF/Dj8g/pf+XL5gvp++lX6DPtI/BX8wvqS+sT6Q/sM+kP5UfqV+nD6LfpY+qL7ofsI+6n72/sc/GT7qvpA+w/8UPyc/Bv9Jf7L/ov+zP4I//H+zf7s/tv/1wA5Ae4BsAJHAwgDtwKHArgCIgOXA5cEEQXLBdUFLga7BeUEfwQzBMEE+QSWBV4GRwbJBZQF0QTiA2MDaQPBA+8DdAR+BCQE5wITAp8BGQH0AA0BjAHSAcUBNwHdAJAAHAAUAAwAFQCEAH8AjgCtAA0AKAAtAAAAPQC6AAYBJAHNANkAGgGKAGcAUgB6ANkAOgFCATYBKgHmAD0AcP+p/6X/IAAfABoAagA2AHYAg/+E/mH+Ev4O/pf+Uf+P//b/vf9b/wT/mf4j/yf/Sf8JAJEA9QDTAGoA+/8xAMQA2AG6AiQDWQO9AisC7AHQASICwQJfA90DZQRRBF0DdwLKAUYBYwFpAcYBawIoAp8BOQHhALoAIQB2/0T/XP8D/1n+uP2T/QL+5/2q/fT9JP6s/d78Hfwu/G783fsU/Kv8Yf0c/sz9df1w/TT9K/0w/U79Hf7j/gj/8P7d/jT/i/9O/w//Tf9QALQAFwDt/yUAzAC+AHoADQGxAUcBdwD7//j/MQDD/8v/YwDbABQBewDh/1j/nP4y/v39Dv70/f/9Ov7r/bP94vyR/Ir8IPwV/DP8hfyw/GH8sPvQ+9H7nPuL+3r7Efwq/OD79ftX/HX85fwT/QH9i/2s/aj93P3D/Vz+Lf82/3//2/8YAOz/cv+8/6UAOwEeAZYBdgLSAkYC5QGtAdAB/gG5AToC/wJZA0cDvgKRAu0CawIQAlgCdALKAqQCrALRApwCXAIXAuYBAQLlAacB1wEXAmQCigKgAu0CpwIGAlgBIwFSAZ8BDQKTAjYDKAOHAtkBLQHWAIwAzACCAUUCkgI/AhgCggHLAEgA0f8/AK4ApQDZAEMB/ACEAJ//I/+R/3T/n/8zAJUAoAAkAHr/Yf9A/y3/jf/F/10AxACpAFAADwC2/3r/l/+2/xoAdwCLAJsAYgAqAAsA4v+7/9T/BgDw//3/CQD9/8b/oP98/2z/lf+T/8f/3P/y/+L/z//E/77/pf+7/xcABQAhAGoAeQBuAFEAQgAxADEAEQAfABwAIQCNAJ8ArwCtAD4ABwCY/2H/af+Q/7b/k/99/1H/NP++/lH+Kf46/mT+NP5J/kj+VP4y/pr9Vv1s/Vj9L/3v/P/8L/0N/fL8Bf1Q/Z39ov2K/cP90/22/W79Nf2O/cH95f0x/rT+Iv9N/xr/A/89/yT/B/8T/0r/tP8QAEIAfQC4AKgAtwCHAHAArACqANUABAEOAUEBcAF/AWYBawFsAXUBYAFKAV4BcgGQAbMB2wEGAhQCFQL5AesB1AHGAe4BDQI+AooCogLMAsQCcwJAAhkC2AHSAd4BCQJjAnMCjAJlAt0BeQEpAckAxADDAMgAGAEMAdUAdAAeAM//ff82/zj/Kv8M/wP/xP63/ov+X/5O/jj+T/5D/ir+Ov4f/uj94/0T/lv+bP6A/tn+Bf/X/sn+tv7L/tf+yP4P/2n/lf+c/37/dP9p/2T/gv+V/7v/6P/c/7n/rv+d/6P/oP+i/9D/zP+9/4r/ZP9n/3L/Yv91/6L/tP+r/4v/bP9S/2r/QP9F/4z/qf/T/7D/lP+W/4f/bf+C/5//1v/k/8r///8dADEAKAAZADQAQQAzABsAOABxAHkAYwCGAKAAtwCOAHcAkwCzAL4AtACtAMUAuwBpAHkAZQBvAG4AQwB2AHYAhQCAAHYAXwBNABAA4//o/+H/+//6/wYAJwAWAPL/3v+6/5v/qP+6/wAAJgBFAEkALAAjAAAA+f8HAC8AXgCPAMkA7AD3AMYArACfALMA5wBGAZ0B6AENAvUB0wGWAXkBbAF4AcwBDAJbAm0CaQJqAg0C9gHhAccB2wHKAdsB5wH1AekB5wHTAZ8BdAE/ARQBBQHUAMoA2ADMAOEA2gCtAKsAgQBAABQA4v/q/9P/yP/2/woADAADAMH/aP9L/wr/+P4b/y3/WP9c/1j/UP8Q/+/+v/6i/pb+l/6t/qz+s/6o/pz+nv6Y/p7+of6o/pT+ev5m/l3+av5y/o7+tP7B/sn+2/7E/r3+mv6h/qv+iP6+/tH+9/4A//T+BP/6/ub+2f66/sP+yP69/tH+5P7j/vr+7f7h/tz+u/7U/tX+1f72/hP/DP8S/xX/G/80/zv/av97/4X/jf98/4P/kv+O/7D/yP/z/wYAKwBUAFQAZABjAHQAWABhAGAAVACCAIIApwDUAOAA+AAAAfIA6QDOALkAxwDeAPMAFgEyAVkBVgFLAVcBXgFbAWQBhQGjAb0BtwHBAcUBwwHhAeMB9QH/AQ0CBAL8AQMCEwIfAhkCFAIZAhUC9gHTAcUBzgHYAcwBxwHDAaUBhAFqAUsBNQESAfgA8wDZAL4ArwCTAHMAUQAxACcAGQASABYA7v/J/6T/ef9p/3H/eP+V/6v/tv+O/1n/P/8T/+z+4f4H/yf/Vv9y/3//kf9i/0r/G/8W/yn/Hf9H/2z/g/+t/6v/kf96/1H/Hv8G//z+KP9Z/33/pf+W/3P/S/8Z/wL/Af8c/zP/Rv85/y7/If8E/wP/EP8h/zz/Pf8g/w//8v7k/uX+9f4e/0X/Tf9U/zT/Gf8J/9/+6f70/iX/Pf9W/2v/Zf9S/zH/Jf8o/zb/U/9x/4f/k/+O/4T/dv94/3r/g/+S/5L/o/+y/8D/vP/J/9T/6v/Y/9b/2P/X/9v/3f/0/wMAMwA1ACcALQAdACkAGwAjADMAOwBBADcAQgBEAE8AWgBWAGwAZwBbAFMARQBMAF4AYQB5AJgAsACpAK8AvQCoAKkAmACeALMAxgDhAPAABgHzAPQA6QDsANcAvADMAMoAxQDdAPwADwESAfwA5gC7AJUAiQCHAKIAuADaAPYA8ADiAL0AkQB2AFsAXwBsAHgAigCQAJMAlwCOAI0AhABlAEsAPwA2ADAAMABBAFYAYgBPAEkALQAOAPf/5//5/xIAIgAgACYAEwDw/9D/vP+8/7j/wf/C/8P/sP+a/4T/cf9//4j/mP+i/6z/tv+a/43/Yf9M/z7/Q/9k/3T/pP+v/7D/p/+Z/4z/ef9z/23/gP+S/6T/nv+8/7r/wf/Z/97/7//V/7b/lf+F/33/ef+d/8H/5//s//L/4f/L/7//kv+Q/6H/rP/E/9X/7v/x/+L/zP+8/57/nv+w/73/4P/3//z/+P/n/93/zv/G/9b/9v8WAC8AKAAhABMAAwD7//f/DQAaABsAKgAoACQAKAAaABkAJgApACkAHQAnACMAKwAwADYAOAAwADYALgAtACwAMQA4ADcARQA5AC4AHwAUAAsAEQAaAC8AOQA7ADUAJgAbAA8AGwAmAB4AJgAkACoALgAtADgAOgAzADEALgAbABEACgAGABAAFwAkACYAKgAVABEADgAGAPf/7v/r/+3/9P/t/wAAAAD4/+//3//f/9z/1P/Z/+T/5f/0//P/+v/3/+z/6P/g/9v/3//g/97/6v/7/wgADQAGAAMA9v/t/9v/2v/Z/+j/5//y//z/9f/s/+D/1//K/8X/wP/P/9b/3//n//f/CwAIAAUABwACAPP/6f/g/+H/2//p/wAAEgAkACYAIQASAAkA/f/5//3//v8AAAsAHgAhAC0AIQAeABsAEAAQAAsADwAcAB0AGwAmACUAKwArACkAJwAeABIACgAGAAQACgD8/wAABAAIAAUAAgAHAAUAAwACAAgABAD9//T/6//t//P/9//9/wQABwAIAAsADQAFAAIA9//0//j/9//7/wgAAwAKAAwACwAcABUAEQALAAYACgAGAAQADAASABQAIgAlAC4AMwAwACsAIQAeABIABQAJABMAHQAhAC4ALgA2ACkAJgAfABYAEQAKABMAEQAMAAkABgAIAAkABwAIAA0ACQALAAEAAgAAAPX/+v/7/wYAEQAUABkAGQATAAkAAwD7//7//P/8/wUACQAXABcAGAAcAB4AIAAiACAAHwAYAA8AEQAKABQADgAUABAAFgAYABMADQAAAPb/7//q/+X/4//i/+X/5v/r//H/+v/8//H/7//p/+v/6P/g/+H/4f/g/+D/4v/s/+z/7P/4//v//f/7//T/9P/v/+f/4//j/93/6v/t//D/8//0//X/8v/n/97/2//V/8//0f/X/+H/6P/r//r/+f/v/+f/2f/W/9H/1v/Z/97/6P/1/wMACQAQAA4ABgACAAEA/P/+/wEAAAAMAB8ALQAuACsAKAAoABsADwANAAgABgAHABEAEwATACAAHwAkACAAGAAPAAoABAABAAQA/v///wIAAQAEAAEABQACAPz//v8CAAAABQD//wMABAAEABAADwAXABkAFwAYABMAFQAZABkAGQAVABYAHAAbABQAEAASABQAFgAQAA4ACQAIAAkAAgAAAPr/9v/2//D/8v/r/+3/8v/0//L/9f/z//X/6//v/+3/6f/o/+n/7f/w//3/+/8AAAQABgALAAQAAQAGAAQAAgD///3/AQAAAAMACAARABAAFQAWABQAEwASAA4ACQAFAAYADQAOABAAFQAdAB4AGAATAAsAAwAAAPz//f/9/wAABQACAAYABAD///f/9f/t/+j/4//h/+T/5//m/+3/7f/s//L/6//r/+z/6f/n/+3/8P/t/+//8v/5//3/+v/+/wAA/v8BAAMAAQACAAAAAgAHAAgACwAFAAMAAwAEAAQABAAAAP3/+/8AAAAAAAACAAUAAwABAAEAAgAAAAAA///6//j/+//7//3/AgAJAA0ADQATABYAEAATABcAFwAYABwAHgAjACQAJQAiACcAJgAoACQAIQAgABsAGgAaABsAGwAbABsAGQAZABcAEQAOABAADAAMAAgABgABAAIAAAD7//v//P/2//n/+f/2//f/+v/4//v/9f/3//T/8f/z//j/+v/2//b/+/////7//P/6//n//P/+//7////8////AgAAAAMAAQAAAP//+v/+/wIA/f/8//3/+//9//3/+/////3//f/7//3//f/4//3/+//7//v/+f/9//z//P/9/wEAAAADAAYABgAFAAcACQAFAAEAAAD+/wAAAAACAAIAAwAHAAgACgAMAA0ACgANAAsABwAFAAUACAAIAAYABwALAAwAEgAQABAAEQANAAoACwAMAAkACQALAA4ADAAOAAwACwAOAA0ACgAJAA0ACAAMAAsACQAGAAEAAAD//wAAAAD+//3/AgADAAMABQACAAgAAQD///7/AAD+//r/+v/7//f/+P/8////AAD//wAAAAD8/////v8AAP7///8AAAEAAAAAAAAABgADAAMACQABAAMAAAD+/wAA/v/+/wEA/f/8/wAA//8AAP7//v/+/wAAAAD+//v/AAD+//z/+v/7//7/AAAAAAEA///8//v/+//6//v/+f/9//f/+P/0//T/+v/1//T/8//3//X/8//1//X/9P/0//v/9//2//j/+P/5//3/+//+//////8AAAAAAgAFAAUABQAEAAUABQAIAAQABwAHAAgACwAHAAYABwAEAAIAAwAEAAYABAADAAQAAgD//wMAAAD//wAA+/8AAP7//v/7////AAAAAAAA/f8AAAAAAgABAAEAAgADAAAAAAAAAAAAAgADAAQAAAAAAAEAAwAHAAQABAAEAAQACgAGAAUABAAGAAgABQAHAAYACgAIAAgACwAHAAsACAAMAAkABwAGAAkACAAGAAoABQABAAQABgAIAAkACQAHAAcACAAKAAgACwAKAAcACgALAAsACwAKAAsADAAKAAkACwAIAAwACQAHAAkACQAIAAgABQAIAAQABwAJAAQAAQACAAAA///8//7//v/7//r/9//2//v/9f/7//z/9//8//j/9//5//L/9v/4//f/+P/2//f/+v/6//r/+//7//v//f/7//7//P///wEA/v8AAAQAAAAFAAMABQAHAAQACAADAAcACAAHAAgABAAEAAYACQAGAAcABQAEAAgACgAGAAwABQAHAAkABgAMAAkACQAIAAUABQAFAAYAAgACAAgACQAJAAoABwAMAAcABQAIAAMABQAEAAIABQAFAAIACQAFAAYACQAEAAkACAAHAAQABgADAAYABAAEAAgABAADAAIABAAEAAMAAgAEAAEAAAAAAAAA/v8AAAEAAAABAAIAAAD7//z///8AAAAA/v/8/wAA/P/9//n//v8AAPz//f/+//v/+//8//3//v/+/wAA+f/6//v//f/+/////v/+//7//f8BAP7/AgACAAAAAgAEAAMABQAEAAAABAADAAQAAgADAAUAAgAGAAMABAAEAAQAAAABAAEAAAAFAAEAAQD//wAAAAD8////AAD+/////f/5//v/+//9//n//P/8//7/+//8//r/+f/5//j//f/5//j/+f/9//z////7//v//P/9/////f8AAAAA//////z//v8AAP7/AAABAAAAAAAAAAAAAQAAAAAAAAAAAAEAAwABAAAAAQADAAMAAAAEAAQAAwADAAQABQAHAAUAAgAFAAYABQABAAMABgAEAAMABQADAAcAAAADAAUABAAEAAQAAgACAAEAAwAEAAQABAADAAEAAAADAAQABwAFAAUACQADAAQABwAIAAgABQAHAAYACQAJAAUACQAHAAoACAAJAAcABQAEAAQACQAHAAUABwAGAAUAAwAHAAUAAwAEAAQABQAEAAUABQAHAAkACAAFAAgABgACAAYABgABAAAAAgADAAYAAQAGAAUABQAGAAUAAwAHAAEAAgAGAAAA/////wAAAAD6///////+//7//f/9//3//P/8//7//P/7//v/+v/9//n/AAAAAPr/+//8//v/+//6//7/AAD//wEA/v///wAA/f///wAAAAAAAP//AAABAAAAAgAHAAQABgAEAAQACAAGAAcAAwACAAgACgAGAAcABwAIAAUACQAJAAgACAAHAAYABQAHAAgABAAHAAMABAAGAAUACAAIAAcABgAGAAgABAAEAAgABwAHAAgAAwADAAQAAwAGAAcAAwADAAUAAgABAAMAAwADAAEAAAAAAAAA/v///wAAAgABAAAA/f/+//7//f////z/AAD///z//f8AAAAA//8BAAAAAAAAAAAA//8BAAIAAQACAAAAAAAAAP7/AAACAAAAAAACAAQAAgD//wIAAwABAAAAAgAAAAEAAAACAAAAAAD//wAAAQD+//3///8DAPv////8//7/AQD9////AAD9/wAA///7/////f/9/wAA/v/+/wAA/f8AAPz///8AAP3/AAAAAPn///8BAAAAAgD+//7////+//3/AAD+/wAAAAD9/wAA//8AAAEAAAAAAAAAAAD///v//v8BAP/////+//7//v8AAAAA/v8BAAAA///9/////v/+/wAAAgAEAP//AAD9/wAAAAAAAAAAAwABAAQAAQABAAQAAwAHAAMABQAEAAQABAAEAAEABAAIAAYABAACAAIAAgACAAQABwAHAAEAAAADAAUABAALAAUABAACAAYAAwABAAUABQAHAAUABgAEAAQABQADAAYABgADAAMAAgADAAIAAAAEAAQAAwAEAAUAAgAFAAMAAgACAAUAAAAAAAAAAwACAAEABwADAAIAAQAAAP//AQACAAAABAAEAAAAAAABAAAAAwAAAAAAAQAAAP//AAD///3/AQABAAAA//8AAAAAAQAAAAAAAAD+////AAD///3///8AAAAA///8//v/AAD//wAAAAD///7//v/9//////8AAAEA/v8BAAAA/v8AAP//AgACAAMAAAD/////AAAAAAIAAgAEAAIAAAACAAMAAgABAAIAAgAHAAIAAQADAAQABgACAAIABAADAAMAAwABAAMABQACAAQAAwAAAAYAAQAFAAUAAAAFAAUAAAAHAAAABgAIAAMABAABAAQAAwAHAAkACAAHAAgACgAIAAgAAgALAAsABwAGAAcABQAGAAcABgAIAAkACAAIAAYABQAHAAUACQAHAAcABgADAAgABQAGAAUABgADAAQAAwADAAEABwAFAAQABQACAAMAAAAAAAMABAACAAIAAQABAAEAAAADAAAAAAAAAAAA/v8BAAAAAAAAAP////8AAP7//f/9////AgAAAP3//f/8//7///////7//v/8//////8AAP7///8AAP7//P/9//v////9//z/AQD/////AAD9/////f///wIAAAAAAAEA/f8BAAAAAAACAAAA/f8CAP///f8AAAAAAwAAAP//AgD//wMAAQAAAAMA//8AAAMA/f8AAP3/AAACAP//AAD+////AQD/////AAAAAAAA+//8//7//P///wAAAAAAAP////8AAAAAAwD//wAA/f8AAP7//P/////////8/wAA///7/////v///wQA/f///////v8CAP//AQAAAAAA/v8AAP//AgAAAAIABAABAAEAAgAAAAAAAQD//wQAAwAEAAIAAAADAAAAAgAGAAEAAAACAAIAAgABAAYABAADAAMAAwAAAAAA//8CAAIABAABAP7/AQD//wAABAABAAAAAQAEAP7/AAAAAP//AQACAAEAAgAAAAEAAQAAAAEAAAABAAAAAAABAP//AAADAAAAAAABAAAAAgD//wAAAwAEAAAAAAAAAAMAAQADAAQABAAAAAQAAAAAAAQAAQAFAAMAAgABAP7/AQAAAAIAAgAAAAMAAAD//wAAAAABAAAAAAD//wAA/P8AAAAAAAACAAAA/v/9//7/AAD+////AQD///7/AQD9/wAA/v8BAAAAAAACAP7//v8AAP//AgAEAAAAAgACAAEAAAD+/wEAAQADAAEA//8AAAAAAQAAAAEAAQAAAAAAAQAAAAAAAwAFAAIABAACAAAABQACAAMABQADAAQAAgAEAAIAAQAEAAYABwAFAAUABgAGAAQABQAHAAcABAAGAAYAAgAEAAUACAAHAAkABgACAAUAAwAEAAgABgAGAAUAAgAJAAMAAwAIAAQAAwAEAAIABAAEAAQABwAEAAQAAwACAAQABAADAAUABQAFAAMAAgADAAEAAwAFAAMABAACAAAABAADAAIAAgAEAAQAAwD//wEABQACAAEAAwACAAIAAAD//wAAAAAFAAEAAgAAAP//BQAAAAQAAgACAAEAAAAAAAAAAAAAAAUAAAACAAEA//8BAP7/AAABAAAA/////wAA///+/wAAAgAAAP////8AAP//AAACAP///f///wMA/f/+//z//P8CAPv/AAD///3/AAD8////AAD+/////f/9//7//P8AAAAA/v////3//P/+//7//f8BAPv////9//z//v/+////+////////P/7//7//P/+/////P/9//z/+v/+//r//v/+//3/AAD9//3/AAD/////AgD9//z//f/8//////8BAAMAAwAAAAAA//8AAAAAAwAEAAIAAAABAAAA//8CAAIABgAEAAMAAQAAAAMAAwACAAYAAQAEAAIAAQAEAAAAAwAFAAAAAQAAAAAAAgAEAAIAAQABAAMAAwAAAAMAAAACAAIAAAAAAAAAAAAAAP//AgACAAEAAQD+/wAAAAAAAAEABAABAAAAAAD+/wAA//8AAAIAAAADAP3/AQABAAAABAAEAAQAAAD/////AwACAAAABQAEAAIAAAABAAEAAAAAAAMAAgABAAEAAAAAAP//BAACAAAAAgD+/wEAAAAAAAMAAAAAAP7/AAAAAAEAAAADAAEAAAADAAAA//8AAAAAAAACAAAAAQD+////AwAAAAEAAQAAAAEA/v///wAAAAADAAIAAAAAAP//AAADAAAAAwAEAAEAAgABAAIAAgABAAIABwADAAAAAwACAAUAAAAHAAYAAwAEAAIAAQADAAIABQAIAAAAAgAHAAMABQAEAAQABwAIAAYABQAEAAYABAAGAAgABAACAAYAAwACAAMAAgAHAAQABQAFAAMABQAEAAUABgACAAgAAwABAAcAAAAGAAUABAAEAAAAAwACAAIABAAHAAcAAgABAAIABQAAAAEABwADAAIA/v8BAAIA//8BAAIAAQABAAAAAAAAAAEABAABAAAAAQD+//7/AAD+/wAAAQD////////+/wAA/////wIA/f/+/////P////7//v8BAAAAAQD/////AAD8/wEAAAD////////7/wAAAAD//wEA+v/+////+v8AAP7///8BAP3//v/+//v////9////AAD+//3//v/8//7//f/6/wAA//8AAP3/+v////v/AAD9//z/+//9//3/+//7//z/AAD+///////7//7//f/+/wAA//8AAP///v8AAAAAAQAAAAAA/f/8//3//v8AAAAAAQAAAAAA/v///wEAAgABAAAA//8CAAEAAAAAAAAAAgADAAAAAAACAAAAAAADAAQABwADAAEAAQABAAUABAADAAUAAgAFAAIAAgAFAAQABQAGAAYABgAAAAEABAABAAUABAAFAAMAAQACAAEAAwAFAAQAAAAAAAIAAAACAAAAAwADAAAAAAAAAP7/AAACAAIAAgAAAAEA///////////+/wEAAAD//wAA//8AAP//AAAAAP///v/+/wAA///+/wAAAAD9/////v/8//3//P8AAAEA/f/+//3//v8AAPv///////7/AAD+//7/AAAAAP//AwAAAAIAAQD//wEAAAACAAIAAAAAAAAA/v8AAAAAAgAFAAEAAAABAAEAAQABAAIABAAFAAEAAAACAAMAAAAFAAEAAAAAAAAAAAAAAAMAAQACAAEAAgADAAEAAAABAAQAAwABAAMAAgAAAAAAAwAGAAIAAwAEAAIAAwADAAQABAAGAAMAAQABAAIAAwAEAAUABgAGAAQABAADAAYAAwAEAAQAAgAEAAQAAwAEAAMABgAHAAUABgADAAIABgAGAAUABwAGAAcABgAEAAcABQAFAAoABAADAAUAAQADAAQABQAEAAMAAgAAAAAAAgAEAAMABAAEAAMAAQACAAMAAgACAAIAAgAAAAAAAAADAAAAAgAHAAAAAQACAAMAAwAAAAEAAgABAAMAAAD//wMAAAABAAEAAQABAAAAAAABAAAAAAACAP7/AAD///7/AAACAAAAAQACAAAA/////wMAAAABAAIAAAAAAP7//f/+//7//v8BAAAAAAAAAP3/AAAAAAIAAQAAAAMAAAD///7///8CAAMAAQACAAEAAQACAAAA//8CAAAAAgACAAAAAQAAAAIABQABAAAA/v///wEAAAABAAQAAAAEAAQAAAACAAAABQACAAAAAgAAAAAAAAAAAAQABAABAAIAAAABAAMAAgAAAAYAAgACAAEAAAADAAAAAgAEAAIAAAABAAEAAQAAAAAAAQD//wEAAAAAAP//AAACAAAAAAAAAAAA//8CAAMAAAACAAEAAgAAAAAAAQABAAAAAQACAAIAAAAAAAAAAAAAAAIAAQD//wAA/v///wAAAAABAAAA/f8AAP3////+/wAABQD//wAAAQD+/wAA//8AAAMAAAACAAAA//8AAP7///8DAAAAAAAAAP7/BAD/////AAD//wEA/v///wAA//8AAAAA/v////7//f////z/AAAAAP//AAD+/wAA//////7///8AAPz/+//+//r//f/8//3//v/9//7/+//+//7/AAAAAP7//f/7//v//f8AAP7//v///wAAAAD+/wAAAAD//wAAAAD+//7/////////AAABAAEAAgAAAP7/AQD//wMAAwABAAIA/v8BAAMAAwAFAAYABQAEAAIAAAAHAAYABwAGAAMABAACAAIAAwACAAYABwADAAYAAwAHAAcAAwAIAAUACAAHAAMABAAGAAYABwAIAAYABwAHAAUABwAAAAMACAAEAAIABAAFAAcABQAHAAcABQADAAMABQAEAAIABwAHAAIAAwABAAMABAADAAEABAADAAIAAgADAAYAAwACAAYABAABAAQAAAADAAQABQAGAAAAAQAAAAAABAD//wEABQACAAIAAQABAAMAAAAFAAQA//8EAAAAAAACAAIAAQADAAIAAgACAAAABAABAAEABAADAAEAAAAAAAIAAAACAAUAAQAAAAAA/v8AAAAAAQABAAEAAQD///7/AQD+/wEAAQAAAAIAAAD+//7/AAD//wMAAQAAAP7//v8DAAEAAQABAAEAAQAAAP//AAACAAIAAwACAAEA//8AAAAAAAABAAEABAACAAMAAAADAAAA//8DAAEAAgAAAP7//v8BAAEAAAABAAEA//8AAAAAAwAEAAIAAwAEAAIAAAADAAEABQAEAAAAAgABAAAAAwAAAAEABgAEAAAAAgAAAAAAAQACAAMAAQADAAAA//8AAAIAAwADAAEABAAAAAAAAQAAAAMAAwAAAAAA/v/9/wAA/v8AAAAA//8AAAEA/////wEAAAACAAAAAgAAAP3///8AAAEABAABAAMAAQAAAAIA//8EAAMAAAAAAP/////9/wAAAAACAAAA///+////AQD//wEA///9////AAD+//3//v8BAAAA/P/9//z//P/8//3//f/+/wAA/v/+/wAA/f/9//7///////7//P/8//3//P///////f////3/+////////f///wAA/f/9//z/////////AwAAAP7/+//8/wAAAAD//wEAAQAAAP//AAD//wAABAABAAEAAgAAAAAAAgACAAEAAgAEAP//AAABAAMAAgACAAUAAwADAAAABAAFAAIAAwAFAAIAAwAFAAYABQAGAAcABgAFAAYAAgAEAAUABAAGAAgABQACAAUABAAHAAQABAAJAAMABQAEAAUABwAGAAcACwAEAAIAAgAGAAcAAwAGAAcABQAEAAYABAAIAAMABwAFAAUABAAFAAQAAwAEAAQACgAGAAMAAgAEAAMABQAIAAUABgADAAUABQAEAAMAAwAHAAUAAQACAAMABQAAAAQABQABAAEAAgABAAUAAAAAAAYAAwABAAIAAQAEAAIAAgAFAAMABAACAAUABQAAAAQABgABAAAAAAABAAIAAAACAAQAAwADAAAAAwACAAAABgADAAEAAQAAAP3////8//7/AAACAAEA/v///wIAAAAAAAAA///+//7/AAD//wAA//8AAP//AAAAAP//AAAAAP//AwAAAAAAAAD+/wMA//8AAAEA/v/+//z//f8AAP7//f8CAP7//v/8//3/AAD+/wEAAQD+//7////+/wAAAAABAAAA//8BAP3//v8AAAAA//8BAAEAAQAAAAAAAQD//wAAAQACAAEAAAD//wAAAQADAAIAAgABAAAAAgD//wAAAQAGAAMAAwADAAEAAgAAAAUABAACAAQAAgAAAAAAAwAEAAQAAgADAP///v8AAAQAAAADAAAA/v8AAAEABAAAAAMAAAAEAAEA//8AAP//AAAEAAEA/f8BAP//AAD8////AgAAAAAAAAAAAAAAAAD9//7/AgD9//3//f/8/////v8AAP///P/9////+v8AAP7///8AAPz//v/9//v//P/+//3////+//7//P/6//3/+////wAA/f/9//z/+/8AAPz////9//3//f/7//r//f/9///////9//3//P/8//3///8AAAEA///7//3//v/9//3/AAADAAAAAAD+//7////8/wAAAQAAAAEAAAD//wIAAQAEAAQAAQACAAAAAQABAAMABwAGAAEAAQAEAAIAAAADAAIABQAFAAMAAgABAAIAAwADAAQABAABAAEAAQADAAIABQAFAAMAAgACAAIABQADAAIABgAEAAIA//8CAAUAAAAEAAMAAQACAAAABQAEAAEABwAGAAIAAwAEAAQABQAEAAcACQAFAAMABgAFAAgABgAGAAoACAAGAAQACAAKAAUACAAGAAUAAgACAAcACQAFAAsACgAEAAcACAAIAAgABwAJAAYABwAIAAcACQAJAAcACQAHAAgACAAEAAcACQAGAAYABgAIAAYAAwAGAAIABgAHAAQABwAFAAMABQAFAAMABgAHAAQABAADAAQAAwACAAUAAwADAAMAAAADAAIAAQAEAAUAAAABAAEAAAABAAIAAQADAAAAAAAAAAAAAAAAAP7/AQACAAAA/f8AAAAA/f8AAAEAAAABAP7///8BAAAAAgABAAAAAAD//////v/9/wAAAwAAAAAA///+/wAAAAACAAgAAwAAAP7/AAACAP7/AgACAAAA/////wEAAwABAAEAAgAAAAIAAQADAAUAAwAFAAMABAABAAEAAQAEAAQAAgAEAAMAAgAAAAEAAwAAAAQABQADAAEAAQABAAIABAADAAMAAwAEAAEAAAAFAAEAAgAFAAQABQABAAMABgAAAAQACAADAAIAAAAAAAUAAAAAAAQAAgADAAIAAQADAAAABQACAAQAAQAAAP//AAACAAIABQAAAAIAAQACAAQAAAAFAAYAAgABAAAAAAAAAAAAAwABAAIAAgAAAAEAAQAAAAEAAwAAAAEA///+/wAAAAAAAAEA//8AAP7//P/9/wEA///9/////f/9/////v/+///////9//7/+//6//z/+//9//3//f/8//z/+//4//3//v/+//z//P/8//v//P/+//3/AAD8//v//v/7//7//v/8/////f/9//v//f/9//z//f8AAP3//f/9//v/AAD//wAAAAAAAP//AAD9//7///8BAAAA//8BAAAAAAAAAAAAAQACAAEA////////AQABAAQABQD//wIAAAACAAMAAwAFAAQABAAAAAIAAQAGAAMABQAIAAEAAgABAAEABAAEAAYACAAGAAUAAwAEAAYABAAGAAUABwAEAAMABAADAAQABQAGAAUABQABAAIABQACAAQABQAFAAQAAwADAAYABQAEAAQABAAGAAYABgAFAAUABwAHAAUABwAGAAUABgAIAAsABwAKAAgABAAHAAMABQAHAAkABgAFAAMABAAFAAUABgAJAAUABQACAAEABwAEAAgABgADAAMABAAEAAQAAgAGAAkAAwADAAEAAgAGAAMAAwAFAAIABAAFAAMAAwACAAUABAAEAAMAAAACAAMABAAGAAQABAAFAAMABAAFAAMAAwAHAAYAAwACAAMABgAEAAQABgAEAAUAAwAEAAMAAgAHAAgAAwADAAMABAAFAAUABAAFAAcABAACAAIABQADAAAABQAEAAMAAQADAAQAAAABAAIAAQAAAAAAAQACAAEABAADAAEAAgD8/wAAAQAAAAYAAgABAAUAAQABAAEAAQACAAIAAQACAP///v8BAAAAAwAEAAEAAgAEAAIAAwAEAAIABQAAAAAAAgABAAQAAgAAAAUAAgACAP////8BAAEAAAAEAAIAAAACAAAAAAAAAAAAAQABAAAAAQD//wAAAgAAAAUAAAD//wEAAQD///7/AAACAAAAAAD9//7/AAD//wAAAAAAAP///v/8//z/AAD9/wAA/f/6//n/+P/5//z////+//z//P/7//r/+f/7//n//P/7//n/+v/4//r/+//5//v//P/8//v/9f/6//r/+v/9//n/+//4//b/+f/5//j//f/8//r/+P/3//z/+v/7//z/9//1//r/9//5//j/+f/8//v/+v/6//f/+P/6//n//P/7//r/+P/5//7//f/+////+//8//3//P/7/////v8AAP7//P/+//z////+/wAAAAD+/wAA/P/8/wAAAAD//wAAAAAAAAAA/////wAAAQABAP//AAABAAAA//8AAAEAAAADAAQAAAAAAAIA//8EAAQAAgAFAAEAAwAGAAcABQAGAAgABQAFAAQABwAEAAcACgAHAAUAAgAGAAgABwAKAAcACgAMAAkACwAHAAYACwANAAcACgAKAAcABwAFAAgACAAJAAgABQAHAAYAAgADAAcACQAIAAYABwAIAAcACAAJAAcABAAEAAYABQAGAAkACQAFAAYABgAFAAkABQAHAAcABwAIAAMABQAGAAMABgAGAAUABQAFAAIABQAFAAYABgAGAAUAAQAEAAQABAAFAAYAAwAFAAQAAwAEAAMABAAEAAUABgABAAUABAAAAAMABAADAAQAAwAEAAUAAwAFAAYABAADAAIABAADAAIAAgAEAAEAAQABAAEABQABAAEABQACAAQAAQACAAcABQADAAQAAwAGAAQAAwAGAAMAAwAFAAIABQACAAMABQADAAUABAAEAAQA//8AAAUAAQABAAMAAgAFAAEAAwACAAIABQADAAYABgACAAQAAwABAAYAAwADAAUAAwAEAAUABQADAAgACAAHAAIABwAGAAAABQAIAAYABQADAAYABwACAAcABAAEAAEAAwAFAAIABgAEAAcABAADAAYABAAEAAQAAAAFAAUABQABAAEAAgAAAAEAAwAEAAIAAgAAAAAAAAAAAAEAAAD+///////8/////f8AAAAA///6//v/AAD7//7//v/7//v//f/4//r/+//8/////f/8//z/+P/7//z/+P/+//3/AAD8//n/+//7//v//f/8//j/+f/6//v/+f/5//z/+v/4//n/+P/7//f/9v/8//v/+v/6//r/+f/5//n/+f/5//b/9//5//n/+P/6//v/+f/5//n/+v/5//z/+//5//z/+v/7//r/+v/+//z//f/9//v//P/4//v////7/wAA///8//r//f////z//////wAA/v/9//7//v/+/wAAAAD//wAA///9//7/AAAAAAAA//8AAP7//////wAAAQABAAAAAQD//wMAAQAAAAQAAwADAAIABgABAAQAAQACAAcABQAEAAQABgAEAAIABAAFAAIAAgAEAAQAAgACAAQAAwAFAAMABwAFAAYABQAGAAYABgAGAAUAAwAGAAcABgAKAAgABgAFAAUABQAGAAYACAAIAAUABgAHAAcABwAGAAgABgAGAAQABwAKAAMABAAJAAcABgAHAAUACAAEAAoABgAGAAcABgADAAMABwADAAcAAwABAAIABwAHAAAABAADAAQAAAAGAAQABgAFAAIACgADAAQAAwABAAQAAgAEAAYABQADAAcABwADAAIAAAAFAAYAAQAEAAIABAAEAAIABQACAAAAAwAGAAMAAwABAAcABwACAAUAAwAFAAMABAAFAAQABAADAAMABgADAAEABAAGAAQAAgAEAAQAAQADAAIABAACAAIAAgADAAAABQAHAAAABQADAAQABgABAAUABwADAAEAAQACAAAAAwAFAAcABQAEAAMAAAAHAAAABgAFAAEAAwAAAAEAAgADAAIAAQADAAQAAwABAAAAAAACAAEAAwACAAAAAwABAAQAAwAFAAIAAgAEAAAAAgABAAIABAAAAAAAAAD//wAA/v///wAAAAD//////////wAA//8CAP////8AAP3/AAD///z//v8AAP7/+//5//3//v/9//7//f/9////+f/5//7//v////r//f8AAPv/+//4//z/AAD8//z/+//5//3//v/7//7/+//+//v//P/9//n/AAD9//3//P/8//j/+v/6//7/AQD5////+//3//7/+////////f/9//r/+f/8//7//f/6//v/+//4//r/+f/8//v//v/9//z/+f/4//j/+P/8//3/+P/7//z/+//9//f//v////r//f/2//r/+//8/wAA+/8AAP3/+v/9//v/+//9//3/+f/+/////P/+//z/AgABAAIAAgD+/wEA/v8AAAAAAQABAAQAAAAAAAMAAQAFAAMAAwADAAAABAAAAAAABAABAAMAAAAFAAQAAwACAAMACAAEAAUABwAHAAUACAAGAAgACAAHAAUABwAJAAkACwAMAAwACwAHAAkACQAJAAoACgAMAAkACQAOAAkACAAJAAsADAAKAAsACAAIAAYACQALAAgABgAGAAcACAAEAAUABwAGAAQABwAKAAMACQAHAAgACQAEAAsABAAJAAgAAgAIAAMACAAEAAUACgABAAUABQAHAAgAAwAGAAUABgADAAQABAAEAAcAAQADAAEAAAAEAAIABgAAAAAABAAAAAMAAQACAAAAAQABAAEAAQACAAEAAgABAAMABAACAAEAAAAFAAIAAgAAAAIAAwACAAQAAQAEAAIAAQAAAAMAAwABAAQAAgAAAAIAAwAFAAEAAwAEAAUAAwADAAUAAwADAAQABAADAAQAAgADAAQAAAADAAgABQAFAAIAAQAIAAIACAAGAAQABQAEAAQABQAGAAYABwACAAQAAwACAAMAAgACAAMABgABAAQABwADAAIAAgACAAIAAAAEAAMABAADAAMABAADAAIAAQADAAIAAgABAAQABgADAAEAAQAAAAEAAgABAAMAAgAAAP3//v8AAAEAAAAAAAAAAgAAAAIAAwAAAAMAAQABAP///f8AAAAA//8AAAAAAAAAAAAA/v/+//////////3//f/9//n////8////AAAAAAAA/f/9/wAA/v/9//3//f/+//r//f/+//7//f////7//P/5//3//P/5//7//v/7//z/+P/6//z/+f/8//n/+f/6//T/+P/4//r////3//f/+v/2//n/+f/4//z//f/6//n/+P/5//j/+f/8//f/9f/4//X/9v/3//j/+f/5//j/+f/2//b/9v/2//3/+v/0//b/8//4//n//P/9//f/+//6//j/+v/3//z/+//+//v//P/4//z//f/8/////P/9//z//v/+//3/AAAAAP//////////AQABAAAAAQABAAEAAAAAAAIAAAAEAAUAAQABAAMAAgAEAAMACAAFAAMABQAFAAIABAAGAAUABQAFAAUAAwACAAQABQAHAAUABgAJAAgAAwAGAAYABwAJAAYABgAGAAYABgAIAAUACAAIAAgACgAGAAgACAAFAAcACQAGAAgACgAJAAgABQAIAAgABwAIAAYACQAHAAsABwAGAAkACgAGAAkACwAIAAkACAAHAAcACwAJAAcACQAJAAsACgAHAAYACAAHAAcABgAHAAgABwAEAAQAAwAHAAkABgAHAAYAAwAIAAQABAAHAAEABQADAAUAAwADAAMABAAEAAEAAQACAAAAAgACAAEA///+/wEA//8CAAAAAgADAAEABAABAAIABAAAAAAABgADAAIAAgAEAAUAAgAFAAYABQAFAAYAAwAFAAIABgAIAAQAAgACAAUABQADAAQABQAIAAQAAAAJAAcABgAJAAgABgAGAAgABAAGAAYACQAJAAYACQALAAYACQAJAAkACwAJAAkABgAJAAsABgAGAAgACwAFAAgACQAHAAoACQALAAUABgAFAAAABQAEAAYABQADAAQAAwACAAAAAAABAAMABQABAAEA/////wEAAQAAAP7/AQAAAPz/AAD+/wAAAwAAAAEA//8AAP3/+/////z////+//v/+f/7//v//v/9//n//P/7//r/+P/2//v//f/9//r/+v/8//v//P/4//v/+v/3//r/9P/5//r/9P/6//n/9//5//b/9v/4//j/+//4//f/9v/0//P/+P/2//n/9//1//r/9v/1//X/+P/3//X/+P/1//T/9//4//n/9//7//j/9P/5//n/9v/4//r/9//6//f/+P/5//j/+v/5//z/+v/7//n/+//7//z//P/5//z/+//7//3//P/9/wAA/v////z//f8AAP7/BAD//wAAAAD9//7/+v///wAA/f/9/wAA+/8AAP//AAAAAAAAAAACAAMAAAABAAAAAQABAAIAAgABAAMAAgAAAAQABQAEAAQAAwAEAAQABQACAAsABAAFAAUABQAHAAAABwAHAAoABwAEAAQACQAEAAwACAAHAAcABgAJAAYABAAKAAoACAAMAAkADAALAAcABwAIAAgACQALAAkADAALAAoACwANAAoACQALAAoACwAMAAkACAALAAoADQANAAgACgAMAAkACQAHAAkACwAIAAgACAAKAAgACgAHAAoACAAIAAsACAALAAcABQAHAAYACQAJAAYACAAEAAUACQAFAAcABgAKAAYABwAGAAMABgADAAgACQACAAMAAQAEAAMAAwAFAAYAAwAEAAUABAACAAIACAABAP//AQACAAcAAAABAAIAAQACAAEAAwAAAAAAAwABAAIAAQAEAAAAAwAGAAIAAgAFAAMAAgACAAEAAwADAAUAAgAAAAEAAwAEAAQABQAFAAQABQABAAQAAwABAAQABAAFAAMABgACAAQAAwACAAUABgAEAAIAAwAAAAEABQAFAAEABQADAAIAAwAEAAgABQAGAAQABQABAAMAAgACAAMAAgACAAEAAwACAAEA//8FAAMAAAAAAAEAAgAAAAEAAgAAAAAAAQAAAAEAAAACAAIAAAADAAIAAAD///////8AAAAAAQAAAP//AAAAAAAAAQAAAP///v////v//v/+//7/AAD///3//f8AAP3//f8AAAAA///6//v/+v/6/wAA+v/7//z/+//6//r/9//6//n/+f/6//n/+//6//b/+//+//3//P/2//n/+P/4//r//v/8//z/+//5//z/+f8AAP3//f/+//r/+//8//n/+f/9//z//v/9//v/AAD8//z//P/8//z//P/+//z//f/+//3/AAAAAPz//f/+//7/AAD9/wAAAwD8//7/+//9//3//v8AAAAA/v8AAAEA//8AAAEAAgAAAP3//v8BAP//AQAAAAAAAAD9/wAAAAABAP//AAAAAP//AAAAAAAAAQABAAIAAgAAAAAA//8CAAIAAgACAAMAAwAEAAQACAAGAAQABQAGAAoABAAEAAgACAAHAAYACAAGAAcACAAKAAgACQALAAkADAAJAA0ACgAPAA4ACAAMAAkACgAKAAoACQANAA4ACgAMAAwACwALAAsADgAMAAsADQALAAkADwAKAAoAEAANAAsACAAKAA4ACgAKAAwADQAMAA0ACwAKAAwACgAMAA0ADAALAA0ACwAJAAoADAAJAAgACwAIAAwACQAJAAgACAAHAAUACQAIAAYACAAMAAgACQAJAAgADQAFAAYACAAGAAYABAAIAAYABQAFAAcACAAGAAUABQAIAAUABwAKAAQACAABAAQABgAEAAgABQACAAUABQAEAAcABAAHAAcABAACAAMABQAGAAEAAAAHAAMAAwAAAAIAAQACAAUAAwACAAMAAgAAAAMAAAAAAAIAAAACAP//AAADAAAAAgABAAAAAAAAAP7///8AAP7/AAAAAP7/+v//////+v/+/wAAAAD+//n//P/9//n//v/////////7//v/+//7//3//v/+//3//f/7//7/+//9//z/+////////v/8/wAA/f8AAP///f/9//r//P/7//7//v/8//z//P/5//v//v/7/wAA/P/9//7//P/9////AAD///z//P/9//7//f/9/wAA///9/wIA/f/8/wAA/v8BAAEAAAACAP////8AAAAAAQABAAAA/v/9//z//f8BAP7/AAD9/wAA/////wAAAAAAAP7////7//7//P////3//v8AAPz//v/8//z//f/9/wAA///8//3/+//7//3/+//+//3//f/+//v//v/9//3//f8AAP3//f////v////9//3//v/9//v/+P/8//3//P/7/////v/+//r//f/+//v/AAABAAAAAAD+/wAAAAD+/wIAAAD//wIAAAD//wQAAAAAAAQAAgADAAEAAgACAAIABAAAAAIAAQAAAAUABwACAAYACAAEAAYAAgAFAAcABwAIAAYABgAFAAcACQAJAAkADAALAAcABgAIAAgACgAJAAoADAAIAA0ACAAHAA0ABgAKAAoADAANAAoACAAKAAsACgALAAoACgAJAAoADAAJAAkACQAIAAYABQAGAAwACQAHAAkABwAGAAsABwAIAAUABgAIAAMABAAIAAcABwAFAAYACAAFAAQABQAIAAkAAwAEAAgABgACAAMABQAIAAUAAwAIAAkABgAEAAYACAAFAAgACQAJAAQABQAGAAQABwAGAAYACwAHAAcAAwAHAAgACQAHAAMABgADAAMABQACAAIABQAEAAMAAgACAAQAAQABAAMAAgAAAAAAAAAAAAAAAAABAAAAAAAAAP//AQAAAAAAAQAAAAAAAAAAAAAAAAAAAAEAAgABAP///P8AAP3//P8AAP///f/8//7////9/////v/7//3//f/8//3//v/9//7//P/8//3/+v/8/wAA/f8AAAAA/f/8/wAA///6//3////9//3//P/7//7//P/+/wAA+/8AAP3//v///wAA/////wAAAQAAAP7/AAAAAAAAAAAAAAIAAgD//wIAAAABAAIAAAAGAAAAAAACAAIAAAAAAAMAAAAAAP//AAAAAAIAAAAAAAIAAQABAAAAAAAAAAEA//8AAAAA/v8AAP3/AAADAAAAAAD///7////8/wAAAAAAAAAA/v/+/////f/+/wAAAAAAAPz//f8AAP7/AAAAAP7//f/9//7/+//9//3/AQD+//3/AQD8/wAA/f/+/wEAAAD///f/+//9//z//v///wAA///+//z//P/9/wEAAAD//wAAAAD+/wAAAAD//wMA/v8BAAAA//8BAAAAAAADAAAAAAAAAPz/AgD//wAAAgABAAAAAQAAAAEAAAACAAIAAAAAAP//AAAAAAIAAAAAAAAA/v8BAAAAAQAAAAAAAAAFAAIABAADAAMABgACAAgABgAFAAUABQAHAAQABAAFAAkACAAIAAcABwAFAAcACAAGAAQABgAIAAgABQAIAAgABwACAAcACQAKAAgACAAIAAYABQAGAAcABwAIAAYACwAIAAQABgAGAAgABgAHAAcABwAFAAUABgAIAAUABAAHAAcABwAEAAQABwAHAAcACAAHAAYACQAIAAgACAAFAAkACgAEAAcAAwAHAAUAAgAFAAcABQAEAAUABAAEAAMABQAFAAMABAAEAAQABAAHAAYABwAEAAYACAADAAQABgAHAAYABwACAAUACAAEAAUABQACAAEABgABAAQAAAADAAIAAgACAAAAAAABAAEAAwAEAAIABAAAAAEABAABAAIABQADAAAA/////////f8CAAQAAQD/////AAAAAAAAAAACAAAA/f8AAPn/AAABAP3///8AAP3//f/7////AAD8////+v/8//z//f8AAPz//f/+//7//v/9//r//f/9/////f8AAP7/+//8////AAD+/wAA/f/8/////f8AAAAAAAAAAP///f/+//z///8AAP//AwD+/wAAAAD8/wAAAAAAAAAAAQAAAAAAAAACAP////8BAAIAAAD+//7/AQACAAAAAgD//wEAAQD//wIAAQACAAAAAAAAAAAAAAAAAAIAAwABAAEAAAAAAP7/AAABAAEAAgADAAAAAAAAAAEA//8AAAAA//8AAPz//f////7///8AAAEAAwAAAAAAAAD//wEAAAD//////v/8/wAA//8AAAAA//8AAP3///////7/AAAAAP/////+//3//v/8/wAAAAD9/wAA/f/6//7//f8AAP7///////z//P/+////AAD///r////+//3///8AAAAAAAAAAP7//f/+//3/AAAAAAEAAAAAAAIA//8BAAEAAwAEAAEAAgAAAAEABAACAAAABQABAAEAAgADAAAAAQACAAQAAAAAAAUAAQAGAAMABAACAAMAAQABAAMAAQAEAAQABAAHAAUAAQADAAYABAADAAYAAwAFAAQAAwAHAAYACAAKAAcABQADAAQACQAHAAoACwAGAAgACAAJAAsACAAMAAkACgAKAAgABwAIAAkACAAJAAUACAAJAAYACgAGAAkADQAIAAgACwAIAAoACAAIAAwACgAIAAcACQAKAAoACwAOAAoACAAHAAUACQAHAAoABwAJAAcACAAEAAYACAAHAAoAAwAFAAcABgAHAAMABAAIAAYABAADAAQABwACAAMABgADAAMAAwACAAYAAgADAAcABQAAAAEAAgAFAAMAAQACAAAA/v///wAAAAD+/wAAAAD//wAAAAD+/wEA/f8AAAMA/v8CAAAA//8AAAAAAwAAAAAAAAAAAP//AAABAAEAAAD//wAAAAAAAAAA/v/+/wAAAAD6//v//P/9//7///8AAP3/+//9//r//v/8//z/AAD9//7/+v/8//3//f/9//7//f/7//z//f/9//7//f/9//v//P/8//3//P/6//3/AAD+//v//v/8//z/+f/+//7//P/+//7/+//9/wEA//8BAP3//f8AAP7/AAAAAAAAAgD+/wAAAAAAAAEA//8BAAAAAgD//wAAAQABAAEAAgABAAMAAAAAAP//AAAAAP//BAAAAAAAAQD//wIAAAABAAUAAgACAAAA//8BAAEAAwAAAAAA///+/wAAAAD//wAAAAD9/////v///wAA/v8AAAEA///9//3//f////3/AAD+///////+/////v///wAAAAAAAP3/+v/8/wAAAQABAAIAAAABAAAA/v/+/wAAAQAAAP7//f/+//z/AQD+/wAAAgAAAAAAAAD9/wAA/////wEA/v8CAP//AQAAAAAABAACAAIAAQACAAEAAwADAAEAAAAAAAEAAwABAAMAAQADAAIAAgAFAAAABgAEAAIACQAFAAQAAgADAAUABwAEAAcACAAEAAcABwAGAAgABQAJAAkABgAFAAgABwAHAAYABQAMAAMABwAKAAMACwANAAwACgAJAAsADAALAAgACwAIAAoACgAHAAkABgAKAAkABwAJAAkACAAJAAcABwAKAAgACgAHAAoABwAGAAkABgAHAAcABQAEAAYABgALAAgACgAIAAUABwAFAAYACAAHAAgACwAHAAcABwAFAAoACgAJAAoABwAIAAcABwAHAAgACQAHAAUABAAGAAYABgADAAUACQAHAAQABQAFAAQAAgAEAAIAAgACAAQAAgAEAAEAAAAFAAAAAAAAAAIAAgD//wEAAgAAAP7/AAAAAAAA/f8AAAMA//8AAP///v8BAPz/AAAAAP//AAAAAP//AAAAAP7/BAAAAAAA/v/9/wEA/v/+/wAAAAD8//z//f////3///////z//f/9///////+//3/AAD///7//////wEAAAAAAAIAAQD//wAA//8DAAAAAAACAAAAAQAAAAAAAwACAAMABAACAAAAAAADAAMAAAABAAMABgACAAIABAAEAAAAAwAHAAUAAgACAAIAAwAAAAQABgAEAAQAAQACAAIABAAEAAUAAwADAAIAAAADAAIAAwAFAAEAAQAAAP//AgACAAUABAABAAAAAgAAAPz//v8AAAAAAAAAAP3///8AAAAAAAAAAAAAAAD///3//v/9/wAAAAD+/wAA/v/+//7//v/////////9//z/+f/8//r//f////3//v/9//z//f/6///////8//z//P/9/wAA///9//z//P/+//3//P/7//z//P8AAP3//P/+//r////+////AAD8//7//v/9/wAA//8AAAAA/P/7//7//v/9/wAAAAAAAAAA/v8AAP3/AAD+//7/AgAAAP7//v/7////AAD//wAA/////////f8BAAAAAQD//wAAAQD+/wAAAAAAAAIAAQAAAAAAAQABAAAAAQAEAAUABAAAAAQAAAAFAAMABQAGAAMABQAEAAQAAwAGAAQACgAHAAMABAACAAgABQAHAAcABgAGAAkABwAJAAsACwAJAAcACQAGAAYACQAHAAgACwAMAAcACAAHAAoADAALAAsACAAHAAYABgAKAAYACQAKAAYABgAGAAUABwAHAAsACQAJAAMABgADAAUACQAIAAgAAwAGAAcABgALAAYACAAJAAcABgAGAAcABwAJAAYABQAJAAYABAADAAUABQAEAAcAAgAEAAQAAQAHAAAAAwAIAAIAAwAAAAAABQAAAAEAAwAAAAAAAQACAAEAAAACAAEAAgAAAAAAAAABAAEAAgADAAAA///9/wAAAAAAAAAAAAAAAP7/AQD//wIA/////wAA//8AAP3/AAADAAAAAAACAP//AAD//wEAAQABAAAAAAABAAAAAAABAAMAAQABAAIAAAAAAAAA//8EAAMAAwADAAQAAgD//wEABQAAAAIABQADAAEAAwACAAcAAwAFAAYAAwADAAIABQAHAAQAAwAGAAUAAgADAAQACAAFAAcACAAFAAYABwAFAAgACQAIAAcABwAIAAUABwAGAAcACAAIAAgABAAFAAYACQAFAAsACgAEAAYABAAEAAUABAAIAAYABQABAAMABQAIAAIABgAFAAMABAAFAAEABAADAAUABwABAAQABwABAAcAAwACAAgAAgABAAEABgAIAAAAAQAFAAIAAgADAAEABgADAAEAAwADAAAAAQACAAUAAwAEAAYAAgAAAAIAAAADAAAAAgAEAAEAAgABAAMAAQAAAAAAAAACAAEAAAD//wAA/v8AAP//AAD///3///8AAPz//v8AAPz/+//8//v//f/6/wAA///+//7//v///////f/9/////P/+//v////+//r//v8AAP3//v/6//r//f/6////+//9//3//P/5//v/AAD9//7//v/8//7//f////3//v8CAP3//f/9////AAD9//v/AAD+//7/AAD9/wAA/P8CAAEAAAAAAAAAAAABAAAAAQAEAAAAAAACAAAAAwAAAAIAAwABAAIAAAADAAIAAwADAAMAAwAAAAIAAAACAAMABAAEAAIAAQACAAAAAwADAAMABAACAAMAAQACAAQAAgAGAAcAAAABAAAAAgAHAAcABgAEAAMAAgAFAAQABgAEAAQACAAGAAAAAwADAAQAAwADAAoABAADAAUAAQACAAIAAwACAAQAAgABAAEAAAADAAUAAgAAAAAAAAACAAEAAQADAAMAAQAAAAIAAAACAAEAAwADAAAAAgAAAP//BAABAAEAAwAAAAAAAQAAAAIAAAAEAAMA/v8CAP7/AAACAAAAAAABAAEAAAABAAAAAgAAAAMAAgACAAAAAAAAAAIAAgAAAAQAAAAAAAEA//8DAAAAAgAAAAAAAgADAAIAAQACAAAAAwACAAAAAAAAAAMAAAADAAQAAgADAAMAAQADAAUAAgAGAAUAAgAEAAMABwAGAAIACgAGAAIAAwADAAgAAwAEAAcABgAEAAQABAAIAAQABgAGAAUABAAFAAMABwAFAAUACAAGAAcABAAGAAoABgAGAAcABgAFAAYABgAJAAcABwAHAAcABQAEAAYABgAGAAQABQAEAAMABAABAAUACQAEAAYABgACAAQABgADAAQABwADAAAAAAAAAAEAAQABAAMABAADAAAABAAAAAEAAAAAAAIAAQACAAEAAQAAAAIAAAAAAAAAAQACAP7/AAAAAAAAAAAAAAAAAAAAAAAA/f8BAAAA/////wAA///+//7//f////7//P/8//3////7/////v////3//P/8/////////////f/9//3///8AAP///f8AAAEAAAD+//7///////3/AAD9//v/+//7/////f/////////+/////f/+//////////7/AAD//////v/9//3/AQAAAP7/AAD///7///8AAAEAAAAAAP///f/+//7/AAD//wAA/////wAAAAAAAAAAAAAAAAAA//8AAAAAAgABAAEA//8AAAAAAQADAAAABAACAAIAAQAAAAIAAgACAAMAAQADAAIAAgABAAIAAgAEAAUABAAEAAQAAQAHAAUABQAFAAYABAAGAAMABQAFAAQABwAEAAMAAwAEAAMABAAEAAUABgADAAIABQACAAEABQABAAMAAQAAAAMABAAEAAYABAADAAIAAgABAAIAAgADAAQAAwAAAAEAAgABAAEAAQAEAAIAAAACAAMAAQABAAQABAABAAAAAAAAAAEAAwACAAQAAgD+/wAA//8AAAMAAwACAAAAAAAAAP//AwACAAMABAAAAAEAAQABAAAAAQACAAIAAAD//wEAAQAEAP7/AgADAAIAAAAAAAMAAQABAAEAAwAAAP3/AAAAAAIAAgACAAQAAwABAAQABAAFAAQAAgAFAAIAAwAEAAAAAwAEAAQABQACAAQAAwACAAQAAwADAAcAAwABAAMABAAFAAEABAAFAAUAAAADAAYABAADAAYABgADAAIABQADAAYABwADAAsABwAIAAMAAgAKAAUABgAGAAQABwAEAAQABQABAAYAAgADAAIAAAD//wMAAwAEAAIAAwABAAAAAAADAAQAAgAGAAMAAAACAAEAAwAEAAMABgACAAMABQAAAAQAAgABAAUAAgAAAAIAAQACAAAAAgAFAAMA//8BAP//AAACAAMAAwABAAAAAQAAAAEAAgACAAUABQAEAAIAAAADAAAAAQAGAAAAAQAAAAAAAAAAAAIAAAAAAAAA///9/wAA/v8CAAAA///9//z//P/9/////f8AAP///f/9//7/AAD+///////9//3//v/9//r//f/+/wEA/f/8//v//f/+//3/AQD9//z//P/7//z/+//6//7//f/6//j//f/5/////f/6/wAA/f/7//v//f8AAAEAAAD/////AAAAAP7/AAAAAP//AAD//////v/+/wIAAAD//wIAAgAAAP///f/+/wAAAAABAAEA//8AAP//AQAAAAAAAAD//wAA/v//////AQABAAIAAQAAAAIA//8BAAIAAQAEAAAAAQADAAAAAgADAAIABAACAAMAAQABAAMAAQADAAQAAwACAAMAAgADAAIAAgAGAAUABAACAAQABAAEAAMABQAEAAMABAABAAUAAgAAAAUABAAAAAMAAgADAAMAAQAGAAQAAQADAAAABQAFAAQAAgACAAMAAgAAAAEAAAADAAMAAQACAAIA/v8EAAMAAQAHAAAAAgABAAAABAABAAAAAQAEAAAAAAAAAP//AgACAAIAAwABAAEAAAADAAEAAgAEAAAAAgAAAAAAAgAAAAEABAAAAAAAAAABAAEAAQABAAEAAAAAAAAAAAAAAAEAAAADAAEAAAABAP//AQABAAEABAACAAEABAAFAAMAAgAFAAMAAQABAAAAAwAEAAQAAQAGAAYAAwAEAAYABAAGAAUABAAFAAUABQADAAUAAAAFAAkABAAEAAMABAADAAIABgAEAAMAAwAEAAIABAAFAAQABgACAAQAAwACAAUAAAADAAUAAQACAAAAAQADAAAAAwAFAAAAAAAAAAQABAAAAAAAAwAEAAEAAgAAAAQAAgAAAAQAAgADAAMAAAADAAMAAQAEAAEAAgAEAAAAAwABAAIAAwACAAIAAQD//wIAAAADAAIAAQAAAAEAAAAAAAEAAQACAAMAAQAAAAEAAAACAAAABAADAAAAAAABAAEAAAABAAIAAAABAAAA/v8BAAAAAQADAP//AAD//wAAAAD//wAAAAAAAP7//v/+//7////9//3//////wAA/f/8/wAA///8//v/+//9//z//f/+//3/AAAAAPv//f/+//3//v////3/+//8//3/+//8//z//f/+//3//P/+//z/+//9//7//v/9//v//f/8////AAD+///////+/wAA//8AAAEAAAD//wAA//8AAP7//v/+/wAAAAD/////AAD///3//////wAA/f8AAAAAAAAAAAAAAgD//wAA/v8AAP3/AQAAAAEAAgACAAMA//8AAAAAAgAEAAMAAgADAAAAAQACAAIAAwAHAAQABAADAAEABwACAAUABAAHAAcAAQAFAAQAAwAJAAQACAAIAAMABAAFAAYABgAFAAUABgAEAAMABAAFAAQABwAGAAMABwAFAAcABwAJAAgABQAIAAUAAwADAAMABgAHAAYABAACAAIAAwAEAAMAAwAFAAEAAAABAAIAAwACAAMAAgD//wAAAQACAAEAAgACAAEA//8AAAEAAgAAAAEAAgACAAMAAAAAAAIAAwAAAAMAAAAAAAMAAQABAAAAAgABAAAA//8BAAAAAgAAAAEAAgAAAAAAAAD//wEAAQACAAQAAwABAAEAAAADAAIABAAGAAQAAgACAAMAAQACAAMAAwADAAMAAwAEAAIAAAAEAAQAAwACAAQAAQABAAEAAgADAAMAAQAFAAMAAgACAAMABQAEAAYABQAFAAIABQAHAAYABAAEAAYAAwABAAIABAAFAAMAAgABAAIABAADAAQABgADAAEAAwAEAAQABAACAAQAAwACAAMAAgACAAAAAwADAAUAAwAEAAMAAgACAAIAAwACAAMAAgABAAIAAwADAAMAAAABAAMAAgAAAAIABAADAAAAAAACAP7/AQAAAAIAAAAAAAEAAAACAAEAAQAAAAEAAQAAAAIA//8AAAEAAQAEAAEA//8BAP7/AAAAAAIAAAAAAP///v/+/wAA/////wEA/f/9/////P/9//3//v8AAP//AAD///v////+/////f/8//3//v/8//7/+//9//3//f/6//z//P/7//3//P/9//z//f/9//z//P/6//3/+//8//r//f/5//z//v/7/wEA/v/8/////P/+///////7//7//v/+//////////3/AAAAAAAA//8AAAAA/v8AAAAA//8AAAMAAAABAAAAAgABAAEA//8AAAAAAQACAAIAAQAAAAMAAAAAAAEAAwAEAAQAAwAEAAIAAgAEAAIABQAFAAQAAwAEAAMABQAFAAYABQAGAAQABQADAAEABgAFAAYABAAEAAQAAQAEAAQACAAEAAIABAAIAAUAAwACAAUABgAFAAUABAAAAAUABgAGAAUACAAEAAUAAgACAAQABwAFAAQABQABAAIABAABAAUABgAEAAYAAQAEAAQAAwAFAAMAAwACAAQAAAAFAAQAAgAEAAIAAQAAAAAAAwABAAMAAwADAAEAAgAAAAAAAAACAAIAAQABAAAAAQAAAAIAAQACAP//AAAAAP7/AgAAAAAAAAAAAP//AgABAAAAAAAAAAEAAgAAAAEA/f8AAAEAAAAAAP//AwADAAEAAAACAAEABwACAAMAAQAAAAUAAwAEAAIABQADAAIAAAADAAIAAwADAAIABAACAAEAAQAAAAIABgADAAQABQACAAMAAgACAAIABgAEAAMAAgACAAMAAwAGAAMABAAEAAQABAADAAUABwAEAAUABAAEAAYABAAJAAUABwAEAAQAAwAEAAQAAwAGAAQABAADAAUABQADAAUABQACAAMAAwACAAEAAgADAAMABAABAAMAAgADAAEABAAFAAMAAwABAAEAAQACAAUAAwADAAAAAAACAAAAAAACAAIAAAACAAQAAwADAAIABAADAAIAAQAAAAAAAAABAAIAAgACAAIAAQAAAAIAAAACAAMA//8AAAAAAAAAAP//AQAAAAAA///+//7/AAD//wAAAQD+////AQD+//3//f///wAA/f/+/////f////v//f/+//3///8AAP7//v/+/////f/8//z//v/+/////v/+/wAA/////////P/+//7/AAAAAP7//f/9//7////+//7/AAD+//7////7/wAA/P///////P8AAAAA/v///wAA/v8BAAAAAAAAAAAAAAAAAAEAAQABAAEAAQABAAAAAQABAAEAAAAAAAEAAAAAAAEA//8AAAEA//8AAAAAAAD//wEAAAAAAP//AQD///7///8AAAAA////////AAAAAAAAAQAAAAAAAAACAAAAAQABAAIAAQAAAAAAAAD//wAA/f8DAAQAAAADAP7/AAABAAAABAACAAQAAAAFAAAAAQAAAAEABQADAAMAAgAAAAQAAQAIAAMABQABAAEAAgACAAYABAAHAAEABAADAAMACAAEAAYACAAJAAUAAgAEAAUABQAGAAMABQAEAAMAAgADAAIABAAGAAMAAQABAAEAAwACAAEABwAAAAAABAAAAAQAAgADAAIAAgAAAAAAAgADAAAAAAACAAAAAQABAAAAAQABAAMABAAEAAMAAAAAAAEAAQABAAMAAQADAAIAAQACAAAAAwAEAAIAAQD//wEAAAACAAMAAwACAAEA//8AAAMAAAABAAIAAwAEAAAAAgAFAAIABAABAAMAAgADAAMAAAACAAMABAADAAMAAQAEAAMAAwAEAAQAAgAEAAQAAwAGAAUABAAFAAMABAADAAQAAwAEAAUAAgADAAMABAABAAAAAQACAAEAAgACAAEAAQAEAAIAAQAEAAUAAgAAAAIABAAFAAYABQACAAMABQADAAQAAAAEAAgABAACAAQAAgAEAAAAAgAFAAIABAABAAIAAwADAAQA//8CAAAAAgABAAAAAgAAAAMAAQACAAAA/f8AAP//AAAAAP///v8AAP3///8AAP//AQD///7/AAD9/////////wAAAAD//////f8AAP7/AAACAAAAAAAAAP3//f/+////AQD+//3//f/8//3//v/9/////v/9//7/+//9//7//v8AAP//AAD8//z////9/wAA///+/wAA/f/8//3//////wAAAAD///z////9//7///8AAP7//v/+//3////9//7/AAD/////AAAAAP///f8AAAAA//////z//v///////v8AAP///v////7/AAD//wAAAwABAAAA///+////AAABAAIAAgACAAAA//8AAAEAAQACAAAAAgAAAAAAAgAAAAMAAQABAAIAAQD//wEAAgABAAIAAgAAAAIAAQAAAP//AQACAAEAAAABAAIAAgADAAIAAgACAAEAAgAAAAIAAgADAAQAAwAEAAAAAwADAAIAAgAAAAQAAAABAAEAAgACAAEABAAFAAMAAgABAAQABAAEAAYABAAAAAIAAAABAAAAAAADAAEAAgABAAEAAwAAAAIAAwACAAMAAQAAAAMAAQACAAMAAgAEAAMAAAAAAAEABAAGAAMAAwADAAEAAwAEAAQABQAEAAMAAwACAAIAAwADAAUAAgAFAAEAAAAEAAMAAgAEAAMAAgADAAIAAgADAAQAAwACAAIAAQABAAEAAQAAAAIABAAEAAAAAgACAAMAAQACAAIAAAABAAEAAgACAAIAAQABAAAAAQABAAEAAAADAAMAAwADAAAAAAACAAEAAgAEAAEAAgADAAAAAAADAAEAAwACAAIABAAAAAAAAQACAAMAAwAAAAMAAQABAAIAAgADAAQAAgADAAMAAwADAAEABAACAAMABAABAAMAAwAFAAUABQACAAEAAgAEAAIAAwAHAAMAAAADAAAAAwAEAAIABgACAAIAAgABAAIAAAADAAIAAQAAAAIAAAABAAAAAAABAAAAAAD///7/AAAAAAAAAAAAAAAAAAD+/wAA//8AAAAA/f////z//v////7///8BAAAAAAD///3//P///wAAAQD9//3/AAD7/wAA/////////v/+//7//f/+/wAA/f8AAP7//f/+//v//v/9///////8//3//f/8//7//f/+/wAAAAD+//z/+////////v8AAP//AQD8/wEAAAAAAAEAAAD///3/AAD8//7/AAAAAP////////7//v/+/wAA//8BAAAAAAAAAP//AAAAAAIAAgABAAIA//////////8AAAIAAAABAAAA//8BAAMAAwAEAAAAAQACAP7/AwABAAMABAAAAAEA//8AAAMABAACAAIAAAABAAMAAQAEAAIAAwAFAAIAAgABAAEABQADAAQABQAGAAMAAQABAAMABQAEAAQABAAFAAIAAQADAAUABAAHAAEAAwADAAAAAwADAAIABQADAAEAAgD+/wIAAAAAAAUAAAAAAAEAAAAEAAAAAwAFAAIAAQABAAIAAgABAAMAAwAFAAIAAQAAAAAAAwACAAQABAACAAIAAAACAAIAAAADAAIAAAACAAEAAQAAAAAAAwABAAEAAQAAAAEAAAAAAAIAAAAAAP//AAAAAAAAAgACAAAAAAD+/wAAAAAAAAEAAgADAAEAAQABAAIAAgACAAAAAgAAAP//AAAAAAEAAAACAAIAAQABAAAAAgAAAAAAAgAAAAEAAAAAAAEAAAABAAEAAQAAAAAAAAABAP//AQACAAAAAAAAAAAAAwAAAAAABAADAAIA///+/wQAAwADAAIAAwACAAAAAwACAAEAAwACAAMAAwACAAIABAADAAQABwADAAIAAQACAAYAAwAGAAcAAwAHAAMAAwADAAMABQADAAQABAADAAIABgADAAQABAACAAQAAwADAAMABAAEAAYAAwAGAAQAAwAEAAIABQAEAAIAAgAAAP//AgAAAAAAAwACAAAAAAABAAAAAQAAAAMAAAACAAAA//8BAP//AAACAAAAAAAAAAAAAAAAAAAAAQAAAP///f/8/wAAAAAAAAEAAAABAAAA/f8AAP//AQABAP3///////7////9/wAAAwAAAP7/AAD+//////8AAAAA/f8AAAAA/f///wAAAAAAAP//AAD+//7//v/+/wAA/f8AAP7/+//8//3////9/////P/9//7//f/8//v/AAD///3//v/9//3//v/8////AAD//wAA///9/wAA/v/+/wAAAAD9//7/AAAAAP///f8BAP//AAABAPv//v8AAAAAAAABAP3////+/wAAAAAAAAMAAgAAAP3/AAADAP//BAABAAAAAgD//wEAAQACAAEAAgAFAAEAAgAAAAEAAgADAAUAAwADAAMAAQACAAMAAwAEAAQAAQACAAAAAQACAAMAAwACAAEAAAABAAMAAgADAAMAAAAEAAAAAgACAP//BAAAAAIA//8AAAIAAQACAAEAAQACAAAA/v8AAAAAAAACAAQAAQABAAEAAQAAAP//AQACAAAAAQADAAAAAAADAAAABAAAAAAAAQD//wEAAAACAAIAAwABAP7/AAACAP//AQADAAAAAgAAAAAAAAAAAAEABAABAAAA//8AAAAAAAACAAAA/////wEAAAAAAAEAAAAAAAEA/v8AAAAAAAABAAIABAACAAIAAQABAAMABAAAAAIAAAADAAEAAAADAAAAAgAAAAEAAQAAAAIAAQAEAAUABAABAAEAAAABAAIAAAACAAIABAADAAEAAgAFAAMABQAFAAIABQABAAMABAADAAUABQAFAAUAAgAFAAcAAwAHAAYABwAFAAUABAACAAMAAwAGAAQAAgAEAAAAAwADAAMABwAGAAMAAgACAAQAAQAEAAIABQAEAAIABAABAAAAAwACAAEAAwAAAAIAAgABAAIAAwABAAIAAQABAAEAAAABAAEAAQAAAP7//v8AAP7//v8BAP////8AAP3/AQAAAAEAAAD+/wAA/f8AAAAA+//+////AAD9/////v////3//f8AAP//AAD9//z/AAD///3////+//7/AAD//////v/+/wIAAAD+/////f///wAA//8CAP//AAAAAP7//v/+/wAA/////wAA/f/+/wAA/f8AAAEA/v8AAP3//P/+//////////////8AAP7//v/+/wEA///+//7/AAAAAAAA//8BAAEA//8AAAAA/v///wAAAQABAP////8AAP7///8AAP//AQD//wAA/v/9/wAAAAACAAEAAAD//wAA/v8AAAAAAAACAP7//v8AAP//AQAAAAIABAACAAAAAAAAAAMAAQAAAAMABAACAAEAAgAAAAEAAQABAAIAAgABAAAAAgACAAEABAADAAIAAAADAAMAAAACAAQAAAAAAAAABAACAAEABAADAAMAAQABAAEAAAAEAAAAAQABAAAAAAABAAAAAAAEAAAAAAABAP//AAAAAAAAAAAAAAEAAAD9//7/AAAAAP7///////7//f/8/wAA+/8AAP////8AAP7////+/wAA//8BAAAA/v8AAP7/AQD+////AAD///3////+/wAA/v8AAAAA//8AAAAA/v8AAAAAAQACAAAAAQABAAAAAQAAAAAAAwAAAAEAAAAAAAUAAAADAAUAAwADAAIAAAABAAIAAwADAAMAAQABAAIAAQADAAQABAACAAIAAQACAAQAAQADAAUAAgAEAAMAAQADAAAAAwADAAMAAgAAAAIAAgACAAQABQABAAEAAQAAAAEABAAHAAQAAwACAAQABAADAAYAAwAGAAUAAwADAAEAAgADAAYABQACAAMABAABAAQAAwAFAAUAAgABAAAAAgADAAEABQAEAAQABAACAAQAAgACAAQABgADAAIABAACAAYAAwAGAAcAAwACAAAAAgAEAAAAAQAEAAIABAAAAAEAAwACAAYAAwAAAAQAAAACAAIAAAACAAIAAgACAAEAAAAAAAAABQACAAEAAQAAAAAA//8CAP//AAAAAP3/AAAAAAAA+//+/////////wAA/P8AAP7/AAD+//7///8AAP//AAAAAP7/AwAAAAAAAAAAAAAAAwAEAAEAAAACAAAA/v8CAP//AQABAAAAAAD///7/AAAAAP//AAD9/wAAAAD+/wAAAAAAAAIA//8AAAEA//8AAAAAAAACAAEAAgAAAAAAAQD/////AgAAAP////8BAAMA//8AAAIAAAAAAAMA/////wAAAQACAP////8AAP///v8AAAIAAgAAAAAAAQAAAAAAAAACAAIAAQD/////AAACAAAAAQACAAAAAgABAAAAAQADAAQAAwAAAAEAAQACAAAAAQACAAMAAgABAAEAAgAEAAMAAwADAAIAAQAAAAAAAAAAAAEAAAACAP////8AAAAAAQACAAEAAAABAAEAAAAAAAEAAQABAAEAAgAAAP//AAAAAP//AQAAAAEAAgD//wEAAAAAAAIAAAABAAAAAAADAAAAAAACAAMA////////AAACAAEAAQABAAAAAAD//wAAAAABAAEA//8BAAAA//8BAAAAAAACAAAA/v///wAAAAD//wAAAAAAAAAAAAD9/wEA//8BAAEA/v8BAP////8AAAAAAQABAAAAAQAAAAAAAgAAAAIAAwAAAP///v8AAAAA//8AAAIAAAAAAAAA//8BAP//AAAAAP//AAAAAAAA//8CAAEABAAEAAQAAgABAAMAAAADAAQAAgABAAEAAAAEAAEAAgAEAAIAAwAAAAAABAAAAAMAAgABAAIAAQACAAEABQADAAQAAwADAAMAAwAFAAQABwAGAAQABAAAAAMAAwAEAAQAAgAFAAQAAgAAAAIAAQABAAMAAQAFAAAA//8DAAEABQAEAAIAAwABAAIAAgABAAMABQADAAIAAgAAAAMAAwAFAAcABgAEAAEABAAFAAYAAwAIAAMABQAFAAIABwAGAAUACAADAAMABAAEAAMAAwAFAAUAAgACAAIAAgACAAEABAADAAAAAQAAAAAAAgAAAAQAAgABAAAAAAAAAAAAAAAAAAAA//8AAAAA//////z//P8CAP//AAAAAAAAAQAAAAAAAAD///z//f////7//P///wAA//////3/AAAAAP3///8CAAAA/f/9///////+/wAA///+//3////9//7/AAD+/wAAAAD///3//v8AAP3/AAAAAP///v/9//7//v/9////AAD//wAAAAAAAAEA/v8AAAIAAAABAAAAAAABAAAAAAADAAEAAAD///3/AgADAAEAAwAAAAAAAQAAAAEAAQADAAMAAgADAP//AAADAAEAAgAGAAEAAAAAAAAAAwAAAAAAAgAAAAAAAgAAAAIAAQAEAAMA//8EAAAAAgABAAAAAwACAAIAAwAAAAIAAwAAAAUABQACAAEA/v8AAAIAAQABAAEAAgACAAAAAAADAAIAAAADAAIAAQD//wAAAQAAAAEAAAABAAAA//8AAP///v8AAAAAAAAAAPz/AAAAAAAAAgAAAAIAAAD//wAA//8BAAAAAgACAAAAAAAAAAAA/v/+/wAAAAAAAAAAAAD9//7///8AAAAA//////7/AAD//wAAAAD//wAA///+/////v///////v8AAP//AAAAAAAAAAAAAP///f/+/wAAAAD+////AQD+//v//////wEA///+////AAD+/////f////7/AAAAAAAABQAAAAAAAAAAAAAAAQABAAAAAQACAAMAAAAFAAMAAgAAAAAAAgABAAEAAgAEAAEAAAACAAIAAwABAAMABgADAAIAAQADAAIAAgACAAcAAwAEAAQABAAHAAIABgADAAMABAAEAAQAAgAEAAUABwAEAAUABAAEAAUAAgAEAAYAAwAEAAMAAwAEAAMABwAEAAUABQACAAUABgADAAQABQADAAEAAAABAAQAAAABAAQAAwACAAAAAwAEAAEAAQACAAAAAAD//wAAAQAAAAIAAAAAAAAA/////wAA/v8BAAMAAAABAAEAAAAAAAAAAAACAAAAAAABAAAAAAAAAAEAAgAAAAEA//8AAAAAAAACAAMAAgABAAAAAQAAAP//AAD+/wAAAAAAAP7///8AAAAAAAAAAAEA//8AAAAAAAABAP//AAABAAEAAAAAAAAAAQAAAAMAAwAAAAEAAAAAAAEAAwABAAIAAAAAAAEAAAACAAEAAAABAAAA/////wIAAgADAAIABAABAAAAAQAAAAIAAwACAAAAAAACAAQAAQACAAQAAAACAP//AQACAAEAAwACAAMAAQADAAIAAQADAAMAAwACAAAAAQAAAAAAAgABAAEAAQAAAAMAAQABAP//AAACAAEAAgAAAAAAAgAAAAIAAgACAAIAAAACAAEAAQABAAMAAwABAP//AAAAAAAAAgABAAIAAgAAAAAAAAAAAAAAAgAAAP7/AQAAAP//AAAAAAAA/////wAA//8BAAAAAAABAAAAAAAAAAAAAAAAAP7/AAACAAEAAAAAAAAA/v///wAAAAABAP7//v8AAP//AQABAAAAAAD+/wAA///+/wAAAQAAAAAA/P/+////AAD//////v8AAAAA//8AAP7/AAABAAAAAAABAP7//f/9//3/AQAAAAAA/f////////8AAAAA//////7//f///wAAAAAAAAAA//8AAPz/AAAAAAAAAgABAAEAAAD//wAAAAAAAAMAAAACAAAAAAD//wAABAACAAAAAQAAAAAAAgAAAAAAAgAAAAEAAAACAAEAAgADAAQAAwAAAAEAAQAFAAIAAQADAAIAAgABAAEAAQACAAIABQADAAQAAgABAAEAAQAEAAMAAwAAAAEAAQAAAAEAAgACAAIAAgACAAAAAwACAAIAAwACAAMAAAAAAAIAAQADAAQAAgABAAAAAAADAAEAAgAFAAMAAQACAAMAAwACAAIABQACAAEAAAABAAEAAgABAAIAAQAAAAEAAAADAAAABAAFAAMAAQAAAAEAAgAAAAIAAgABAAIAAAAAAAAAAQABAAUAAgAEAAIAAwADAAAABAADAAIAAQAAAAAAAgAAAAMAAQAAAAEAAAAAAAAA/v/9/wIA/f8AAAAA//8AAP3//////////f////3/AAD+////AAAAAPz//v/8/wAA/////wIA/f8CAP7///8AAAAAAQAAAAEAAQAAAAAAAAD+/wAAAAAAAAEA//8AAAAA//8AAAMAAAAAAAAA/v8AAAAAAwAAAAIAAwAAAAAAAAAAAAEAAgADAAEAAQABAAAABAAEAAMAAgAEAAMAAAACAAIAAgAEAAEAAgABAAAAAQABAAIAAQABAAEAAgAAAAEAAQADAAIAAgABAAEAAwAEAAQABQAEAAEAAgADAAIAAwACAAAAAwABAAMAAgABAAMAAwADAAMAAQAAAAEAAQACAAMAAQADAAEAAAACAAIAAAAAAAIABAABAAQAAgACAAAAAAADAAAAAAACAAAAAAAAAAAAAwABAP////////3/AAD9////AAD7//z/AAD7//7//P///////f/+//7///////////8BAP7///8AAP7//v///wAAAAAAAAAAAQD8///////+//7//v/9//v//v/9//3///8AAP///P/+//3//v/8//7/AAD9//7//f/+//3//v/+/wAAAQD+//7/AAAAAAAA//8DAAAAAAAAAP//AAAAAAEAAQACAAEAAAAAAP//AAADAAMAAQABAAAAAAACAAEAAgADAAAAAQD//wAAAAAAAAQAAgACAAAAAAAAAAEAAAAAAAAAAQAAAAAAAAACAAEAAAABAAAAAgACAAEAAQADAAQAAwABAAMAAAABAAMAAQAAAAIAAQABAAIAAAACAAIAAgADAAMAAwAAAAMAAgABAAIAAQADAAEAAAACAAQAAQADAAQAAAABAAIAAwACAAMABQAEAAQABQACAAEABAADAAUABgAGAAQAAgADAAUABAAFAAYABAAFAAMAAAAEAAQABAAEAAIABAACAAEABAABAAIABAAAAAAAAgADAAMAAAAAAAIAAgABAAAA//8AAP//AgACAAAAAgAAAAEABAABAAMAAwABAAEAAAAAAAAAAAABAAQAAAABAAEAAAADAAEAAAACAAIAAQAAAAIAAgABAAEAAgABAAAAAAAAAAIAAgAAAAEAAAABAAAA/v8AAAAAAAAAAAAAAQD//wAAAwAAAAIAAQAAAAAA/v///wAAAAACAAAA//8AAAAAAQAAAAEAAAAAAAMAAAABAP//AQADAAIAAwAAAAEAAAD//wIAAQADAAMAAAABAAAAAAABAAAAAQACAAAA//8AAAAA/v8AAP//AQAAAAAAAAAAAAIAAAADAAEAAgACAAAAAAABAAQAAQAEAAEABAAEAAAAAAAAAAEAAwACAAMAAgACAAMABAAEAAIABAAFAAMAAgABAAIAAwAEAAUABAABAAIAAgACAAQABAAEAAIAAwAAAAEAAQADAAUAAwACAAAAAQABAAEAAAACAAIAAAAAAAEAAAAAAAIAAgAAAAAAAAACAP////8AAAAAAAD+//////8AAAAA//8BAAAAAAAAAAAAAAD//wAAAAD+/wAA/f/6//7//v8BAAAA/v/9//3//f/9//3//P8AAP///f/9///////+/////v////z//v/7////AQD///3//v/9//7//f/9/////P/+//3////7//3/AAD7//3/AAD+//v//P/+/wAA/v8AAAAA/v/+//3///8AAP//AAAAAAAAAAABAAAAAAAAAAAAAwACAP//AQAAAAAAAgACAAQAAgAAAAAAAAAAAAIAAgADAAIAAAACAAEABQADAAQAAwACAAMAAgAAAAMAAwAFAAUABAACAAQABgAEAAIABQAHAAIABQACAAMABwAAAAcAAwACAAEAAQADAAIABwADAAMABAADAAIAAwADAAIAAgACAAIAAwACAAMABQAFAAUABAADAAMAAQABAAMAAgACAAMAAQAEAAEABAADAAEABQAEAAQAAgADAAIAAwABAAIAAQADAAQAAgADAAAAAAABAAMAAgABAAAAAgADAAAABAACAAMAAQAAAAEAAQAAAAIAAwABAAIAAQACAAIAAQABAAMAAQACAAMAAgAEAAAAAgACAAEAAQAAAAIAAwABAAIAAQACAAIAAAAAAAEAAwACAAQAAwADAAEAAQABAAIAAwAEAAAAAAABAAAAAAAAAAAAAwD//wEAAAAAAAIAAAADAAEAAQABAAAA//8BAAIAAQACAAIAAgAAAAEAAgAAAAIABAAAAAIAAgACAAMAAgAFAAUAAwADAAIAAgAEAAEAAwACAAEAAgABAAIAAQABAAEAAQAAAAEABAACAAIAAwACAAIAAAAAAAAAAAAAAAAAAgABAAEAAgABAP//AQAAAAIAAgAAAAEAAAABAAEAAQABAAEAAAABAAAAAAAAAP7/AAABAP//AAAAAP//AQD+/wEAAQD+/wAA/v/+////AAD//////v/9////AAAAAP7/AAD///7//f/9//7//v/+//z////+//v//P/8//v//P/8/wAA/f///////P////7//v////3//P/8//r//f/7//3//v/+//7//f/8//7//v/+/////f/+//7//f/9/////f8AAAAA///+//z//f////7/AQABAAAAAAAAAAAA//8AAAEAAAD//wAA/P8AAP//AAADAP//AAAAAAAAAAAAAAAAAgAAAAAAAwABAAEAAAAFAAIAAQADAAAAAAABAAEAAgADAAIAAwAAAAAAAQABAAMAAwADAAQAAwAFAAQAAwAFAAUABQAGAAUABAAFAAMABAAGAAQAAQAEAAAAAgAEAAEABAADAAQAAwACAAMAAwAFAAMABAAFAAEAAgACAAIABQAFAAQAAwABAAEAAwABAAEAAgADAAEAAwABAAIAAQACAAMAAQABAAAAAgAAAAAAAgABAAAAAAAAAAAAAAAAAAIAAQD//wAA/v8AAAAA/f8AAAAA/f////////8AAP7/AAABAP7/AAAAAP//AQAAAAAAAgAAAAEAAAD9/wAAAAABAAAAAAACAAIAAQACAAEAAAADAAEAAAABAAEAAwAAAAMAAQABAAEAAgAAAAEAAQAAAAIAAQABAAMAAAAEAAQAAQAEAAIAAwABAAEABAADAAUABAADAAMAAgADAAMAAQAGAAcABAADAAIABAADAAQABQAEAAMAAgACAAUAAwACAAUABAADAAQAAwABAAIAAwAGAAMAAQAEAAIAAgABAAIAAQAEAAMAAAABAAEAAgAAAAIABAACAAEAAAABAAAAAgADAAQAAQADAAEAAQADAAEAAwADAAIAAgADAAIAAQADAAQABQAFAAMAAAABAAMAAQAEAAUAAgADAAEAAwAEAAIABAAEAAIAAwAAAAEAAgD//wAAAgAAAAEAAAAAAAMA//8AAAAA/v/+/wAAAAD/////AAAAAP///v/9/wAA///9/wAA/v/9/wEA///9/wAA/v8AAAMAAAAAAP7//f///wAAAAABAP//AgD+//7/AgAAAAEAAAAAAP///f///wEAAAABAAEAAAAAAAAA/f//////AAABAP//AAAAAAAAAwAAAAAAAgABAAIAAAAAAAIAAAADAAAAAAAAAAAAAAACAAMAAwAFAAIABAABAAEAAwAAAAUABAAEAAMAAQADAAEAAwADAAUAAgADAAUABAAGAAIABAADAAIAAwABAAQAAwAEAAMABgAHAAUABgADAAYAAwAFAAUAAgAEAAQABAAEAAQABwAFAAYABwAAAAMABgAEAAUABgADAAUAAwADAAYAAQAEAAQAAwABAAEAAgACAAQABAADAAAAAAACAAEAAwABAAQABwABAAEAAgABAAEAAgACAAIAAgAAAAEAAAAAAAEAAgAEAAAAAQAAAAAAAAAAAAAAAQAAAAAAAQAAAAEA/v8CAAEA//8AAP7////+//7/AAABAAAA//8AAAAAAAD//wAAAwD/////AAD9//3///8AAAAAAAD///7//v/+/wAAAQACAAAAAAD+//7/AAAAAAAAAAAAAAAA/v/+/wAA/v///////////wAA///8/wAAAQAAAAAAAAD9//7/AAAAAAEAAgAAAAEAAAD//wAAAgACAAEAAAAAAP//AAAAAAAAAAABAAEAAAD//wAAAQAAAAIAAQACAAIAAQABAAMAAAABAAMAAgACAAEAAgACAAIABAAEAAMAAQADAAEAAwACAAIABQADAAMAAQACAAUAAgAFAAUABAADAAAAAQACAAIAAgAFAAUAAwAEAAMABwACAAMAAgACAAMAAgACAAMAAgAEAAUAAgADAAEAAAAEAAMABAAGAAAABAAEAAIABAACAAQABAACAAAAAAAAAAAAAQAAAAAAAAD+/wIAAAABAAAAAAACAAAAAQAAAP7/AQAAAP//AgAAAAAAAAAAAAUAAAABAAUAAQABAAAAAQAAAAMAAwABAAMAAQAAAAQABAACAAMAAgAFAAIAAQADAAIAAgABAAMAAgAAAAIAAAADAAEAAgAFAAAAAQAAAAAAAgAAAAMAAwACAAIA//8AAAAAAAAAAAEAAAAAAAAAAQAAAAEAAQD//wAAAAABAP////8AAAAAAgAAAAIAAAD+/wAAAgABAAEAAgAAAAAAAAD+/wAAAAAAAAEA//8AAAAAAQD//wAAAwAAAAAAAAAAAAEAAAACAAAA//8AAP//AAAAAAAAAAACAAAAAAAAAAAAAgAAAAAAAQAAAAEAAAD//wAAAgACAAAAAQAAAAEAAgADAAEAAgACAAEAAQAAAAIABAAAAAIAAwABAAIAAAAAAAIAAgACAAIAAgACAAEAAwACAAMAAgAFAAUAAAABAAMAAQACAAIABgABAAEAAgACAAIAAQACAAIAAwABAAAAAAABAAAAAQAAAAAAAAAAAP///v8AAP7/AAABAAAAAAAAAAAA/v8AAAAA//8AAP////8AAAAAAQABAAAAAAAAAAEAAAD//wAAAAAAAP/////+////AAABAAAAAAD//////v//////AAABAAAAAQD+////AgAAAAAA//8AAAAA/v8AAP3//f8AAAAA/v8AAAAAAQABAAEAAAABAAEAAQD+/wEAAAD//wEAAAD///7/AAAAAAEAAgABAAIAAAAAAAAAAAABAAIAAwACAAIAAQAAAAEAAwADAAQAAwACAAQABAADAAMAAwACAAUAAQADAAQABAAFAAIABQADAAYABgAEAAEABQAHAAcABQAFAAkABQAGAAYABQAGAAUABwAGAAgABQAEAAUABgAGAAUAAwADAAIAAwACAAQABQADAAIAAQAEAAcABAAFAAUABAADAAMABAAEAAQAAgAEAAQAAgADAAAAAQAAAAEAAgABAAAAAAABAAEAAQABAAMAAgABAAEA//8DAAIAAgAEAAEAAgABAAEAAQABAAEAAwACAAAAAQAAAAAAAAACAAIAAQAAAP////8AAAAAAQACAAIAAwAAAP7/AQAAAAAAAAAAAAMAAAAAAAEAAAADAAMAAgAAAAAAAAACAAAAAAABAAAAAQAAAAAAAAAAAAAAAgAAAP7//v/+/wEAAAAAAAAAAAACAP///v8AAAAAAAAAAAIAAQAAAP7/AQAAAAAAAAAAAAEAAAABAP//AAACAAMAAAACAAEAAAACAAAAAwAEAAAAAAAAAAAAAQACAAIABAAAAAEAAgAAAAIAAAADAAEAAAADAAMAAAAAAAAABAAEAAEAAAADAAEAAQABAAMAAwACAAEAAwACAAIAAwADAAUAAAACAAEAAAAEAAIABAAEAAAAAAABAAAA//8AAAMAAAD//wMAAgAAAAMA//8CAAAAAAAAAAAAAgAAAP//AQABAP//AAACAAEAAAAAAAIAAgAAAAEA//8AAAEAAQAAAAIAAQD//wIA//8AAP//AQABAAAAAQAAAAAAAAAAAAAAAAD//wEA/f///wAA/v8AAAEA/////wAA/v8AAAAAAAABAAAA/v//////AAACAAEAAQAAAAEAAQD//wAAAgABAAEAAQABAP7/AAABAAAAAQACAAAA/v/+/wAAAAABAAIAAwABAAAAAAD//wAAAAAAAAAAAAAAAAAA/v///wAAAAAAAAAAAAAAAAAAAgAAAAEAAgAAAAAA///+/wQAAQACAAIAAwABAAAAAAABAAMABAAGAAIAAgACAAEAAQACAAMABgAFAAMAAwACAAMAAQAHAAUABAAGAAQAAwAJAAMABQAFAAMABAAAAAUACAACAAUAAwAFAAgAAQAEAAQAAgAFAAMAAwACAAMAAgAFAAIAAQAEAAMAAQAGAAMABQAHAAQABgAFAAMAAwAEAAIABAAFAAYAAgADAAIAAgAEAAAAAwAEAAIAAwABAAMAAwABAAQAAwACAAIAAwAAAAEAAQABAAIAAQABAAEAAQAAAAAAAQADAAEAAgAAAAAAAwAAAAEAAgABAAAA/////wEABAABAAEAAAD+/wAA//8AAAAAAAABAAAAAgD///7///8AAAAAAAABAAAAAAAAAAAA//8AAAAAAAD//wAAAAAAAAAAAAAAAP//AAD///7//v8AAAAAAQD//wAAAAAAAAAA/v8AAAEAAAAAAAAA/v8CAAAAAgABAAAAAAD//wAAAgABAAEAAwACAAMAAAADAAUAAwADAAEAAAAAAAEAAQAAAAAABAAEAAEAAQABAP//AwABAAQAAQAAAAAAAAD//wEAAAABAAEAAAAAAAAAAgABAAAAAQADAAAAAAAAAAEAAgABAAEAAQADAAIAAAAAAAEAAAABAAMAAQAAAAIAAgAAAAAAAQADAAIAAwABAAIAAgABAAYAAgAAAAEA//8DAAAAAAAAAAUAAgAAAAAAAAAFAAAABQAAAAAAAAAAAAEAAAD//wEAAwABAAIAAAAAAAAAAAADAAEAAQADAAEAAgAAAAAAAQADAAAAAQAAAAAAAAAAAAAABAABAP//AQD//wIAAAAAAAEAAAAAAAAA/v//////AQACAAAAAAAAAAAAAQAAAAAAAQAAAAAAAAD//wAAAQAAAAEAAAAAAP/////+/wEAAAABAAMAAAAAAAAAAwABAAEAAwABAAAA/v///wEAAwACAAQAAQAAAAAAAQACAAAAAwAFAAIAAAACAAAAAQADAAQAAwAFAAcAAgACAAMABQAEAAYABAACAAQAAgAFAAMAAwAEAAQABAADAAMAAgADAAQABAADAAEAAQABAAMAAwABAAcABQADAAQAAQACAAQABQAEAAQABQAFAAEAAAACAAMABQACAAMAAQAAAAIAAgADAAQAAgAAAAIAAwABAAIAAQABAAEAAAAAAP//AgAAAP////8BAAAA//8AAAEA//8CAAMA/v8AAAAA//8AAP3///8BAAAAAAD9//z/AAD9////AAD+/wAA/v/+/wAAAAAAAAEAAAAAAP7//////wAAAAACAAEAAAAAAAAAAAD//wAAAQABAAAA/f8AAAAA//8AAAAAAAD///7//f////7/AAAAAP//AAD9/////f8AAAAAAAAAAP7//f8AAP7///8AAAAAAAAAAP////8CAAEAAQAAAAAAAQAAAAAAAQABAAIAAgAAAAAAAAAAAAAAAQADAAQABAAFAAEAAgABAAMABQAFAAEAAAACAAEAAwAFAAMAAwADAAQAAwADAAMAAgAFAAQABAABAAAAAQACAAIAAgAFAAMAAgAAAAEAAgABAAEABAACAAIAAAABAAIAAgAEAAEAAwACAAEAAAAAAAAAAAACAAMAAwAAAAEAAgAEAAEAAwABAAAA//8AAAMAAAACAAIAAAAAAAAAAAABAAEAAgAAAAEABAD//wAAAQAAAAAAAQABAAAAAAABAAEAAAAAAAIAAAABAAAA//8AAP//AAABAAAAAAD//wAAAAAAAAEAAgABAAIAAgD//wEAAAAAAAIAAgAAAAAAAAABAAAAAAADAAEAAQAAAAAAAAAAAAAAAAD+//7//v8AAAEAAQAAAAEAAQABAAAAAAABAAAAAQABAAEAAAD+////AAAAAAEAAQAAAAEA/////wMAAAABAAUAAQACAAEAAQAFAAUAAwAEAAMAAwADAAMABAADAAQABQAEAAUAAwABAAQABwAGAAcAAwAEAAMABAAFAAMABQAEAAUABQADAAMABAAEAAQABQAGAAUAAgAEAAQABAAFAAYABQAGAAMABAAEAAQABQAFAAUABQAEAAMAAwAAAAMABAACAAUAAAACAAUAAQACAAMABgACAAAAAwAEAAMAAwADAAIAAAAAAAAAAAAAAAEAAgAAAAEAAgAAAAEA//8BAAIAAAACAAAAAAAAAAAAAAABAAAAAAD//wAA//8AAAAAAAACAAEA///9////AAAAAAAAAAAAAP///v8AAP////8BAAAAAAD+//7/AAAAAAEAAQABAAAA/v/+/wEAAAAAAAIAAQAAAAAAAwAAAAIAAQABAAMAAAABAAAAAwACAAAAAAAAAAEAAAAAAAAAAAAAAAEAAQABAAAAAQAAAAEAAgACAAAAAAAAAP//AgACAAIAAgACAAEAAQACAAMABAAEAAQAAgAAAAEAAQAAAAIAAAAEAAEAAQADAAAAAwABAAEABAACAAAAAQAAAAMAAgABAAUAAwADAAEAAQACAAUABQABAAIABAADAAEAAgABAAIABQACAAMAAgABAAMAAAADAAIAAQD//wAA//8AAAAAAgACAP//AAAAAAAAAwACAAIABQACAP//AQAAAAAAAQABAAIAAQAAAAQAAAACAAAAAAADAAAAAgAAAAAAAQAAAAEA//8AAP///v8AAP3//v/9/wAAAAD//////f8AAP7/AAAAAP///f/8/////v/+//7/AAD///7//////wEAAAAAAAEAAAAAAP//AAAAAAAAAAAAAAAAAQD/////AAAAAAIAAAAAAAEAAgD//wAAAAAAAAAAAAAAAAEAAQAAAAEAAgABAAEAAAAAAAAAAwADAAEABQADAAEAAAABAAYAAgAAAAUABAADAAAAAAAEAAEABwAFAAEAAgACAAMABAADAAMACAACAAUAAwAGAAUAAwAEAAUABgAEAAMAAgADAAMABAADAAEABAACAAQABAAAAAMABAACAAQABAADAAQAAwAGAAQAAwAFAAMABAAGAAUACAAFAAMABgACAAIABAACAAEABQAEAAAABAADAAQAAgAGAAUAAgACAAMAAgACAAIAAwAFAAEAAQACAAIAAgABAAMABAADAAUAAgAAAAQAAAAAAAEAAAADAAAAAQAAAAAAAwACAAIAAAAAAAAAAgACAAIABQABAAAAAAAAAAAAAQACAAQAAQACAAAAAAAAAAAAAwAAAAEAAQD+////AAD//wAAAQAAAP7//////wAAAAAAAAMAAAAAAAEAAAABAAEAAgACAP//AQABAAEAAAAAAAIAAQACAP7/AAAAAAAAAAAAAAIAAQACAAIAAAABAAEAAwACAAAAAAABAAAAAQABAAIABAADAAEAAAAAAAAAAgAEAAQAAAAAAAEAAQADAAIAAwACAAAAAAACAAAAAAD//wAAAgABAAAAAAAAAAAAAAAAAAQAAQAAAAEA//8CAAEAAQADAAEAAQAAAAIAAQABAAUABAACAAAAAgABAAMAAAABAAUABAACAAAAAAABAAIAAQAEAAAAAAABAP//AQAAAAMAAgAAAAMAAAABAAEAAAABAAEAAAD//wAAAAAAAAAAAAAAAAAA/v/+/wAA/f8BAAAAAAAAAAAAAAD+/wAA/v///wEA//8AAP7//v8AAAIAAAABAP7//v////z/AAD9/wEA///+/wAA/v///////v/+/////v8AAP///f/+//7///8AAP7////+//7/AAAAAAAAAAAAAP///v//////AAACAAMA/////////v8AAP7///8BAAAAAgAAAP//AQACAAIABAACAAIAAQAAAAAAAgAAAAMAAQABAAIAAAADAAEAAQADAAEAAgACAAMABAACAAEABAAEAAEAAwADAAIABAAEAAMABQAFAAYABAAFAAMABAAEAAUABgABAAYABAADAAYABQAFAAQABwAEAAIABQAFAAUAAwADAAQAAgAFAAUABQAGAAQAAgADAAQAAwAEAAUABAADAAEAAwACAAQAAQADAAUAAwACAAEAAAACAAEAAwAFAAIABQADAAEABQAEAAMACAAFAAIAAgACAAQAAQACAAQABAAEAP//AQAEAAEAAwACAAAAAAAAAAAAAQD//wIAAQD//wAAAAACAAAAAQD//wEAAAD+/wMAAgADAP//AAACAAAAAAD//wAAAAADAAMAAwAAAAAAAAD9/wAAAAAAAAAAAQADAAEAAAABAAEAAgABAAEAAAAAAAAAAQAAAAAAAgABAAAAAAAAAAEAAQAEAAMAAgAAAAMAAAABAAAAAwAGAAEAAAD//wAAAAABAAEAAQAAAAEAAgACAAEABAADAAMABAAAAAIAAAABAAMAAQACAAEAAQACAAAAAAADAAAAAQABAAAAAgABAAMAAgAEAAEA//8AAAAA/v/+/wMAAAAAAAAAAAABAAAAAAAAAAEAAQAAAAIAAQD+/wIAAAACAAIAAQACAAAAAAABAAAAAgAEAAEAAgAAAAAAAAABAAIAAAABAAEAAAABAAAAAAAAAAEAAQABAAAAAAADAAAAAAAAAP7///8AAP7/AAAAAAAAAAD+//7//P/9//3//P/9/wAA/v/9/////P8AAP7//v///wAA/v////z//v/+//z////+/////P/+/////v/+/wAA/f//////+v/9//r/AAD9//3//f/+/////P/+////AQAAAAEA/f/9/wAA/v8AAAAAAAAAAP7///8AAAAAAAABAP//AAACAAEAAwAAAAMAAgAAAAMAAwAAAAEAAwAEAAcAAwAAAAQAAgADAAQABAAEAAMAAwACAAMABQAFAAQABQAGAAMABQAEAAQABQAGAAQABAACAAEAAwAFAAQABQAGAAMABQACAAEABAABAAYABwACAAQABAAFAAQABAAEAAYABAAEAAMAAQAGAAMABgADAAUABQACAAUABQAEAAUABgABAAUABAABAAQAAgAFAAQAAgADAAUAAgADAAMAAQAEAAIAAAAAAAMAAgABAAMABQAFAAIAAAAAAAEAAgACAAEAAAABAAIAAQABAAAAAAADAAEAAAAAAAAAAwD//wEAAgAAAP3///8DAAIA/////wAAAAAAAP//AAACAAAAAQABAAIABAAEAAEAAQAAAAIAAgAAAAAAAgAAAAIAAAABAAIAAAAAAAAAAAAAAAEAAwACAAMAAgAAAAAAAAAAAAAAAAAAAAEAAAAAAAIAAwAFAAQAAgABAAAAAAADAAIAAwADAAEAAAD/////AgD//wEABQACAAIA//8BAAAAAAABAAMAAgABAAAAAwACAAEAAgAEAAMAAwADAAEABAABAAQABQACAAAAAQACAAEAAgAAAAQAAAAEAAMAAAAEAAAAAwACAAIAAgAAAAIAAgADAAIABAABAAEAAQD9////AAACAAEAAgACAAMAAgACAAMAAAAFAAEAAAAAAAAABAAAAAEAAgAFAAYAAAAAAAIAAwACAAQAAwABAAEAAQAAAAIAAgADAAEAAQAAAAAABQACAAQABQAAAAIA//8AAAIAAAADAAMABAABAAEAAAACAAAAAQACAAAAAgACAAIABQACAAEAAwAAAAEAAgADAAMAAgAEAAIAAAAAAAAA//8CAAAAAAADAAAAAAAAAP7/AgD//wAAAQAAAAAA/f/9//7//P///wEA/f/+/////P///wAA/v8AAP//AAD///7//v/+/wEAAAD//wAA/f/8//7//v8AAAAA//8AAP3/AAAAAP7//f8CAAAA/f/+/wAAAgABAAAAAgAAAAEAAQAAAAAAAAABAAEAAQACAAMAAQACAAAAAQACAAAAAAD+/wAAAQAAAAMAAwACAAIAAQAAAAEAAwACAAQAAwADAAMAAwAEAAEABAAEAAQABAACAAIAAgACAAQABAABAAQAAgACAAUAAQADAAcAAwABAAIAAQAEAAQABAAGAAMAAwAEAAIAAwAEAAUABwADAAcABgACAAYABgAHAAYABAAGAAMABwAEAAMABQAEAAcAAgACAAEAAwAFAAEABAAEAAEABAABAAIAAAADAAMAAgAGAAIAAwAGAAUACAAJAAMAAgAAAAMABgAEAAUABAAEAAIABAABAAUABQAFAAUABAADAAEAAQAFAAIABAADAAIAAQD+/wEAAQD//wIAAQD//wAAAAABAAAAAAAAAAQA//8AAAAA/v8CAAAAAQAAAAEAAAAAAP//AAABAAEAAQAAAAAAAAD9/////f///wAA//8BAAAAAAABAAEAAAD///7////9//7//////wAAAgACAAAAAgD//wEAAAADAAIAAwAAAAAAAAAAAAAAAAABAAIAAgD+/wEAAQABAAIABQACAAEAAQADAAEAAgABAAIAAgAAAAMAAQADAAAAAwAAAAAAAQABAAEAAQADAAMABgADAAIAAQAAAAQAAgAGAAUABQAFAAMABgADAAcABwAFAAMABQAFAAcABgAEAAcACAAGAAUABAAFAAUABAAEAAUABwAEAAQABQAFAAgABQAGAAcAAwAGAAEAAwADAAIABgADAAQABAACAAEAAgAEAAMAAwADAAEAAgACAAAABQABAAEAAAD9/wEA/////wAABAABAAAAAAAAAAAA//8BAAEAAQAAAP//AAAAAP//AAABAAAA///+/wAAAQAAAAAAAAAAAAAAAAAAAAAAAAD//wEAAAAAAP///v/+//7///8AAAAAAAAAAP/////9/wAA/v8AAP///f////7/AAAAAAAA//////3///8AAP//AAACAAIAAAD+////AQAAAAAAAQABAAMAAQAAAAMA//8BAAIAAAAAAP7/AAD//wAAAAAAAP7/AAADAP3/AAD+/wEAAwD//wAAAQACAAAAAgAAAAIAAgABAP//AQAAAAAABAABAAAAAQAAAAAAAwADAAQABgAFAAMAAgABAAEAAgADAAUAAgAAAAMABAACAAMABwAGAAMAAwAEAAUABQAEAAUABQACAAMAAgACAAcABQAGAAMAAgAFAAQABQAEAAQABAAFAAQAAwAEAAMAAwAGAAcABQAFAAYABAAFAAUABQAGAAEABAACAAIAAwADAAUABQAGAAIAAgADAAIABAABAAEABAACAAMAAQACAAQAAgAEAAQAAAABAAMABQAFAAAAAwAEAAEAAgD//wAAAAAAAAUAAAAEAAUA//8BAAEA//8CAAEAAQABAAQAAQACAAEAAQAEAAEAAAAAAAAAAwAAAAAAAwABAAEAAQABAAIAAQADAAUAAgAAAAEAAAAAAAAAAgADAAAAAQD+/wAAAQD9/wAAAgACAAEA/v8AAAEAAQACAAIAAQAAAAIAAQADAAIAAgABAAAAAAAAAAAAAQADAAQAAwADAAMAAAD+/wMAAgACAAUAAgAAAP//AAADAAEAAwAIAAMABQACAAEABQACAAQABwAGAAUAAwAEAAgABgAHAAYABQAEAAMABAAGAAcABQALAAcABQACAAMABwAAAAgACAAFAAUABQAHAAcABQAFAAgABwAJAAYACAAIAAYACAAKAAoACAAJAAcABQAJAAwADQAJAAYACQAHAAcABQAIAAwACQAKAAUAAgAGAAQABAAEAAEAAgACAAEAAQACAAUABgACAAQAAAAAAAIAAAACAAAAAAABAAAA/////wAA//8AAP7/+//9//3/AAD+/wAAAAD7//7//P/8/////P/9//3//P/7//n//f////v////9//z/+//6//r/+//7//3/+//4//v/9//3//v/9P/+//7/+v/7//z/+//7//z/+v/6//3//f/5//r////7//7//P/7/////P/+/wAA/v8BAAAA/v////3/AwAAAAAAAAABAAIAAAD/////AAAAAAMAAAACAP7/AAAAAAAAAAAAAAMAAQAEAAEAAAAEAAMABAADAAEAAAADAAAABAACAAYABAABAAQAAwADAAYABQAIAAYAAwAEAAcACAAIAAoACQALAAgACAAGAAgACgAJAAwACQALAAwACgAMAAsADAAKAA0ACwAHAAwACgANAAoADAANAAoACgAJAAwACAALAA8ADwAPAAoADAANAA0ADAALAAsACgAJAAkACgALAAsADwAPAAoACQAJAAgADQAIAAkACwAKAAgACAAKAAwACAAIAAkACAAIAAYABwALAAcABgAKAAcAAgAHAAQACAAKAAoACgAGAAYABwAHAAcACAAIAAUABwAGAAQAAwAGAAMAAwADAAMAAgAEAAMAAwADAAEAAQAAAAAAAAABAAYAAwACAAUAAgD//wAAAwAGAAQABAAGAAUAAgADAAEABQADAAMABgACAAEABAAFAAcAAgAEAAYAAwABAAIAAwAGAAQABAAEAAQABQACAAUABwAAAAcACgAGAAQAAgAEAAgAAwAHAAgAAwAGAAMABQAGAAAACwAIAAYABAACAAUABgAFAAcABQAGAAYABAACAAMACAAFAAYABQAGAAYAAgAHAAYABAAHAAIAAQABAAEABAAEAAQAAwADAAEAAgABAAIAAgADAAIAAAAAAAEA//8BAAEAAAAEAAEAAAAAAP7/AAAAAAIAAgD+/////v/9//3////9//7//v/6//v//P/9//7//f/9//z//f/6//3//f/8//3//P/8//n/+f/2//n/+f/5//v/9v/2//X/9f/4//j/9v/4//b/9v/z//b/+f/z//j/9f/2//L/8//0//f/9f/3//f/9f/5//X/8//3//T/+P/6//v/9//2//n/+f/1//v/+//6//n/9v/1//n/9v/8//7//P/8//j/+v/9//r//P/+//3//v/6//3/AAD7/////v/+//7////+/////f8BAAIAAAD9/wAAAAD+/wEAAwAFAAQAAgABAAIABAAFAAUABwAIAAoABwAEAAkABwAIAAYABwAGAAUABgAJAAgACQAKAAgACQAIAAsADAAIAA8ACQAMAAwACwAMAAoACwANAAwADAAIAAsADQAMAA8ACwAPAAwACgAPAA0ADQALABEADwANAA0ADwAOABAAEAAOABIACwAOAA4ADAAQABEAEQAQAA8ADAAPAA8ADQAPAA8ADgAKAAsADAALABAADgAQABAACwAOAA0ACwAOAA8AEgASAA0ADAANAAsADQAPAAoADAAMAAcACQAKAAwACgAJAAsACAAFAAgABgAKAAsACAAKAAgABwAIAAQACwAKAAgACwAFAAUABgAIAAoABwAHAAQABgADAAQABgAGAAYABAAGAAQAAgAEAAIABgAFAAQABAACAAMAAAACAAcABAAEAAUAAwAEAAUAAwAFAAQAAwAEAAMAAAABAAIAAwADAAEAAQADAAYAAgADAAcAAwAEAAIAAgADAAIABAACAAIABgAHAAYABQAAAAQABwAEAAcABgAGAAQABgAEAAcAAwAKAAkABQADAAIABgAIAAMABAAIAAoACQAFAAcACwAMAAoADAALAAoACAAIAA0ACAAPAA4ACAALAAUACgALAAoACwANAA0ACgAIAAoACwAHAAcACAALAAkABQAHAAgABgAIAAgACAAHAAYABAAGAAMACAAJAAYABgAGAAQAAgAFAAQABQAGAAMAAgABAAQABAACAAAA/////////P8AAP///v8AAAEA///8//v//v/8/////v/+////+P/4//r/+v/7//3//P/6//r/+P/4//j/+f/7//v/+P/5//f/+//7//z//P/7//z/9v/4//r/9//5//r/+v/4//j/9P/3//j/+P/5//n/+v/2//f/9//4//X/+P/3//b/9v/1//f/8//3//X/+P/5//X/9v/2//j/+v/3//v/+f/z//f/+//4//j/+//6//v/9//5//j/+//+//z//f/7//3/+f/6//z//f8AAP3//v/+//3/AQAAAP//AAAAAAEAAAAAAAEAAAACAAQAAQAAAAIAAQAEAAEACAAGAAUABgADAAYACAAGAAkABwAIAAUABQALAAsACQAMABEACwAKAA0ACwAPAA8ADgAQAA8ADgARABEAFAAMABUAEQAXABUAEAAQABIAFQAUABMAEQATABAAEwARABYAFQAVABQAEAATABIAFQATABMAFwASABEAEAATABMACgATAA4AEAAOAAsADQAOAA8ADQAQAA0ADQAMAA8ADQALAA0ADQAMAAsADwAIAA0ACgAIAA4ACQALAAgACwANAAcACAAJAAgABAAEAAUACAAEAAYACAAGAAIABQAIAAcAAwAFAAQABQADAAQAAgAFAAQAAwAFAAMAAwAEAAIABQADAAYACAADAAEAAgACAAYAAgAHAAcABAACAAQAAwADAAIAAgAHAAMAAgAEAAMABgAEAAMABgAIAAQAAAACAAYAAgADAAQABAAEAAAAAgAEAAAAAQAFAAMAAgAAAAIAAQAAAAIAAgADAAAA/P8AAP//AQADAAAAAAADAAAA//8AAAAAAAAEAAIAAAAAAPz/AwACAAAABAD//wAAAAAAAAEAAAAAAAUAAQAAAAMA/f8EAAMAAgAEAAIAAAABAP//AAAEAAEAAgAAAAAAAAD+/wAAAQACAAEAAQD//////v/9////AQABAAAA//8AAPz/AAAAAAAAAQD//////f/8//z/AQAAAAAA/f8CAPz/+v/+//r/AAD///r/+//+//v/+//7//n/+//7//f/9//z//f/+P/3//r/9//0//T/8//2//T/9P/5//X/8f/0//H/9P/y//L/9P/z//L/8f/x//H/8f/z//X/8//w//b/8f/3//f/8//4//P/9v/z//L/+v/y//f/+f/4//v/9f/0//v/9P/7//f/+P/7//f/+f/7//n/+v/8//v//P/6//z///8AAAEA//8AAP7///////z/AAABAAEAAAADAAQAAQACAAAABQAHAAMABAADAAUABQAEAAcACAAEAAYACAAGAAkACQAMAAoACQAKAAsADAALAAoAEAANAAwADwALAAwADgAOABAADgAOAA0ADAASAA4ADAAOABEAEAAMABAADgANAA4AEQARAA8AEAASABAAEgARABMAEgAPABEADwAMABIAEwATABIADgAQABAADgATABIAEQASAA0ADwASABIAEAAPAA0AEAANAAwADQAKAA4ACwAMAA0ACwAKAAoACQAPAAwACwALAAkACwAMAAgACwAIAAoACgALAAkABgAMAAwACQAJAA8ACwAIAAkACwAJAAoACwAIAAYABQAIAAYACQAFAAYACAAGAAYABgAGAAcAAwAGAAgABAAGAAQABgAJAAIABgAGAAUABgADAAQACQADAAYABwAGAAYAAwAHAAcABgAEAAYABQAEAAQABwAHAAUABQAEAAQABQAGAAEABgAFAAoACAAHAAcAAwAHAAkABgAEAAkACAAFAAUABAAJAAcACQAGAAYABgAEAAIACAAHAAcABwADAAQAAAAFAAYAAQAGAAkAAwAGAAAAAAAGAAIABQAFAAQAAgAGAAAAAwADAAIABgAFAAQAAQAAAAQAAAAAAAYAAwAEAAIAAAADAAIABQACAAIAAQABAAAA/v8BAAEAAQAAAAEAAAAAAAAA//8AAAMAAAAAAAAA+/////7///8AAAAA///9//z////+//3/AAD///r//P/4//r/+P/7//v/+f/4//f/9v/3//n/9v/7//b/9f/3//P/9v/4//P/+v/6//f//P/y//f/9f/2//b/9P/1//f/8//1//r/8//7//j/9//5//T/9f/1//T/+f/4//f/9v/1//f/+f/4//n/+P/2//f/8v/3//j/+P/2//b/9v/2//b/9v/3//b/9v/3//T/9P/1//j/9//1//r/+P/4//X/9f/3//b//f/7//n/+P/4//n/+//6//v////8//7/AAD9////+v////7//////////////wAA//8BAP//AAAEAAAAAQAAAAEABAABAAQABAAEAAcAAQAFAAUABgAFAAUACQAIAAUACAAIAAYACAAHAAgADQALABEACwAMAA0ACAALAA0ADQAIAA8ADAANAA0ACgANAAoADQAOAAwACwAQAAwADwAOABEAEQANAAwADAANAA4ADgANABEADwANAAsADAAOAAwADgAPAAwACQAKAAkACwAIAAwADQAJAAkADgAGAAoACQALAA4ACwALAAoACgAJAAkABQAKAAkABgAJAAcACAAKAAgACgAGAAUACAAEAAcABQAHAAgACAADAAEABwAIAAgABgAGAAsABQAGAAcABAAHAAgACgAFAAQABgABAAUABQAEAAoABgAFAAYABgAJAAcACgAMAAYABwAEAAUACwAFAAgACQAGAAQABwAHAAgABAAHAAkACAAHAAcABwAIAAcABwAIAAcABwAHAAUACQAHAAgABwAGAAUABwACAAYABgAEAAgABgAFAAYABgAFAAMABQAEAAYAAQD/////AQAAAAAABAAAAAAAAQD9/wAAAAD8/wEA/v/9//3//f8AAP7//////wAA/P////v//v/9//z////8//7/+v/4//7//P/9//v/+//9//v/+v/+//7/+v/+//z/+//3//j/+//8//v//f/8//r/+f/3//z/+P/7//7/+v/3//r/9//5//b/+//9//X/+f/4//X/9P/7//X/+v/6//P/+P/z//f/9//2//j/9v/0//X/8f/2//f/8f/3//j/8v/5//X/9P/3//f/+f/2//b/9f/2//n/9//3//v/+P/3//X/+P/4//X/+P/3//r/9//4//f/+P/1//n/+v/2//3/+v/2//r/9f/6//z//f/6//j//P/7//n/+/8AAP3//f/9//z/AQD7/wAAAAD8/wEA/////wAA/v8CAAEAAQADAAIABAAFAAIABwAHAAYABwAFAAcABgAIAAsACwAMAAsACQAHAAsADAAMAA8ADAAOAA4ACgANAA0AEAARAAwADQAMAA8AEQAOABAAEQASAA4AEAARAA8AEwATABEAEgAQABAADwAPABEAEAAUABMAEwARABAAFAAPABIADwAPAA8AEAARABAAEQAPAA0ADQANAA0ACwAOAAsADwAPAAoACwAMAAoACgAMAAwACwAIAAYACQAIAAkABAAIAAoABwAGAAYABQAHAAYABgAGAAMAAQAEAAIAAwACAAEABAABAAAAAwACAAIABAADAAIAAQAAAAIAAgADAAIABQAFAAMABAADAAIABwAGAAMABQAEAAMAAQAAAAQABAAFAAYAAQAEAAUABQAJAAQAAwAHAAkABAADAAkABgAFAAgACgAHAAUACgAFAAkABgAJAAoACgANAAoACAAJAAgACgAKAAkACQAJAAgACQAIAA0ADAAGAAgACgAJAAgACAAKAAoABQAEAAcABAAFAAQABwAIAAQABgAEAAAABQAEAAQABwACAAIAAAADAAMAAAADAAQAAgACAAIA//8AAAAAAgABAAEAAQACAP////8AAAAAAgABAAAAAgAAAP//AQAAAAAAAQAAAAAA/f///wAA/v8BAPz//v8AAPz/AAD+///////9//v////+/wAA+//+/wAA/v/9//r/+f/5//j/+f/+//j/+P/7//b/+//6//r////6//n/+f/0//j/9v/4//r/8//3//n/9v/3//b/9f/5//f/9v/3//T/9//2//T/+v/3//T/9P/z//b/9P/0//X/9v/z//T/9f/3//X/9v/6//j/9f/3//T/9P/0//X/+f/2//b/9P/0//f/8v/z//f/9v/2//T/8f/0//P/9//2//f/9v/3//T/9P/2//j/+P/2//b/+f/1//j/9//6//7/+//7//n/+v/8//7////8//7//f/8//z//v/+/wAAAgD//wEAAQAEAAIAAwAGAAQAAwAFAAcABQADAAcACQAJAAsACQAIAAwACQAKAA8ADAANAAsACwAJAAsACQALAA8ADQAMAA0ADAAOAA0ADgAMAAsADgAMAAwADgAOAA0ADAAKAA0ADQALAA0ACwARABAADAANAAwACwAMAAsADgANAAsACwAQAAsAEAAMAAoAEAANAAkACgAKAAoADAAKAAsACQAGAAkACAAJAAcABwAKAAcABQAFAAkACAAGAAcACgAHAAUABwAEAAYABwAFAAYABgAEAAUABgAIAAQABwAGAAYABQADAAMABAAGAAcABAAHAAYAAgAEAAYABQAHAAYABwAHAAYABQAGAAUAAwAIAAUAAwAIAAYABgADAAQABwAHAAUABAADAAYABAAFAAgACAAGAAIAAwAIAAQABQAHAAgABgACAAcABwAHAAgABwAGAAYABAAGAAgABAAFAAgABgAFAAMABAAJAAIABgAHAAcABgAFAAUABAAGAAcABQADAAIAAwAGAAMABAADAAYABAAAAAYAAwABAAEAAQAFAAIAAgADAAAABQACAAMABQABAAIAAgAAAAAAAAABAAEAAQADAAAAAAABAAAAAAABAAIAAQABAAAAAQACAAAAAAACAAAAAAD//wAA/v///wIA/v///wAAAAAAAP//AAAAAP7//P/9//v//P/6//7//f/7//r/+P/5//r/+f/6//3/+v/4//n/9P/4//z/9v/7//f/9//4//X/+f/3//b/+v/4//b/+P/z//b/9P/3//z/+P/2//f/9P/z//X/9P/5//P/9//3//P/9//1//n/+//4//j/+f/3//j/+P/4//n/+P/2//X/9P/4//j/+f/6//n/+f/2//f/+P/6//n//P/8//r/+f/4//n/+//7//3//P/5//r//P/9//3/AAD/////AAD9//3//P/9/wAAAAAAAAEA//8AAAAAAAADAAAAAAAAAAEAAQD//wAAAwABAAEAAAABAAMAAgADAAUABgAFAAcABgAFAAYABQAKAAcACAAHAAUACAAIAAcACgAMAAsABwAKAAgACAAIAAoADgAKAAgACAAIAAoADAAJAAsADAALAAoACgAKAAYACwAJAAoACAAJAAkACgALAAoABwALAAkACAALAAYACQAKAAoACQAIAAcACgAKAAkADAALAAkACQANAAcACwAIAAsADAAHAAgABgAHAAgABwAKAAkABwAHAAYABwAIAAYACQALAAgABQAHAAUACQAHAAUACQAIAAQABQAEAAgABAAFAAYAAQADAAcAAwAEAAAAAAAEAAAAAgAAAAIAAwAAAAQAAgAEAAAAAQABAAEAAAADAAMAAQAAAAIAAAAAAAIAAgAEAAMABAADAAEABAABAAMABAABAAEAAAAAAAMAAwACAAYAAwABAAMAAwAEAAAAAgAGAAMAAwACAAEABgAEAAUABQAEAAUAAwACAAUAAgAGAAgAAgACAAIAAwAEAAIAAwAEAAQABQAEAAQAAgADAAYABQABAAIAAQABAAIABAAGAAQAAwACAAIAAQACAAAABAADAAEAAQACAAEAAAAAAAEABAAAAAIAAQAAAAAA//8AAAEAAAD//wAA/v/+/wAAAAACAP///P////3//f/9/wEAAAD9//7////8/////v/+/wAAAAD///r/+//+//7//P///////P/8//v/+f/6//z//v/7//n/+v/7//r/+f////7//f/6//r/+v/7//n//P/8//n/+v/5//j/+v/5//z/+v/5//v/+v/5//j/+f/6//n/+P/1//j/+P/6//n/+P/7//f/+f/6//j/+//2//v//f/7//r/+P/4//r/+//8//z/+//6//r/+v/7//7/+v////v//P/9//z////7/wAA+//9//z//v/7//3//v8AAAAAAAAAAP7/AAD+//7/AAAEAAEAAAABAP//AgD//wQAAAAAAAEAAAAAAAAAAgACAAQAAgADAAMAAgADAAEABAAEAAIAAgAFAAQAAgAEAAQABAAFAAQAAwAGAAcABAAHAAgAAwAIAAkACQAJAAcACwAJAAoACQAKAAkACQAMAA0ADQALAAoADAAIAAkADQALAAsACQAIAAkABwAKAAoACAAKAAsACAAMAAcACwAJAAcADAAHAAkABwAJAAsABAAIAAYABwAGAAcACAAHAAcABwAIAAQABAAFAAUABwAEAAYABgADAAIABgAEAAYABQAEAAYABAADAAQAAQACAAMABAAHAAIAAAADAAMABAABAAQABAAEAAMAAgABAAQAAQADAAQAAgAAAAEAAAAFAAMAAwAHAAEAAgAFAAMABQAFAAYABQACAAMABAAEAAcAAwAFAAUABQAHAAMABAAFAAUAAwAIAAcABgAGAAkABwAFAAgABQAJAAgABQAFAAYABgAIAAkABAAHAAYABQAHAAYABwAIAAYABwAHAAUACQADAAYABQAEAAQABAAFAAMAAgAFAAYAAwAEAAUAAgAEAAMABQAFAAIABgAFAAUABQADAAQABgAEAAEABAD//wMABAACAAYABQABAAMAAAABAAIAAAAEAAIAAgAAAAEAAQAAAAIAAQAEAAAAAAD//wAA//8AAAMAAAAAAAEA//8AAAEAAAADAAAAAAD///7/AQD+////AAD///3//v/+/////f8AAP///f/9//3//P/9//z//f8AAP3//f/9//z//v/+//3//v/8//v//P/5//v/+//5//r//v/2//z/+P/2//j/+f/7//r/9//4//T/+P/3//f/+//5//j/9v/1//n/9f/4//n/+P/6//f/+P/2//f//P/6//j/+v/7//n/+f/3//j/+v/6//r/+f/3//j/+f/7//r/+//7//r/+//8//z//f/7//v/+//9//r//v/+//3/AAD8//z//P/+//3//P///wAAAAAAAAAA/P/8/wAAAAAAAP//AAAAAP//AQAAAAMAAQAAAAAAAgD//wEAAgAEAAUAAgACAAMAAAACAAQAAwAIAAMABAADAAMACAAFAAYABgAIAAgABwAEAAcABAAGAAkABgAHAAYABQAFAAMABAAGAAQABQAEAAQABgABAAYABQAFAAMAAgADAAUAAwAEAAIABgAHAAMAAwAGAAUABAAHAAYABgADAAMABAADAAYABwAEAAIAAwAEAAMABAAGAAMABAADAAMAAwAFAAMABAAEAAUABAACAAIABAADAAEABAABAAEAAwABAAIAAgADAAUABQACAAMAAgAEAAIABAACAAMAAgABAAEAAwAAAAIABQABAAQAAwADAAcAAQAEAAYAAwAEAAIAAwADAAAAAwAFAAEAAwAEAAUABQAEAAMAAwAFAAQAAwACAAYAAwAFAAUABAAEAAUAAwAFAAQABQAHAAUACAAFAAUACAADAAQABwAHAAYABgAGAAsAAwAFAAgABgAIAAcABgAHAAcABgAHAAcABQAHAAMABwAEAAkABwAIAAgABQAFAAgACgAHAAsABwAFAAcABgAHAAUACAAGAAgABgAHAAYABQAHAAUABwAHAAQABAAEAAgABQAFAAcABgADAAUABgADAAQABgAEAAUAAgADAAQAAwACAAUABQADAAEAAgACAAIAAgADAAMAAgADAAIAAQAEAAAABAAFAAAAAQAAAAAAAwACAAIABAABAAEAAAAAAAEAAQAAAAUAAwD//wEAAAAAAAAAAAABAAEA//8AAAAAAAD//wAAAQAAAAAA/v///wAA/v/9/wAA///+//3/AAD///r/AAD+///////6//z//v/8///////+//v//f////z/+P/+/////v/5//v//v/7//r//v/+////+//8//7//f/9//7////6//7//v/+/wAA/f/+//3/AAD+//r////+//7/AAD+/wAA/v/+////AQABAAEA//8AAAAA//8AAAAAAAAAAAAAAAABAAEA//8CAAEABQACAAAAAwAAAAEAAwAAAAYABAAFAAIAAQACAAEAAgAHAAQAAwAEAAQAAQABAAQAAwAFAAMAAgAAAAEAAQACAAEABAAFAAAAAgAAAAEAAAABAAAA/////wAAAAAAAAEAAQADAAEAAAAAAAAABAAAAAEABAABAAEAAAACAAMAAgAAAAUAAgAEAAEAAQAEAAEABAACAAMAAAACAAEAAwAAAAIAAgACAAEAAAACAAIAAgADAAMAAQABAAEAAQADAAIAAgACAAIAAAACAAMAAgABAAIAAwABAAEAAgAAAAMAAAADAAIAAQACAAEAAAACAAEAAwAFAAMAAAADAAIABgADAAIABwADAAQAAwAGAAcABQAHAAcABgAGAAYABgAFAAMABQAGAAYABAAEAAQABwAEAAYABQAEAAQAAwADAAUABQAGAAcABQAEAAQABwAHAAQABwAHAAgABwAFAAYABQAHAAkACQAJAAkABgAIAAoABgAJAAcABwAGAAcABgAIAAUABgAKAAcABQAGAAgABwAHAAgABwAIAAgACQAKAAsABQAIAAgABwAHAAcABAAFAAYAAwAIAAUABgAKAAMABwAEAAYABwAGAAUABQAFAAYABwAFAAYACAAFAAQAAwAHAAMACAAGAAQABAACAAMAAwACAAQAAwACAAMAAAAAAAYAAAACAAMAAQD//wAAAAAAAAEAAAABAAAAAAAAAP7/AQAAAAEAAwAAAAIAAAD//wAAAQABAAIAAAAAAAAA//8AAP////8BAAEA///+//7/AAD6/wAA/v////3/+//8//z//v/+/wEAAAD8//z//v8AAP/////9//v//v8AAP7//P/9//7/AAD///3/AQD9/wAAAAAAAAAA///9/wAA/v/9/wAA//8AAP7//f////z///8AAAEAAQD//wAAAAD/////AAAAAAAA///+////AAAAAAAAAAABAAIA/v8BAAAAAAABAAAAAAD/////AAD/////AAD//wAAAAD+//7/AAACAP7/AAAAAAAAAQAAAP//AQABAAMAAAACAAAA//8AAAEAAAABAAEAAgAAAAAAAAAAAAAAAQAAAAIAAAAAAAAAAAABAAAAAgABAAIAAQAAAAIAAAAFAAQAAwAAAAAAAAABAP////8AAAEAAwABAAAAAgAAAAIAAwAAAAIAAgABAAIAAAADAAIAAwABAAAAAAAEAAAAAQADAAAA//8BAAAAAAABAAIAAQD//wAA//8AAAAAAQACAAAAAAAAAAAAAAACAAAAAAADAAIAAAAAAP//AgAAAAIAAgABAAAAAAAAAAIAAQAEAAEAAAAAAAAAAgAEAAAAAwADAAIAAgACAAIABAACAAMAAgADAAIABAADAAUABQAFAAcABQAHAAUABAAHAAcABwAHAAUABQAGAAQABgAHAAcACQAHAAcABgAFAAgABwAHAAcACAAHAAYABwAHAAcABwAHAAcABgAHAAcABgALAAcACAAHAAYABwAKAAkABgAIAAcACAAEAAUABwAJAAQABQAHAAcABQAFAAQABAAIAAYABAAGAAYABwAFAAgABgAHAAkABAAGAAUACgAGAAMACQAIAAYABAAGAAQACAAEAAYABwAFAAYABAAHAAgABAAGAAcABgAEAAUAAgAGAAYAAgAGAAMAAgAEAAQABQAEAAYABgAGAAEAAQAEAAQAAQABAAMAAAAAAAIAAQACAAAAAAAAAAEAAQABAAEAAQABAAIAAAD//wEAAQAAAAAA//8AAAAAAAAAAAAA////////AAABAP///f/9////AAD+/wAAAAAAAAAA///8/wEA///+/wEAAAAAAAAA/P8AAP7//v8AAP///v/+//3///8AAP//AAD+//7/AAD9//3//f/+/////P/9/wAA/P8AAAAA///9//z//v/+//v/+//9//3////+//7//v/6/wAAAAD//wAA/v8AAAAAAAAAAAEAAQAAAAEA/v8AAAAAAQAAAAIAAQD///7//v/9//////8CAP///f///////v8AAP//AAACAAAAAAAAAP7/AgAAAAEAAQAAAP//AAD9////AAAAAAEA//8AAAAA/f8AAP//AAAAAP3////9/////v//////AAAAAP7//P/9/////f///wEA/v///wAA+//+//////8AAAAA/v8AAP/////8//7//v////3//P/+//3//v///////v/+//3///////7/AAD//wAA/f/+////AAAAAAAA//8AAAAAAQABAAEAAAAAAAIAAQAAAAAAAAABAAAAAgADAAEAAwADAAEABAABAAUABQAAAAIAAwAAAAIABAACAAQAAgADAAYAAgACAAMABgAFAAIAAwAEAAAABgAFAAYAAwACAAMAAAADAAIAAwACAAUABAABAAQAAgADAAMABQAGAAUABAAFAAEABAAHAAMABQAGAAMABgAGAAUABwAGAAkABgAFAAUABgAHAAcABgAFAAUABAAIAAMABAAGAAYABwAHAAQABAACAAUABgABAAMABQACAAQABgADAAQAAwADAAIAAQAEAAAABAAAAAQABQABAAMAAgAEAAcAAwADAAMAAgADAAEAAwAEAAAAAgAEAAIAAwAEAAIABAACAAUABQACAAMAAwAAAAAAAAADAAAAAAABAP//AAAAAAAAAgADAP////8DAAAAAQAAAAEABAAAAAAAAAD//wEA//8AAAIAAgABAAAAAAAAAP//AAAAAP//AAD///7/AQAAAP//AwAAAP7/AAD//wIA/v///wAA//8AAAAA/////wAAAAAAAAEAAAAAAAAAAAAAAAIAAgAAAAAAAAAAAAEA//8AAAEAAAAAAAAAAAABAAAAAgABAAAAAQABAAEAAQACAAMAAwABAAEAAAAAAAMAAQACAAIAAAD//wEAAAAAAAMAAAACAAAAAQACAAAAAAABAAEABAACAP//AQAAAAIAAAACAAEAAQACAP//AAACAAIAAAADAAEAAwAAAAAAAQAEAAEAAgABAP//AQAAAAAA//8AAAMAAAABAP//AAABAAAAAgACAAIAAAD9//7/AQAAAAAAAQABAAEAAQD/////AAD//wAAAgD9/wAA//8AAP////8BAP7//v/+//7/AAD8/wAA///9//z//P/8/wAA/P/8/wAAAAD///7//P8AAP7//f8AAP7//P////z//f////3////9//z/+//9//7//v///wAA/v/8//7//f/+//z/AAD///7/AAD/////AAD///7/AAAAAP3/AgAAAAAAAAD//wQAAQABAAEA//8BAAAAAgADAAIABQAEAAAAAgADAAMABgAEAAUABQAEAAMABAAEAAUABQAAAAMAAAAFAAQABQACAAIABQACAAAAAwACAAMABAAFAAQAAwADAAUAAQACAAcABAADAAMAAgAEAAEABQAFAAUAAAAEAAIAAgADAAQABgACAAMABAABAAIABAAFAAQAAwACAAMAAQACAAIABAADAAAAAwAEAP3/AAABAAMAAwACAAMAAgADAAEAAAABAAEA//8AAAEA//8BAP7/AQADAAEAAAAEAAAAAgAAAAEABAAAAAAAAQAAAAIAAAAAAAMAAAACAAAA//8CAAAAAwACAAAAAAAAAP//AAABAAEAAwAAAAAAAQAAAAAA//8AAAIAAAD///7/AAAAAP7/AAAAAP7///8AAP7/AAD+////AAD//wAA/f/+/wEA//8AAAAA/v/9/wAA/////wEAAQADAAAAAAD9//z/AQABAAIAAQABAAAAAQABAAAAAQAAAAIAAAD//wAA//8CAAAAAgAAAAAAAQD9////AAACAAIAAgACAAEAAgABAAEAAgAEAAMAAgAAAAEA//8CAAAAAgACAAAAAAABAAAAAQAAAAAABAADAP//AAAAAAEAAAAAAAQAAwD//wEAAAACAAAAAwAEAAAAAQADAAAAAAABAAIAAwABAAAA//8AAAEAAAAAAAEA///+/wAA/v8CAP//AAABAP//AAD///7/AQAAAAAAAgAAAP///f/9/////f8BAAAA/v8AAP3//f///wAA/v8DAAEAAAADAP7//f/9/////v////7//v/+/wAA/v8AAAAA/v8AAP7//v/+/wAA//8AAAAA//////z//v/7//7//v/7//3//P/9//3//f8AAAEA///8//3//f/8//z//v/8//v/+f/+//3////+/wAAAAD9/wEAAAD9/wAA//8AAAAAAAAAAP3//v////7//f///////P/+//3//f/+//z////+/wAAAQACAAEA//8BAAAAAQACAAQAAAAEAAQABAAGAAUAAgAJAAcAAwAHAAIABgAGAAMA\" type=\"audio/wav\" />\n",
              "                    Your browser does not support the audio element.\n",
              "                </audio>\n",
              "              "
            ]
          },
          "metadata": {}
        }
      ],
      "source": [
        "import soundfile as sf\n",
        "text = \"\"\"আমি তোমাকে ালোবাসি \"\"\"\n",
        "sigma = 1\n",
        "denoise_strength = 1\n",
        "raw_input = False # disables automatic ARPAbet conversion, useful for inputting your own ARPAbet pronounciations or just for testing\n",
        "\n",
        "for i in text.split(\"\\n\"):\n",
        "    if len(i) < 1: continue;\n",
        "    print(i)\n",
        "    if raw_input:\n",
        "         if i[-1] != \";\": i=i+\";\" \n",
        "    with torch.no_grad(): # save VRAM by not including gradients\n",
        "         sequence = np.array(text_to_sequence(i, ['english_cleaners']))[None, :]\n",
        "         sequence = torch.autograd.Variable(torch.from_numpy(sequence)).cuda().long()\n",
        "         mel_outputs, mel_outputs_postnet, _, alignments = model2.inference(sequence)\n",
        "        # plot_data((mel_outputs_postnet.float().data.cpu().numpy()[0],\n",
        "        #         alignments.float().data.cpu().numpy()[0].T))\n",
        "         audio= waveglow.infer(mel_outputs_postnet, sigma=sigma);\n",
        "         sf.write('audio.wav',audio[0].data.cpu().numpy().astype(np.float32),hparams.sampling_rate)\n",
        "         print(\"\"); ipd.display(ipd.Audio(audio[0].data.cpu().numpy(), rate=hparams.sampling_rate))\n",
        "\n",
        "    \n"
      ]
    },
    {
      "cell_type": "code",
      "execution_count": null,
      "metadata": {
        "colab": {
          "base_uri": "https://localhost:8080/"
        },
        "id": "gVQrwU5Vd4gP",
        "outputId": "286ddd38-9ca4-41a2-f8ff-b0627ae757b6"
      },
      "outputs": [
        {
          "output_type": "stream",
          "name": "stdout",
          "text": [
            " * Serving Flask app \"__main__\" (lazy loading)\n",
            " * Environment: production\n",
            "\u001b[31m   WARNING: This is a development server. Do not use it in a production deployment.\u001b[0m\n",
            "\u001b[2m   Use a production WSGI server instead.\u001b[0m\n",
            " * Debug mode: off\n"
          ]
        },
        {
          "output_type": "stream",
          "name": "stderr",
          "text": [
            " * Running on http://127.0.0.1:5000/ (Press CTRL+C to quit)\n"
          ]
        },
        {
          "output_type": "stream",
          "name": "stdout",
          "text": [
            " * Running on http://febb-34-82-172-39.ngrok.io\n",
            " * Traffic stats available on http://127.0.0.1:4040\n"
          ]
        }
      ],
      "source": [
        "import soundfile as sf\n",
        "import numpy as np\n",
        "from flask_ngrok import run_with_ngrok\n",
        "from flask import Flask, request, render_template, redirect, url_for, Response\n",
        "\n",
        "\n",
        "import pickle\n",
        "from googletrans import Translator\n",
        "\n",
        "app = Flask(__name__)\n",
        "run_with_ngrok(app)\n",
        "\n",
        "@app.route('/')\n",
        "def home():\n",
        "    return render_template('index.html')\n",
        "\n",
        "@app.route('/getspeech',methods=['POST'])\n",
        "def getspeech():  \n",
        "    \n",
        "    input =  request.form[\"text\"]\n",
        "    br=input\n",
        "    translator = Translator()\n",
        "    ar = translator.translate(br, dest='bn').text\n",
        "    text = ar\n",
        "    sigma = .8\n",
        "    denoise_strength = .34\n",
        "    raw_input = False # disables automatic ARPAbet conversion, useful for inputting your own ARPAbet pronounciations or just for testing\n",
        "    emotion=request.form[\"emotion\"]\n",
        "    print(emotion)\n",
        "    if emotion==[1]:\n",
        "       for i in text.split(\"\\n\"):\n",
        "         if len(i) < 1: continue;\n",
        "         print(i)\n",
        "         if raw_input:\n",
        "             if i[-1] != \";\": i=i+\";\" \n",
        "         with torch.no_grad(): # save VRAM by not including gradients\n",
        "             sequence = np.array(text_to_sequence(i, ['english_cleaners']))[None, :]\n",
        "             sequence = torch.autograd.Variable(torch.from_numpy(sequence)).cuda().long()\n",
        "             mel_outputs, mel_outputs_postnet, _, alignments = model1.inference(sequence)\n",
        "        # plot_data((mel_outputs_postnet.float().data.cpu().numpy()[0],\n",
        "        #         alignments.float().data.cpu().numpy()[0].T))\n",
        "             audio= waveglow.infer(mel_outputs_postnet, sigma=sigma);\n",
        "             sf.write('audio.wav',audio[0].data.cpu().numpy().astype(np.float32),hparams.sampling_rate)\n",
        "             print(\"\"); ipd.display(ipd.Audio(audio[0].data.cpu().numpy(), rate=hparams.sampling_rate))\n",
        "         break\n",
        "    elif emotion==[2]:\n",
        "       for i in text.split(\"\\n\"):\n",
        "          if len(i) < 1: continue;\n",
        "          print(i)\n",
        "          if raw_input:\n",
        "             if i[-1] != \";\": i=i+\";\" \n",
        "          with torch.no_grad(): # save VRAM by not including gradients\n",
        "             sequence = np.array(text_to_sequence(i, ['english_cleaners']))[None, :]\n",
        "             sequence = torch.autograd.Variable(torch.from_numpy(sequence)).cuda().long()\n",
        "             mel_outputs, mel_outputs_postnet, _, alignments = model2.inference(sequence)\n",
        "        # plot_data((mel_outputs_postnet.float().data.cpu().numpy()[0],\n",
        "        #         alignments.float().data.cpu().numpy()[0].T))\n",
        "             audio= waveglow.infer(mel_outputs_postnet, sigma=sigma);\n",
        "             sf.write('audio.wav',audio[0].data.cpu().numpy().astype(np.float32),hparams.sampling_rate)\n",
        "             print(\"\"); ipd.display(ipd.Audio(audio[0].data.cpu().numpy(), rate=hparams.sampling_rate))\n",
        "          break\n",
        "    elif emotion==[3] :\n",
        "       for i in text.split(\"\\n\"):\n",
        "          if len(i) < 1: continue;\n",
        "          print(i)\n",
        "          if raw_input:\n",
        "             if i[-1] != \";\": i=i+\";\" \n",
        "          with torch.no_grad(): # save VRAM by not including gradients\n",
        "             sequence = np.array(text_to_sequence(i, ['english_cleaners']))[None, :]\n",
        "             sequence = torch.autograd.Variable(torch.from_numpy(sequence)).cuda().long()\n",
        "             mel_outputs, mel_outputs_postnet, _, alignments = model3.inference(sequence)\n",
        "        # plot_data((mel_outputs_postnet.float().data.cpu().numpy()[0],\n",
        "        #         alignments.float().data.cpu().numpy()[0].T))\n",
        "             audio= waveglow.infer(mel_outputs_postnet, sigma=sigma);\n",
        "             sf.write('audio.wav',audio[0].data.cpu().numpy().astype(np.float32),hparams.sampling_rate)\n",
        "             print(\"\"); ipd.display(ipd.Audio(audio[0].data.cpu().numpy(), rate=hparams.sampling_rate))\n",
        "          break\n",
        "             \n",
        "    return redirect(url_for(\"streamwav\"))\n",
        "@app.route(\"/wav\")\n",
        "def streamwav():\n",
        "    def generate():\n",
        "        with open(\"/content/tts_web/audio.wav\", \"rb\") as fwav:\n",
        "            data = fwav.read(1024)\n",
        "            while data:\n",
        "                yield data\n",
        "                data = fwav.read(1024)\n",
        "    return Response(generate(), mimetype=\"audio/x-wav\")\n",
        "if __name__ == \"__main__\":\n",
        "    app.run()"
      ]
    },
    {
      "cell_type": "code",
      "source": [
        "!pip install pydub\n",
        "!pip install bltk"
      ],
      "metadata": {
        "colab": {
          "base_uri": "https://localhost:8080/"
        },
        "id": "nYxSj0saVrEM",
        "outputId": "75075650-09ee-473a-b016-0afd802e93e4"
      },
      "execution_count": null,
      "outputs": [
        {
          "output_type": "stream",
          "name": "stdout",
          "text": [
            "Looking in indexes: https://pypi.org/simple, https://us-python.pkg.dev/colab-wheels/public/simple/\n",
            "Collecting pydub\n",
            "  Downloading pydub-0.25.1-py2.py3-none-any.whl (32 kB)\n",
            "Installing collected packages: pydub\n",
            "Successfully installed pydub-0.25.1\n",
            "Looking in indexes: https://pypi.org/simple, https://us-python.pkg.dev/colab-wheels/public/simple/\n",
            "Collecting bltk\n",
            "  Downloading bltk-1.2.tar.gz (17.4 MB)\n",
            "\u001b[K     |████████████████████████████████| 17.4 MB 702 kB/s \n",
            "\u001b[?25hRequirement already satisfied: sklearn>=0.0 in /usr/local/lib/python3.7/dist-packages (from bltk) (0.0)\n",
            "Requirement already satisfied: six>=1.13.0 in /usr/local/lib/python3.7/dist-packages (from bltk) (1.15.0)\n",
            "Requirement already satisfied: scipy>=1.4.1 in /usr/local/lib/python3.7/dist-packages (from bltk) (1.4.1)\n",
            "Requirement already satisfied: scikit-learn>=0.21.3 in /usr/local/lib/python3.7/dist-packages (from bltk) (1.0.2)\n",
            "Requirement already satisfied: numpy>=1.18.1 in /usr/local/lib/python3.7/dist-packages (from bltk) (1.21.6)\n",
            "Collecting nltk>=3.4.5\n",
            "  Downloading nltk-3.7-py3-none-any.whl (1.5 MB)\n",
            "\u001b[K     |████████████████████████████████| 1.5 MB 48.9 MB/s \n",
            "\u001b[?25hRequirement already satisfied: joblib>=0.14.1 in /usr/local/lib/python3.7/dist-packages (from bltk) (1.1.0)\n",
            "Requirement already satisfied: certifi>=2019.11.28 in /usr/local/lib/python3.7/dist-packages (from bltk) (2022.5.18.1)\n",
            "Requirement already satisfied: click in /usr/local/lib/python3.7/dist-packages (from nltk>=3.4.5->bltk) (7.1.2)\n",
            "Requirement already satisfied: tqdm in /usr/local/lib/python3.7/dist-packages (from nltk>=3.4.5->bltk) (4.64.0)\n",
            "Collecting regex>=2021.8.3\n",
            "  Downloading regex-2022.6.2-cp37-cp37m-manylinux_2_17_x86_64.manylinux2014_x86_64.whl (749 kB)\n",
            "\u001b[K     |████████████████████████████████| 749 kB 56.5 MB/s \n",
            "\u001b[?25hRequirement already satisfied: threadpoolctl>=2.0.0 in /usr/local/lib/python3.7/dist-packages (from scikit-learn>=0.21.3->bltk) (3.1.0)\n",
            "Building wheels for collected packages: bltk\n",
            "  Building wheel for bltk (setup.py) ... \u001b[?25l\u001b[?25hdone\n",
            "  Created wheel for bltk: filename=bltk-1.2-py3-none-any.whl size=17432539 sha256=88adb6e29eca1d602a55a91c1445a77336ce18228e1607e1840ef9acb9ebf924\n",
            "  Stored in directory: /root/.cache/pip/wheels/0b/4f/91/e074e661b4dcbc24a83e050d1c75cecfa186ffe9d58b641c51\n",
            "Successfully built bltk\n",
            "Installing collected packages: regex, nltk, bltk\n",
            "  Attempting uninstall: regex\n",
            "    Found existing installation: regex 2019.12.20\n",
            "    Uninstalling regex-2019.12.20:\n",
            "      Successfully uninstalled regex-2019.12.20\n",
            "  Attempting uninstall: nltk\n",
            "    Found existing installation: nltk 3.2.5\n",
            "    Uninstalling nltk-3.2.5:\n",
            "      Successfully uninstalled nltk-3.2.5\n",
            "\u001b[31mERROR: pip's dependency resolver does not currently take into account all the packages that are installed. This behaviour is the source of the following dependency conflicts.\n",
            "lucid 0.3.10 requires umap-learn, which is not installed.\n",
            "lucid 0.3.10 requires numpy<=1.19, but you have numpy 1.21.6 which is incompatible.\u001b[0m\n",
            "Successfully installed bltk-1.2 nltk-3.7 regex-2022.6.2\n"
          ]
        }
      ]
    },
    {
      "cell_type": "code",
      "source": [
        "import soundfile as sf\n",
        "import numpy as np\n",
        "from flask_ngrok import run_with_ngrok\n",
        "from flask import Flask, request, render_template, redirect, url_for, Response\n",
        "from bltk.langtools import Tokenizer\n",
        "from pydub import AudioSegment\n",
        "from pydub.playback import play\n",
        "\n",
        "import pickle\n",
        "from googletrans import Translator\n",
        "\n",
        "app = Flask(__name__)\n",
        "run_with_ngrok(app)\n",
        "\n",
        "@app.route('/')\n",
        "def home():\n",
        "    return render_template('home_page.html')\n",
        "\n",
        "\n",
        "@app.route('/getspeech',methods=['POST'])\n",
        "def getspeech():  \n",
        "    \n",
        "    input =  request.form[\"text\"]\n",
        "    br=input\n",
        "    print(input)\n",
        "    translator = Translator()\n",
        "    ar = translator.translate(br, dest='bn').text\n",
        "    text = ar\n",
        "    tokenizer = Tokenizer()\n",
        "    textt = tokenizer.sentence_tokenizer(text)\n",
        "    print(textt)\n",
        "    moon = len(textt)\n",
        "    print(moon)\n",
        "    sigma = .8\n",
        "    denoise_strength = .4\n",
        "    raw_input = False # disables automatic ARPAbet conversion, useful for inputting your own ARPAbet pronounciations or just for testing\n",
        "    emotion=request.form[\"emotion\"]\n",
        "    print(emotion)\n",
        "    if emotion==\"sad\":\n",
        "        j = 0\n",
        "        for j in range(moon):\n",
        "            \n",
        "            for i in textt[j].split(\"\\n\"):\n",
        "                if len(i) < 1: continue;\n",
        "                print(i)\n",
        "                if raw_input:\n",
        "                    if i[-1] != \";\": i=i+\";\" \n",
        "                with torch.no_grad(): # save VRAM by not including gradients\n",
        "                          sequence = np.array(text_to_sequence(i, ['english_cleaners']))[None, :]\n",
        "                          sequence = torch.autograd.Variable(torch.from_numpy(sequence)).cuda().long()\n",
        "                          mel_outputs, mel_outputs_postnet, _, alignments = model1.inference(sequence)\n",
        "                      # plot_data((mel_outputs_postnet.float().data.cpu().numpy()[0],\n",
        "                      #         alignments.float().data.cpu().numpy()[0].T))\n",
        "                          audio= waveglow.infer(mel_outputs_postnet, sigma=sigma);\n",
        "                          \n",
        "                if j == 0:\n",
        "                    sf.write('audio1.wav',audio[0].data.cpu().numpy().astype(np.float32),hparams.sampling_rate)\n",
        "                    ipd.display(ipd.Audio(audio.data.cpu().numpy(), rate=hparams.sampling_rate))\n",
        "                    audio1 = AudioSegment.from_wav('audio1.wav')\n",
        "                    \n",
        "                    \n",
        "                elif j > 0: \n",
        "                      sf.write('audioo'+str(j)+'.wav',audio[0].data.cpu().numpy().astype(np.float32),hparams.sampling_rate)   \n",
        "                      \n",
        "                      \n",
        "                      moon2 ='audioo'+str(j)+'.wav'\n",
        "                      print(moon2)\n",
        "                      moon3 = 'audioo'+str(j)\n",
        "                      print(moon3)\n",
        "                      moon3 = AudioSegment.from_wav(moon2)\n",
        "                      if j == 1:\n",
        "                        combined_sounds = audio1 + moon3\n",
        "                      else:\n",
        "                          combined_sounds = combined_sounds + moon3\n",
        "                      combined_sounds.export(\"/content/tts_web/audiomoon.wav\", format=\"wav\")\n",
        "                      ipd.display(ipd.Audio(audio.data.cpu().numpy(), rate=hparams.sampling_rate))\n",
        "                break\n",
        "    elif emotion==\"neutral\":\n",
        "        j = 0\n",
        "        for j in range(moon):\n",
        "            \n",
        "            for i in textt[j].split(\"\\n\"):\n",
        "                if len(i) < 1: continue;\n",
        "                print(i)\n",
        "                if raw_input:\n",
        "                    if i[-1] != \";\": i=i+\";\" \n",
        "                with torch.no_grad(): # save VRAM by not including gradients\n",
        "                          sequence = np.array(text_to_sequence(i, ['english_cleaners']))[None, :]\n",
        "                          sequence = torch.autograd.Variable(torch.from_numpy(sequence)).cuda().long()\n",
        "                          mel_outputs, mel_outputs_postnet, _, alignments = model2.inference(sequence)\n",
        "                      # plot_data((mel_outputs_postnet.float().data.cpu().numpy()[0],\n",
        "                      #         alignments.float().data.cpu().numpy()[0].T))\n",
        "                          audio= waveglow.infer(mel_outputs_postnet, sigma=sigma);\n",
        "                          \n",
        "                if j == 0:\n",
        "                    sf.write('audio1.wav',audio[0].data.cpu().numpy().astype(np.float32),hparams.sampling_rate)\n",
        "                    ipd.display(ipd.Audio(audio.data.cpu().numpy(), rate=hparams.sampling_rate))\n",
        "                    audio1 = AudioSegment.from_wav('audio1.wav')\n",
        "                    \n",
        "                    \n",
        "                elif j > 0: \n",
        "                      sf.write('audioo'+str(j)+'.wav',audio[0].data.cpu().numpy().astype(np.float32),hparams.sampling_rate)   \n",
        "                      \n",
        "                      \n",
        "                      moon2 ='audioo'+str(j)+'.wav'\n",
        "                      print(moon2)\n",
        "                      moon3 = 'audioo'+str(j)\n",
        "                      print(moon3)\n",
        "                      moon3 = AudioSegment.from_wav(moon2)\n",
        "                      if j == 1:\n",
        "                        combined_sounds = audio1 + moon3\n",
        "                      else:\n",
        "                          combined_sounds = combined_sounds + moon3\n",
        "                      combined_sounds.export(\"/content/tts_web/audiomoon.wav\", format=\"wav\")\n",
        "                      ipd.display(ipd.Audio(audio.data.cpu().numpy(), rate=hparams.sampling_rate))\n",
        "                break\n",
        "\n",
        "    elif emotion==\"kobita\" :\n",
        "        j = 0\n",
        "        for j in range(moon):\n",
        "            \n",
        "            for i in textt[j].split(\"\\n\"):\n",
        "                if len(i) < 1: continue;\n",
        "                print(i)\n",
        "                if raw_input:\n",
        "                    if i[-1] != \";\": i=i+\";\" \n",
        "                with torch.no_grad(): # save VRAM by not including gradients\n",
        "                          sequence = np.array(text_to_sequence(i, ['english_cleaners']))[None, :]\n",
        "                          sequence = torch.autograd.Variable(torch.from_numpy(sequence)).cuda().long()\n",
        "                          mel_outputs, mel_outputs_postnet, _, alignments = model4.inference(sequence)\n",
        "                      # plot_data((mel_outputs_postnet.float().data.cpu().numpy()[0],\n",
        "                      #         alignments.float().data.cpu().numpy()[0].T))\n",
        "                          audio= waveglow.infer(mel_outputs_postnet, sigma=sigma);\n",
        "                          \n",
        "                if j == 0:\n",
        "                    sf.write('audio1.wav',audio[0].data.cpu().numpy().astype(np.float32),hparams.sampling_rate)\n",
        "                    ipd.display(ipd.Audio(audio.data.cpu().numpy(), rate=hparams.sampling_rate))\n",
        "                    audio1 = AudioSegment.from_wav('audio1.wav')\n",
        "                    \n",
        "                    \n",
        "                elif j > 0: \n",
        "                      sf.write('audioo'+str(j)+'.wav',audio[0].data.cpu().numpy().astype(np.float32),hparams.sampling_rate)   \n",
        "                      \n",
        "                      \n",
        "                      moon2 ='audioo'+str(j)+'.wav'\n",
        "                      print(moon2)\n",
        "                      moon3 = 'audioo'+str(j)\n",
        "                      print(moon3)\n",
        "                      moon3 = AudioSegment.from_wav(moon2)\n",
        "                      if j == 1:\n",
        "                        combined_sounds = audio1 + moon3\n",
        "                      else:\n",
        "                          combined_sounds = combined_sounds + moon3\n",
        "                      combined_sounds.export(\"/content/tts_web/audiomoon.wav\", format=\"wav\")\n",
        "                      ipd.display(ipd.Audio(audio.data.cpu().numpy(), rate=hparams.sampling_rate))\n",
        "                break      \n",
        "    return redirect(url_for(\"streamwav\"))\n",
        "@app.route(\"/wav\")\n",
        "def streamwav():\n",
        "    def generate():\n",
        "        with open(\"/content/tts_web/audiomoon.wav\", \"rb\") as fwav:\n",
        "            data = fwav.read(1024)\n",
        "            while data:\n",
        "                yield data\n",
        "                data = fwav.read(1024)\n",
        "    return Response(generate(), mimetype=\"audio/x-wav\")\n",
        "if __name__ == \"__main__\":\n",
        "    app.run()"
      ],
      "metadata": {
        "colab": {
          "base_uri": "https://localhost:8080/"
        },
        "id": "SfvJGY3uVcQ7",
        "outputId": "a291fddd-b0ff-4fee-a231-e467f046afb7"
      },
      "execution_count": null,
      "outputs": [
        {
          "output_type": "stream",
          "name": "stdout",
          "text": [
            " * Serving Flask app \"__main__\" (lazy loading)\n",
            " * Environment: production\n",
            "\u001b[31m   WARNING: This is a development server. Do not use it in a production deployment.\u001b[0m\n",
            "\u001b[2m   Use a production WSGI server instead.\u001b[0m\n",
            " * Debug mode: off\n"
          ]
        },
        {
          "output_type": "stream",
          "name": "stderr",
          "text": [
            " * Running on http://127.0.0.1:5000/ (Press CTRL+C to quit)\n"
          ]
        },
        {
          "output_type": "stream",
          "name": "stdout",
          "text": [
            " * Running on http://f428-34-82-172-39.ngrok.io\n",
            " * Traffic stats available on http://127.0.0.1:4040\n"
          ]
        },
        {
          "output_type": "stream",
          "name": "stderr",
          "text": [
            "127.0.0.1 - - [09/Jun/2022 07:26:00] \"\u001b[37mGET / HTTP/1.1\u001b[0m\" 200 -\n",
            "127.0.0.1 - - [09/Jun/2022 07:26:01] \"\u001b[33mGET /favicon.ico HTTP/1.1\u001b[0m\" 404 -\n"
          ]
        },
        {
          "output_type": "stream",
          "name": "stdout",
          "text": [
            "i love you\n"
          ]
        },
        {
          "output_type": "stream",
          "name": "stderr",
          "text": [
            "127.0.0.1 - - [09/Jun/2022 07:26:05] \"\u001b[31m\u001b[1mPOST /getspeech HTTP/1.1\u001b[0m\" 400 -\n"
          ]
        },
        {
          "output_type": "stream",
          "name": "stdout",
          "text": [
            "[]\n",
            "0\n"
          ]
        },
        {
          "output_type": "stream",
          "name": "stderr",
          "text": [
            "127.0.0.1 - - [09/Jun/2022 07:26:16] \"\u001b[37mGET / HTTP/1.1\u001b[0m\" 200 -\n"
          ]
        }
      ]
    }
  ],
  "metadata": {
    "accelerator": "GPU",
    "colab": {
      "provenance": []
    },
    "kernelspec": {
      "display_name": "Python 3",
      "name": "python3"
    },
    "language_info": {
      "name": "python"
    }
  },
  "nbformat": 4,
  "nbformat_minor": 0
}